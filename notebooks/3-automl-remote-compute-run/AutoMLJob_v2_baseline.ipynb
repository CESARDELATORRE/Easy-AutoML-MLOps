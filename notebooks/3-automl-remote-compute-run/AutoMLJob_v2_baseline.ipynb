{
 "cells": [
  {
   "cell_type": "code",
   "execution_count": null,
   "metadata": {},
   "outputs": [],
   "source": [
    "subscription_id = '<sub id>'\n",
    "resource_group = '<rg name>'\n",
    "workspace = '<ws name>'"
   ]
  },
  {
   "cell_type": "code",
   "execution_count": null,
   "metadata": {},
   "outputs": [],
   "source": [
    "from azure.ml import MLClient\n",
    "\n",
    "client = MLClient(subscription_id, resource_group, default_workspace_name=workspace)"
   ]
  },
  {
   "cell_type": "code",
   "execution_count": null,
   "metadata": {},
   "outputs": [],
   "source": [
    "# Based on tests/test_configs/jobs/automl_beer_job.yml\n",
    "\n",
    "from azure.ml._restclient.machinelearningservices.models import GeneralSettings, LimitSettings, DataSettings, TrainingDataSettings, ValidationDataSettings, TrainingSettings\n",
    "from azure.ml._restclient.machinelearningservices.models._azure_machine_learning_workspaces_enums import TaskType, OptimizationMetric\n",
    "from azure.ml._schema.compute_binding import InternalComputeConfiguration\n",
    "from azure.ml.entities import AutoMLJob, FeaturizationSettings, ForecastingSettings\n",
    "\n",
    "\n",
    "compute = InternalComputeConfiguration(target=\"testCompute\")\n",
    "general_settings = GeneralSettings(task_type=TaskType.FORECASTING, primary_metric= OptimizationMetric.NORMALIZED_ROOT_MEAN_SQUARED_LOG_ERROR, enable_model_explainability=True)\n",
    "limit_settings = LimitSettings(job_timeout=60, max_trials=60, max_concurrent_trials=4, enable_early_termination=False)\n",
    "training_data = TrainingDataSettings(dataset_arm_id=\"beer_train_dataset:1\", target_column_name=\"BeerProduction\")\n",
    "validation_data = ValidationDataSettings(n_cross_validations=5)\n",
    "data_settings = DataSettings(training_data=training_data, validation_data=validation_data)\n",
    "featurization_settings = FeaturizationSettings(featurization_config=\"auto\")\n",
    "training_settings = TrainingSettings(enable_dnn_training=False)\n",
    "forecasting_settings = ForecastingSettings(country_or_region_for_holidays=\"US\", forecast_horizon=12, target_rolling_window_size=0, time_column_name=\"DATE\")\n",
    "\n",
    "automl_job = AutoMLJob(\n",
    "    name=\"simplebeerjob245345345\",\n",
    "    compute=compute,\n",
    "    general_settings=general_settings,\n",
    "    limit_settings=limit_settings,\n",
    "    data_settings=data_settings,\n",
    "    forecasting_settings=forecasting_settings,\n",
    "    training_settings=training_settings,\n",
    "    featurization_settings=featurization_settings,\n",
    ")\n",
    "\n",
    "created_job = client.jobs.create_or_update(automl_job)\n"
   ]
  },
  {
   "cell_type": "raw",
   "metadata": {},
   "source": []
  }
 ],
 "metadata": {
  "kernelspec": {
   "display_name": "Python 3",
   "language": "python",
   "name": "python3"
  },
  "language_info": {
   "codemirror_mode": {
    "name": "ipython",
    "version": 3
   },
   "file_extension": ".py",
   "mimetype": "text/x-python",
   "name": "python",
   "nbconvert_exporter": "python",
   "pygments_lexer": "ipython3",
   "version": "3.8.3"
  }
 },
 "nbformat": 4,
 "nbformat_minor": 4
}
