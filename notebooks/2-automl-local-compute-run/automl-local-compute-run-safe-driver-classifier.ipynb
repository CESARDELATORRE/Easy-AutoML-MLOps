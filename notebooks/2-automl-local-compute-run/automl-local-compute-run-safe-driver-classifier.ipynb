{
 "cells": [
  {
   "cell_type": "markdown",
   "metadata": {},
   "source": [
    "# Azure AutoML Local Compute Run \n",
    "## (Porto Seguro's Safe Driving Prediction)\n",
    "\n",
    "Now let's use Azure Automated ML!\n",
    "\n",
    "In this notebook you are going to use a **'Local Compute Run'** which is a better approach when getting started and trying small datasets because it needs less overhead on infrastructure preparation since it'll use your read-to-run Jupyter environment and compute from your machine (versus Azure ML remote runs which require to sping up VMs in the cloud for remote compute).\n",
    "\n",
    "However, when targeting larger datasets and production trainings, it'll be better to use Azure ML Remote Compute since you will be able to parallelize runs/trainings and scale out on multiple VMs in the Azure ML training cluster. You can see that other approach in the 'automl-remote-compute-run-safe-driver-classifier.ipynb' notebook."
   ]
  },
  {
   "cell_type": "markdown",
   "metadata": {},
   "source": [
    "## Import Needed Packages\n",
    "\n",
    "Import the packages needed for this solution notebook. The most widely used package for machine learning is [scikit-learn](https://scikit-learn.org/stable/), [pandas](https://pandas.pydata.org/docs/getting_started/index.html#getting-started), and [numpy](https://numpy.org/). "
   ]
  },
  {
   "cell_type": "code",
   "execution_count": 15,
   "metadata": {},
   "outputs": [],
   "source": [
    "import os\n",
    "import numpy as np\n",
    "import pandas as pd\n",
    "from sklearn.model_selection import train_test_split\n",
    "import joblib\n",
    "from sklearn import metrics"
   ]
  },
  {
   "cell_type": "markdown",
   "metadata": {},
   "source": [
    "## Check Azure ML SDK version"
   ]
  },
  {
   "cell_type": "code",
   "execution_count": 16,
   "metadata": {},
   "outputs": [
    {
     "name": "stdout",
     "output_type": "stream",
     "text": [
      "This notebook was tested using version 1.6.0 of the Azure ML SDK\n",
      "You are currently using version 1.6.0 of the Azure ML SDK\n"
     ]
    }
   ],
   "source": [
    "import azureml.core\n",
    "print(\"This notebook was tested using version 1.6.0 of the Azure ML SDK\")\n",
    "print(\"You are currently using version\", azureml.core.VERSION, \"of the Azure ML SDK\")"
   ]
  },
  {
   "cell_type": "markdown",
   "metadata": {},
   "source": [
    "##  Get Azure ML Workspace to use"
   ]
  },
  {
   "cell_type": "code",
   "execution_count": 17,
   "metadata": {},
   "outputs": [],
   "source": [
    "from azureml.core import Workspace, Dataset\n",
    "\n",
    "# Get Workspace defined in by default config.json file\n",
    "ws = Workspace.from_config()"
   ]
  },
  {
   "cell_type": "markdown",
   "metadata": {},
   "source": [
    "## Load data from file into regular Pandas DataFrame"
   ]
  },
  {
   "cell_type": "code",
   "execution_count": 18,
   "metadata": {},
   "outputs": [
    {
     "name": "stdout",
     "output_type": "stream",
     "text": [
      "(595212, 59)\n"
     ]
    },
    {
     "data": {
      "text/html": [
       "<div>\n",
       "<style scoped>\n",
       "    .dataframe tbody tr th:only-of-type {\n",
       "        vertical-align: middle;\n",
       "    }\n",
       "\n",
       "    .dataframe tbody tr th {\n",
       "        vertical-align: top;\n",
       "    }\n",
       "\n",
       "    .dataframe thead th {\n",
       "        text-align: right;\n",
       "    }\n",
       "</style>\n",
       "<table border=\"1\" class=\"dataframe\">\n",
       "  <thead>\n",
       "    <tr style=\"text-align: right;\">\n",
       "      <th></th>\n",
       "      <th>id</th>\n",
       "      <th>target</th>\n",
       "      <th>ps_ind_01</th>\n",
       "      <th>ps_ind_02_cat</th>\n",
       "      <th>ps_ind_03</th>\n",
       "      <th>ps_ind_04_cat</th>\n",
       "      <th>ps_ind_05_cat</th>\n",
       "      <th>ps_ind_06_bin</th>\n",
       "      <th>ps_ind_07_bin</th>\n",
       "      <th>ps_ind_08_bin</th>\n",
       "      <th>...</th>\n",
       "      <th>ps_calc_11</th>\n",
       "      <th>ps_calc_12</th>\n",
       "      <th>ps_calc_13</th>\n",
       "      <th>ps_calc_14</th>\n",
       "      <th>ps_calc_15_bin</th>\n",
       "      <th>ps_calc_16_bin</th>\n",
       "      <th>ps_calc_17_bin</th>\n",
       "      <th>ps_calc_18_bin</th>\n",
       "      <th>ps_calc_19_bin</th>\n",
       "      <th>ps_calc_20_bin</th>\n",
       "    </tr>\n",
       "  </thead>\n",
       "  <tbody>\n",
       "    <tr>\n",
       "      <th>0</th>\n",
       "      <td>7</td>\n",
       "      <td>0</td>\n",
       "      <td>2</td>\n",
       "      <td>2</td>\n",
       "      <td>5</td>\n",
       "      <td>1</td>\n",
       "      <td>0</td>\n",
       "      <td>0</td>\n",
       "      <td>1</td>\n",
       "      <td>0</td>\n",
       "      <td>...</td>\n",
       "      <td>9</td>\n",
       "      <td>1</td>\n",
       "      <td>5</td>\n",
       "      <td>8</td>\n",
       "      <td>0</td>\n",
       "      <td>1</td>\n",
       "      <td>1</td>\n",
       "      <td>0</td>\n",
       "      <td>0</td>\n",
       "      <td>1</td>\n",
       "    </tr>\n",
       "    <tr>\n",
       "      <th>1</th>\n",
       "      <td>9</td>\n",
       "      <td>0</td>\n",
       "      <td>1</td>\n",
       "      <td>1</td>\n",
       "      <td>7</td>\n",
       "      <td>0</td>\n",
       "      <td>0</td>\n",
       "      <td>0</td>\n",
       "      <td>0</td>\n",
       "      <td>1</td>\n",
       "      <td>...</td>\n",
       "      <td>3</td>\n",
       "      <td>1</td>\n",
       "      <td>1</td>\n",
       "      <td>9</td>\n",
       "      <td>0</td>\n",
       "      <td>1</td>\n",
       "      <td>1</td>\n",
       "      <td>0</td>\n",
       "      <td>1</td>\n",
       "      <td>0</td>\n",
       "    </tr>\n",
       "    <tr>\n",
       "      <th>2</th>\n",
       "      <td>13</td>\n",
       "      <td>0</td>\n",
       "      <td>5</td>\n",
       "      <td>4</td>\n",
       "      <td>9</td>\n",
       "      <td>1</td>\n",
       "      <td>0</td>\n",
       "      <td>0</td>\n",
       "      <td>0</td>\n",
       "      <td>1</td>\n",
       "      <td>...</td>\n",
       "      <td>4</td>\n",
       "      <td>2</td>\n",
       "      <td>7</td>\n",
       "      <td>7</td>\n",
       "      <td>0</td>\n",
       "      <td>1</td>\n",
       "      <td>1</td>\n",
       "      <td>0</td>\n",
       "      <td>1</td>\n",
       "      <td>0</td>\n",
       "    </tr>\n",
       "    <tr>\n",
       "      <th>3</th>\n",
       "      <td>16</td>\n",
       "      <td>0</td>\n",
       "      <td>0</td>\n",
       "      <td>1</td>\n",
       "      <td>2</td>\n",
       "      <td>0</td>\n",
       "      <td>0</td>\n",
       "      <td>1</td>\n",
       "      <td>0</td>\n",
       "      <td>0</td>\n",
       "      <td>...</td>\n",
       "      <td>2</td>\n",
       "      <td>2</td>\n",
       "      <td>4</td>\n",
       "      <td>9</td>\n",
       "      <td>0</td>\n",
       "      <td>0</td>\n",
       "      <td>0</td>\n",
       "      <td>0</td>\n",
       "      <td>0</td>\n",
       "      <td>0</td>\n",
       "    </tr>\n",
       "    <tr>\n",
       "      <th>4</th>\n",
       "      <td>17</td>\n",
       "      <td>0</td>\n",
       "      <td>0</td>\n",
       "      <td>2</td>\n",
       "      <td>0</td>\n",
       "      <td>1</td>\n",
       "      <td>0</td>\n",
       "      <td>1</td>\n",
       "      <td>0</td>\n",
       "      <td>0</td>\n",
       "      <td>...</td>\n",
       "      <td>3</td>\n",
       "      <td>1</td>\n",
       "      <td>1</td>\n",
       "      <td>3</td>\n",
       "      <td>0</td>\n",
       "      <td>0</td>\n",
       "      <td>0</td>\n",
       "      <td>1</td>\n",
       "      <td>1</td>\n",
       "      <td>0</td>\n",
       "    </tr>\n",
       "  </tbody>\n",
       "</table>\n",
       "<p>5 rows × 59 columns</p>\n",
       "</div>"
      ],
      "text/plain": [
       "   id  target  ps_ind_01  ps_ind_02_cat  ps_ind_03  ps_ind_04_cat  \\\n",
       "0   7       0          2              2          5              1   \n",
       "1   9       0          1              1          7              0   \n",
       "2  13       0          5              4          9              1   \n",
       "3  16       0          0              1          2              0   \n",
       "4  17       0          0              2          0              1   \n",
       "\n",
       "   ps_ind_05_cat  ps_ind_06_bin  ps_ind_07_bin  ps_ind_08_bin       ...        \\\n",
       "0              0              0              1              0       ...         \n",
       "1              0              0              0              1       ...         \n",
       "2              0              0              0              1       ...         \n",
       "3              0              1              0              0       ...         \n",
       "4              0              1              0              0       ...         \n",
       "\n",
       "   ps_calc_11  ps_calc_12  ps_calc_13  ps_calc_14  ps_calc_15_bin  \\\n",
       "0           9           1           5           8               0   \n",
       "1           3           1           1           9               0   \n",
       "2           4           2           7           7               0   \n",
       "3           2           2           4           9               0   \n",
       "4           3           1           1           3               0   \n",
       "\n",
       "   ps_calc_16_bin  ps_calc_17_bin  ps_calc_18_bin  ps_calc_19_bin  \\\n",
       "0               1               1               0               0   \n",
       "1               1               1               0               1   \n",
       "2               1               1               0               1   \n",
       "3               0               0               0               0   \n",
       "4               0               0               1               1   \n",
       "\n",
       "   ps_calc_20_bin  \n",
       "0               1  \n",
       "1               0  \n",
       "2               0  \n",
       "3               0  \n",
       "4               0  \n",
       "\n",
       "[5 rows x 59 columns]"
      ]
     },
     "execution_count": 18,
     "metadata": {},
     "output_type": "execute_result"
    }
   ],
   "source": [
    "# Directly load from file into Pandas DataFrame\n",
    "DATA_DIR = \"../../data/\"\n",
    "data_df = pd.read_csv(os.path.join(DATA_DIR, 'porto_seguro_safe_driver_prediction_train.csv'))\n",
    "\n",
    "print(data_df.shape)\n",
    "data_df.head(5)"
   ]
  },
  {
   "cell_type": "markdown",
   "metadata": {},
   "source": [
    "## Split Data into Train and Test Sets\n",
    "\n",
    "Partitioning data into training, validation, and holdout/test sets allows you to develop highly accurate models that are relevant to data that you collect in the future, not just the data the model was trained on. \n",
    "\n",
    "In this notebook we holdout a test dataset to calculate the metrics with that set \"not seen\" by AutoML, after the AutoML process is finished.\n",
    "Not taking into account the test dataset, AutoML will by default internally either use a validation dataset split from the train dataset or use cross-validation, depending on the size of the data (larger than 20k rows will use validation split), or as explicitely specified in the AutoMLConfig class (Validation-split vs. Cross-Validation)."
   ]
  },
  {
   "cell_type": "code",
   "execution_count": 19,
   "metadata": {},
   "outputs": [
    {
     "name": "stdout",
     "output_type": "stream",
     "text": [
      "(535690, 59)\n",
      "(59522, 59)\n"
     ]
    },
    {
     "data": {
      "text/html": [
       "<div>\n",
       "<style scoped>\n",
       "    .dataframe tbody tr th:only-of-type {\n",
       "        vertical-align: middle;\n",
       "    }\n",
       "\n",
       "    .dataframe tbody tr th {\n",
       "        vertical-align: top;\n",
       "    }\n",
       "\n",
       "    .dataframe thead th {\n",
       "        text-align: right;\n",
       "    }\n",
       "</style>\n",
       "<table border=\"1\" class=\"dataframe\">\n",
       "  <thead>\n",
       "    <tr style=\"text-align: right;\">\n",
       "      <th></th>\n",
       "      <th>id</th>\n",
       "      <th>target</th>\n",
       "      <th>ps_ind_01</th>\n",
       "      <th>ps_ind_02_cat</th>\n",
       "      <th>ps_ind_03</th>\n",
       "      <th>ps_ind_04_cat</th>\n",
       "      <th>ps_ind_05_cat</th>\n",
       "      <th>ps_ind_06_bin</th>\n",
       "      <th>ps_ind_07_bin</th>\n",
       "      <th>ps_ind_08_bin</th>\n",
       "      <th>...</th>\n",
       "      <th>ps_calc_11</th>\n",
       "      <th>ps_calc_12</th>\n",
       "      <th>ps_calc_13</th>\n",
       "      <th>ps_calc_14</th>\n",
       "      <th>ps_calc_15_bin</th>\n",
       "      <th>ps_calc_16_bin</th>\n",
       "      <th>ps_calc_17_bin</th>\n",
       "      <th>ps_calc_18_bin</th>\n",
       "      <th>ps_calc_19_bin</th>\n",
       "      <th>ps_calc_20_bin</th>\n",
       "    </tr>\n",
       "  </thead>\n",
       "  <tbody>\n",
       "    <tr>\n",
       "      <th>count</th>\n",
       "      <td>535690.00</td>\n",
       "      <td>535690.00</td>\n",
       "      <td>535690.00</td>\n",
       "      <td>535690.00</td>\n",
       "      <td>535690.00</td>\n",
       "      <td>535690.00</td>\n",
       "      <td>535690.00</td>\n",
       "      <td>535690.00</td>\n",
       "      <td>535690.00</td>\n",
       "      <td>535690.00</td>\n",
       "      <td>...</td>\n",
       "      <td>535690.00</td>\n",
       "      <td>535690.00</td>\n",
       "      <td>535690.00</td>\n",
       "      <td>535690.00</td>\n",
       "      <td>535690.00</td>\n",
       "      <td>535690.00</td>\n",
       "      <td>535690.00</td>\n",
       "      <td>535690.00</td>\n",
       "      <td>535690.00</td>\n",
       "      <td>535690.00</td>\n",
       "    </tr>\n",
       "    <tr>\n",
       "      <th>mean</th>\n",
       "      <td>743733.85</td>\n",
       "      <td>0.04</td>\n",
       "      <td>1.90</td>\n",
       "      <td>1.36</td>\n",
       "      <td>4.42</td>\n",
       "      <td>0.42</td>\n",
       "      <td>0.40</td>\n",
       "      <td>0.39</td>\n",
       "      <td>0.26</td>\n",
       "      <td>0.16</td>\n",
       "      <td>...</td>\n",
       "      <td>5.44</td>\n",
       "      <td>1.44</td>\n",
       "      <td>2.87</td>\n",
       "      <td>7.54</td>\n",
       "      <td>0.12</td>\n",
       "      <td>0.63</td>\n",
       "      <td>0.55</td>\n",
       "      <td>0.29</td>\n",
       "      <td>0.35</td>\n",
       "      <td>0.15</td>\n",
       "    </tr>\n",
       "    <tr>\n",
       "      <th>std</th>\n",
       "      <td>429511.16</td>\n",
       "      <td>0.19</td>\n",
       "      <td>1.98</td>\n",
       "      <td>0.67</td>\n",
       "      <td>2.70</td>\n",
       "      <td>0.49</td>\n",
       "      <td>1.35</td>\n",
       "      <td>0.49</td>\n",
       "      <td>0.44</td>\n",
       "      <td>0.37</td>\n",
       "      <td>...</td>\n",
       "      <td>2.33</td>\n",
       "      <td>1.20</td>\n",
       "      <td>1.69</td>\n",
       "      <td>2.75</td>\n",
       "      <td>0.33</td>\n",
       "      <td>0.48</td>\n",
       "      <td>0.50</td>\n",
       "      <td>0.45</td>\n",
       "      <td>0.48</td>\n",
       "      <td>0.36</td>\n",
       "    </tr>\n",
       "    <tr>\n",
       "      <th>min</th>\n",
       "      <td>7.00</td>\n",
       "      <td>0.00</td>\n",
       "      <td>0.00</td>\n",
       "      <td>-1.00</td>\n",
       "      <td>0.00</td>\n",
       "      <td>-1.00</td>\n",
       "      <td>-1.00</td>\n",
       "      <td>0.00</td>\n",
       "      <td>0.00</td>\n",
       "      <td>0.00</td>\n",
       "      <td>...</td>\n",
       "      <td>0.00</td>\n",
       "      <td>0.00</td>\n",
       "      <td>0.00</td>\n",
       "      <td>0.00</td>\n",
       "      <td>0.00</td>\n",
       "      <td>0.00</td>\n",
       "      <td>0.00</td>\n",
       "      <td>0.00</td>\n",
       "      <td>0.00</td>\n",
       "      <td>0.00</td>\n",
       "    </tr>\n",
       "    <tr>\n",
       "      <th>25%</th>\n",
       "      <td>371715.25</td>\n",
       "      <td>0.00</td>\n",
       "      <td>0.00</td>\n",
       "      <td>1.00</td>\n",
       "      <td>2.00</td>\n",
       "      <td>0.00</td>\n",
       "      <td>0.00</td>\n",
       "      <td>0.00</td>\n",
       "      <td>0.00</td>\n",
       "      <td>0.00</td>\n",
       "      <td>...</td>\n",
       "      <td>4.00</td>\n",
       "      <td>1.00</td>\n",
       "      <td>2.00</td>\n",
       "      <td>6.00</td>\n",
       "      <td>0.00</td>\n",
       "      <td>0.00</td>\n",
       "      <td>0.00</td>\n",
       "      <td>0.00</td>\n",
       "      <td>0.00</td>\n",
       "      <td>0.00</td>\n",
       "    </tr>\n",
       "    <tr>\n",
       "      <th>50%</th>\n",
       "      <td>743327.00</td>\n",
       "      <td>0.00</td>\n",
       "      <td>1.00</td>\n",
       "      <td>1.00</td>\n",
       "      <td>4.00</td>\n",
       "      <td>0.00</td>\n",
       "      <td>0.00</td>\n",
       "      <td>0.00</td>\n",
       "      <td>0.00</td>\n",
       "      <td>0.00</td>\n",
       "      <td>...</td>\n",
       "      <td>5.00</td>\n",
       "      <td>1.00</td>\n",
       "      <td>3.00</td>\n",
       "      <td>7.00</td>\n",
       "      <td>0.00</td>\n",
       "      <td>1.00</td>\n",
       "      <td>1.00</td>\n",
       "      <td>0.00</td>\n",
       "      <td>0.00</td>\n",
       "      <td>0.00</td>\n",
       "    </tr>\n",
       "    <tr>\n",
       "      <th>75%</th>\n",
       "      <td>1115636.25</td>\n",
       "      <td>0.00</td>\n",
       "      <td>3.00</td>\n",
       "      <td>2.00</td>\n",
       "      <td>6.00</td>\n",
       "      <td>1.00</td>\n",
       "      <td>0.00</td>\n",
       "      <td>1.00</td>\n",
       "      <td>1.00</td>\n",
       "      <td>0.00</td>\n",
       "      <td>...</td>\n",
       "      <td>7.00</td>\n",
       "      <td>2.00</td>\n",
       "      <td>4.00</td>\n",
       "      <td>9.00</td>\n",
       "      <td>0.00</td>\n",
       "      <td>1.00</td>\n",
       "      <td>1.00</td>\n",
       "      <td>1.00</td>\n",
       "      <td>1.00</td>\n",
       "      <td>0.00</td>\n",
       "    </tr>\n",
       "    <tr>\n",
       "      <th>max</th>\n",
       "      <td>1488027.00</td>\n",
       "      <td>1.00</td>\n",
       "      <td>7.00</td>\n",
       "      <td>4.00</td>\n",
       "      <td>11.00</td>\n",
       "      <td>1.00</td>\n",
       "      <td>6.00</td>\n",
       "      <td>1.00</td>\n",
       "      <td>1.00</td>\n",
       "      <td>1.00</td>\n",
       "      <td>...</td>\n",
       "      <td>19.00</td>\n",
       "      <td>10.00</td>\n",
       "      <td>13.00</td>\n",
       "      <td>23.00</td>\n",
       "      <td>1.00</td>\n",
       "      <td>1.00</td>\n",
       "      <td>1.00</td>\n",
       "      <td>1.00</td>\n",
       "      <td>1.00</td>\n",
       "      <td>1.00</td>\n",
       "    </tr>\n",
       "  </tbody>\n",
       "</table>\n",
       "<p>8 rows × 59 columns</p>\n",
       "</div>"
      ],
      "text/plain": [
       "              id    target  ps_ind_01  ps_ind_02_cat  ps_ind_03  \\\n",
       "count  535690.00 535690.00  535690.00      535690.00  535690.00   \n",
       "mean   743733.85      0.04       1.90           1.36       4.42   \n",
       "std    429511.16      0.19       1.98           0.67       2.70   \n",
       "min         7.00      0.00       0.00          -1.00       0.00   \n",
       "25%    371715.25      0.00       0.00           1.00       2.00   \n",
       "50%    743327.00      0.00       1.00           1.00       4.00   \n",
       "75%   1115636.25      0.00       3.00           2.00       6.00   \n",
       "max   1488027.00      1.00       7.00           4.00      11.00   \n",
       "\n",
       "       ps_ind_04_cat  ps_ind_05_cat  ps_ind_06_bin  ps_ind_07_bin  \\\n",
       "count      535690.00      535690.00      535690.00      535690.00   \n",
       "mean            0.42           0.40           0.39           0.26   \n",
       "std             0.49           1.35           0.49           0.44   \n",
       "min            -1.00          -1.00           0.00           0.00   \n",
       "25%             0.00           0.00           0.00           0.00   \n",
       "50%             0.00           0.00           0.00           0.00   \n",
       "75%             1.00           0.00           1.00           1.00   \n",
       "max             1.00           6.00           1.00           1.00   \n",
       "\n",
       "       ps_ind_08_bin       ...        ps_calc_11  ps_calc_12  ps_calc_13  \\\n",
       "count      535690.00       ...         535690.00   535690.00   535690.00   \n",
       "mean            0.16       ...              5.44        1.44        2.87   \n",
       "std             0.37       ...              2.33        1.20        1.69   \n",
       "min             0.00       ...              0.00        0.00        0.00   \n",
       "25%             0.00       ...              4.00        1.00        2.00   \n",
       "50%             0.00       ...              5.00        1.00        3.00   \n",
       "75%             0.00       ...              7.00        2.00        4.00   \n",
       "max             1.00       ...             19.00       10.00       13.00   \n",
       "\n",
       "       ps_calc_14  ps_calc_15_bin  ps_calc_16_bin  ps_calc_17_bin  \\\n",
       "count   535690.00       535690.00       535690.00       535690.00   \n",
       "mean         7.54            0.12            0.63            0.55   \n",
       "std          2.75            0.33            0.48            0.50   \n",
       "min          0.00            0.00            0.00            0.00   \n",
       "25%          6.00            0.00            0.00            0.00   \n",
       "50%          7.00            0.00            1.00            1.00   \n",
       "75%          9.00            0.00            1.00            1.00   \n",
       "max         23.00            1.00            1.00            1.00   \n",
       "\n",
       "       ps_calc_18_bin  ps_calc_19_bin  ps_calc_20_bin  \n",
       "count       535690.00       535690.00       535690.00  \n",
       "mean             0.29            0.35            0.15  \n",
       "std              0.45            0.48            0.36  \n",
       "min              0.00            0.00            0.00  \n",
       "25%              0.00            0.00            0.00  \n",
       "50%              0.00            0.00            0.00  \n",
       "75%              1.00            1.00            0.00  \n",
       "max              1.00            1.00            1.00  \n",
       "\n",
       "[8 rows x 59 columns]"
      ]
     },
     "execution_count": 19,
     "metadata": {},
     "output_type": "execute_result"
    }
   ],
   "source": [
    "# Split in train/test datasets (Test=10%, Train=90%)\n",
    "\n",
    "# Split in full sets, if not stratifying\n",
    "train_df, test_df = train_test_split(data_df, test_size=0.1, random_state=0)\n",
    "\n",
    "print(train_df.shape)\n",
    "print(test_df.shape)\n",
    "\n",
    "train_df.describe()"
   ]
  },
  {
   "cell_type": "markdown",
   "metadata": {},
   "source": [
    "## Train with Azure AutoML automatically searching for the 'best model' (Best algorithms and best hyper-parameters)"
   ]
  },
  {
   "cell_type": "markdown",
   "metadata": {},
   "source": [
    "### List and select primary metric to drive the AutoML classification problem"
   ]
  },
  {
   "cell_type": "code",
   "execution_count": 20,
   "metadata": {},
   "outputs": [
    {
     "data": {
      "text/html": [
       "['average_precision_score_weighted', 'precision_score_weighted', 'AUC_weighted', 'accuracy', 'norm_macro_recall']"
      ],
      "text/plain": [
       "['average_precision_score_weighted',\n",
       " 'precision_score_weighted',\n",
       " 'AUC_weighted',\n",
       " 'accuracy',\n",
       " 'norm_macro_recall']"
      ]
     },
     "execution_count": 20,
     "metadata": {},
     "output_type": "execute_result"
    }
   ],
   "source": [
    "from azureml.train import automl\n",
    "    \n",
    "# Get a list of valid metrics for your given task\n",
    "automl.utilities.get_primary_metrics('classification')\n",
    "\n",
    "# List of possible primary metrics is here:\n",
    "# https://docs.microsoft.com/en-us/azure/machine-learning/how-to-configure-auto-train#primary-metric"
   ]
  },
  {
   "cell_type": "markdown",
   "metadata": {},
   "source": [
    "## Define AutoML Experiment settings"
   ]
  },
  {
   "cell_type": "code",
   "execution_count": 24,
   "metadata": {},
   "outputs": [],
   "source": [
    "import logging\n",
    "\n",
    "# You can provide additional settings as a **kwargs parameter for the AutoMLConfig object\n",
    "automl_settings = {\n",
    "      \"blacklist_models\":['LogisticRegression', 'ExtremeRandomTrees', 'RandomForest'], \n",
    "      # \"whitelist_models\": ['LightGBM'],\n",
    "      \"validation_size\": 0.1,\n",
    "      # \"validation_data\": validation_df,  # If you have an explicit validation set\n",
    "      # \"n_cross_validations\": 5,\n",
    "      # \"experiment_exit_score\": 0.7,\n",
    "      # \"max_cores_per_iteration\": -1,\n",
    "      \"enable_voting_ensemble\": True,\n",
    "      \"enable_stack_ensemble\": True\n",
    "}\n",
    "\n",
    "from azureml.train.automl import AutoMLConfig\n",
    "\n",
    "automl_config = AutoMLConfig(task='classification',\n",
    "                             primary_metric='AUC_weighted',                           \n",
    "                             training_data= train_df,  # Pandas DataFrame\n",
    "                             label_column_name=\"target\",                                                    \n",
    "                             enable_early_stopping= True,\n",
    "                             iterations=15,                    \n",
    "                             experiment_timeout_hours=1,\n",
    "                             featurization=\"auto\",\n",
    "                             model_explainability=True,\n",
    "                             **automl_settings\n",
    "                             )\n",
    "\n",
    "# Explanation of Settings: https://docs.microsoft.com/en-us/azure/machine-learning/how-to-configure-auto-train#configure-your-experiment-settings\n",
    "\n",
    "# AutoMLConfig info on: \n",
    "# https://docs.microsoft.com/en-us/python/api/azureml-train-automl-client/azureml.train.automl.automlconfig.automlconfig"
   ]
  },
  {
   "cell_type": "markdown",
   "metadata": {},
   "source": [
    "## Run Experiment with multiple child runs under the covers"
   ]
  },
  {
   "cell_type": "code",
   "execution_count": 22,
   "metadata": {},
   "outputs": [
    {
     "name": "stdout",
     "output_type": "stream",
     "text": [
      "SDK_local_porto_seguro_driver_pred\n",
      "Running on local machine\n",
      "Parent Run ID: AutoML_51a190e0-5f8a-4742-b6ab-1db4153d3896\n",
      "\n",
      "Current status: DatasetEvaluation. Gathering dataset statistics.\n",
      "Current status: FeaturesGeneration. Generating features for the dataset.\n",
      "Current status: DatasetFeaturization. Beginning to fit featurizers and featurize the dataset.\n",
      "Current status: DatasetFeaturizationCompleted. Completed fit featurizers and featurizing the dataset.\n",
      "\n",
      "****************************************************************************************************\n",
      "DATA GUARDRAILS: \n",
      "\n",
      "TYPE:         Class balancing detection\n",
      "STATUS:       ALERTED\n",
      "DESCRIPTION:  To decrease model bias, please cancel the current run and fix balancing problem.\n",
      "              Learn more about imbalanced data: https://aka.ms/AutomatedMLImbalancedData\n",
      "DETAILS:      Imbalanced data can lead to a falsely perceived positive effect of a model's accuracy because the input data has bias towards one class.\n",
      "+---------------------------------+---------------------------------+--------------------------------------+\n",
      "|Size of the smallest class       |Name/Label of the smallest class |Number of samples in the training data|\n",
      "+=================================+=================================+======================================+\n",
      "|17552                            |1                                |482121                                |\n",
      "+---------------------------------+---------------------------------+--------------------------------------+\n",
      "\n",
      "TYPE:         Missing feature values imputation\n",
      "STATUS:       PASSED\n",
      "DESCRIPTION:  No feature missing values were detected in the training data.\n",
      "              Learn more about missing value imputation: https://aka.ms/AutomatedMLFeaturization\n",
      "\n",
      "TYPE:         High cardinality feature detection\n",
      "STATUS:       PASSED\n",
      "DESCRIPTION:  Your inputs were analyzed, and no high cardinality features were detected.\n",
      "              Learn more about high cardinality feature handling: https://aka.ms/AutomatedMLFeaturization\n",
      "\n",
      "****************************************************************************************************\n",
      "Current status: ModelSelection. Beginning model selection.\n",
      "\n",
      "****************************************************************************************************\n",
      "ITERATION: The iteration being evaluated.\n",
      "PIPELINE: A summary description of the pipeline being evaluated.\n",
      "DURATION: Time taken for the current iteration.\n",
      "METRIC: The result of computing score on the fitted pipeline.\n",
      "BEST: The best observed score thus far.\n",
      "****************************************************************************************************\n",
      "\n",
      " ITERATION   PIPELINE                                       DURATION      METRIC      BEST\n",
      "         0   MaxAbsScaler LightGBM                          0:01:14       0.6369    0.6369\n",
      "         1   MaxAbsScaler XGBoostClassifier                 0:02:10       0.6382    0.6382\n",
      "         2   MaxAbsScaler LightGBM                          0:00:54       0.6262    0.6382\n",
      "         3   StandardScalerWrapper XGBoostClassifier        0:01:21       0.6221    0.6382\n",
      "         4   MaxAbsScaler SGD                               0:01:20       0.5713    0.6382\n",
      "         5   StandardScalerWrapper LightGBM                 0:01:11       0.6313    0.6382\n",
      "         6   SparseNormalizer XGBoostClassifier             0:01:28       0.6106    0.6382\n",
      "         7   MaxAbsScaler SGD                               0:00:57       0.5532    0.6382\n",
      "         8   MaxAbsScaler SGD                               0:00:53       0.5325    0.6382\n",
      "         9   StandardScalerWrapper XGBoostClassifier        0:01:30       0.6272    0.6382\n",
      "        10   MaxAbsScaler LightGBM                          0:01:00       0.6232    0.6382\n",
      "        11   MaxAbsScaler MultinomialNaiveBayes             0:00:51       0.6234    0.6382\n",
      "        12   MaxAbsScaler SGD                               0:00:50       0.6210    0.6382\n",
      "        13   VotingEnsemble                                 0:05:22       0.6385    0.6385\n",
      "        14   StackEnsemble                                  0:07:29       0.6366    0.6385\n",
      "****************************************************************************************************\n",
      "Current status: BestRunExplainModel. Best run model explanations started\n",
      "Current status: ModelExplanationDataSetSetup. Model explanations data setup completed\n",
      "Current status: PickSurrogateModel. Choosing LightGBM as the surrogate model for explanations\n",
      "Current status: EngineeredFeatureExplanations. Computation of engineered features started\n",
      "Current status: EngineeredFeatureExplanations. Computation of engineered features completed\n",
      "Current status: BestRunExplainModel. Best run model explanations completed\n",
      "****************************************************************************************************\n",
      "Manual run timing: --- 34.54654632409414 minutes needed for running the whole Remote AutoML Experiment ---\n"
     ]
    }
   ],
   "source": [
    "from azureml.core import Experiment\n",
    "\n",
    "experiment_name = \"SDK_local_porto_seguro_driver_pred\"\n",
    "print(experiment_name)\n",
    "\n",
    "experiment = Experiment(workspace=ws, \n",
    "                        name=experiment_name)\n",
    "\n",
    "import time\n",
    "start_time = time.time()\n",
    "\n",
    "run = experiment.submit(automl_config, show_output=True)\n",
    "\n",
    "print('Manual run timing: --- %s minutes needed for running the whole Remote AutoML Experiment ---' % ((time.time() - start_time)/60))"
   ]
  },
  {
   "cell_type": "markdown",
   "metadata": {},
   "source": [
    "## Explore results with Widget"
   ]
  },
  {
   "cell_type": "code",
   "execution_count": 23,
   "metadata": {},
   "outputs": [
    {
     "data": {
      "application/vnd.jupyter.widget-view+json": {
       "model_id": "9959755fbfb5494fa5abc77411c80b6e",
       "version_major": 2,
       "version_minor": 0
      },
      "text/plain": [
       "_AutoMLWidget(widget_settings={'childWidgetDisplay': 'popup', 'send_telemetry': False, 'log_level': 'INFO', 's…"
      ]
     },
     "metadata": {},
     "output_type": "display_data"
    },
    {
     "data": {
      "application/aml.mini.widget.v1": "{\"status\": \"Completed\", \"workbench_run_details_uri\": \"https://ml.azure.com/experiments/SDK_local_porto_seguro_driver_pred/runs/AutoML_51a190e0-5f8a-4742-b6ab-1db4153d3896?wsid=/subscriptions/381b38e9-9840-4719-a5a0-61d9585e1e91/resourcegroups/cesardl-automl-ncentralus-demo-ws-resgrp/workspaces/cesardl-automl-ncentralus-demo-ws\", \"run_id\": \"AutoML_51a190e0-5f8a-4742-b6ab-1db4153d3896\", \"run_properties\": {\"run_id\": \"AutoML_51a190e0-5f8a-4742-b6ab-1db4153d3896\", \"created_utc\": \"2020-06-06T21:52:51.853129Z\", \"properties\": {\"num_iterations\": \"15\", \"training_type\": \"TrainFull\", \"acquisition_function\": \"EI\", \"primary_metric\": \"AUC_weighted\", \"train_split\": \"0.1\", \"acquisition_parameter\": \"0\", \"num_cross_validation\": null, \"target\": \"local\", \"RawAMLSettingsString\": \"{'name': 'SDK_local_porto_seguro_driver_pred', 'path': '.', 'subscription_id': '381b38e9-9840-4719-a5a0-61d9585e1e91', 'resource_group': 'cesardl-automl-ncentralus-demo-ws-resgrp', 'workspace_name': 'cesardl-automl-ncentralus-demo-ws', 'region': 'northcentralus', 'compute_target': 'local', 'spark_service': None, 'azure_service': 'Microsoft.AzureNotebookVM', '_local_managed_run_id': None, 'iterations': 15, 'primary_metric': 'AUC_weighted', 'task_type': 'classification', 'data_script': None, 'validation_size': 0.1, 'n_cross_validations': None, 'y_min': None, 'y_max': None, 'num_classes': 2, 'featurization': 'auto', '_ignore_package_version_incompatibilities': False, 'lag_length': 0, 'is_timeseries': False, 'max_cores_per_iteration': 1, 'max_concurrent_iterations': 1, 'iteration_timeout_minutes': None, 'mem_in_mb': None, 'enforce_time_on_windows': False, 'experiment_timeout_minutes': 60, 'experiment_exit_score': None, 'whitelist_models': None, 'blacklist_algos': ['LogisticRegression', 'ExtremeRandomTrees', 'RandomForest', 'KNN', 'SVM'], 'supported_models': ['KNN', 'SVM', 'SGD', 'DecisionTree', 'BernoulliNaiveBayes', 'MultinomialNaiveBayes', 'LogisticRegression', 'TensorFlowDNN', 'TensorFlowLinearClassifier', 'GradientBoosting', 'XGBoostClassifier', 'AveragedPerceptronClassifier', 'ExtremeRandomTrees', 'LightGBM', 'LinearSVM', 'RandomForest'], 'auto_blacklist': True, 'blacklist_samples_reached': True, 'exclude_nan_labels': True, 'verbosity': 20, 'debug_log': 'automl.log', 'show_warnings': False, 'model_explainability': True, 'service_url': None, 'sdk_url': None, 'sdk_packages': None, 'enable_onnx_compatible_models': False, 'enable_split_onnx_featurizer_estimator_models': False, 'vm_type': None, 'telemetry_verbosity': 20, 'send_telemetry': True, 'enable_dnn': False, 'force_text_dnn': False, 'enable_feature_sweeping': True, 'enable_early_stopping': True, 'early_stopping_n_iters': 10, 'metrics': None, 'enable_ensembling': True, 'enable_stack_ensembling': True, 'ensemble_iterations': 15, 'enable_tf': False, 'enable_cache': True, 'enable_subsampling': False, 'subsample_seed': None, 'enable_nimbusml': False, 'enable_streaming': False, 'force_streaming': False, 'track_child_runs': True, 'label_column_name': 'target', 'weight_column_name': None, 'cv_split_column_names': None, 'cost_mode': 1, 'metric_operation': 'maximize', 'preprocess': True, 'scenario': 'SDK-Compatible'}\", \"AMLSettingsJsonString\": \"{\\\"name\\\": \\\"SDK_local_porto_seguro_driver_pred\\\", \\\"path\\\": \\\".\\\", \\\"subscription_id\\\": \\\"381b38e9-9840-4719-a5a0-61d9585e1e91\\\", \\\"resource_group\\\": \\\"cesardl-automl-ncentralus-demo-ws-resgrp\\\", \\\"workspace_name\\\": \\\"cesardl-automl-ncentralus-demo-ws\\\", \\\"region\\\": \\\"northcentralus\\\", \\\"compute_target\\\": \\\"local\\\", \\\"spark_service\\\": null, \\\"azure_service\\\": \\\"Microsoft.AzureNotebookVM\\\", \\\"_local_managed_run_id\\\": null, \\\"iterations\\\": 15, \\\"primary_metric\\\": \\\"AUC_weighted\\\", \\\"task_type\\\": \\\"classification\\\", \\\"data_script\\\": null, \\\"validation_size\\\": 0.1, \\\"n_cross_validations\\\": null, \\\"y_min\\\": null, \\\"y_max\\\": null, \\\"num_classes\\\": 2, \\\"featurization\\\": \\\"auto\\\", \\\"_ignore_package_version_incompatibilities\\\": false, \\\"lag_length\\\": 0, \\\"is_timeseries\\\": false, \\\"max_cores_per_iteration\\\": 1, \\\"max_concurrent_iterations\\\": 1, \\\"iteration_timeout_minutes\\\": null, \\\"mem_in_mb\\\": null, \\\"enforce_time_on_windows\\\": false, \\\"experiment_timeout_minutes\\\": 60, \\\"experiment_exit_score\\\": null, \\\"whitelist_models\\\": null, \\\"blacklist_algos\\\": [\\\"LogisticRegression\\\", \\\"ExtremeRandomTrees\\\", \\\"RandomForest\\\", \\\"KNN\\\", \\\"SVM\\\"], \\\"supported_models\\\": [\\\"KNN\\\", \\\"SVM\\\", \\\"SGD\\\", \\\"DecisionTree\\\", \\\"BernoulliNaiveBayes\\\", \\\"MultinomialNaiveBayes\\\", \\\"LogisticRegression\\\", \\\"TensorFlowDNN\\\", \\\"TensorFlowLinearClassifier\\\", \\\"GradientBoosting\\\", \\\"XGBoostClassifier\\\", \\\"AveragedPerceptronClassifier\\\", \\\"ExtremeRandomTrees\\\", \\\"LightGBM\\\", \\\"LinearSVM\\\", \\\"RandomForest\\\"], \\\"auto_blacklist\\\": true, \\\"blacklist_samples_reached\\\": true, \\\"exclude_nan_labels\\\": true, \\\"verbosity\\\": 20, \\\"debug_log\\\": \\\"automl.log\\\", \\\"show_warnings\\\": false, \\\"model_explainability\\\": true, \\\"service_url\\\": null, \\\"sdk_url\\\": null, \\\"sdk_packages\\\": null, \\\"enable_onnx_compatible_models\\\": false, \\\"enable_split_onnx_featurizer_estimator_models\\\": false, \\\"vm_type\\\": null, \\\"telemetry_verbosity\\\": 20, \\\"send_telemetry\\\": true, \\\"enable_dnn\\\": false, \\\"force_text_dnn\\\": false, \\\"enable_feature_sweeping\\\": true, \\\"enable_early_stopping\\\": true, \\\"early_stopping_n_iters\\\": 10, \\\"metrics\\\": null, \\\"enable_ensembling\\\": true, \\\"enable_stack_ensembling\\\": true, \\\"ensemble_iterations\\\": 15, \\\"enable_tf\\\": false, \\\"enable_cache\\\": true, \\\"enable_subsampling\\\": false, \\\"subsample_seed\\\": null, \\\"enable_nimbusml\\\": false, \\\"enable_streaming\\\": false, \\\"force_streaming\\\": false, \\\"track_child_runs\\\": true, \\\"label_column_name\\\": \\\"target\\\", \\\"weight_column_name\\\": null, \\\"cv_split_column_names\\\": null, \\\"cost_mode\\\": 1, \\\"metric_operation\\\": \\\"maximize\\\", \\\"preprocess\\\": true, \\\"scenario\\\": \\\"SDK-Compatible\\\"}\", \"DataPrepJsonString\": null, \"EnableSubsampling\": \"False\", \"runTemplate\": \"AutoML\", \"azureml.runsource\": \"automl\", \"display_task_type\": \"classification\", \"dependencies_versions\": \"{\\\"azureml-widgets\\\": \\\"1.6.0\\\", \\\"azureml-train\\\": \\\"1.6.0\\\", \\\"azureml-train-restclients-hyperdrive\\\": \\\"1.6.0\\\", \\\"azureml-train-core\\\": \\\"1.6.0.post1\\\", \\\"azureml-train-automl\\\": \\\"1.6.0\\\", \\\"azureml-train-automl-runtime\\\": \\\"1.6.0\\\", \\\"azureml-train-automl-client\\\": \\\"1.6.0\\\", \\\"azureml-tensorboard\\\": \\\"1.6.0\\\", \\\"azureml-telemetry\\\": \\\"1.6.0\\\", \\\"azureml-sdk\\\": \\\"1.6.0\\\", \\\"azureml-samples\\\": \\\"0+unknown\\\", \\\"azureml-pipeline\\\": \\\"1.6.0\\\", \\\"azureml-pipeline-steps\\\": \\\"1.6.0\\\", \\\"azureml-pipeline-core\\\": \\\"1.6.0\\\", \\\"azureml-opendatasets\\\": \\\"1.6.0\\\", \\\"azureml-monitoring\\\": \\\"0.1.0a18\\\", \\\"azureml-model-management-sdk\\\": \\\"1.0.1b6.post1\\\", \\\"azureml-mlflow\\\": \\\"1.6.0\\\", \\\"azureml-interpret\\\": \\\"1.6.0\\\", \\\"azureml-explain-model\\\": \\\"1.6.0\\\", \\\"azureml-defaults\\\": \\\"1.6.0\\\", \\\"azureml-dataprep\\\": \\\"1.6.3\\\", \\\"azureml-dataprep-native\\\": \\\"14.1.0\\\", \\\"azureml-datadrift\\\": \\\"1.6.0\\\", \\\"azureml-core\\\": \\\"1.6.0\\\", \\\"azureml-contrib-services\\\": \\\"1.6.0\\\", \\\"azureml-contrib-server\\\": \\\"1.6.0\\\", \\\"azureml-contrib-reinforcementlearning\\\": \\\"1.6.0\\\", \\\"azureml-contrib-pipeline-steps\\\": \\\"1.6.0\\\", \\\"azureml-contrib-notebook\\\": \\\"1.6.0\\\", \\\"azureml-contrib-interpret\\\": \\\"1.6.0\\\", \\\"azureml-contrib-gbdt\\\": \\\"1.6.0\\\", \\\"azureml-contrib-dataset\\\": \\\"1.6.0\\\", \\\"azureml-cli-common\\\": \\\"1.6.0\\\", \\\"azureml-automl-runtime\\\": \\\"1.6.0.post1\\\", \\\"azureml-automl-core\\\": \\\"1.6.0\\\", \\\"azureml-accel-models\\\": \\\"1.6.0\\\"}\", \"ClientSdkVersion\": \"1.6.0\", \"ClientType\": \"SDK\", \"environment_cpu_name\": \"AzureML-AutoML\", \"environment_cpu_version\": \"17\", \"environment_gpu_name\": \"AzureML-AutoML-GPU\", \"environment_gpu_version\": \"10\", \"root_attribution\": \"AutoML\", \"attribution\": \"AutoML\", \"CancelUri\": \"https://northcentralus.experiments.azureml.net/jasmine/v1.0/subscriptions/381b38e9-9840-4719-a5a0-61d9585e1e91/resourceGroups/cesardl-automl-ncentralus-demo-ws-resgrp/providers/Microsoft.MachineLearningServices/workspaces/cesardl-automl-ncentralus-demo-ws/experiment/SDK_local_porto_seguro_driver_pred/cancel/AutoML_51a190e0-5f8a-4742-b6ab-1db4153d3896\", \"Orchestrator\": \"AutoML\", \"ProblemInfoJsonString\": \"{\\\"dataset_num_categorical\\\": 0, \\\"is_sparse\\\": true, \\\"subsampling\\\": false, \\\"dataset_classes\\\": 2, \\\"dataset_features\\\": 300, \\\"dataset_samples\\\": 482121, \\\"single_frequency_class_detected\\\": false}\", \"feature_skus\": \"automatedml_sdk_guardrails\", \"azureml.git.repository_uri\": \"https://github.com/CESARDELATORRE/Easy-AutoML-MLOps.git\", \"mlflow.source.git.repoURL\": \"https://github.com/CESARDELATORRE/Easy-AutoML-MLOps.git\", \"azureml.git.branch\": \"master\", \"mlflow.source.git.branch\": \"master\", \"azureml.git.commit\": \"f98b5f10b5bdb6c7414986599be9a87bbd7c0b39\", \"mlflow.source.git.commit\": \"f98b5f10b5bdb6c7414986599be9a87bbd7c0b39\", \"azureml.git.dirty\": \"True\"}, \"tags\": {\"model_explain_run\": \"best_run\", \"azureml.automlComponent\": \"AutoML\", \"model_explain_best_run_child_id\": \"AutoML_51a190e0-5f8a-4742-b6ab-1db4153d3896_13\", \"best_score\": \"0.6385181589698486\", \"best_pipeline\": \"VotingEnsemble\", \"automl_best_child_run_id\": \"AutoML_51a190e0-5f8a-4742-b6ab-1db4153d3896_13\"}, \"end_time_utc\": \"2020-06-06T22:26:54.936135Z\", \"status\": \"Completed\", \"log_files\": {}, \"log_groups\": [], \"run_duration\": \"0:34:03\"}, \"child_runs\": [{\"run_id\": \"AutoML_51a190e0-5f8a-4742-b6ab-1db4153d3896_0\", \"run_number\": 909, \"metric\": null, \"status\": \"Completed\", \"run_type\": null, \"training_percent\": \"100\", \"start_time\": \"2020-06-06T21:55:58.032397Z\", \"end_time\": \"2020-06-06T21:57:12.068432Z\", \"created_time\": \"2020-06-06T21:55:57.937466Z\", \"created_time_dt\": \"2020-06-06T21:55:57.937466Z\", \"duration\": \"0:01:14\", \"iteration\": \"0\", \"goal\": \"AUC_weighted_max\", \"run_name\": \"MaxAbsScaler, LightGBM\", \"run_properties\": \"copy=True\", \"primary_metric\": 0.63689374, \"best_metric\": 0.63689374}, {\"run_id\": \"AutoML_51a190e0-5f8a-4742-b6ab-1db4153d3896_1\", \"run_number\": 910, \"metric\": null, \"status\": \"Completed\", \"run_type\": null, \"training_percent\": \"100\", \"start_time\": \"2020-06-06T21:57:12.708293Z\", \"end_time\": \"2020-06-06T21:59:23.123205Z\", \"created_time\": \"2020-06-06T21:57:12.608656Z\", \"created_time_dt\": \"2020-06-06T21:57:12.608656Z\", \"duration\": \"0:02:10\", \"iteration\": \"1\", \"goal\": \"AUC_weighted_max\", \"run_name\": \"MaxAbsScaler, XGBoostClassifier\", \"run_properties\": \"copy=True\", \"primary_metric\": 0.63822901, \"best_metric\": 0.63822901}, {\"run_id\": \"AutoML_51a190e0-5f8a-4742-b6ab-1db4153d3896_2\", \"run_number\": 911, \"metric\": null, \"status\": \"Completed\", \"run_type\": null, \"training_percent\": \"100\", \"start_time\": \"2020-06-06T21:59:25.069229Z\", \"end_time\": \"2020-06-06T22:00:20.014117Z\", \"created_time\": \"2020-06-06T21:59:24.656162Z\", \"created_time_dt\": \"2020-06-06T21:59:24.656162Z\", \"duration\": \"0:00:55\", \"iteration\": \"2\", \"goal\": \"AUC_weighted_max\", \"run_name\": \"MaxAbsScaler, LightGBM\", \"run_properties\": \"copy=True\", \"primary_metric\": 0.62621895, \"best_metric\": 0.63822901}, {\"run_id\": \"AutoML_51a190e0-5f8a-4742-b6ab-1db4153d3896_3\", \"run_number\": 912, \"metric\": null, \"status\": \"Completed\", \"run_type\": null, \"training_percent\": \"100\", \"start_time\": \"2020-06-06T22:00:21.804104Z\", \"end_time\": \"2020-06-06T22:01:43.031125Z\", \"created_time\": \"2020-06-06T22:00:21.698142Z\", \"created_time_dt\": \"2020-06-06T22:00:21.698142Z\", \"duration\": \"0:01:21\", \"iteration\": \"3\", \"goal\": \"AUC_weighted_max\", \"run_name\": \"StandardScalerWrapper, XGBoostClassifier\", \"run_properties\": \"<azureml.automl.runtime.shared.model_wrappers.StandardScalerWrapper object at 0x7f22f14b87b8\", \"primary_metric\": 0.62214206, \"best_metric\": 0.63822901}, {\"run_id\": \"AutoML_51a190e0-5f8a-4742-b6ab-1db4153d3896_4\", \"run_number\": 913, \"metric\": null, \"status\": \"Completed\", \"run_type\": null, \"training_percent\": \"100\", \"start_time\": \"2020-06-06T22:01:44.992045Z\", \"end_time\": \"2020-06-06T22:03:05.733526Z\", \"created_time\": \"2020-06-06T22:01:44.844318Z\", \"created_time_dt\": \"2020-06-06T22:01:44.844318Z\", \"duration\": \"0:01:20\", \"iteration\": \"4\", \"goal\": \"AUC_weighted_max\", \"run_name\": \"MaxAbsScaler, SGD\", \"run_properties\": \"copy=True\", \"primary_metric\": 0.57129332, \"best_metric\": 0.63822901}, {\"run_id\": \"AutoML_51a190e0-5f8a-4742-b6ab-1db4153d3896_5\", \"run_number\": 914, \"metric\": null, \"status\": \"Completed\", \"run_type\": null, \"training_percent\": \"100\", \"start_time\": \"2020-06-06T22:03:10.565993Z\", \"end_time\": \"2020-06-06T22:04:21.604376Z\", \"created_time\": \"2020-06-06T22:03:09.874324Z\", \"created_time_dt\": \"2020-06-06T22:03:09.874324Z\", \"duration\": \"0:01:11\", \"iteration\": \"5\", \"goal\": \"AUC_weighted_max\", \"run_name\": \"StandardScalerWrapper, LightGBM\", \"run_properties\": \"<azureml.automl.runtime.shared.model_wrappers.StandardScalerWrapper object at 0x7f22f1540a90\", \"primary_metric\": 0.63127254, \"best_metric\": 0.63822901}, {\"run_id\": \"AutoML_51a190e0-5f8a-4742-b6ab-1db4153d3896_6\", \"run_number\": 915, \"metric\": null, \"status\": \"Completed\", \"run_type\": null, \"training_percent\": \"100\", \"start_time\": \"2020-06-06T22:04:23.435962Z\", \"end_time\": \"2020-06-06T22:05:51.820386Z\", \"created_time\": \"2020-06-06T22:04:23.301457Z\", \"created_time_dt\": \"2020-06-06T22:04:23.301457Z\", \"duration\": \"0:01:28\", \"iteration\": \"6\", \"goal\": \"AUC_weighted_max\", \"run_name\": \"SparseNormalizer, XGBoostClassifier\", \"run_properties\": \"<azureml.automl.runtime.shared.model_wrappers.SparseNormalizer object at 0x7f22f1540710\", \"primary_metric\": 0.61061395, \"best_metric\": 0.63822901}, {\"run_id\": \"AutoML_51a190e0-5f8a-4742-b6ab-1db4153d3896_7\", \"run_number\": 916, \"metric\": null, \"status\": \"Completed\", \"run_type\": null, \"training_percent\": \"100\", \"start_time\": \"2020-06-06T22:05:53.628032Z\", \"end_time\": \"2020-06-06T22:06:51.248553Z\", \"created_time\": \"2020-06-06T22:05:53.491018Z\", \"created_time_dt\": \"2020-06-06T22:05:53.491018Z\", \"duration\": \"0:00:57\", \"iteration\": \"7\", \"goal\": \"AUC_weighted_max\", \"run_name\": \"MaxAbsScaler, SGD\", \"run_properties\": \"copy=True\", \"primary_metric\": 0.55322646, \"best_metric\": 0.63822901}, {\"run_id\": \"AutoML_51a190e0-5f8a-4742-b6ab-1db4153d3896_8\", \"run_number\": 917, \"metric\": null, \"status\": \"Completed\", \"run_type\": null, \"training_percent\": \"100\", \"start_time\": \"2020-06-06T22:06:53.113607Z\", \"end_time\": \"2020-06-06T22:07:46.747161Z\", \"created_time\": \"2020-06-06T22:06:53.002926Z\", \"created_time_dt\": \"2020-06-06T22:06:53.002926Z\", \"duration\": \"0:00:53\", \"iteration\": \"8\", \"goal\": \"AUC_weighted_max\", \"run_name\": \"MaxAbsScaler, SGD\", \"run_properties\": \"copy=True\", \"primary_metric\": 0.53252787, \"best_metric\": 0.63822901}, {\"run_id\": \"AutoML_51a190e0-5f8a-4742-b6ab-1db4153d3896_9\", \"run_number\": 918, \"metric\": null, \"status\": \"Completed\", \"run_type\": null, \"training_percent\": \"100\", \"start_time\": \"2020-06-06T22:07:48.704164Z\", \"end_time\": \"2020-06-06T22:09:18.760322Z\", \"created_time\": \"2020-06-06T22:07:48.590351Z\", \"created_time_dt\": \"2020-06-06T22:07:48.590351Z\", \"duration\": \"0:01:30\", \"iteration\": \"9\", \"goal\": \"AUC_weighted_max\", \"run_name\": \"StandardScalerWrapper, XGBoostClassifier\", \"run_properties\": \"<azureml.automl.runtime.shared.model_wrappers.StandardScalerWrapper object at 0x7f22f8e2a048\", \"primary_metric\": 0.62719006, \"best_metric\": 0.63822901}, {\"run_id\": \"AutoML_51a190e0-5f8a-4742-b6ab-1db4153d3896_10\", \"run_number\": 919, \"metric\": null, \"status\": \"Completed\", \"run_type\": null, \"training_percent\": \"100\", \"start_time\": \"2020-06-06T22:09:20.628232Z\", \"end_time\": \"2020-06-06T22:10:21.544899Z\", \"created_time\": \"2020-06-06T22:09:20.521317Z\", \"created_time_dt\": \"2020-06-06T22:09:20.521317Z\", \"duration\": \"0:01:01\", \"iteration\": \"10\", \"goal\": \"AUC_weighted_max\", \"run_name\": \"MaxAbsScaler, LightGBM\", \"run_properties\": \"copy=True\", \"primary_metric\": 0.62316335, \"best_metric\": 0.63822901}, {\"run_id\": \"AutoML_51a190e0-5f8a-4742-b6ab-1db4153d3896_11\", \"run_number\": 920, \"metric\": null, \"status\": \"Completed\", \"run_type\": null, \"training_percent\": \"100\", \"start_time\": \"2020-06-06T22:10:23.377315Z\", \"end_time\": \"2020-06-06T22:11:14.550528Z\", \"created_time\": \"2020-06-06T22:10:23.253219Z\", \"created_time_dt\": \"2020-06-06T22:10:23.253219Z\", \"duration\": \"0:00:51\", \"iteration\": \"11\", \"goal\": \"AUC_weighted_max\", \"run_name\": \"MaxAbsScaler, MultinomialNaiveBayes\", \"run_properties\": \"copy=True\", \"primary_metric\": 0.62336355, \"best_metric\": 0.63822901}, {\"run_id\": \"AutoML_51a190e0-5f8a-4742-b6ab-1db4153d3896_12\", \"run_number\": 921, \"metric\": null, \"status\": \"Completed\", \"run_type\": null, \"training_percent\": \"100\", \"start_time\": \"2020-06-06T22:11:16.230595Z\", \"end_time\": \"2020-06-06T22:12:07.067486Z\", \"created_time\": \"2020-06-06T22:11:16.125661Z\", \"created_time_dt\": \"2020-06-06T22:11:16.125661Z\", \"duration\": \"0:00:50\", \"iteration\": \"12\", \"goal\": \"AUC_weighted_max\", \"run_name\": \"MaxAbsScaler, SGD\", \"run_properties\": \"copy=True\", \"primary_metric\": 0.62095331, \"best_metric\": 0.63822901}, {\"run_id\": \"AutoML_51a190e0-5f8a-4742-b6ab-1db4153d3896_13\", \"run_number\": 922, \"metric\": null, \"status\": \"Completed\", \"run_type\": null, \"training_percent\": \"100\", \"start_time\": \"2020-06-06T22:12:07.724553Z\", \"end_time\": \"2020-06-06T22:17:29.825905Z\", \"created_time\": \"2020-06-06T22:12:07.617169Z\", \"created_time_dt\": \"2020-06-06T22:12:07.617169Z\", \"duration\": \"0:05:22\", \"iteration\": \"13\", \"goal\": \"AUC_weighted_max\", \"run_name\": \"VotingEnsemble\", \"run_properties\": \"classification_labels=None,\\n               estimators=[('1', Pipeline(memory=None,\\n     steps=[('maxabsscaler', MaxAbsScaler(copy=True\", \"primary_metric\": 0.63851816, \"best_metric\": 0.63851816}, {\"run_id\": \"AutoML_51a190e0-5f8a-4742-b6ab-1db4153d3896_14\", \"run_number\": 923, \"metric\": null, \"status\": \"Completed\", \"run_type\": null, \"training_percent\": \"100\", \"start_time\": \"2020-06-06T22:17:33.111443Z\", \"end_time\": \"2020-06-06T22:25:02.410558Z\", \"created_time\": \"2020-06-06T22:17:32.62953Z\", \"created_time_dt\": \"2020-06-06T22:17:32.62953Z\", \"duration\": \"0:07:29\", \"iteration\": \"14\", \"goal\": \"AUC_weighted_max\", \"run_name\": \"StackEnsemble\", \"run_properties\": \"base_learners=[('1', Pipeline(memory=None,\\n     steps=[('maxabsscaler', MaxAbsScaler(copy=True\", \"primary_metric\": 0.63660132, \"best_metric\": 0.63851816}], \"children_metrics\": {\"categories\": [0], \"series\": {\"average_precision_score_weighted\": [{\"categories\": [\"0\", \"1\", \"2\", \"3\", \"4\", \"5\", \"6\", \"7\", \"8\", \"9\", \"10\", \"11\", \"12\", \"13\", \"14\"], \"mode\": \"markers\", \"name\": \"average_precision_score_weighted\", \"stepped\": false, \"type\": \"scatter\", \"data\": [0.9431018658225846, 0.9430838125753808, 0.942183454948715, 0.9418287294235616, 0.9365559456297808, 0.9426767519482481, 0.9400844584250446, 0.9353893176870187, 0.9320928155447592, 0.9422207621476026, 0.9418529777734641, 0.9416885337041776, 0.9415879147223787, 0.9432075092479015, 0.9430768705841918]}, {\"categories\": [\"0\", \"1\", \"2\", \"3\", \"4\", \"5\", \"6\", \"7\", \"8\", \"9\", \"10\", \"11\", \"12\", \"13\", \"14\"], \"mode\": \"lines\", \"name\": \"average_precision_score_weighted_max\", \"stepped\": true, \"type\": \"scatter\", \"data\": [0.9431018658225846, 0.9431018658225846, 0.9431018658225846, 0.9431018658225846, 0.9431018658225846, 0.9431018658225846, 0.9431018658225846, 0.9431018658225846, 0.9431018658225846, 0.9431018658225846, 0.9431018658225846, 0.9431018658225846, 0.9431018658225846, 0.9432075092479015, 0.9432075092479015]}], \"accuracy\": [{\"categories\": [\"0\", \"1\", \"2\", \"3\", \"4\", \"5\", \"6\", \"7\", \"8\", \"9\", \"10\", \"11\", \"12\", \"13\", \"14\"], \"mode\": \"markers\", \"name\": \"accuracy\", \"stepped\": false, \"type\": \"scatter\", \"data\": [0.9633183370979485, 0.9633183370979485, 0.9633183370979485, 0.9633183370979485, 0.38479344396945997, 0.9633183370979485, 0.9633183370979485, 0.9633183370979485, 0.9633183370979485, 0.9633183370979485, 0.9633183370979485, 0.6504321529242659, 0.6741398943418768, 0.9633183370979485, 0.9633183370979485]}, {\"categories\": [\"0\", \"1\", \"2\", \"3\", \"4\", \"5\", \"6\", \"7\", \"8\", \"9\", \"10\", \"11\", \"12\", \"13\", \"14\"], \"mode\": \"lines\", \"name\": \"accuracy_max\", \"stepped\": true, \"type\": \"scatter\", \"data\": [0.9633183370979485, 0.9633183370979485, 0.9633183370979485, 0.9633183370979485, 0.9633183370979485, 0.9633183370979485, 0.9633183370979485, 0.9633183370979485, 0.9633183370979485, 0.9633183370979485, 0.9633183370979485, 0.9633183370979485, 0.9633183370979485, 0.9633183370979485, 0.9633183370979485]}], \"recall_score_weighted\": [{\"categories\": [\"0\", \"1\", \"2\", \"3\", \"4\", \"5\", \"6\", \"7\", \"8\", \"9\", \"10\", \"11\", \"12\", \"13\", \"14\"], \"mode\": \"markers\", \"name\": \"recall_score_weighted\", \"stepped\": false, \"type\": \"scatter\", \"data\": [0.9633183370979485, 0.9633183370979485, 0.9633183370979485, 0.9633183370979485, 0.38479344396945997, 0.9633183370979485, 0.9633183370979485, 0.9633183370979485, 0.9633183370979485, 0.9633183370979485, 0.9633183370979485, 0.6504321529242659, 0.6741398943418768, 0.9633183370979485, 0.9633183370979485]}, {\"categories\": [\"0\", \"1\", \"2\", \"3\", \"4\", \"5\", \"6\", \"7\", \"8\", \"9\", \"10\", \"11\", \"12\", \"13\", \"14\"], \"mode\": \"lines\", \"name\": \"recall_score_weighted_max\", \"stepped\": true, \"type\": \"scatter\", \"data\": [0.9633183370979485, 0.9633183370979485, 0.9633183370979485, 0.9633183370979485, 0.9633183370979485, 0.9633183370979485, 0.9633183370979485, 0.9633183370979485, 0.9633183370979485, 0.9633183370979485, 0.9633183370979485, 0.9633183370979485, 0.9633183370979485, 0.9633183370979485, 0.9633183370979485]}], \"f1_score_weighted\": [{\"categories\": [\"0\", \"1\", \"2\", \"3\", \"4\", \"5\", \"6\", \"7\", \"8\", \"9\", \"10\", \"11\", \"12\", \"13\", \"14\"], \"mode\": \"markers\", \"name\": \"f1_score_weighted\", \"stepped\": false, \"type\": \"scatter\", \"data\": [0.9453201766157194, 0.9453201766157194, 0.9453201766157194, 0.9453201766157194, 0.521187237674581, 0.9453201766157194, 0.9453201766157194, 0.9453201766157194, 0.9453201766157194, 0.9453201766157194, 0.9453201766157194, 0.7580682979229555, 0.7753322483299513, 0.9453201766157194, 0.9453201766157194]}, {\"categories\": [\"0\", \"1\", \"2\", \"3\", \"4\", \"5\", \"6\", \"7\", \"8\", \"9\", \"10\", \"11\", \"12\", \"13\", \"14\"], \"mode\": \"lines\", \"name\": \"f1_score_weighted_max\", \"stepped\": true, \"type\": \"scatter\", \"data\": [0.9453201766157194, 0.9453201766157194, 0.9453201766157194, 0.9453201766157194, 0.9453201766157194, 0.9453201766157194, 0.9453201766157194, 0.9453201766157194, 0.9453201766157194, 0.9453201766157194, 0.9453201766157194, 0.9453201766157194, 0.9453201766157194, 0.9453201766157194, 0.9453201766157194]}], \"average_precision_score_micro\": [{\"categories\": [\"0\", \"1\", \"2\", \"3\", \"4\", \"5\", \"6\", \"7\", \"8\", \"9\", \"10\", \"11\", \"12\", \"13\", \"14\"], \"mode\": \"markers\", \"name\": \"average_precision_score_micro\", \"stepped\": false, \"type\": \"scatter\", \"data\": [0.9681333490146973, 0.9680650165265728, 0.9670805736999948, 0.9666752468469721, 0.3928080083151436, 0.9676292803335668, 0.9645870494685449, 0.9595294771925267, 0.9560180047902067, 0.9671006008542891, 0.9667567041866528, 0.6166402667792606, 0.6713118147161816, 0.9682009856561069, 0.9680487283711752]}, {\"categories\": [\"0\", \"1\", \"2\", \"3\", \"4\", \"5\", \"6\", \"7\", \"8\", \"9\", \"10\", \"11\", \"12\", \"13\", \"14\"], \"mode\": \"lines\", \"name\": \"average_precision_score_micro_max\", \"stepped\": true, \"type\": \"scatter\", \"data\": [0.9681333490146973, 0.9681333490146973, 0.9681333490146973, 0.9681333490146973, 0.9681333490146973, 0.9681333490146973, 0.9681333490146973, 0.9681333490146973, 0.9681333490146973, 0.9681333490146973, 0.9681333490146973, 0.9681333490146973, 0.9681333490146973, 0.9682009856561069, 0.9682009856561069]}], \"recall_score_macro\": [{\"categories\": [\"0\", \"1\", \"2\", \"3\", \"4\", \"5\", \"6\", \"7\", \"8\", \"9\", \"10\", \"11\", \"12\", \"13\", \"14\"], \"mode\": \"markers\", \"name\": \"recall_score_macro\", \"stepped\": false, \"type\": \"scatter\", \"data\": [0.5, 0.5, 0.5, 0.5, 0.5482664765715343, 0.5, 0.5, 0.5, 0.5, 0.5, 0.5, 0.587258828388355, 0.5887944708312056, 0.5, 0.5]}, {\"categories\": [\"0\", \"1\", \"2\", \"3\", \"4\", \"5\", \"6\", \"7\", \"8\", \"9\", \"10\", \"11\", \"12\", \"13\", \"14\"], \"mode\": \"lines\", \"name\": \"recall_score_macro_max\", \"stepped\": true, \"type\": \"scatter\", \"data\": [0.5, 0.5, 0.5, 0.5, 0.5482664765715343, 0.5482664765715343, 0.5482664765715343, 0.5482664765715343, 0.5482664765715343, 0.5482664765715343, 0.5482664765715343, 0.587258828388355, 0.5887944708312056, 0.5887944708312056, 0.5887944708312056]}], \"norm_macro_recall\": [{\"categories\": [\"0\", \"1\", \"2\", \"3\", \"4\", \"5\", \"6\", \"7\", \"8\", \"9\", \"10\", \"11\", \"12\", \"13\", \"14\"], \"mode\": \"markers\", \"name\": \"norm_macro_recall\", \"stepped\": false, \"type\": \"scatter\", \"data\": [0.0, 0.0, 0.0, 0.0, 0.09653295314306853, 0.0, 0.0, 0.0, 0.0, 0.0, 0.0, 0.17451765677670994, 0.17758894166241124, 0.0, 0.0]}, {\"categories\": [\"0\", \"1\", \"2\", \"3\", \"4\", \"5\", \"6\", \"7\", \"8\", \"9\", \"10\", \"11\", \"12\", \"13\", \"14\"], \"mode\": \"lines\", \"name\": \"norm_macro_recall_max\", \"stepped\": true, \"type\": \"scatter\", \"data\": [0.0, 0.0, 0.0, 0.0, 0.09653295314306853, 0.09653295314306853, 0.09653295314306853, 0.09653295314306853, 0.09653295314306853, 0.09653295314306853, 0.09653295314306853, 0.17451765677670994, 0.17758894166241124, 0.17758894166241124, 0.17758894166241124]}], \"average_precision_score_macro\": [{\"categories\": [\"0\", \"1\", \"2\", \"3\", \"4\", \"5\", \"6\", \"7\", \"8\", \"9\", \"10\", \"11\", \"12\", \"13\", \"14\"], \"mode\": \"markers\", \"name\": \"average_precision_score_macro\", \"stepped\": false, \"type\": \"scatter\", \"data\": [0.5194545560084993, 0.5206960277801951, 0.5183683166678585, 0.5178831555575851, 0.5086695283349117, 0.5190459804656526, 0.5156101563331672, 0.507586311112997, 0.5044658900651905, 0.5188986156027773, 0.517353514163924, 0.5181579779781439, 0.5176509421677187, 0.5206373104389337, 0.5204082926180293]}, {\"categories\": [\"0\", \"1\", \"2\", \"3\", \"4\", \"5\", \"6\", \"7\", \"8\", \"9\", \"10\", \"11\", \"12\", \"13\", \"14\"], \"mode\": \"lines\", \"name\": \"average_precision_score_macro_max\", \"stepped\": true, \"type\": \"scatter\", \"data\": [0.5194545560084993, 0.5206960277801951, 0.5206960277801951, 0.5206960277801951, 0.5206960277801951, 0.5206960277801951, 0.5206960277801951, 0.5206960277801951, 0.5206960277801951, 0.5206960277801951, 0.5206960277801951, 0.5206960277801951, 0.5206960277801951, 0.5206960277801951, 0.5206960277801951]}], \"balanced_accuracy\": [{\"categories\": [\"0\", \"1\", \"2\", \"3\", \"4\", \"5\", \"6\", \"7\", \"8\", \"9\", \"10\", \"11\", \"12\", \"13\", \"14\"], \"mode\": \"markers\", \"name\": \"balanced_accuracy\", \"stepped\": false, \"type\": \"scatter\", \"data\": [0.5, 0.5, 0.5, 0.5, 0.5482664765715343, 0.5, 0.5, 0.5, 0.5, 0.5, 0.5, 0.587258828388355, 0.5887944708312056, 0.5, 0.5]}, {\"categories\": [\"0\", \"1\", \"2\", \"3\", \"4\", \"5\", \"6\", \"7\", \"8\", \"9\", \"10\", \"11\", \"12\", \"13\", \"14\"], \"mode\": \"lines\", \"name\": \"balanced_accuracy_max\", \"stepped\": true, \"type\": \"scatter\", \"data\": [0.5, 0.5, 0.5, 0.5, 0.5482664765715343, 0.5482664765715343, 0.5482664765715343, 0.5482664765715343, 0.5482664765715343, 0.5482664765715343, 0.5482664765715343, 0.587258828388355, 0.5887944708312056, 0.5887944708312056, 0.5887944708312056]}], \"weighted_accuracy\": [{\"categories\": [\"0\", \"1\", \"2\", \"3\", \"4\", \"5\", \"6\", \"7\", \"8\", \"9\", \"10\", \"11\", \"12\", \"13\", \"14\"], \"mode\": \"markers\", \"name\": \"weighted_accuracy\", \"stepped\": false, \"type\": \"scatter\", \"data\": [0.9985521315010091, 0.9985521315010091, 0.9985521315010091, 0.9985521315010091, 0.37236187206746385, 0.9985521315010091, 0.9985521315010091, 0.9985521315010091, 0.9985521315010091, 0.9985521315010091, 0.9985521315010091, 0.6552362708497464, 0.680630125494937, 0.9985521315010091, 0.9985521315010091]}, {\"categories\": [\"0\", \"1\", \"2\", \"3\", \"4\", \"5\", \"6\", \"7\", \"8\", \"9\", \"10\", \"11\", \"12\", \"13\", \"14\"], \"mode\": \"lines\", \"name\": \"weighted_accuracy_max\", \"stepped\": true, \"type\": \"scatter\", \"data\": [0.9985521315010091, 0.9985521315010091, 0.9985521315010091, 0.9985521315010091, 0.9985521315010091, 0.9985521315010091, 0.9985521315010091, 0.9985521315010091, 0.9985521315010091, 0.9985521315010091, 0.9985521315010091, 0.9985521315010091, 0.9985521315010091, 0.9985521315010091, 0.9985521315010091]}], \"f1_score_micro\": [{\"categories\": [\"0\", \"1\", \"2\", \"3\", \"4\", \"5\", \"6\", \"7\", \"8\", \"9\", \"10\", \"11\", \"12\", \"13\", \"14\"], \"mode\": \"markers\", \"name\": \"f1_score_micro\", \"stepped\": false, \"type\": \"scatter\", \"data\": [0.9633183370979485, 0.9633183370979485, 0.9633183370979485, 0.9633183370979485, 0.38479344396945997, 0.9633183370979485, 0.9633183370979485, 0.9633183370979485, 0.9633183370979485, 0.9633183370979485, 0.9633183370979485, 0.6504321529242659, 0.6741398943418768, 0.9633183370979485, 0.9633183370979485]}, {\"categories\": [\"0\", \"1\", \"2\", \"3\", \"4\", \"5\", \"6\", \"7\", \"8\", \"9\", \"10\", \"11\", \"12\", \"13\", \"14\"], \"mode\": \"lines\", \"name\": \"f1_score_micro_max\", \"stepped\": true, \"type\": \"scatter\", \"data\": [0.9633183370979485, 0.9633183370979485, 0.9633183370979485, 0.9633183370979485, 0.9633183370979485, 0.9633183370979485, 0.9633183370979485, 0.9633183370979485, 0.9633183370979485, 0.9633183370979485, 0.9633183370979485, 0.9633183370979485, 0.9633183370979485, 0.9633183370979485, 0.9633183370979485]}], \"AUC_weighted\": [{\"categories\": [\"0\", \"1\", \"2\", \"3\", \"4\", \"5\", \"6\", \"7\", \"8\", \"9\", \"10\", \"11\", \"12\", \"13\", \"14\"], \"mode\": \"markers\", \"name\": \"AUC_weighted\", \"stepped\": false, \"type\": \"scatter\", \"data\": [0.6368937413968541, 0.6382290147512989, 0.6262189519994997, 0.6221420629918838, 0.5712933174993042, 0.6312725427324508, 0.6106139473181261, 0.553226459554095, 0.5325278747352367, 0.627190060027202, 0.6231633472995466, 0.6233635457968918, 0.6209533138741242, 0.6385181589698486, 0.6366013207252806]}, {\"categories\": [\"0\", \"1\", \"2\", \"3\", \"4\", \"5\", \"6\", \"7\", \"8\", \"9\", \"10\", \"11\", \"12\", \"13\", \"14\"], \"mode\": \"lines\", \"name\": \"AUC_weighted_max\", \"stepped\": true, \"type\": \"scatter\", \"data\": [0.6368937413968541, 0.6382290147512989, 0.6382290147512989, 0.6382290147512989, 0.6382290147512989, 0.6382290147512989, 0.6382290147512989, 0.6382290147512989, 0.6382290147512989, 0.6382290147512989, 0.6382290147512989, 0.6382290147512989, 0.6382290147512989, 0.6385181589698486, 0.6385181589698486]}], \"precision_score_macro\": [{\"categories\": [\"0\", \"1\", \"2\", \"3\", \"4\", \"5\", \"6\", \"7\", \"8\", \"9\", \"10\", \"11\", \"12\", \"13\", \"14\"], \"mode\": \"markers\", \"name\": \"precision_score_macro\", \"stepped\": false, \"type\": \"scatter\", \"data\": [0.4816591685489742, 0.4816591685489742, 0.4816591685489742, 0.4816591685489742, 0.5073307247354639, 0.4816591685489742, 0.4816591685489742, 0.4816591685489742, 0.4816591685489742, 0.4816591685489742, 0.4816591685489742, 0.513536133855811, 0.514288636443827, 0.4816591685489742, 0.4816591685489742]}, {\"categories\": [\"0\", \"1\", \"2\", \"3\", \"4\", \"5\", \"6\", \"7\", \"8\", \"9\", \"10\", \"11\", \"12\", \"13\", \"14\"], \"mode\": \"lines\", \"name\": \"precision_score_macro_max\", \"stepped\": true, \"type\": \"scatter\", \"data\": [0.4816591685489742, 0.4816591685489742, 0.4816591685489742, 0.4816591685489742, 0.5073307247354639, 0.5073307247354639, 0.5073307247354639, 0.5073307247354639, 0.5073307247354639, 0.5073307247354639, 0.5073307247354639, 0.513536133855811, 0.514288636443827, 0.514288636443827, 0.514288636443827]}], \"precision_score_weighted\": [{\"categories\": [\"0\", \"1\", \"2\", \"3\", \"4\", \"5\", \"6\", \"7\", \"8\", \"9\", \"10\", \"11\", \"12\", \"13\", \"14\"], \"mode\": \"markers\", \"name\": \"precision_score_weighted\", \"stepped\": false, \"type\": \"scatter\", \"data\": [0.9279822185891566, 0.9279822185891566, 0.9279822185891566, 0.9279822185891566, 0.9384476061546768, 0.9279822185891566, 0.9279822185891566, 0.9279822185891566, 0.9279822185891566, 0.9279822185891566, 0.9279822185891566, 0.9391252545759861, 0.9389986182883537, 0.9279822185891566, 0.9279822185891566]}, {\"categories\": [\"0\", \"1\", \"2\", \"3\", \"4\", \"5\", \"6\", \"7\", \"8\", \"9\", \"10\", \"11\", \"12\", \"13\", \"14\"], \"mode\": \"lines\", \"name\": \"precision_score_weighted_max\", \"stepped\": true, \"type\": \"scatter\", \"data\": [0.9279822185891566, 0.9279822185891566, 0.9279822185891566, 0.9279822185891566, 0.9384476061546768, 0.9384476061546768, 0.9384476061546768, 0.9384476061546768, 0.9384476061546768, 0.9384476061546768, 0.9384476061546768, 0.9391252545759861, 0.9391252545759861, 0.9391252545759861, 0.9391252545759861]}], \"precision_score_micro\": [{\"categories\": [\"0\", \"1\", \"2\", \"3\", \"4\", \"5\", \"6\", \"7\", \"8\", \"9\", \"10\", \"11\", \"12\", \"13\", \"14\"], \"mode\": \"markers\", \"name\": \"precision_score_micro\", \"stepped\": false, \"type\": \"scatter\", \"data\": [0.9633183370979485, 0.9633183370979485, 0.9633183370979485, 0.9633183370979485, 0.38479344396945997, 0.9633183370979485, 0.9633183370979485, 0.9633183370979485, 0.9633183370979485, 0.9633183370979485, 0.9633183370979485, 0.6504321529242659, 0.6741398943418768, 0.9633183370979485, 0.9633183370979485]}, {\"categories\": [\"0\", \"1\", \"2\", \"3\", \"4\", \"5\", \"6\", \"7\", \"8\", \"9\", \"10\", \"11\", \"12\", \"13\", \"14\"], \"mode\": \"lines\", \"name\": \"precision_score_micro_max\", \"stepped\": true, \"type\": \"scatter\", \"data\": [0.9633183370979485, 0.9633183370979485, 0.9633183370979485, 0.9633183370979485, 0.9633183370979485, 0.9633183370979485, 0.9633183370979485, 0.9633183370979485, 0.9633183370979485, 0.9633183370979485, 0.9633183370979485, 0.9633183370979485, 0.9633183370979485, 0.9633183370979485, 0.9633183370979485]}], \"f1_score_macro\": [{\"categories\": [\"0\", \"1\", \"2\", \"3\", \"4\", \"5\", \"6\", \"7\", \"8\", \"9\", \"10\", \"11\", \"12\", \"13\", \"14\"], \"mode\": \"markers\", \"name\": \"f1_score_macro\", \"stepped\": false, \"type\": \"scatter\", \"data\": [0.49065824879008874, 0.49065824879008874, 0.49065824879008874, 0.49065824879008874, 0.3087742513619593, 0.49065824879008874, 0.49065824879008874, 0.49065824879008874, 0.49065824879008874, 0.49065824879008874, 0.49065824879008874, 0.4407155655880807, 0.45080147822954886, 0.49065824879008874, 0.49065824879008874]}, {\"categories\": [\"0\", \"1\", \"2\", \"3\", \"4\", \"5\", \"6\", \"7\", \"8\", \"9\", \"10\", \"11\", \"12\", \"13\", \"14\"], \"mode\": \"lines\", \"name\": \"f1_score_macro_max\", \"stepped\": true, \"type\": \"scatter\", \"data\": [0.49065824879008874, 0.49065824879008874, 0.49065824879008874, 0.49065824879008874, 0.49065824879008874, 0.49065824879008874, 0.49065824879008874, 0.49065824879008874, 0.49065824879008874, 0.49065824879008874, 0.49065824879008874, 0.49065824879008874, 0.49065824879008874, 0.49065824879008874, 0.49065824879008874]}], \"AUC_micro\": [{\"categories\": [\"0\", \"1\", \"2\", \"3\", \"4\", \"5\", \"6\", \"7\", \"8\", \"9\", \"10\", \"11\", \"12\", \"13\", \"14\"], \"mode\": \"markers\", \"name\": \"AUC_micro\", \"stepped\": false, \"type\": \"scatter\", \"data\": [0.9729929240361708, 0.973087292567168, 0.9722385127897681, 0.9719503887933401, 0.33440631080404853, 0.9725956613518372, 0.9711356722002655, 0.9670799700631623, 0.9656171547709151, 0.9723071489788637, 0.9720225663701809, 0.6709940101739551, 0.7142903856567978, 0.9731077249369943, 0.9729722580131603]}, {\"categories\": [\"0\", \"1\", \"2\", \"3\", \"4\", \"5\", \"6\", \"7\", \"8\", \"9\", \"10\", \"11\", \"12\", \"13\", \"14\"], \"mode\": \"lines\", \"name\": \"AUC_micro_max\", \"stepped\": true, \"type\": \"scatter\", \"data\": [0.9729929240361708, 0.973087292567168, 0.973087292567168, 0.973087292567168, 0.973087292567168, 0.973087292567168, 0.973087292567168, 0.973087292567168, 0.973087292567168, 0.973087292567168, 0.973087292567168, 0.973087292567168, 0.973087292567168, 0.9731077249369943, 0.9731077249369943]}], \"log_loss\": [{\"categories\": [\"0\", \"1\", \"2\", \"3\", \"4\", \"5\", \"6\", \"7\", \"8\", \"9\", \"10\", \"11\", \"12\", \"13\", \"14\"], \"mode\": \"markers\", \"name\": \"log_loss\", \"stepped\": false, \"type\": \"scatter\", \"data\": [0.1531664011402896, 0.15299506507622726, 0.15361143482866133, 0.16661378442480715, 1.1268637994033042, 0.15352349615088767, 0.27534632701184947, 0.1599566516252888, 0.16069935124096485, 0.1662478232184203, 0.15445820680384031, 0.6849724283353377, 0.6797171986882056, 0.1646178541233325, 0.15572454238106492]}, {\"categories\": [\"0\", \"1\", \"2\", \"3\", \"4\", \"5\", \"6\", \"7\", \"8\", \"9\", \"10\", \"11\", \"12\", \"13\", \"14\"], \"mode\": \"lines\", \"name\": \"log_loss_min\", \"stepped\": true, \"type\": \"scatter\", \"data\": [0.1531664011402896, 0.15299506507622726, 0.15299506507622726, 0.15299506507622726, 0.15299506507622726, 0.15299506507622726, 0.15299506507622726, 0.15299506507622726, 0.15299506507622726, 0.15299506507622726, 0.15299506507622726, 0.15299506507622726, 0.15299506507622726, 0.15299506507622726, 0.15299506507622726]}], \"matthews_correlation\": [{\"categories\": [\"0\", \"1\", \"2\", \"3\", \"4\", \"5\", \"6\", \"7\", \"8\", \"9\", \"10\", \"11\", \"12\", \"13\", \"14\"], \"mode\": \"markers\", \"name\": \"matthews_correlation\", \"stepped\": false, \"type\": \"scatter\", \"data\": [0.0, 0.0, 0.0, 0.0, 0.03762064612399095, 0.0, 0.0, 0.0, 0.0, 0.0, 0.0, 0.06873564377136537, 0.07123908792030123, 0.0, 0.0]}, {\"categories\": [\"0\", \"1\", \"2\", \"3\", \"4\", \"5\", \"6\", \"7\", \"8\", \"9\", \"10\", \"11\", \"12\", \"13\", \"14\"], \"mode\": \"lines\", \"name\": \"matthews_correlation_max\", \"stepped\": true, \"type\": \"scatter\", \"data\": [0.0, 0.0, 0.0, 0.0, 0.03762064612399095, 0.03762064612399095, 0.03762064612399095, 0.03762064612399095, 0.03762064612399095, 0.03762064612399095, 0.03762064612399095, 0.06873564377136537, 0.07123908792030123, 0.07123908792030123, 0.07123908792030123]}], \"AUC_macro\": [{\"categories\": [\"0\", \"1\", \"2\", \"3\", \"4\", \"5\", \"6\", \"7\", \"8\", \"9\", \"10\", \"11\", \"12\", \"13\", \"14\"], \"mode\": \"markers\", \"name\": \"AUC_macro\", \"stepped\": false, \"type\": \"scatter\", \"data\": [0.6368937413968541, 0.6382290398815169, 0.6262189519994998, 0.6221420469999268, 0.5712933174993042, 0.6312725427324508, 0.6106139473181261, 0.553226459554095, 0.5325278747352367, 0.627190142271552, 0.6231633472995466, 0.6233635457968918, 0.6209533138741242, 0.6385181544007181, 0.6366013207252805]}, {\"categories\": [\"0\", \"1\", \"2\", \"3\", \"4\", \"5\", \"6\", \"7\", \"8\", \"9\", \"10\", \"11\", \"12\", \"13\", \"14\"], \"mode\": \"lines\", \"name\": \"AUC_macro_max\", \"stepped\": true, \"type\": \"scatter\", \"data\": [0.6368937413968541, 0.6382290398815169, 0.6382290398815169, 0.6382290398815169, 0.6382290398815169, 0.6382290398815169, 0.6382290398815169, 0.6382290398815169, 0.6382290398815169, 0.6382290398815169, 0.6382290398815169, 0.6382290398815169, 0.6382290398815169, 0.6385181544007181, 0.6385181544007181]}], \"recall_score_micro\": [{\"categories\": [\"0\", \"1\", \"2\", \"3\", \"4\", \"5\", \"6\", \"7\", \"8\", \"9\", \"10\", \"11\", \"12\", \"13\", \"14\"], \"mode\": \"markers\", \"name\": \"recall_score_micro\", \"stepped\": false, \"type\": \"scatter\", \"data\": [0.9633183370979485, 0.9633183370979485, 0.9633183370979485, 0.9633183370979485, 0.38479344396945997, 0.9633183370979485, 0.9633183370979485, 0.9633183370979485, 0.9633183370979485, 0.9633183370979485, 0.9633183370979485, 0.6504321529242659, 0.6741398943418768, 0.9633183370979485, 0.9633183370979485]}, {\"categories\": [\"0\", \"1\", \"2\", \"3\", \"4\", \"5\", \"6\", \"7\", \"8\", \"9\", \"10\", \"11\", \"12\", \"13\", \"14\"], \"mode\": \"lines\", \"name\": \"recall_score_micro_max\", \"stepped\": true, \"type\": \"scatter\", \"data\": [0.9633183370979485, 0.9633183370979485, 0.9633183370979485, 0.9633183370979485, 0.9633183370979485, 0.9633183370979485, 0.9633183370979485, 0.9633183370979485, 0.9633183370979485, 0.9633183370979485, 0.9633183370979485, 0.9633183370979485, 0.9633183370979485, 0.9633183370979485, 0.9633183370979485]}]}, \"metricName\": null, \"primaryMetricName\": \"AUC_weighted\", \"showLegend\": false}, \"run_metrics\": [{\"name\": \"experiment_status\", \"run_id\": \"AutoML_51a190e0-5f8a-4742-b6ab-1db4153d3896\", \"categories\": [0, 1, 2, 3, 4, 5, 6, 7, 8, 9, 10], \"series\": [{\"data\": [\"DatasetEvaluation\", \"FeaturesGeneration\", \"DatasetFeaturization\", \"DatasetFeaturizationCompleted\", \"ModelSelection\", \"BestRunExplainModel\", \"ModelExplanationDataSetSetup\", \"PickSurrogateModel\", \"EngineeredFeatureExplanations\", \"EngineeredFeatureExplanations\", \"BestRunExplainModel\"]}]}, {\"name\": \"experiment_status_description\", \"run_id\": \"AutoML_51a190e0-5f8a-4742-b6ab-1db4153d3896\", \"categories\": [0, 1, 2, 3, 4, 5, 6, 7, 8, 9, 10], \"series\": [{\"data\": [\"Gathering dataset statistics.\", \"Generating features for the dataset.\", \"Beginning to fit featurizers and featurize the dataset.\", \"Completed fit featurizers and featurizing the dataset.\", \"Beginning model selection.\", \"Best run model explanations started\", \"Choosing LightGBM as the surrogate model for explanations\", \"Model explanations data setup completed\", \"Computation of engineered features started\", \"Computation of engineered features completed\", \"Best run model explanations completed\"]}]}, {\"name\": \"average_precision_score_weighted\", \"run_id\": \"AutoML_51a190e0-5f8a-4742-b6ab-1db4153d3896\", \"categories\": [0], \"series\": [{\"data\": [0.9432075092479015]}]}, {\"name\": \"accuracy\", \"run_id\": \"AutoML_51a190e0-5f8a-4742-b6ab-1db4153d3896\", \"categories\": [0], \"series\": [{\"data\": [0.9633183370979485]}]}, {\"name\": \"average_precision_score_micro\", \"run_id\": \"AutoML_51a190e0-5f8a-4742-b6ab-1db4153d3896\", \"categories\": [0], \"series\": [{\"data\": [0.9682009856561069]}]}, {\"name\": \"recall_score_weighted\", \"run_id\": \"AutoML_51a190e0-5f8a-4742-b6ab-1db4153d3896\", \"categories\": [0], \"series\": [{\"data\": [0.9633183370979485]}]}, {\"name\": \"f1_score_weighted\", \"run_id\": \"AutoML_51a190e0-5f8a-4742-b6ab-1db4153d3896\", \"categories\": [0], \"series\": [{\"data\": [0.9453201766157194]}]}, {\"name\": \"norm_macro_recall\", \"run_id\": \"AutoML_51a190e0-5f8a-4742-b6ab-1db4153d3896\", \"categories\": [0], \"series\": [{\"data\": [0.0]}]}, {\"name\": \"average_precision_score_macro\", \"run_id\": \"AutoML_51a190e0-5f8a-4742-b6ab-1db4153d3896\", \"categories\": [0], \"series\": [{\"data\": [0.5206373104389337]}]}, {\"name\": \"balanced_accuracy\", \"run_id\": \"AutoML_51a190e0-5f8a-4742-b6ab-1db4153d3896\", \"categories\": [0], \"series\": [{\"data\": [0.5]}]}, {\"name\": \"weighted_accuracy\", \"run_id\": \"AutoML_51a190e0-5f8a-4742-b6ab-1db4153d3896\", \"categories\": [0], \"series\": [{\"data\": [0.9985521315010091]}]}, {\"name\": \"f1_score_micro\", \"run_id\": \"AutoML_51a190e0-5f8a-4742-b6ab-1db4153d3896\", \"categories\": [0], \"series\": [{\"data\": [0.9633183370979485]}]}, {\"name\": \"AUC_weighted\", \"run_id\": \"AutoML_51a190e0-5f8a-4742-b6ab-1db4153d3896\", \"categories\": [0], \"series\": [{\"data\": [0.6385181589698486]}]}, {\"name\": \"precision_score_macro\", \"run_id\": \"AutoML_51a190e0-5f8a-4742-b6ab-1db4153d3896\", \"categories\": [0], \"series\": [{\"data\": [0.4816591685489742]}]}, {\"name\": \"recall_score_macro\", \"run_id\": \"AutoML_51a190e0-5f8a-4742-b6ab-1db4153d3896\", \"categories\": [0], \"series\": [{\"data\": [0.5]}]}, {\"name\": \"precision_score_weighted\", \"run_id\": \"AutoML_51a190e0-5f8a-4742-b6ab-1db4153d3896\", \"categories\": [0], \"series\": [{\"data\": [0.9279822185891566]}]}, {\"name\": \"precision_score_micro\", \"run_id\": \"AutoML_51a190e0-5f8a-4742-b6ab-1db4153d3896\", \"categories\": [0], \"series\": [{\"data\": [0.9633183370979485]}]}, {\"name\": \"log_loss\", \"run_id\": \"AutoML_51a190e0-5f8a-4742-b6ab-1db4153d3896\", \"categories\": [0], \"series\": [{\"data\": [0.1646178541233325]}]}, {\"name\": \"recall_score_micro\", \"run_id\": \"AutoML_51a190e0-5f8a-4742-b6ab-1db4153d3896\", \"categories\": [0], \"series\": [{\"data\": [0.9633183370979485]}]}, {\"name\": \"AUC_macro\", \"run_id\": \"AutoML_51a190e0-5f8a-4742-b6ab-1db4153d3896\", \"categories\": [0], \"series\": [{\"data\": [0.6385181544007181]}]}, {\"name\": \"f1_score_macro\", \"run_id\": \"AutoML_51a190e0-5f8a-4742-b6ab-1db4153d3896\", \"categories\": [0], \"series\": [{\"data\": [0.49065824879008874]}]}, {\"name\": \"matthews_correlation\", \"run_id\": \"AutoML_51a190e0-5f8a-4742-b6ab-1db4153d3896\", \"categories\": [0], \"series\": [{\"data\": [0.0]}]}, {\"name\": \"AUC_micro\", \"run_id\": \"AutoML_51a190e0-5f8a-4742-b6ab-1db4153d3896\", \"categories\": [0], \"series\": [{\"data\": [0.9731077249369943]}]}], \"run_logs\": \"\\nRun is completed.\", \"graph\": {}, \"widget_settings\": {\"childWidgetDisplay\": \"popup\", \"send_telemetry\": false, \"log_level\": \"INFO\", \"sdk_version\": \"1.6.0\"}, \"loading\": false}"
     },
     "metadata": {},
     "output_type": "display_data"
    }
   ],
   "source": [
    "# Explore the results of automatic training with a Jupyter widget: https://docs.microsoft.com/en-us/python/api/azureml-widgets/azureml.widgets?view=azure-ml-py\n",
    "from azureml.widgets import RunDetails\n",
    "RunDetails(run).show()"
   ]
  },
  {
   "cell_type": "markdown",
   "metadata": {},
   "source": [
    "## Retrieve the 'Best' Model"
   ]
  },
  {
   "cell_type": "code",
   "execution_count": 25,
   "metadata": {},
   "outputs": [
    {
     "name": "stdout",
     "output_type": "stream",
     "text": [
      "Run(Experiment: SDK_local_porto_seguro_driver_pred,\n",
      "Id: AutoML_51a190e0-5f8a-4742-b6ab-1db4153d3896_13,\n",
      "Type: None,\n",
      "Status: Completed)\n",
      "--------\n",
      "Pipeline(memory=None,\n",
      "     steps=[('datatransformer', DataTransformer(enable_dnn=None, enable_feature_sweeping=None,\n",
      "        feature_sweeping_config=None, feature_sweeping_timeout=None,\n",
      "        featurization_config=None, force_text_dnn=None,\n",
      "        is_cross_validation=None, is_onnx_compatible=None, logger=None,\n",
      "        obser...666666666667, 0.06666666666666667, 0.06666666666666667, 0.06666666666666667, 0.06666666666666667]))])\n"
     ]
    }
   ],
   "source": [
    "best_run, fitted_model = run.get_output()\n",
    "print(best_run)\n",
    "print('--------')\n",
    "print(fitted_model)"
   ]
  },
  {
   "cell_type": "markdown",
   "metadata": {},
   "source": [
    "## Make Predictions and calculate metrics"
   ]
  },
  {
   "cell_type": "markdown",
   "metadata": {},
   "source": [
    "### Prep Test Data: Separate x_test set (feature columns) from y_test (label column) "
   ]
  },
  {
   "cell_type": "code",
   "execution_count": 26,
   "metadata": {},
   "outputs": [
    {
     "name": "stdout",
     "output_type": "stream",
     "text": [
      "(59522, 59)\n",
      "(59522, 58)\n",
      "(59522,)\n"
     ]
    }
   ],
   "source": [
    "import pandas as pd\n",
    "\n",
    "x_test_df = test_df.copy()\n",
    "\n",
    "if 'target' in x_test_df.columns:\n",
    "    y_test_df = x_test_df.pop('target')\n",
    "\n",
    "print(test_df.shape)\n",
    "print(x_test_df.shape)\n",
    "print(y_test_df.shape)\n"
   ]
  },
  {
   "cell_type": "code",
   "execution_count": 27,
   "metadata": {},
   "outputs": [
    {
     "data": {
      "text/plain": [
       "count   59522.00\n",
       "mean        0.04\n",
       "std         0.19\n",
       "min         0.00\n",
       "25%         0.00\n",
       "50%         0.00\n",
       "75%         0.00\n",
       "max         1.00\n",
       "Name: target, dtype: float64"
      ]
     },
     "execution_count": 27,
     "metadata": {},
     "output_type": "execute_result"
    }
   ],
   "source": [
    "y_test_df.describe()"
   ]
  },
  {
   "cell_type": "markdown",
   "metadata": {},
   "source": [
    "### Make predictions in bulk"
   ]
  },
  {
   "cell_type": "code",
   "execution_count": 28,
   "metadata": {},
   "outputs": [
    {
     "name": "stdout",
     "output_type": "stream",
     "text": [
      "30 predictions: \n",
      "[0 0 0 0 0 0 0 0 0 0 0 0 0 0 0 0 0 0 0 0 0 0 0 0 0 0 0 0 0 0]\n"
     ]
    }
   ],
   "source": [
    "# Try the best model making predictions with the test dataset\n",
    "y_predictions = fitted_model.predict(x_test_df)\n",
    "\n",
    "print('30 predictions: ')\n",
    "print(y_predictions[:30])"
   ]
  },
  {
   "cell_type": "markdown",
   "metadata": {},
   "source": [
    "### Get all the predictions' probabilities needed to calculate ROC AUC"
   ]
  },
  {
   "cell_type": "code",
   "execution_count": 29,
   "metadata": {},
   "outputs": [
    {
     "name": "stdout",
     "output_type": "stream",
     "text": [
      "(59522, 2)\n",
      "Some class probabilities...: \n",
      "[[0.92059493 0.07940507]\n",
      " [0.92070912 0.07929088]\n",
      " [0.93865784 0.06134217]]\n",
      "\n",
      "Probabilities for class 1:\n",
      "[0.07940507 0.07929088 0.06134217 ... 0.06309826 0.06782013 0.05778116]\n",
      "\n",
      "Probabilities for class 0:\n",
      "[0.92059493 0.92070912 0.93865784 ... 0.93690175 0.93217986 0.94221884]\n"
     ]
    }
   ],
   "source": [
    "class_probabilities = fitted_model.predict_proba(x_test_df)\n",
    "\n",
    "print(class_probabilities.shape)\n",
    "\n",
    "print('Some class probabilities...: ')\n",
    "print(class_probabilities[:3])\n",
    "print('')\n",
    "print('Probabilities for class 1:')\n",
    "print(class_probabilities[:,1])\n",
    "print('')\n",
    "print('Probabilities for class 0:')\n",
    "print(class_probabilities[:,0])"
   ]
  },
  {
   "cell_type": "markdown",
   "metadata": {},
   "source": [
    "## Evaluate Model\n",
    "\n",
    "Evaluating performance is an essential task in machine learning. In this case, because this is a classification problem, the data scientist elected to use an AUC - ROC Curve. When we need to check or visualize the performance of the multi - class classification problem, we use AUC (Area Under The Curve) ROC (Receiver Operating Characteristics) curve. It is one of the most important evaluation metrics for checking any classification model’s performance.\n",
    "\n",
    "<img src=\"https://www.researchgate.net/profile/Oxana_Trifonova/publication/276079439/figure/fig2/AS:614187332034565@1523445079168/An-example-of-ROC-curves-with-good-AUC-09-and-satisfactory-AUC-065-parameters.png\"\n",
    "     alt=\"Markdown Monster icon\"\n",
    "     style=\"float: left; margin-right: 12px; width: 320px; height: 239px;\" />"
   ]
  },
  {
   "cell_type": "markdown",
   "metadata": {},
   "source": [
    "### Calculate the ROC AUC with probabilities vs. the Test Dataset"
   ]
  },
  {
   "cell_type": "code",
   "execution_count": 30,
   "metadata": {},
   "outputs": [
    {
     "name": "stdout",
     "output_type": "stream",
     "text": [
      "ROC AUC *method 1*:\n"
     ]
    },
    {
     "data": {
      "text/plain": [
       "0.6339811902533052"
      ]
     },
     "execution_count": 30,
     "metadata": {},
     "output_type": "execute_result"
    }
   ],
   "source": [
    "print('ROC AUC *method 1*:')\n",
    "fpr, tpr, thresholds = metrics.roc_curve(y_test_df, class_probabilities[:,1])\n",
    "metrics.auc(fpr, tpr)\n"
   ]
  },
  {
   "cell_type": "code",
   "execution_count": 31,
   "metadata": {},
   "outputs": [
    {
     "name": "stdout",
     "output_type": "stream",
     "text": [
      "ROC AUC *method 2*:\n",
      "0.6339811902533052\n",
      "ROC AUC Weighted:\n",
      "0.6339811902533052\n"
     ]
    }
   ],
   "source": [
    "from sklearn.metrics import roc_auc_score\n",
    "\n",
    "print('ROC AUC *method 2*:')\n",
    "print(roc_auc_score(y_test_df, class_probabilities[:,1]))\n",
    "\n",
    "print('ROC AUC Weighted:')\n",
    "print(roc_auc_score(y_test_df, class_probabilities[:,1], average='weighted'))\n"
   ]
  },
  {
   "cell_type": "markdown",
   "metadata": {},
   "source": [
    "### Calculate the Accuracy with predictions vs. the Test Dataset"
   ]
  },
  {
   "cell_type": "code",
   "execution_count": 32,
   "metadata": {},
   "outputs": [
    {
     "name": "stdout",
     "output_type": "stream",
     "text": [
      "Accuracy:\n",
      "0.9634252881287592\n"
     ]
    }
   ],
   "source": [
    "from sklearn.metrics import accuracy_score\n",
    "\n",
    "print('Accuracy:')\n",
    "print(accuracy_score(y_test_df, y_predictions))\n"
   ]
  },
  {
   "cell_type": "markdown",
   "metadata": {},
   "source": [
    "## Download model pickle file from the run"
   ]
  },
  {
   "cell_type": "code",
   "execution_count": 33,
   "metadata": {},
   "outputs": [],
   "source": [
    "# Download the model .pkl file to local (Using the 'run' object)\n",
    "best_run.download_file('outputs/model.pkl')"
   ]
  },
  {
   "cell_type": "markdown",
   "metadata": {},
   "source": [
    "### Load model in memory from .pkl file"
   ]
  },
  {
   "cell_type": "code",
   "execution_count": 34,
   "metadata": {},
   "outputs": [
    {
     "name": "stdout",
     "output_type": "stream",
     "text": [
      "Pipeline(memory=None,\n",
      "     steps=[('datatransformer', DataTransformer(enable_dnn=None, enable_feature_sweeping=None,\n",
      "        feature_sweeping_config=None, feature_sweeping_timeout=None,\n",
      "        featurization_config=None, force_text_dnn=None,\n",
      "        is_cross_validation=None, is_onnx_compatible=None, logger=None,\n",
      "        obser...666666666667, 0.06666666666666667, 0.06666666666666667, 0.06666666666666667, 0.06666666666666667]))])\n"
     ]
    }
   ],
   "source": [
    "# Load the model into memory\n",
    "import joblib\n",
    "fitted_model = joblib.load('model.pkl')\n",
    "print(fitted_model)"
   ]
  }
 ],
 "metadata": {
  "kernelspec": {
   "display_name": "Python 3.6 - AzureML",
   "language": "python",
   "name": "python3-azureml"
  },
  "language_info": {
   "codemirror_mode": {
    "name": "ipython",
    "version": 3
   },
   "file_extension": ".py",
   "mimetype": "text/x-python",
   "name": "python",
   "nbconvert_exporter": "python",
   "pygments_lexer": "ipython3",
   "version": "3.6.9"
  }
 },
 "nbformat": 4,
 "nbformat_minor": 4
}
