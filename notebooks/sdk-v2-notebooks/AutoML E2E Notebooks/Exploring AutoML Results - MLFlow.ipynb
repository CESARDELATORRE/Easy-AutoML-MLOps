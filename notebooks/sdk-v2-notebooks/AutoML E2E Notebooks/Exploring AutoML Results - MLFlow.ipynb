{
 "cells": [
  {
   "cell_type": "code",
   "execution_count": 1,
   "id": "b3edd6b3",
   "metadata": {
    "ExecuteTime": {
     "end_time": "2021-08-31T00:20:50.861552Z",
     "start_time": "2021-08-31T00:20:50.855748Z"
    }
   },
   "outputs": [
    {
     "name": "stdout",
     "output_type": "stream",
     "text": [
      "env: AZURE_EXTENSION_DIR=/home/schrodinger/automl/sdk-cli-v2/src/cli/src\n",
      "env: AZURE_ML_CLI_PRIVATE_FEATURES_ENABLED=true\n"
     ]
    }
   ],
   "source": [
    "%env AZURE_EXTENSION_DIR=/home/schrodinger/automl/sdk-cli-v2/src/cli/src\n",
    "%env AZURE_ML_CLI_PRIVATE_FEATURES_ENABLED=true"
   ]
  },
  {
   "cell_type": "markdown",
   "id": "4df3786d",
   "metadata": {},
   "source": [
    "# Setup"
   ]
  },
  {
   "cell_type": "markdown",
   "id": "43d6cfac",
   "metadata": {},
   "source": [
    "## Imports"
   ]
  },
  {
   "cell_type": "code",
   "execution_count": 20,
   "id": "ba8e6930",
   "metadata": {
    "ExecuteTime": {
     "end_time": "2021-08-31T16:09:34.078955Z",
     "start_time": "2021-08-31T16:09:34.074031Z"
    }
   },
   "outputs": [],
   "source": [
    "import os\n",
    "\n",
    "import mlflow\n",
    "from mlflow.tracking import MlflowClient\n",
    "\n",
    "import pandas as pd    # For pretty printing some results"
   ]
  },
  {
   "cell_type": "markdown",
   "id": "e1675628",
   "metadata": {},
   "source": [
    "## Setting necessary context"
   ]
  },
  {
   "cell_type": "code",
   "execution_count": 10,
   "id": "a569b9e4",
   "metadata": {
    "ExecuteTime": {
     "end_time": "2021-08-31T01:24:03.938419Z",
     "start_time": "2021-08-31T01:24:03.934951Z"
    }
   },
   "outputs": [],
   "source": [
    "subscription_id = '381b38e9-9840-4719-a5a0-61d9585e1e91'\n",
    "resource_group_name = 'gasi_rg_neu'\n",
    "workspace_name = \"gasi_ws_neu\"\n",
    "experiment_name = \"automl-classification-bmarketing-all\""
   ]
  },
  {
   "cell_type": "markdown",
   "id": "c10cc284",
   "metadata": {},
   "source": [
    "## Initialize MLFlow Client\n",
    "\n",
    "The models and artifacts that are produced by AutoML can be accessed via. the MLFlow interface. Initialize the MLFlow client here, and set the backend as Azure ML, via. the MLFlow Client."
   ]
  },
  {
   "cell_type": "code",
   "execution_count": 11,
   "id": "0344c46d",
   "metadata": {
    "ExecuteTime": {
     "end_time": "2021-08-31T01:24:08.921149Z",
     "start_time": "2021-08-31T01:24:06.023712Z"
    }
   },
   "outputs": [
    {
     "name": "stdout",
     "output_type": "stream",
     "text": [
      "\n",
      "Current tracking uri: azureml://northeurope.experiments.azureml.net/mlflow/v1.0/subscriptions/381b38e9-9840-4719-a5a0-61d9585e1e91/resourceGroups/gasi_rg_neu/providers/Microsoft.MachineLearningServices/workspaces/gasi_ws_neu?\n"
     ]
    }
   ],
   "source": [
    "tracking_uri = \"TODO --> Get this from MLClient\"\n",
    "\n",
    "################################################################################\n",
    "# TODO: The API to get tracking URI is not yet available on Worksapce object.\n",
    "from azureml.core import Workspace as WorkspaceV1\n",
    "ws = WorkspaceV1(workspace_name=workspace_name, resource_group=resource_group_name, subscription_id=subscription_id)\n",
    "tracking_uri = ws.get_mlflow_tracking_uri()\n",
    "del ws\n",
    "################################################################################\n",
    "\n",
    "mlflow.set_tracking_uri(tracking_uri)\n",
    "mlflow.set_experiment(experiment_name)\n",
    "\n",
    "print(\"\\nCurrent tracking uri: {}\".format(mlflow.get_tracking_uri()))"
   ]
  },
  {
   "cell_type": "markdown",
   "id": "5c5ad891",
   "metadata": {},
   "source": [
    "# Results\n",
    "\n",
    "Access the results (such as Models, Artifacts, Metrics) of a previously completed AutoML Run."
   ]
  },
  {
   "cell_type": "markdown",
   "id": "70d9d4d7",
   "metadata": {},
   "source": [
    "## Retrieve the Best Trial"
   ]
  },
  {
   "cell_type": "code",
   "execution_count": 12,
   "id": "010cfcc2",
   "metadata": {
    "ExecuteTime": {
     "end_time": "2021-08-31T01:24:24.592507Z",
     "start_time": "2021-08-31T01:24:19.908843Z"
    }
   },
   "outputs": [
    {
     "name": "stdout",
     "output_type": "stream",
     "text": [
      "Found best child run id:  AutoML_b120a44d-ecb4-4494-b644-f93c265e1028_0\n"
     ]
    },
    {
     "data": {
      "text/plain": [
       "<Run: data=<RunData: metrics={'AUC_macro': 0.9537056697431252,\n",
       " 'AUC_micro': 0.9826734687571428,\n",
       " 'AUC_weighted': 0.9537056697431252,\n",
       " 'accuracy': 0.9237493929091792,\n",
       " 'average_precision_score_macro': 0.8430327340366603,\n",
       " 'average_precision_score_micro': 0.9834011986147951,\n",
       " 'average_precision_score_weighted': 0.959992859687783,\n",
       " 'balanced_accuracy': 0.7717056650246306,\n",
       " 'f1_score_macro': 0.7936078137928921,\n",
       " 'f1_score_micro': 0.9237493929091792,\n",
       " 'f1_score_weighted': 0.9205655010653557,\n",
       " 'log_loss': 0.16640483179348017,\n",
       " 'matthews_correlation': 0.5909070642243929,\n",
       " 'norm_macro_recall': 0.5434113300492611,\n",
       " 'precision_score_macro': 0.8212770320032137,\n",
       " 'precision_score_micro': 0.9237493929091792,\n",
       " 'precision_score_weighted': 0.9188551905972525,\n",
       " 'recall_score_macro': 0.7717056650246306,\n",
       " 'recall_score_micro': 0.9237493929091792,\n",
       " 'recall_score_weighted': 0.9237493929091792,\n",
       " 'weighted_accuracy': 0.9617508999033835}, params={}, tags={'_aml_system_ComputeTargetStatus': '{\"AllocationState\":\"steady\",\"PreparingNodeCount\":0,\"RunningNodeCount\":0,\"CurrentNodeCount\":1}',\n",
       " '_aml_system_automl_is_child_run_end_telemetry_event_logged': 'True',\n",
       " '_aml_system_azureml.automlComponent': 'AutoML',\n",
       " 'mlflow.parentRunId': 'AutoML_b120a44d-ecb4-4494-b644-f93c265e1028',\n",
       " 'mlflow.source.name': 'automl_driver.py',\n",
       " 'mlflow.source.type': 'JOB',\n",
       " 'model_explain_run_id': 'AutoML_b120a44d-ecb4-4494-b644-f93c265e1028_ModelExplain',\n",
       " 'model_explanation': 'True'}>, info=<RunInfo: artifact_uri='azureml://experiments/automl-classification-bmarketing-all/runs/AutoML_b120a44d-ecb4-4494-b644-f93c265e1028_0/artifacts', end_time=1630372102718, experiment_id='69e1a9f6-c16c-4e12-bd40-c67884e041a0', lifecycle_stage='active', run_id='AutoML_b120a44d-ecb4-4494-b644-f93c265e1028_0', run_uuid='AutoML_b120a44d-ecb4-4494-b644-f93c265e1028_0', start_time=1630372058064, status='FINISHED', user_id='d0b038bb-162b-4d49-b8fe-5786e199f6fb'>>"
      ]
     },
     "execution_count": 12,
     "metadata": {},
     "output_type": "execute_result"
    }
   ],
   "source": [
    "job_name = \"AutoML_b120a44d-ecb4-4494-b644-f93c265e1028\"\n",
    "\n",
    "mlflow_client = MlflowClient()\n",
    "mlflow_parent_run = mlflow_client.get_run(job_name)\n",
    "\n",
    "best_child_run_id = mlflow_parent_run.data.tags[\"automl_best_child_run_id\"]\n",
    "print(\"Found best child run id: \", best_child_run_id)\n",
    "\n",
    "best_run = mlflow_client.get_run(best_child_run_id)\n",
    "best_run"
   ]
  },
  {
   "cell_type": "markdown",
   "id": "bdc4bd5f",
   "metadata": {},
   "source": [
    "## Get best run metrics"
   ]
  },
  {
   "cell_type": "code",
   "execution_count": 19,
   "id": "b82fda58",
   "metadata": {
    "ExecuteTime": {
     "end_time": "2021-08-31T16:08:47.324954Z",
     "start_time": "2021-08-31T16:08:47.252432Z"
    }
   },
   "outputs": [
    {
     "data": {
      "text/html": [
       "<div>\n",
       "<style scoped>\n",
       "    .dataframe tbody tr th:only-of-type {\n",
       "        vertical-align: middle;\n",
       "    }\n",
       "\n",
       "    .dataframe tbody tr th {\n",
       "        vertical-align: top;\n",
       "    }\n",
       "\n",
       "    .dataframe thead th {\n",
       "        text-align: right;\n",
       "    }\n",
       "</style>\n",
       "<table border=\"1\" class=\"dataframe\">\n",
       "  <thead>\n",
       "    <tr style=\"text-align: right;\">\n",
       "      <th></th>\n",
       "      <th>0</th>\n",
       "    </tr>\n",
       "  </thead>\n",
       "  <tbody>\n",
       "    <tr>\n",
       "      <th>recall_score_micro</th>\n",
       "      <td>0.923749</td>\n",
       "    </tr>\n",
       "    <tr>\n",
       "      <th>average_precision_score_micro</th>\n",
       "      <td>0.983401</td>\n",
       "    </tr>\n",
       "    <tr>\n",
       "      <th>matthews_correlation</th>\n",
       "      <td>0.590907</td>\n",
       "    </tr>\n",
       "    <tr>\n",
       "      <th>AUC_micro</th>\n",
       "      <td>0.982673</td>\n",
       "    </tr>\n",
       "    <tr>\n",
       "      <th>AUC_weighted</th>\n",
       "      <td>0.953706</td>\n",
       "    </tr>\n",
       "    <tr>\n",
       "      <th>f1_score_weighted</th>\n",
       "      <td>0.920566</td>\n",
       "    </tr>\n",
       "    <tr>\n",
       "      <th>norm_macro_recall</th>\n",
       "      <td>0.543411</td>\n",
       "    </tr>\n",
       "    <tr>\n",
       "      <th>precision_score_micro</th>\n",
       "      <td>0.923749</td>\n",
       "    </tr>\n",
       "    <tr>\n",
       "      <th>average_precision_score_weighted</th>\n",
       "      <td>0.959993</td>\n",
       "    </tr>\n",
       "    <tr>\n",
       "      <th>accuracy</th>\n",
       "      <td>0.923749</td>\n",
       "    </tr>\n",
       "    <tr>\n",
       "      <th>recall_score_weighted</th>\n",
       "      <td>0.923749</td>\n",
       "    </tr>\n",
       "    <tr>\n",
       "      <th>log_loss</th>\n",
       "      <td>0.166405</td>\n",
       "    </tr>\n",
       "    <tr>\n",
       "      <th>average_precision_score_macro</th>\n",
       "      <td>0.843033</td>\n",
       "    </tr>\n",
       "    <tr>\n",
       "      <th>weighted_accuracy</th>\n",
       "      <td>0.961751</td>\n",
       "    </tr>\n",
       "    <tr>\n",
       "      <th>f1_score_macro</th>\n",
       "      <td>0.793608</td>\n",
       "    </tr>\n",
       "    <tr>\n",
       "      <th>precision_score_macro</th>\n",
       "      <td>0.821277</td>\n",
       "    </tr>\n",
       "    <tr>\n",
       "      <th>precision_score_weighted</th>\n",
       "      <td>0.918855</td>\n",
       "    </tr>\n",
       "    <tr>\n",
       "      <th>recall_score_macro</th>\n",
       "      <td>0.771706</td>\n",
       "    </tr>\n",
       "    <tr>\n",
       "      <th>AUC_macro</th>\n",
       "      <td>0.953706</td>\n",
       "    </tr>\n",
       "    <tr>\n",
       "      <th>f1_score_micro</th>\n",
       "      <td>0.923749</td>\n",
       "    </tr>\n",
       "    <tr>\n",
       "      <th>balanced_accuracy</th>\n",
       "      <td>0.771706</td>\n",
       "    </tr>\n",
       "  </tbody>\n",
       "</table>\n",
       "</div>"
      ],
      "text/plain": [
       "                                         0\n",
       "recall_score_micro                0.923749\n",
       "average_precision_score_micro     0.983401\n",
       "matthews_correlation              0.590907\n",
       "AUC_micro                         0.982673\n",
       "AUC_weighted                      0.953706\n",
       "f1_score_weighted                 0.920566\n",
       "norm_macro_recall                 0.543411\n",
       "precision_score_micro             0.923749\n",
       "average_precision_score_weighted  0.959993\n",
       "accuracy                          0.923749\n",
       "recall_score_weighted             0.923749\n",
       "log_loss                          0.166405\n",
       "average_precision_score_macro     0.843033\n",
       "weighted_accuracy                 0.961751\n",
       "f1_score_macro                    0.793608\n",
       "precision_score_macro             0.821277\n",
       "precision_score_weighted          0.918855\n",
       "recall_score_macro                0.771706\n",
       "AUC_macro                         0.953706\n",
       "f1_score_micro                    0.923749\n",
       "balanced_accuracy                 0.771706"
      ]
     },
     "execution_count": 19,
     "metadata": {},
     "output_type": "execute_result"
    }
   ],
   "source": [
    "pd.DataFrame(best_run.data.metrics, index=[0]).T"
   ]
  },
  {
   "cell_type": "markdown",
   "id": "c045d6af",
   "metadata": {},
   "source": [
    "## Download the best model locally"
   ]
  },
  {
   "cell_type": "code",
   "execution_count": 21,
   "id": "70e79efb",
   "metadata": {
    "ExecuteTime": {
     "end_time": "2021-08-31T16:10:26.104895Z",
     "start_time": "2021-08-31T16:10:02.074370Z"
    }
   },
   "outputs": [
    {
     "name": "stdout",
     "output_type": "stream",
     "text": [
      "Artifacts downloaded in: /tmp/artifact_downloads/outputs\n",
      "Artifacts: ['pipeline_graph.json', 'model_onnx.json', 'env_dependencies.json', 'scoring_file_v_1_0_0.py', 'model.pkl', 'conda.yaml', 'MLmodel', 'scoring_file_v_2_0_0.py', 'requirements.txt', 'conda_env_v_1_0_0.yml', 'model.onnx']\n"
     ]
    }
   ],
   "source": [
    "local_dir = \"/tmp/artifact_downloads\"\n",
    "if not os.path.exists(local_dir):\n",
    "    os.mkdir(local_dir)\n",
    "local_path = mlflow_client.download_artifacts(best_run.info.run_id, \"outputs\", local_dir)\n",
    "print(\"Artifacts downloaded in: {}\".format(local_path))\n",
    "print(\"Artifacts: {}\".format(os.listdir(local_path)))"
   ]
  },
  {
   "cell_type": "code",
   "execution_count": 23,
   "id": "0fab4f2b",
   "metadata": {
    "ExecuteTime": {
     "end_time": "2021-08-31T16:11:28.091805Z",
     "start_time": "2021-08-31T16:11:28.076524Z"
    }
   },
   "outputs": [
    {
     "name": "stdout",
     "output_type": "stream",
     "text": [
      "flavors:\n",
      "  python_function:\n",
      "    env: conda.yaml\n",
      "    loader_module: mlflow.sklearn\n",
      "    model_path: model.pkl\n",
      "    python_version: 3.6.2\n",
      "  sklearn:\n",
      "    pickled_model: model.pkl\n",
      "    serialization_format: pickle\n",
      "    sklearn_version: 0.22.1\n",
      "utc_time_created: '2021-08-31 01:07:56.436694'\n"
     ]
    }
   ],
   "source": [
    "%%sh\n",
    "cat /tmp/artifact_downloads/outputs/MLmodel"
   ]
  },
  {
   "cell_type": "markdown",
   "id": "a0f11e4d",
   "metadata": {},
   "source": [
    "### Access other runs\n",
    "\n",
    "Use MLFlow filters to get runs that are based on some custom criteria (e.g. an onnx model, or the best run with a different non-primary metric)"
   ]
  },
  {
   "cell_type": "code",
   "execution_count": 34,
   "id": "e3b2bd0e",
   "metadata": {
    "ExecuteTime": {
     "end_time": "2021-08-31T18:59:00.136653Z",
     "start_time": "2021-08-31T18:58:58.655950Z"
    }
   },
   "outputs": [
    {
     "data": {
      "text/plain": [
       "[]"
      ]
     },
     "execution_count": 34,
     "metadata": {},
     "output_type": "execute_result"
    }
   ],
   "source": [
    "# Search all child runs with a parent id\n",
    "experiment = mlflow_client.get_experiment_by_name(experiment_name)\n",
    "\n",
    "###########################################################################################\n",
    "# Steps:\n",
    "# 1. Get all child runs for the parent run, filtered on runs that have ONNX resource on the properties, \n",
    "# & sorted on primary metrics (or any other metric)\n",
    "# 2. Take the head of that list - which will be the best ONNX model\n",
    "\n",
    "# TODO: This filter should work - but currently, the child runs don't have this tag set.\n",
    "# The single quotes around 'mlflow.parentRunId' are required due to a bug in AzureML MLFlow.\n",
    "# https://msdata.visualstudio.com/Vienna/_queries/edit/1252056/\n",
    "# https://msdata.visualstudio.com/Vienna/_workitems/edit/1326141\n",
    "query = \"tags.'mlflow.parentRunId' = '{}'\".format(mlflow_parent_run.info.run_id)\n",
    "results = mlflow_client.search_runs(\n",
    "    experiment_ids=experiment.experiment_id, filter_string=query, order_by=[\"metrics.accuracy DESC\"]\n",
    ")\n",
    "###########################################################################################\n",
    "\n",
    "# print(results[[\"run_id\", \"params.child\", \"tags.mlflow.runName\"]])\n",
    "results"
   ]
  },
  {
   "cell_type": "code",
   "execution_count": null,
   "id": "9ae6e9ad",
   "metadata": {},
   "outputs": [],
   "source": []
  }
 ],
 "metadata": {
  "kernelspec": {
   "display_name": "Python [conda env:dpv2sdk] *",
   "language": "python",
   "name": "conda-env-dpv2sdk-py"
  },
  "language_info": {
   "codemirror_mode": {
    "name": "ipython",
    "version": 3
   },
   "file_extension": ".py",
   "mimetype": "text/x-python",
   "name": "python",
   "nbconvert_exporter": "python",
   "pygments_lexer": "ipython3",
   "version": "3.7.10"
  },
  "toc": {
   "base_numbering": 1,
   "nav_menu": {},
   "number_sections": true,
   "sideBar": true,
   "skip_h1_title": false,
   "title_cell": "Table of Contents",
   "title_sidebar": "Contents",
   "toc_cell": false,
   "toc_position": {},
   "toc_section_display": true,
   "toc_window_display": true
  }
 },
 "nbformat": 4,
 "nbformat_minor": 5
}
