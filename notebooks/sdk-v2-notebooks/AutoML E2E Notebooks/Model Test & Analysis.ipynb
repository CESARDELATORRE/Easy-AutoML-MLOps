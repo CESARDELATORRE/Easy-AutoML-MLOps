{
 "cells": [
  {
   "cell_type": "code",
   "execution_count": 7,
   "id": "67031de2",
   "metadata": {
    "ExecuteTime": {
     "end_time": "2021-08-31T19:09:26.944473Z",
     "start_time": "2021-08-31T19:09:26.938184Z"
    }
   },
   "outputs": [
    {
     "name": "stdout",
     "output_type": "stream",
     "text": [
      "env: AZURE_EXTENSION_DIR=/home/schrodinger/automl/sdk-cli-v2/src/cli/src\n",
      "env: AZURE_ML_CLI_PRIVATE_FEATURES_ENABLED=true\n"
     ]
    }
   ],
   "source": [
    "%env AZURE_EXTENSION_DIR=/home/schrodinger/automl/sdk-cli-v2/src/cli/src\n",
    "%env AZURE_ML_CLI_PRIVATE_FEATURES_ENABLED=true"
   ]
  },
  {
   "cell_type": "markdown",
   "id": "e2cdf667",
   "metadata": {},
   "source": [
    "# Setup"
   ]
  },
  {
   "cell_type": "markdown",
   "id": "3f3bb161",
   "metadata": {},
   "source": [
    "## Imports"
   ]
  },
  {
   "cell_type": "code",
   "execution_count": 22,
   "id": "9af2a12c",
   "metadata": {
    "ExecuteTime": {
     "end_time": "2021-08-31T19:17:12.442479Z",
     "start_time": "2021-08-31T19:17:12.439276Z"
    }
   },
   "outputs": [],
   "source": [
    "import os\n",
    "\n",
    "import mlflow\n",
    "import mlflow.pyfunc\n",
    "import mlflow.sklearn\n",
    "from mlflow.tracking import MlflowClient\n",
    "\n",
    "import pandas as pd"
   ]
  },
  {
   "cell_type": "markdown",
   "id": "19b02b57",
   "metadata": {},
   "source": [
    "## Setting necessary context"
   ]
  },
  {
   "cell_type": "code",
   "execution_count": 9,
   "id": "ce3889b1",
   "metadata": {
    "ExecuteTime": {
     "end_time": "2021-08-31T19:09:28.959377Z",
     "start_time": "2021-08-31T19:09:28.955781Z"
    }
   },
   "outputs": [],
   "source": [
    "subscription_id = '381b38e9-9840-4719-a5a0-61d9585e1e91'\n",
    "resource_group_name = 'gasi_rg_neu'\n",
    "workspace_name = \"gasi_ws_neu\"\n",
    "experiment_name = \"automl-classification-bmarketing-all\""
   ]
  },
  {
   "cell_type": "markdown",
   "id": "4de47f59",
   "metadata": {},
   "source": [
    "## Initialize MLFlow Client\n",
    "\n",
    "The models and artifacts that are produced by AutoML can be accessed via. the MLFlow interface. Initialize the MLFlow client here, and set the backend as Azure ML, via. the MLFlow Client."
   ]
  },
  {
   "cell_type": "code",
   "execution_count": 10,
   "id": "369ab0c3",
   "metadata": {
    "ExecuteTime": {
     "end_time": "2021-08-31T19:09:31.774054Z",
     "start_time": "2021-08-31T19:09:29.912564Z"
    }
   },
   "outputs": [
    {
     "name": "stdout",
     "output_type": "stream",
     "text": [
      "\n",
      "Current tracking uri: azureml://northeurope.experiments.azureml.net/mlflow/v1.0/subscriptions/381b38e9-9840-4719-a5a0-61d9585e1e91/resourceGroups/gasi_rg_neu/providers/Microsoft.MachineLearningServices/workspaces/gasi_ws_neu?\n"
     ]
    }
   ],
   "source": [
    "tracking_uri = \"TODO --> Get this from MLClient\"\n",
    "\n",
    "################################################################################\n",
    "# TODO: The API to get tracking URI is not yet available on Worksapce object.\n",
    "from azureml.core import Workspace as WorkspaceV1\n",
    "ws = WorkspaceV1(workspace_name=workspace_name, resource_group=resource_group_name, subscription_id=subscription_id)\n",
    "tracking_uri = ws.get_mlflow_tracking_uri()\n",
    "del ws\n",
    "################################################################################\n",
    "\n",
    "mlflow.set_tracking_uri(tracking_uri)\n",
    "mlflow.set_experiment(experiment_name)\n",
    "\n",
    "print(\"\\nCurrent tracking uri: {}\".format(mlflow.get_tracking_uri()))"
   ]
  },
  {
   "cell_type": "markdown",
   "id": "45dc77a7",
   "metadata": {
    "ExecuteTime": {
     "end_time": "2021-08-31T19:13:33.462669Z",
     "start_time": "2021-08-31T19:13:33.459588Z"
    }
   },
   "source": [
    "## Load the test data frame"
   ]
  },
  {
   "cell_type": "code",
   "execution_count": 19,
   "id": "fdb43193",
   "metadata": {
    "ExecuteTime": {
     "end_time": "2021-08-31T19:15:07.587630Z",
     "start_time": "2021-08-31T19:15:07.582567Z"
    }
   },
   "outputs": [
    {
     "data": {
      "text/plain": [
       "((4120, 20), (4120,))"
      ]
     },
     "execution_count": 19,
     "metadata": {},
     "output_type": "execute_result"
    }
   ],
   "source": [
    "test_df = pd.read_csv(\"https://automlsamplenotebookdata.blob.core.windows.net/automl-sample-notebook-data/bankmarketing_test.csv\")\n",
    "y_actual = test_df.pop(\"y\")\n",
    "test_df.shape, y_actual.shape"
   ]
  },
  {
   "cell_type": "markdown",
   "id": "4854a1c5",
   "metadata": {},
   "source": [
    "# Load the best model\n",
    "\n",
    "Access the results (such as Models, Artifacts, Metrics) of a previously completed AutoML Run.\n",
    "\n",
    "Loading the models locally assume that you are running the notebook in an environment compatible with the model. The list of dependencies that is expected by the model is specified in the MLFlow model produced by AutoML (in the `conda.yaml` file)"
   ]
  },
  {
   "cell_type": "code",
   "execution_count": 12,
   "id": "4fcaf3f2",
   "metadata": {
    "ExecuteTime": {
     "end_time": "2021-08-31T19:12:48.283922Z",
     "start_time": "2021-08-31T19:12:21.529855Z"
    }
   },
   "outputs": [
    {
     "data": {
      "text/plain": [
       "mlflow.pyfunc.loaded_model:\n",
       "  flavor: mlflow.sklearn"
      ]
     },
     "execution_count": 12,
     "metadata": {},
     "output_type": "execute_result"
    }
   ],
   "source": [
    "# Get the best trial for the submitted job\n",
    "\n",
    "job_name = \"AutoML_b120a44d-ecb4-4494-b644-f93c265e1028\"\n",
    "mlflow_client = MlflowClient()\n",
    "mlflow_parent_run = mlflow_client.get_run(job_name)\n",
    "\n",
    "best_child_run_id = mlflow_parent_run.data.tags[\"automl_best_child_run_id\"]"
   ]
  },
  {
   "cell_type": "markdown",
   "id": "a23e3c1c",
   "metadata": {},
   "source": [
    "## Using MLFlow PyFunc"
   ]
  },
  {
   "cell_type": "code",
   "execution_count": 20,
   "id": "dc8ba7e8",
   "metadata": {
    "ExecuteTime": {
     "end_time": "2021-08-31T19:15:25.358311Z",
     "start_time": "2021-08-31T19:15:25.179259Z"
    }
   },
   "outputs": [
    {
     "data": {
      "text/plain": [
       "array(['yes', 'no', 'no', ..., 'yes', 'no', 'no'], dtype=object)"
      ]
     },
     "execution_count": 20,
     "metadata": {},
     "output_type": "execute_result"
    }
   ],
   "source": [
    "pyfunc_model = mlflow.pyfunc.load_model(\"runs:/{}/outputs\".format(best_child_run_id))\n",
    "y_preds = pyfunc_model.predict(test_df)\n",
    "y_preds"
   ]
  },
  {
   "cell_type": "markdown",
   "id": "fb7c67cb",
   "metadata": {},
   "source": [
    "## Using MLFlow Sklearn Flavor"
   ]
  },
  {
   "cell_type": "code",
   "execution_count": 23,
   "id": "aa0aa2b5",
   "metadata": {
    "ExecuteTime": {
     "end_time": "2021-08-31T19:17:45.272597Z",
     "start_time": "2021-08-31T19:17:21.600292Z"
    }
   },
   "outputs": [
    {
     "data": {
      "text/html": [
       "<div>\n",
       "<style scoped>\n",
       "    .dataframe tbody tr th:only-of-type {\n",
       "        vertical-align: middle;\n",
       "    }\n",
       "\n",
       "    .dataframe tbody tr th {\n",
       "        vertical-align: top;\n",
       "    }\n",
       "\n",
       "    .dataframe thead th {\n",
       "        text-align: right;\n",
       "    }\n",
       "</style>\n",
       "<table border=\"1\" class=\"dataframe\">\n",
       "  <thead>\n",
       "    <tr style=\"text-align: right;\">\n",
       "      <th></th>\n",
       "      <th>no</th>\n",
       "      <th>yes</th>\n",
       "    </tr>\n",
       "  </thead>\n",
       "  <tbody>\n",
       "    <tr>\n",
       "      <th>0</th>\n",
       "      <td>0.17</td>\n",
       "      <td>0.83</td>\n",
       "    </tr>\n",
       "    <tr>\n",
       "      <th>1</th>\n",
       "      <td>0.98</td>\n",
       "      <td>0.02</td>\n",
       "    </tr>\n",
       "    <tr>\n",
       "      <th>2</th>\n",
       "      <td>0.90</td>\n",
       "      <td>0.10</td>\n",
       "    </tr>\n",
       "    <tr>\n",
       "      <th>3</th>\n",
       "      <td>1.00</td>\n",
       "      <td>0.00</td>\n",
       "    </tr>\n",
       "    <tr>\n",
       "      <th>4</th>\n",
       "      <td>1.00</td>\n",
       "      <td>0.00</td>\n",
       "    </tr>\n",
       "    <tr>\n",
       "      <th>...</th>\n",
       "      <td>...</td>\n",
       "      <td>...</td>\n",
       "    </tr>\n",
       "    <tr>\n",
       "      <th>4115</th>\n",
       "      <td>0.99</td>\n",
       "      <td>0.01</td>\n",
       "    </tr>\n",
       "    <tr>\n",
       "      <th>4116</th>\n",
       "      <td>1.00</td>\n",
       "      <td>0.00</td>\n",
       "    </tr>\n",
       "    <tr>\n",
       "      <th>4117</th>\n",
       "      <td>0.32</td>\n",
       "      <td>0.68</td>\n",
       "    </tr>\n",
       "    <tr>\n",
       "      <th>4118</th>\n",
       "      <td>1.00</td>\n",
       "      <td>0.00</td>\n",
       "    </tr>\n",
       "    <tr>\n",
       "      <th>4119</th>\n",
       "      <td>0.99</td>\n",
       "      <td>0.01</td>\n",
       "    </tr>\n",
       "  </tbody>\n",
       "</table>\n",
       "<p>4120 rows × 2 columns</p>\n",
       "</div>"
      ],
      "text/plain": [
       "       no  yes\n",
       "0    0.17 0.83\n",
       "1    0.98 0.02\n",
       "2    0.90 0.10\n",
       "3    1.00 0.00\n",
       "4    1.00 0.00\n",
       "...   ...  ...\n",
       "4115 0.99 0.01\n",
       "4116 1.00 0.00\n",
       "4117 0.32 0.68\n",
       "4118 1.00 0.00\n",
       "4119 0.99 0.01\n",
       "\n",
       "[4120 rows x 2 columns]"
      ]
     },
     "execution_count": 23,
     "metadata": {},
     "output_type": "execute_result"
    }
   ],
   "source": [
    "sklearn_model = mlflow.sklearn.load_model(\"runs:/{}/outputs\".format(best_child_run_id))\n",
    "y_preds_proba = sklearn_model.predict_proba(test_df)\n",
    "y_preds_proba"
   ]
  },
  {
   "cell_type": "markdown",
   "id": "e6e00409",
   "metadata": {},
   "source": [
    "# Model Interpretation & Analysis"
   ]
  },
  {
   "cell_type": "code",
   "execution_count": 24,
   "id": "446da770",
   "metadata": {
    "ExecuteTime": {
     "end_time": "2021-08-31T19:23:34.631568Z",
     "start_time": "2021-08-31T19:23:34.615531Z"
    }
   },
   "outputs": [
    {
     "data": {
      "text/html": [
       "<div>\n",
       "<style scoped>\n",
       "    .dataframe tbody tr th:only-of-type {\n",
       "        vertical-align: middle;\n",
       "    }\n",
       "\n",
       "    .dataframe tbody tr th {\n",
       "        vertical-align: top;\n",
       "    }\n",
       "\n",
       "    .dataframe thead th {\n",
       "        text-align: right;\n",
       "    }\n",
       "</style>\n",
       "<table border=\"1\" class=\"dataframe\">\n",
       "  <thead>\n",
       "    <tr style=\"text-align: right;\">\n",
       "      <th></th>\n",
       "      <th>RawFeatureName</th>\n",
       "      <th>TypeDetected</th>\n",
       "      <th>Dropped</th>\n",
       "      <th>EngineeredFeatureCount</th>\n",
       "      <th>Transformations</th>\n",
       "    </tr>\n",
       "  </thead>\n",
       "  <tbody>\n",
       "    <tr>\n",
       "      <th>0</th>\n",
       "      <td>age</td>\n",
       "      <td>Numeric</td>\n",
       "      <td>No</td>\n",
       "      <td>1</td>\n",
       "      <td>[MeanImputer]</td>\n",
       "    </tr>\n",
       "    <tr>\n",
       "      <th>1</th>\n",
       "      <td>duration</td>\n",
       "      <td>Numeric</td>\n",
       "      <td>No</td>\n",
       "      <td>1</td>\n",
       "      <td>[MeanImputer]</td>\n",
       "    </tr>\n",
       "    <tr>\n",
       "      <th>2</th>\n",
       "      <td>emp.var.rate</td>\n",
       "      <td>Numeric</td>\n",
       "      <td>No</td>\n",
       "      <td>1</td>\n",
       "      <td>[MeanImputer]</td>\n",
       "    </tr>\n",
       "    <tr>\n",
       "      <th>3</th>\n",
       "      <td>cons.price.idx</td>\n",
       "      <td>Numeric</td>\n",
       "      <td>No</td>\n",
       "      <td>1</td>\n",
       "      <td>[MeanImputer]</td>\n",
       "    </tr>\n",
       "    <tr>\n",
       "      <th>4</th>\n",
       "      <td>cons.conf.idx</td>\n",
       "      <td>Numeric</td>\n",
       "      <td>No</td>\n",
       "      <td>1</td>\n",
       "      <td>[MeanImputer]</td>\n",
       "    </tr>\n",
       "    <tr>\n",
       "      <th>5</th>\n",
       "      <td>euribor3m</td>\n",
       "      <td>Numeric</td>\n",
       "      <td>No</td>\n",
       "      <td>1</td>\n",
       "      <td>[MeanImputer]</td>\n",
       "    </tr>\n",
       "    <tr>\n",
       "      <th>6</th>\n",
       "      <td>nr.employed</td>\n",
       "      <td>Numeric</td>\n",
       "      <td>No</td>\n",
       "      <td>1</td>\n",
       "      <td>[MeanImputer]</td>\n",
       "    </tr>\n",
       "    <tr>\n",
       "      <th>7</th>\n",
       "      <td>job</td>\n",
       "      <td>Categorical</td>\n",
       "      <td>No</td>\n",
       "      <td>12</td>\n",
       "      <td>[StringCast-CharGramCountVectorizer]</td>\n",
       "    </tr>\n",
       "    <tr>\n",
       "      <th>8</th>\n",
       "      <td>marital</td>\n",
       "      <td>Categorical</td>\n",
       "      <td>No</td>\n",
       "      <td>4</td>\n",
       "      <td>[StringCast-CharGramCountVectorizer]</td>\n",
       "    </tr>\n",
       "    <tr>\n",
       "      <th>9</th>\n",
       "      <td>education</td>\n",
       "      <td>Categorical</td>\n",
       "      <td>No</td>\n",
       "      <td>8</td>\n",
       "      <td>[StringCast-CharGramCountVectorizer]</td>\n",
       "    </tr>\n",
       "    <tr>\n",
       "      <th>10</th>\n",
       "      <td>default</td>\n",
       "      <td>Categorical</td>\n",
       "      <td>No</td>\n",
       "      <td>3</td>\n",
       "      <td>[StringCast-CharGramCountVectorizer]</td>\n",
       "    </tr>\n",
       "    <tr>\n",
       "      <th>11</th>\n",
       "      <td>housing</td>\n",
       "      <td>Categorical</td>\n",
       "      <td>No</td>\n",
       "      <td>3</td>\n",
       "      <td>[StringCast-CharGramCountVectorizer]</td>\n",
       "    </tr>\n",
       "    <tr>\n",
       "      <th>12</th>\n",
       "      <td>loan</td>\n",
       "      <td>Categorical</td>\n",
       "      <td>No</td>\n",
       "      <td>3</td>\n",
       "      <td>[StringCast-CharGramCountVectorizer]</td>\n",
       "    </tr>\n",
       "    <tr>\n",
       "      <th>13</th>\n",
       "      <td>contact</td>\n",
       "      <td>Categorical</td>\n",
       "      <td>No</td>\n",
       "      <td>1</td>\n",
       "      <td>[ModeCatImputer-StringCast-LabelEncoder]</td>\n",
       "    </tr>\n",
       "    <tr>\n",
       "      <th>14</th>\n",
       "      <td>month</td>\n",
       "      <td>Categorical</td>\n",
       "      <td>No</td>\n",
       "      <td>10</td>\n",
       "      <td>[StringCast-CharGramCountVectorizer]</td>\n",
       "    </tr>\n",
       "    <tr>\n",
       "      <th>15</th>\n",
       "      <td>day_of_week</td>\n",
       "      <td>Categorical</td>\n",
       "      <td>No</td>\n",
       "      <td>5</td>\n",
       "      <td>[StringCast-CharGramCountVectorizer]</td>\n",
       "    </tr>\n",
       "    <tr>\n",
       "      <th>16</th>\n",
       "      <td>campaign</td>\n",
       "      <td>Categorical</td>\n",
       "      <td>No</td>\n",
       "      <td>39</td>\n",
       "      <td>[StringCast-CharGramCountVectorizer]</td>\n",
       "    </tr>\n",
       "    <tr>\n",
       "      <th>17</th>\n",
       "      <td>pdays</td>\n",
       "      <td>Categorical</td>\n",
       "      <td>No</td>\n",
       "      <td>26</td>\n",
       "      <td>[StringCast-CharGramCountVectorizer]</td>\n",
       "    </tr>\n",
       "    <tr>\n",
       "      <th>18</th>\n",
       "      <td>previous</td>\n",
       "      <td>Categorical</td>\n",
       "      <td>No</td>\n",
       "      <td>8</td>\n",
       "      <td>[StringCast-CharGramCountVectorizer]</td>\n",
       "    </tr>\n",
       "    <tr>\n",
       "      <th>19</th>\n",
       "      <td>poutcome</td>\n",
       "      <td>Categorical</td>\n",
       "      <td>No</td>\n",
       "      <td>3</td>\n",
       "      <td>[StringCast-CharGramCountVectorizer]</td>\n",
       "    </tr>\n",
       "  </tbody>\n",
       "</table>\n",
       "</div>"
      ],
      "text/plain": [
       "    RawFeatureName TypeDetected Dropped  EngineeredFeatureCount  \\\n",
       "0              age      Numeric      No                       1   \n",
       "1         duration      Numeric      No                       1   \n",
       "2     emp.var.rate      Numeric      No                       1   \n",
       "3   cons.price.idx      Numeric      No                       1   \n",
       "4    cons.conf.idx      Numeric      No                       1   \n",
       "5        euribor3m      Numeric      No                       1   \n",
       "6      nr.employed      Numeric      No                       1   \n",
       "7              job  Categorical      No                      12   \n",
       "8          marital  Categorical      No                       4   \n",
       "9        education  Categorical      No                       8   \n",
       "10         default  Categorical      No                       3   \n",
       "11         housing  Categorical      No                       3   \n",
       "12            loan  Categorical      No                       3   \n",
       "13         contact  Categorical      No                       1   \n",
       "14           month  Categorical      No                      10   \n",
       "15     day_of_week  Categorical      No                       5   \n",
       "16        campaign  Categorical      No                      39   \n",
       "17           pdays  Categorical      No                      26   \n",
       "18        previous  Categorical      No                       8   \n",
       "19        poutcome  Categorical      No                       3   \n",
       "\n",
       "                             Transformations  \n",
       "0                              [MeanImputer]  \n",
       "1                              [MeanImputer]  \n",
       "2                              [MeanImputer]  \n",
       "3                              [MeanImputer]  \n",
       "4                              [MeanImputer]  \n",
       "5                              [MeanImputer]  \n",
       "6                              [MeanImputer]  \n",
       "7       [StringCast-CharGramCountVectorizer]  \n",
       "8       [StringCast-CharGramCountVectorizer]  \n",
       "9       [StringCast-CharGramCountVectorizer]  \n",
       "10      [StringCast-CharGramCountVectorizer]  \n",
       "11      [StringCast-CharGramCountVectorizer]  \n",
       "12      [StringCast-CharGramCountVectorizer]  \n",
       "13  [ModeCatImputer-StringCast-LabelEncoder]  \n",
       "14      [StringCast-CharGramCountVectorizer]  \n",
       "15      [StringCast-CharGramCountVectorizer]  \n",
       "16      [StringCast-CharGramCountVectorizer]  \n",
       "17      [StringCast-CharGramCountVectorizer]  \n",
       "18      [StringCast-CharGramCountVectorizer]  \n",
       "19      [StringCast-CharGramCountVectorizer]  "
      ]
     },
     "execution_count": 24,
     "metadata": {},
     "output_type": "execute_result"
    }
   ],
   "source": [
    "custom_featurizer = sklearn_model.named_steps['datatransformer']\n",
    "df = custom_featurizer.get_featurization_summary()\n",
    "pd.DataFrame(data=df)"
   ]
  },
  {
   "cell_type": "markdown",
   "id": "3ae92652",
   "metadata": {},
   "source": [
    "Set `is_user_friendly=False` to get a more detailed summary for the transforms being applied."
   ]
  },
  {
   "cell_type": "code",
   "execution_count": 25,
   "id": "ddf8544c",
   "metadata": {
    "ExecuteTime": {
     "end_time": "2021-08-31T19:24:08.230976Z",
     "start_time": "2021-08-31T19:24:08.192879Z"
    }
   },
   "outputs": [
    {
     "data": {
      "text/html": [
       "<div>\n",
       "<style scoped>\n",
       "    .dataframe tbody tr th:only-of-type {\n",
       "        vertical-align: middle;\n",
       "    }\n",
       "\n",
       "    .dataframe tbody tr th {\n",
       "        vertical-align: top;\n",
       "    }\n",
       "\n",
       "    .dataframe thead th {\n",
       "        text-align: right;\n",
       "    }\n",
       "</style>\n",
       "<table border=\"1\" class=\"dataframe\">\n",
       "  <thead>\n",
       "    <tr style=\"text-align: right;\">\n",
       "      <th></th>\n",
       "      <th>RawFeatureName</th>\n",
       "      <th>TypeDetected</th>\n",
       "      <th>Dropped</th>\n",
       "      <th>EngineeredFeatureCount</th>\n",
       "      <th>Transformations</th>\n",
       "      <th>TransformationParams</th>\n",
       "    </tr>\n",
       "  </thead>\n",
       "  <tbody>\n",
       "    <tr>\n",
       "      <th>0</th>\n",
       "      <td>age</td>\n",
       "      <td>Numeric</td>\n",
       "      <td>No</td>\n",
       "      <td>1</td>\n",
       "      <td>[MeanImputer]</td>\n",
       "      <td>{'Transformer1': {'Input': ['age'], 'Transform...</td>\n",
       "    </tr>\n",
       "    <tr>\n",
       "      <th>1</th>\n",
       "      <td>duration</td>\n",
       "      <td>Numeric</td>\n",
       "      <td>No</td>\n",
       "      <td>1</td>\n",
       "      <td>[MeanImputer]</td>\n",
       "      <td>{'Transformer1': {'Input': ['duration'], 'Tran...</td>\n",
       "    </tr>\n",
       "    <tr>\n",
       "      <th>2</th>\n",
       "      <td>emp.var.rate</td>\n",
       "      <td>Numeric</td>\n",
       "      <td>No</td>\n",
       "      <td>1</td>\n",
       "      <td>[MeanImputer]</td>\n",
       "      <td>{'Transformer1': {'Input': ['emp.var.rate'], '...</td>\n",
       "    </tr>\n",
       "    <tr>\n",
       "      <th>3</th>\n",
       "      <td>cons.price.idx</td>\n",
       "      <td>Numeric</td>\n",
       "      <td>No</td>\n",
       "      <td>1</td>\n",
       "      <td>[MeanImputer]</td>\n",
       "      <td>{'Transformer1': {'Input': ['cons.price.idx'],...</td>\n",
       "    </tr>\n",
       "    <tr>\n",
       "      <th>4</th>\n",
       "      <td>cons.conf.idx</td>\n",
       "      <td>Numeric</td>\n",
       "      <td>No</td>\n",
       "      <td>1</td>\n",
       "      <td>[MeanImputer]</td>\n",
       "      <td>{'Transformer1': {'Input': ['cons.conf.idx'], ...</td>\n",
       "    </tr>\n",
       "    <tr>\n",
       "      <th>5</th>\n",
       "      <td>euribor3m</td>\n",
       "      <td>Numeric</td>\n",
       "      <td>No</td>\n",
       "      <td>1</td>\n",
       "      <td>[MeanImputer]</td>\n",
       "      <td>{'Transformer1': {'Input': ['euribor3m'], 'Tra...</td>\n",
       "    </tr>\n",
       "    <tr>\n",
       "      <th>6</th>\n",
       "      <td>nr.employed</td>\n",
       "      <td>Numeric</td>\n",
       "      <td>No</td>\n",
       "      <td>1</td>\n",
       "      <td>[MeanImputer]</td>\n",
       "      <td>{'Transformer1': {'Input': ['nr.employed'], 'T...</td>\n",
       "    </tr>\n",
       "    <tr>\n",
       "      <th>7</th>\n",
       "      <td>job</td>\n",
       "      <td>Categorical</td>\n",
       "      <td>No</td>\n",
       "      <td>12</td>\n",
       "      <td>[StringCast-CharGramCountVectorizer]</td>\n",
       "      <td>{'Transformer1': {'Input': ['job'], 'Transform...</td>\n",
       "    </tr>\n",
       "    <tr>\n",
       "      <th>8</th>\n",
       "      <td>marital</td>\n",
       "      <td>Categorical</td>\n",
       "      <td>No</td>\n",
       "      <td>4</td>\n",
       "      <td>[StringCast-CharGramCountVectorizer]</td>\n",
       "      <td>{'Transformer1': {'Input': ['marital'], 'Trans...</td>\n",
       "    </tr>\n",
       "    <tr>\n",
       "      <th>9</th>\n",
       "      <td>education</td>\n",
       "      <td>Categorical</td>\n",
       "      <td>No</td>\n",
       "      <td>8</td>\n",
       "      <td>[StringCast-CharGramCountVectorizer]</td>\n",
       "      <td>{'Transformer1': {'Input': ['education'], 'Tra...</td>\n",
       "    </tr>\n",
       "    <tr>\n",
       "      <th>10</th>\n",
       "      <td>default</td>\n",
       "      <td>Categorical</td>\n",
       "      <td>No</td>\n",
       "      <td>3</td>\n",
       "      <td>[StringCast-CharGramCountVectorizer]</td>\n",
       "      <td>{'Transformer1': {'Input': ['default'], 'Trans...</td>\n",
       "    </tr>\n",
       "    <tr>\n",
       "      <th>11</th>\n",
       "      <td>housing</td>\n",
       "      <td>Categorical</td>\n",
       "      <td>No</td>\n",
       "      <td>3</td>\n",
       "      <td>[StringCast-CharGramCountVectorizer]</td>\n",
       "      <td>{'Transformer1': {'Input': ['housing'], 'Trans...</td>\n",
       "    </tr>\n",
       "    <tr>\n",
       "      <th>12</th>\n",
       "      <td>loan</td>\n",
       "      <td>Categorical</td>\n",
       "      <td>No</td>\n",
       "      <td>3</td>\n",
       "      <td>[StringCast-CharGramCountVectorizer]</td>\n",
       "      <td>{'Transformer1': {'Input': ['loan'], 'Transfor...</td>\n",
       "    </tr>\n",
       "    <tr>\n",
       "      <th>13</th>\n",
       "      <td>contact</td>\n",
       "      <td>Categorical</td>\n",
       "      <td>No</td>\n",
       "      <td>1</td>\n",
       "      <td>[ModeCatImputer-StringCast-LabelEncoder]</td>\n",
       "      <td>{'Transformer1': {'Input': ['contact'], 'Trans...</td>\n",
       "    </tr>\n",
       "    <tr>\n",
       "      <th>14</th>\n",
       "      <td>month</td>\n",
       "      <td>Categorical</td>\n",
       "      <td>No</td>\n",
       "      <td>10</td>\n",
       "      <td>[StringCast-CharGramCountVectorizer]</td>\n",
       "      <td>{'Transformer1': {'Input': ['month'], 'Transfo...</td>\n",
       "    </tr>\n",
       "    <tr>\n",
       "      <th>15</th>\n",
       "      <td>day_of_week</td>\n",
       "      <td>Categorical</td>\n",
       "      <td>No</td>\n",
       "      <td>5</td>\n",
       "      <td>[StringCast-CharGramCountVectorizer]</td>\n",
       "      <td>{'Transformer1': {'Input': ['day_of_week'], 'T...</td>\n",
       "    </tr>\n",
       "    <tr>\n",
       "      <th>16</th>\n",
       "      <td>campaign</td>\n",
       "      <td>Categorical</td>\n",
       "      <td>No</td>\n",
       "      <td>39</td>\n",
       "      <td>[StringCast-CharGramCountVectorizer]</td>\n",
       "      <td>{'Transformer1': {'Input': ['campaign'], 'Tran...</td>\n",
       "    </tr>\n",
       "    <tr>\n",
       "      <th>17</th>\n",
       "      <td>pdays</td>\n",
       "      <td>Categorical</td>\n",
       "      <td>No</td>\n",
       "      <td>26</td>\n",
       "      <td>[StringCast-CharGramCountVectorizer]</td>\n",
       "      <td>{'Transformer1': {'Input': ['pdays'], 'Transfo...</td>\n",
       "    </tr>\n",
       "    <tr>\n",
       "      <th>18</th>\n",
       "      <td>previous</td>\n",
       "      <td>Categorical</td>\n",
       "      <td>No</td>\n",
       "      <td>8</td>\n",
       "      <td>[StringCast-CharGramCountVectorizer]</td>\n",
       "      <td>{'Transformer1': {'Input': ['previous'], 'Tran...</td>\n",
       "    </tr>\n",
       "    <tr>\n",
       "      <th>19</th>\n",
       "      <td>poutcome</td>\n",
       "      <td>Categorical</td>\n",
       "      <td>No</td>\n",
       "      <td>3</td>\n",
       "      <td>[StringCast-CharGramCountVectorizer]</td>\n",
       "      <td>{'Transformer1': {'Input': ['poutcome'], 'Tran...</td>\n",
       "    </tr>\n",
       "  </tbody>\n",
       "</table>\n",
       "</div>"
      ],
      "text/plain": [
       "    RawFeatureName TypeDetected Dropped  EngineeredFeatureCount  \\\n",
       "0              age      Numeric      No                       1   \n",
       "1         duration      Numeric      No                       1   \n",
       "2     emp.var.rate      Numeric      No                       1   \n",
       "3   cons.price.idx      Numeric      No                       1   \n",
       "4    cons.conf.idx      Numeric      No                       1   \n",
       "5        euribor3m      Numeric      No                       1   \n",
       "6      nr.employed      Numeric      No                       1   \n",
       "7              job  Categorical      No                      12   \n",
       "8          marital  Categorical      No                       4   \n",
       "9        education  Categorical      No                       8   \n",
       "10         default  Categorical      No                       3   \n",
       "11         housing  Categorical      No                       3   \n",
       "12            loan  Categorical      No                       3   \n",
       "13         contact  Categorical      No                       1   \n",
       "14           month  Categorical      No                      10   \n",
       "15     day_of_week  Categorical      No                       5   \n",
       "16        campaign  Categorical      No                      39   \n",
       "17           pdays  Categorical      No                      26   \n",
       "18        previous  Categorical      No                       8   \n",
       "19        poutcome  Categorical      No                       3   \n",
       "\n",
       "                             Transformations  \\\n",
       "0                              [MeanImputer]   \n",
       "1                              [MeanImputer]   \n",
       "2                              [MeanImputer]   \n",
       "3                              [MeanImputer]   \n",
       "4                              [MeanImputer]   \n",
       "5                              [MeanImputer]   \n",
       "6                              [MeanImputer]   \n",
       "7       [StringCast-CharGramCountVectorizer]   \n",
       "8       [StringCast-CharGramCountVectorizer]   \n",
       "9       [StringCast-CharGramCountVectorizer]   \n",
       "10      [StringCast-CharGramCountVectorizer]   \n",
       "11      [StringCast-CharGramCountVectorizer]   \n",
       "12      [StringCast-CharGramCountVectorizer]   \n",
       "13  [ModeCatImputer-StringCast-LabelEncoder]   \n",
       "14      [StringCast-CharGramCountVectorizer]   \n",
       "15      [StringCast-CharGramCountVectorizer]   \n",
       "16      [StringCast-CharGramCountVectorizer]   \n",
       "17      [StringCast-CharGramCountVectorizer]   \n",
       "18      [StringCast-CharGramCountVectorizer]   \n",
       "19      [StringCast-CharGramCountVectorizer]   \n",
       "\n",
       "                                 TransformationParams  \n",
       "0   {'Transformer1': {'Input': ['age'], 'Transform...  \n",
       "1   {'Transformer1': {'Input': ['duration'], 'Tran...  \n",
       "2   {'Transformer1': {'Input': ['emp.var.rate'], '...  \n",
       "3   {'Transformer1': {'Input': ['cons.price.idx'],...  \n",
       "4   {'Transformer1': {'Input': ['cons.conf.idx'], ...  \n",
       "5   {'Transformer1': {'Input': ['euribor3m'], 'Tra...  \n",
       "6   {'Transformer1': {'Input': ['nr.employed'], 'T...  \n",
       "7   {'Transformer1': {'Input': ['job'], 'Transform...  \n",
       "8   {'Transformer1': {'Input': ['marital'], 'Trans...  \n",
       "9   {'Transformer1': {'Input': ['education'], 'Tra...  \n",
       "10  {'Transformer1': {'Input': ['default'], 'Trans...  \n",
       "11  {'Transformer1': {'Input': ['housing'], 'Trans...  \n",
       "12  {'Transformer1': {'Input': ['loan'], 'Transfor...  \n",
       "13  {'Transformer1': {'Input': ['contact'], 'Trans...  \n",
       "14  {'Transformer1': {'Input': ['month'], 'Transfo...  \n",
       "15  {'Transformer1': {'Input': ['day_of_week'], 'T...  \n",
       "16  {'Transformer1': {'Input': ['campaign'], 'Tran...  \n",
       "17  {'Transformer1': {'Input': ['pdays'], 'Transfo...  \n",
       "18  {'Transformer1': {'Input': ['previous'], 'Tran...  \n",
       "19  {'Transformer1': {'Input': ['poutcome'], 'Tran...  "
      ]
     },
     "execution_count": 25,
     "metadata": {},
     "output_type": "execute_result"
    }
   ],
   "source": [
    "df = custom_featurizer.get_featurization_summary(is_user_friendly=False)\n",
    "pd.DataFrame(data=df)"
   ]
  },
  {
   "cell_type": "markdown",
   "id": "bc462974",
   "metadata": {},
   "source": [
    "## \\<Link to Model Explanation examples>"
   ]
  },
  {
   "cell_type": "markdown",
   "id": "dc53f010",
   "metadata": {},
   "source": [
    "# \\<Link to Model test examples>"
   ]
  },
  {
   "cell_type": "code",
   "execution_count": null,
   "id": "3845986c",
   "metadata": {},
   "outputs": [],
   "source": []
  }
 ],
 "metadata": {
  "kernelspec": {
   "display_name": "Python [conda env:dpv2sdk] *",
   "language": "python",
   "name": "conda-env-dpv2sdk-py"
  },
  "language_info": {
   "codemirror_mode": {
    "name": "ipython",
    "version": 3
   },
   "file_extension": ".py",
   "mimetype": "text/x-python",
   "name": "python",
   "nbconvert_exporter": "python",
   "pygments_lexer": "ipython3",
   "version": "3.7.10"
  },
  "toc": {
   "base_numbering": 1,
   "nav_menu": {},
   "number_sections": true,
   "sideBar": true,
   "skip_h1_title": false,
   "title_cell": "Table of Contents",
   "title_sidebar": "Contents",
   "toc_cell": false,
   "toc_position": {},
   "toc_section_display": true,
   "toc_window_display": true
  }
 },
 "nbformat": 4,
 "nbformat_minor": 5
}
