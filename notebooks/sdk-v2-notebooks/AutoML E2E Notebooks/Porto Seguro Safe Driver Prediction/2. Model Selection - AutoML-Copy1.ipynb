{
 "cells": [
  {
   "cell_type": "markdown",
   "id": "a3dc219a",
   "metadata": {},
   "source": [
    "# Prerequisites"
   ]
  },
  {
   "cell_type": "markdown",
   "id": "931466ef",
   "metadata": {},
   "source": [
    "1. Workspace & Compute exists, and is created outside of this notebook\n",
    "2. A Tabular Dataset exists, and is created and registered outside of this notebook\n",
    "3. Pip requirements: \n",
    "    - dpv2-sdk (for creating and accessing AzureML resources)\n",
    "    - azureml-mlflow (for loading the tracking URI)"
   ]
  },
  {
   "cell_type": "markdown",
   "id": "38150be0",
   "metadata": {},
   "source": [
    "# Setup"
   ]
  },
  {
   "cell_type": "markdown",
   "id": "aa3bd187",
   "metadata": {},
   "source": [
    "These environment variables enable private preview features, such as AutoML"
   ]
  },
  {
   "cell_type": "code",
   "execution_count": 1,
   "id": "3bc53ec2",
   "metadata": {
    "ExecuteTime": {
     "end_time": "2021-08-30T21:55:44.821678Z",
     "start_time": "2021-08-30T21:55:44.816570Z"
    }
   },
   "outputs": [
    {
     "name": "stdout",
     "output_type": "stream",
     "text": [
      "env: AZURE_EXTENSION_DIR=/home/schrodinger/automl/sdk-cli-v2/src/cli/src\n",
      "env: AZURE_ML_CLI_PRIVATE_FEATURES_ENABLED=true\n"
     ]
    }
   ],
   "source": [
    "%env AZURE_EXTENSION_DIR=/home/schrodinger/automl/sdk-cli-v2/src/cli/src\n",
    "%env AZURE_ML_CLI_PRIVATE_FEATURES_ENABLED=true"
   ]
  },
  {
   "cell_type": "markdown",
   "id": "f0e4bc56",
   "metadata": {},
   "source": [
    "## Imports"
   ]
  },
  {
   "cell_type": "code",
   "execution_count": 3,
   "id": "d46256bd",
   "metadata": {
    "ExecuteTime": {
     "end_time": "2021-08-30T21:56:07.236676Z",
     "start_time": "2021-08-30T21:56:07.233988Z"
    }
   },
   "outputs": [],
   "source": [
    "from azure.ml import MLClient\n",
    "import mlflow"
   ]
  },
  {
   "cell_type": "markdown",
   "id": "1e94dd12",
   "metadata": {},
   "source": [
    "## Setting necessary context"
   ]
  },
  {
   "cell_type": "code",
   "execution_count": 4,
   "id": "b7a42273",
   "metadata": {
    "ExecuteTime": {
     "end_time": "2021-08-30T21:56:08.800022Z",
     "start_time": "2021-08-30T21:56:08.796603Z"
    }
   },
   "outputs": [],
   "source": [
    "subscription_id = '381b38e9-9840-4719-a5a0-61d9585e1e91'\n",
    "resource_group_name = 'gasi_rg_centraleuap'\n",
    "\n",
    "# The workspace under which to log experiments and trials\n",
    "workspace_name = \"gasi_ws_centraleuap\"\n",
    "\n",
    "# The experiment under which AutoML will track its trials and artifacts\n",
    "experiment_name = \"automl-classification-bmarketing-all\"\n",
    "\n",
    "# The compute target where AutoML will execute its trials\n",
    "compute_name = \"cpu-cluster\"\n",
    "\n",
    "# The datasets along with their versions\n",
    "training_dataset = \"bankmarketing_train:1\"\n",
    "test_dataset = \"bankmarketing_test:1\"\n",
    "validation_dataset = \"bankmarketing_valid:1\""
   ]
  },
  {
   "cell_type": "markdown",
   "id": "6e28d9a8",
   "metadata": {},
   "source": [
    "### Question:\n",
    "\n",
    "Append 'azureml:...' to the dataset names above?"
   ]
  },
  {
   "cell_type": "markdown",
   "id": "3300d462",
   "metadata": {},
   "source": [
    "## Initialize MLClient\n",
    "Create an MLClient object - which is used to manage all Azure ML resources, such as workspaces, jobs, models, etc."
   ]
  },
  {
   "cell_type": "code",
   "execution_count": 5,
   "id": "cd602767",
   "metadata": {
    "ExecuteTime": {
     "end_time": "2021-08-30T21:56:11.854909Z",
     "start_time": "2021-08-30T21:56:11.850027Z"
    }
   },
   "outputs": [],
   "source": [
    "client = MLClient(subscription_id, resource_group_name, workspace_name=workspace_name)\n",
    "assert client is not None"
   ]
  },
  {
   "cell_type": "markdown",
   "id": "dd7a6347",
   "metadata": {},
   "source": [
    "## Initialize MLFlow Client\n",
    "\n",
    "The models and artifacts that are produced by AutoML can be accessed by the MLFlow interface. Initialize the MLFlow client here, and set the backend as Azure ML, via. the MLFlow Client."
   ]
  },
  {
   "cell_type": "code",
   "execution_count": 7,
   "id": "3d50f0e1",
   "metadata": {
    "ExecuteTime": {
     "end_time": "2021-08-30T21:56:19.735582Z",
     "start_time": "2021-08-30T21:56:19.537715Z"
    }
   },
   "outputs": [
    {
     "name": "stdout",
     "output_type": "stream",
     "text": [
      "\n",
      "Current tracking uri: azureml://master.experiments.azureml-test.net/mlflow/v1.0/subscriptions/381b38e9-9840-4719-a5a0-61d9585e1e91/resourceGroups/gasi_rg_centraleuap/providers/Microsoft.MachineLearningServices/workspaces/gasi_ws_centraleuap?\n"
     ]
    }
   ],
   "source": [
    "tracking_uri = \"TODO --> Get this from MLClient\"\n",
    "\n",
    "################################################################################\n",
    "# TODO: The API to get tracking URI is not yet available on Worksapce object.\n",
    "from azureml.core import Workspace as WorkspaceV1\n",
    "ws = WorkspaceV1(workspace_name=workspace_name, resource_group=resource_group_name, subscription_id=subscription_id)\n",
    "tracking_uri = ws.get_mlflow_tracking_uri()\n",
    "del ws\n",
    "################################################################################\n",
    "\n",
    "mlflow.set_tracking_uri(tracking_uri)\n",
    "mlflow.set_experiment(experiment_name)\n",
    "\n",
    "print(\"\\nCurrent tracking uri: {}\".format(mlflow.get_tracking_uri()))"
   ]
  },
  {
   "cell_type": "markdown",
   "id": "aecbf3a3",
   "metadata": {},
   "source": [
    "### Questions\n",
    "Q: Can we set this (the tracking URI) inside AutoML, given things won't work at all w/o setting MLFlow context above?\n",
    "\n",
    "Q: Do we need MLFlow client for job submissions?"
   ]
  },
  {
   "cell_type": "markdown",
   "id": "82c4c8a0",
   "metadata": {},
   "source": [
    "# AutoML Job"
   ]
  },
  {
   "cell_type": "markdown",
   "id": "be68289f",
   "metadata": {},
   "source": [
    "## Job Configuration - A minimal example"
   ]
  },
  {
   "cell_type": "markdown",
   "id": "8238a1ae",
   "metadata": {},
   "source": [
    "Using default primary metric (accuracy for classification)"
   ]
  },
  {
   "cell_type": "code",
   "execution_count": 8,
   "id": "dc982efe",
   "metadata": {
    "ExecuteTime": {
     "end_time": "2021-08-30T21:56:30.529150Z",
     "start_time": "2021-08-30T21:56:30.524942Z"
    }
   },
   "outputs": [],
   "source": [
    "from azure.ml.entities import AutoMLJob\n",
    "\n",
    "automl_job = AutoMLJob(\n",
    "    compute=compute_name,\n",
    "    task=\"classification\",\n",
    "    target=\"y\",\n",
    "    # proposed: data={\"dataset\": \"\", \"test_dataset\": \"\", \"validation_dataset\": \"\"},\n",
    "    dataset={\"train\": training_dataset, \"test\": test_dataset, \"valid\": validation_dataset},\n",
    "    configuration={\n",
    "        \"blocked_models\": [\"KNN\", \"LinearSVM\"],\n",
    "        \"exit_criterion\": {\"timeout_hours\": 1},\n",
    "        \"max_concurrent_trials\": 4,\n",
    "        \"validation\": {\"n_cross_validations\": 5},\n",
    "    },\n",
    "    properties={\"save_mlflow\": True}    # This should be enabled by default \n",
    ")"
   ]
  },
  {
   "cell_type": "code",
   "execution_count": 9,
   "id": "1b1ec24e",
   "metadata": {
    "ExecuteTime": {
     "end_time": "2021-08-30T21:56:34.570893Z",
     "start_time": "2021-08-30T21:56:31.243044Z"
    }
   },
   "outputs": [
    {
     "data": {
      "text/plain": [
       "AutoMLJob({'type': 'automl_job', 'status': 'NotStarted', 'output': None, 'log_files': None, 'name': '40cb801c-53cc-4dad-bf07-988c6577c001', 'description': None, 'tags': {'model_explain_run': 'best_run', '_aml_system_azureml.automlComponent': 'AutoML'}, 'properties': {'num_iterations': '1000', 'training_type': 'TrainFull', 'acquisition_function': 'EI', 'primary_metric': 'accuracy', 'train_split': '0', 'acquisition_parameter': '0', 'num_cross_validation': '5', 'target': 'cpu-cluster', 'AMLSettingsJsonString': '{\"path\":\"./sample_projects/\",\"subscription_id\":\"381b38e9-9840-4719-a5a0-61d9585e1e91\",\"resource_group\":\"gasi_rg_centraleuap\",\"workspace_name\":\"gasi_ws_centraleuap\",\"compute_target\":\"cpu-cluster\",\"iterations\":1000,\"primary_metric\":\"accuracy\",\"task_type\":\"classification\",\"IsImageTask\":false,\"IsTextDNNTask\":false,\"n_cross_validations\":5,\"preprocess\":true,\"is_timeseries\":false,\"time_column_name\":null,\"grain_column_names\":null,\"max_cores_per_iteration\":-1,\"max_concurrent_iterations\":4,\"iteration_timeout_minutes\":60,\"enforce_time_on_windows\":false,\"experiment_timeout_minutes\":60,\"exit_score\":\"NaN\",\"experiment_exit_score\":\"NaN\",\"blacklist_models\":[\"KNN\",\"LinearSVM\"],\"blacklist_algos\":[\"KNN\",\"LinearSVM\",\"TensorFlowLinearClassifier\",\"TensorFlowDNN\"],\"auto_blacklist\":false,\"blacklist_samples_reached\":false,\"exclude_nan_labels\":false,\"verbosity\":20,\"model_explainability\":false,\"enable_onnx_compatible_models\":false,\"enable_feature_sweeping\":false,\"send_telemetry\":true,\"enable_early_stopping\":true,\"early_stopping_n_iters\":20,\"enable_distributed_featurization\":false,\"enable_distributed_dnn_training\":false,\"ensemble_iterations\":15,\"enable_tf\":false,\"enable_cache\":false,\"enable_subsampling\":false,\"metric_operation\":\"maximize\",\"enable_streaming\":false,\"use_incremental_learning_override\":false,\"force_streaming\":false,\"enable_dnn\":false,\"is_gpu_tmp\":false,\"enable_run_restructure\":false,\"featurization\":\"auto\",\"label_column_name\":\"y\",\"weight_column_name\":null,\"miro_flight\":\"default\",\"many_models\":false,\"many_models_process_count_per_node\":0,\"automl_many_models_scenario\":null,\"enable_batch_run\":false,\"track_child_runs\":true,\"start_auxiliary_runs_before_parent_complete\":false,\"enable_ensembling\":true,\"enable_stack_ensembling\":true,\"ensemble_download_models_timeout_sec\":300.0,\"stack_meta_learner_train_percentage\":0.2}', 'DataPrepJsonString': '{\\\\\"training_data\\\\\":{\\\\\"datasetId\\\\\":\\\\\"dff82e58-2c97-40a2-b7be-92f4289359db\\\\\"},\\\\\"validation_data\\\\\":{\\\\\"datasetId\\\\\":\\\\\"861babf3-5928-4d6e-b2a6-7955d823017b\\\\\"},\\\\\"test_data\\\\\":{\\\\\"datasetId\\\\\":\\\\\"7f7b40a2-4cb7-4b6d-834a-ef1a0aacd1f1\\\\\"},\\\\\"cv_splits_indices\\\\\":null,\\\\\"datasets\\\\\":0}', 'EnableSubsampling': 'False', 'runTemplate': 'AutoML', 'azureml.runsource': 'automl', 'save_mlflow': 'True', 'mlflow.source.git.repoURL': 'https://github.com/Azure/MachineLearningNotebooks.git', 'mlflow.source.git.branch': 'master', 'mlflow.source.git.commit': '421ea3d920facdb2a89db97ff609ab4d8bb7528f', 'azureml.git.dirty': 'True', 'ClientType': 'Mfe', '_aml_system_scenario_identification': 'Remote.Parent', 'environment_cpu_name': 'AzureML-AutoML', 'environment_cpu_label': 'prod', 'environment_gpu_name': 'AzureML-AutoML-GPU', 'environment_gpu_label': 'prod', 'root_attribution': 'automl', 'attribution': 'AutoML', 'Orchestrator': 'AutoML', 'CancelUri': 'https://master.api.azureml-test.ms/jasmine/v1.0/subscriptions/381b38e9-9840-4719-a5a0-61d9585e1e91/resourceGroups/gasi_rg_centraleuap/providers/Microsoft.MachineLearningServices/workspaces/gasi_ws_centraleuap/experimentids/61fee340-4387-4cc7-80fb-9010e348cdc1/cancel/40cb801c-53cc-4dad-bf07-988c6577c001'}, 'id': '/subscriptions/381b38e9-9840-4719-a5a0-61d9585e1e91/resourceGroups/gasi_rg_centraleuap/providers/Microsoft.MachineLearningServices/workspaces/gasi_ws_centraleuap/jobs/40cb801c-53cc-4dad-bf07-988c6577c001', 'base_path': './', 'creation_context': <azure.ml._restclient.v2020_09_01_preview.models._models_py3.SystemData object at 0x7f6cc3386950>, 'experiment_name': 'classification-bank-marketing-all-features', 'interaction_endpoints': {'Tracking': <azure.ml._restclient.v2020_09_01_preview.models._models_py3.JobEndpoint object at 0x7f6ce4440350>, 'Studio': <azure.ml._restclient.v2020_09_01_preview.models._models_py3.JobEndpoint object at 0x7f6ce4440390>}, 'general_settings': <azure.ml._restclient.v2020_09_01_preview.models._models_py3.GeneralSettings object at 0x7f6ce4440490>, 'data_settings': <azure.ml._restclient.v2020_09_01_preview.models._models_py3.DataSettings object at 0x7f6ce4440250>, 'limit_settings': <azure.ml._restclient.v2020_09_01_preview.models._models_py3.LimitSettings object at 0x7f6ce44404d0>, 'forecasting_settings': <azure.ml.entities._job.automl.forecasting.ForecastingSettings object at 0x7f6cd0498250>, 'training_settings': <azure.ml.entities._job.automl.training_settings.TrainingSettings object at 0x7f6cd0498c50>, 'featurization_settings': <azure.ml.entities._job.automl.featurization.FeaturizationSettings object at 0x7f6cd0498d50>, 'compute': {'instance_count': None, 'target': 'cpu-cluster', 'is_local': False, 'instance_type': None, 'location': None, 'properties': None}})"
      ]
     },
     "execution_count": 9,
     "metadata": {},
     "output_type": "execute_result"
    }
   ],
   "source": [
    "created_job = client.jobs.create_or_update(automl_job)\n",
    "created_job"
   ]
  },
  {
   "cell_type": "code",
   "execution_count": 10,
   "id": "86eb9d8f",
   "metadata": {
    "ExecuteTime": {
     "end_time": "2021-08-30T21:57:06.383369Z",
     "start_time": "2021-08-30T21:57:06.379355Z"
    }
   },
   "outputs": [
    {
     "name": "stdout",
     "output_type": "stream",
     "text": [
      "Studio URL:  https://ml.azure.com/runs/40cb801c-53cc-4dad-bf07-988c6577c001?wsid=/subscriptions/381b38e9-9840-4719-a5a0-61d9585e1e91/resourcegroups/gasi_rg_centraleuap/workspaces/gasi_ws_centraleuap&tid=72f988bf-86f1-41af-91ab-2d7cd011db47\n"
     ]
    }
   ],
   "source": [
    "print(\"Studio URL: \", created_job.interaction_endpoints[\"Studio\"].endpoint)"
   ]
  },
  {
   "cell_type": "markdown",
   "id": "a5484f5b",
   "metadata": {},
   "source": [
    "## Alternate Job Configurations"
   ]
  },
  {
   "cell_type": "markdown",
   "id": "91ecf9b5",
   "metadata": {},
   "source": [
    "### Enable ONNX compatible Models\n",
    "\n",
    "Shows a mixed use of promoted properties along with the original entity (TrainingSettings)"
   ]
  },
  {
   "cell_type": "code",
   "execution_count": 11,
   "id": "ee5cf638",
   "metadata": {
    "ExecuteTime": {
     "end_time": "2021-08-30T21:57:10.456393Z",
     "start_time": "2021-08-30T21:57:10.451459Z"
    }
   },
   "outputs": [],
   "source": [
    "from azure.ml.entities import AutoMLJob\n",
    "from azure.ml.entities._job.automl.training_settings import TrainingSettings\n",
    "\n",
    "training_settings = TrainingSettings(enable_onnx_compatible_models=True)\n",
    "\n",
    "automl_job = AutoMLJob(\n",
    "    compute=compute_name,\n",
    "    task=\"classification\",\n",
    "    target=\"y\",\n",
    "    dataset={\"train\": training_dataset, \"test\": test_dataset, \"valid\": validation_dataset},\n",
    "    training_settings = training_settings,\n",
    "    configuration={\n",
    "        \"blocked_models\": [\"KNN\", \"LinearSVM\"],\n",
    "        \"exit_criterion\": {\"timeout_hours\": 1},\n",
    "        \"max_concurrent_trials\": 4,   \n",
    "        \"validation\": {\"n_cross_validations\": 5},\n",
    "    },\n",
    "    properties={\"save_mlflow\": True}\n",
    ")"
   ]
  },
  {
   "cell_type": "code",
   "execution_count": 12,
   "id": "6571d051",
   "metadata": {
    "ExecuteTime": {
     "end_time": "2021-08-30T21:57:23.932761Z",
     "start_time": "2021-08-30T21:57:23.927418Z"
    }
   },
   "outputs": [
    {
     "data": {
      "text/plain": [
       "{'block_list_models': ['KNN', 'LinearSVM'],\n",
       " 'allow_list_models': None,\n",
       " 'enable_dnn_training': None,\n",
       " 'enable_onnx_compatible_models': True,\n",
       " 'enable_stack_ensemble': None,\n",
       " 'enable_vote_ensemble': None,\n",
       " 'ensemble_model_download_timeout': None,\n",
       " 'stack_ensemble_settings': None}"
      ]
     },
     "execution_count": 12,
     "metadata": {},
     "output_type": "execute_result"
    }
   ],
   "source": [
    "automl_job.training_settings.__dict__"
   ]
  },
  {
   "cell_type": "markdown",
   "id": "b98f07ad",
   "metadata": {},
   "source": [
    "### Use a non-default primary metric"
   ]
  },
  {
   "cell_type": "code",
   "execution_count": 17,
   "id": "399cc62b",
   "metadata": {
    "ExecuteTime": {
     "end_time": "2021-08-30T22:01:04.968678Z",
     "start_time": "2021-08-30T22:01:04.963428Z"
    }
   },
   "outputs": [],
   "source": [
    "from azure.ml.entities import AutoMLJob\n",
    "from azure.ml._restclient.v2020_09_01_preview.models import GeneralSettings\n",
    "\n",
    "general_settings = GeneralSettings(primary_metric= \"auc_weighted\")\n",
    "\n",
    "automl_job = AutoMLJob(\n",
    "    compute=compute_name,\n",
    "    task=\"classification\",\n",
    "    target=\"y\",\n",
    "    dataset={\"train\": training_dataset, \"test\": test_dataset, \"valid\": validation_dataset},\n",
    "    general_settings = general_settings,\n",
    "    configuration={\n",
    "        \"blocked_models\": [\"KNN\", \"LinearSVM\"],\n",
    "        \"exit_criterion\": {\"timeout_hours\": 1},\n",
    "        \"max_concurrent_trials\": 4,\n",
    "        \"validation\": {\"n_cross_validations\": 5},\n",
    "    },\n",
    "    properties={\"save_mlflow\": True}\n",
    ")"
   ]
  },
  {
   "cell_type": "code",
   "execution_count": 18,
   "id": "da907db7",
   "metadata": {
    "ExecuteTime": {
     "end_time": "2021-08-30T22:01:05.123774Z",
     "start_time": "2021-08-30T22:01:05.119263Z"
    }
   },
   "outputs": [
    {
     "data": {
      "text/plain": [
       "{'additional_properties': {},\n",
       " 'enable_model_explainability': None,\n",
       " 'log_verbosity': None,\n",
       " 'primary_metric': 'auc_weighted',\n",
       " 'task_type': 'classification'}"
      ]
     },
     "execution_count": 18,
     "metadata": {},
     "output_type": "execute_result"
    }
   ],
   "source": [
    "automl_job.general_settings.__dict__"
   ]
  },
  {
   "cell_type": "markdown",
   "id": "7d0e0cba",
   "metadata": {},
   "source": [
    "### Enable Deep Neural Nets + train-valid percentage split"
   ]
  },
  {
   "cell_type": "code",
   "execution_count": 20,
   "id": "5167ee13",
   "metadata": {
    "ExecuteTime": {
     "end_time": "2021-08-30T22:05:43.854886Z",
     "start_time": "2021-08-30T22:05:43.850676Z"
    }
   },
   "outputs": [],
   "source": [
    "from azure.ml.entities import AutoMLJob\n",
    "\n",
    "automl_job = AutoMLJob(\n",
    "    compute=compute_name,\n",
    "    task=\"classification\",\n",
    "    target=\"y\",\n",
    "    dataset={\"train\": training_dataset, \"test\": test_dataset, \"valid\": validation_dataset},\n",
    "    configuration={\n",
    "        \"blocked_models\": [\"KNN\", \"LinearSVM\"],\n",
    "        \"exit_criterion\": {\"timeout_hours\": 1},\n",
    "        \"max_concurrent_trials\": 4,\n",
    "        \"enable_dnn\": True,\n",
    "        \"validation\": {\"valid_percent\": 0.2},\n",
    "    },\n",
    "    properties={\"save_mlflow\": True}    # This should be enabled by default \n",
    ")"
   ]
  },
  {
   "cell_type": "code",
   "execution_count": 25,
   "id": "f3fd8c88",
   "metadata": {
    "ExecuteTime": {
     "end_time": "2021-08-30T22:06:33.370258Z",
     "start_time": "2021-08-30T22:06:33.365584Z"
    }
   },
   "outputs": [
    {
     "data": {
      "text/plain": [
       "({'block_list_models': ['KNN', 'LinearSVM'],\n",
       "  'allow_list_models': None,\n",
       "  'enable_dnn_training': True,\n",
       "  'enable_onnx_compatible_models': None,\n",
       "  'enable_stack_ensemble': None,\n",
       "  'enable_vote_ensemble': None,\n",
       "  'ensemble_model_download_timeout': None,\n",
       "  'stack_ensemble_settings': None},\n",
       " '-----',\n",
       " {'additional_properties': {},\n",
       "  'cv_split_column_names': None,\n",
       "  'dataset_arm_id': 'bankmarketing_valid:1',\n",
       "  'n_cross_validations': None,\n",
       "  'validation_data_size': 0.2})"
      ]
     },
     "execution_count": 25,
     "metadata": {},
     "output_type": "execute_result"
    }
   ],
   "source": [
    "automl_job.training_settings.__dict__, \"-----\", automl_job.data_settings.validation_data.__dict__"
   ]
  },
  {
   "cell_type": "markdown",
   "id": "51faa250",
   "metadata": {},
   "source": [
    "### Disable Ensembling"
   ]
  },
  {
   "cell_type": "code",
   "execution_count": 31,
   "id": "e411f807",
   "metadata": {
    "ExecuteTime": {
     "end_time": "2021-08-30T22:19:51.700755Z",
     "start_time": "2021-08-30T22:19:51.696092Z"
    }
   },
   "outputs": [],
   "source": [
    "from azure.ml.entities import AutoMLJob\n",
    "from azure.ml.entities._job.automl.training_settings import TrainingSettings\n",
    "\n",
    "training_settings = TrainingSettings(\n",
    "    enable_vote_ensemble=False, enable_stack_ensemble=False\n",
    ")\n",
    "\n",
    "automl_job = AutoMLJob(\n",
    "    compute=compute_name,\n",
    "    task=\"classification\",\n",
    "    target=\"y\",\n",
    "    dataset={\"train\": training_dataset, \"test\": test_dataset, \"valid\": validation_dataset},\n",
    "    training_settings = training_settings,\n",
    "    configuration={\n",
    "        \"blocked_models\": [\"KNN\", \"LinearSVM\"],\n",
    "        \"exit_criterion\": {\"timeout_hours\": 1},\n",
    "        \"max_concurrent_trials\": 4,\n",
    "        \"validation\": {\"n_cross_validations\": 5},\n",
    "        \"enable_dnn\": True,\n",
    "    },\n",
    "    properties={\"save_mlflow\": True}\n",
    ")"
   ]
  },
  {
   "cell_type": "code",
   "execution_count": 32,
   "id": "a04baae1",
   "metadata": {
    "ExecuteTime": {
     "end_time": "2021-08-30T22:19:52.128699Z",
     "start_time": "2021-08-30T22:19:52.123922Z"
    }
   },
   "outputs": [
    {
     "data": {
      "text/plain": [
       "{'block_list_models': ['KNN', 'LinearSVM'],\n",
       " 'allow_list_models': None,\n",
       " 'enable_dnn_training': True,\n",
       " 'enable_onnx_compatible_models': None,\n",
       " 'enable_stack_ensemble': False,\n",
       " 'enable_vote_ensemble': False,\n",
       " 'ensemble_model_download_timeout': None,\n",
       " 'stack_ensemble_settings': None}"
      ]
     },
     "execution_count": 32,
     "metadata": {},
     "output_type": "execute_result"
    }
   ],
   "source": [
    "automl_job.training_settings.__dict__"
   ]
  },
  {
   "cell_type": "markdown",
   "id": "61075f1e",
   "metadata": {},
   "source": [
    "### Forecasting"
   ]
  },
  {
   "cell_type": "code",
   "execution_count": 33,
   "id": "d443f405",
   "metadata": {
    "ExecuteTime": {
     "end_time": "2021-08-30T22:24:03.105224Z",
     "start_time": "2021-08-30T22:24:03.100530Z"
    }
   },
   "outputs": [],
   "source": [
    "from azure.ml.entities import AutoMLJob\n",
    "from azure.ml.entities._job.automl.forecasting import ForecastingSettings\n",
    "\n",
    "forecast_settings = ForecastingSettings(\n",
    "    time_column_name=\"DATE\", forecast_horizon=12, frequency='MS'\n",
    ")\n",
    "\n",
    "automl_job = AutoMLJob(\n",
    "    compute=compute_name,\n",
    "    task=\"forecasting\",\n",
    "    target=\"BeerProduction\",\n",
    "    dataset={\"train\": training_dataset, \"test\": test_dataset, \"valid\": validation_dataset},\n",
    "    forecasting_settings = forecast_settings,\n",
    "    configuration={\n",
    "        \"blocked_models\": [\"KNN\", \"LinearSVM\"],\n",
    "        \"exit_criterion\": {\"timeout_hours\": 1},\n",
    "        \"max_concurrent_trials\": 4,\n",
    "        \"validation\": {\"n_cross_validations\": 5},\n",
    "        \"enable_dnn\": True,\n",
    "    },\n",
    "    properties={\"save_mlflow\": True}\n",
    ")"
   ]
  },
  {
   "cell_type": "code",
   "execution_count": 35,
   "id": "c56c519a",
   "metadata": {
    "ExecuteTime": {
     "end_time": "2021-08-30T22:24:16.281999Z",
     "start_time": "2021-08-30T22:24:16.276808Z"
    }
   },
   "outputs": [
    {
     "data": {
      "text/plain": [
       "{'country_or_region_for_holidays': None,\n",
       " 'forecast_horizon': 12,\n",
       " 'target_lags': None,\n",
       " 'target_rolling_window_size': None,\n",
       " 'frequency': 'MS',\n",
       " 'feature_lags': None,\n",
       " 'seasonality': None,\n",
       " 'use_stl': None,\n",
       " 'short_series_handling_config': None,\n",
       " 'target_aggregate_function': None,\n",
       " 'time_column_name': 'DATE',\n",
       " 'time_series_id_column_names': None}"
      ]
     },
     "execution_count": 35,
     "metadata": {},
     "output_type": "execute_result"
    }
   ],
   "source": [
    "automl_job.forecasting_settings.__dict__"
   ]
  },
  {
   "cell_type": "markdown",
   "id": "7a9e3cca",
   "metadata": {},
   "source": [
    "### Custom Featurization Settings"
   ]
  },
  {
   "cell_type": "code",
   "execution_count": 36,
   "id": "fda4483e",
   "metadata": {
    "ExecuteTime": {
     "end_time": "2021-08-30T22:59:18.629266Z",
     "start_time": "2021-08-30T22:59:18.616731Z"
    }
   },
   "outputs": [],
   "source": [
    "from azure.ml.entities._job.automl.featurization import ColumnTransformer, FeaturizationConfig\n",
    "\n",
    "featurization_config = FeaturizationConfig()\n",
    "featurization_config.blocked_transformers = ['LabelEncoder']\n",
    "featurization_config.drop_columns = ['MMIN']\n",
    "\n",
    "featurization_config.column_purposes = {\n",
    "    'MYCT': 'Numeric',\n",
    "    'VendorName': 'CategoricalHash'\n",
    "}\n",
    "\n",
    "#default strategy mean, add transformer param for for 3 columns\n",
    "transformer_params_dict = {\n",
    "    \"Imputer\": [\n",
    "        ColumnTransformer(fields=[\"CACH\"], parameters={'strategy': 'median'}),\n",
    "        ColumnTransformer(fields=[\"CHMIN\"], parameters={'strategy': 'median'}),\n",
    "        ColumnTransformer(fields=[\"PRP\"], parameters={'strategy': 'most_frequent'}),\n",
    "    ],\n",
    "    \"HashOneHotEncoder\": [\n",
    "        ColumnTransformer(fields=[], parameters={'number_of_bits': 3.0})\n",
    "    ]\n",
    "}\n",
    "\n",
    "featurization_config.transformer_params = transformer_params_dict"
   ]
  },
  {
   "cell_type": "code",
   "execution_count": 37,
   "id": "ae652141",
   "metadata": {
    "ExecuteTime": {
     "end_time": "2021-08-30T23:01:24.916823Z",
     "start_time": "2021-08-30T23:01:24.908604Z"
    }
   },
   "outputs": [],
   "source": [
    "from azure.ml.entities import AutoMLJob\n",
    "from azure.ml.entities._job.automl.featurization import FeaturizationSettings\n",
    "\n",
    "\n",
    "featurization_settings = FeaturizationSettings(featurization_config=featurization_config)\n",
    "\n",
    "automl_job = AutoMLJob(\n",
    "    compute=compute_name,\n",
    "    task=\"classification\",\n",
    "    target=\"y\",\n",
    "    dataset={\"train\": training_dataset, \"test\": test_dataset, \"valid\": validation_dataset},\n",
    "    featurization_settings=featurization_settings,\n",
    "    configuration={\n",
    "        \"blocked_models\": [\"KNN\", \"LinearSVM\"],\n",
    "        \"exit_criterion\": {\"timeout_hours\": 1},\n",
    "        \"max_concurrent_trials\": 4,\n",
    "        \"validation\": {\"valid_percent\": 0.2},\n",
    "    },\n",
    "    properties={\"save_mlflow\": True}    # This should be enabled by default \n",
    ")"
   ]
  },
  {
   "cell_type": "code",
   "execution_count": 39,
   "id": "da6ce57f",
   "metadata": {
    "ExecuteTime": {
     "end_time": "2021-08-30T23:01:59.565611Z",
     "start_time": "2021-08-30T23:01:59.559925Z"
    }
   },
   "outputs": [
    {
     "data": {
      "text/plain": [
       "{'blocked_transformers': ['LabelEncoder'],\n",
       " 'column_purposes': {'MYCT': 'Numeric', 'VendorName': 'CategoricalHash'},\n",
       " 'transformer_params': {'Imputer': [<azure.ml.entities._job.automl.featurization.ColumnTransformer at 0x7f6cc0e712d0>,\n",
       "   <azure.ml.entities._job.automl.featurization.ColumnTransformer at 0x7f6cc0e715d0>,\n",
       "   <azure.ml.entities._job.automl.featurization.ColumnTransformer at 0x7f6cc0e71dd0>],\n",
       "  'HashOneHotEncoder': [<azure.ml.entities._job.automl.featurization.ColumnTransformer at 0x7f6cc0e71c90>]},\n",
       " 'dataset_language': None,\n",
       " 'drop_columns': ['MMIN']}"
      ]
     },
     "execution_count": 39,
     "metadata": {},
     "output_type": "execute_result"
    }
   ],
   "source": [
    "automl_job.featurization_settings.featurization_config.__dict__"
   ]
  },
  {
   "cell_type": "code",
   "execution_count": null,
   "id": "85745398",
   "metadata": {},
   "outputs": [],
   "source": []
  }
 ],
 "metadata": {
  "kernelspec": {
   "display_name": "Python [conda env:dpv2sdk] *",
   "language": "python",
   "name": "conda-env-dpv2sdk-py"
  },
  "language_info": {
   "codemirror_mode": {
    "name": "ipython",
    "version": 3
   },
   "file_extension": ".py",
   "mimetype": "text/x-python",
   "name": "python",
   "nbconvert_exporter": "python",
   "pygments_lexer": "ipython3",
   "version": "3.7.10"
  },
  "toc": {
   "base_numbering": 1,
   "nav_menu": {},
   "number_sections": true,
   "sideBar": true,
   "skip_h1_title": false,
   "title_cell": "Table of Contents",
   "title_sidebar": "Contents",
   "toc_cell": false,
   "toc_position": {},
   "toc_section_display": true,
   "toc_window_display": true
  }
 },
 "nbformat": 4,
 "nbformat_minor": 5
}
