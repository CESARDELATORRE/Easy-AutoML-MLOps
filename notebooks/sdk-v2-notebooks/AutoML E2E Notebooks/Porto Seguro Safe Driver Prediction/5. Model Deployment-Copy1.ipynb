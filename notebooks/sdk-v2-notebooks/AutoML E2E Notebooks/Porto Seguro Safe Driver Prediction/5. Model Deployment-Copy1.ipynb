{
 "cells": [
  {
   "cell_type": "code",
   "execution_count": 1,
   "id": "b3edd6b3",
   "metadata": {
    "ExecuteTime": {
     "end_time": "2021-08-31T19:41:51.733909Z",
     "start_time": "2021-08-31T19:41:51.729286Z"
    }
   },
   "outputs": [
    {
     "name": "stdout",
     "output_type": "stream",
     "text": [
      "env: AZURE_EXTENSION_DIR=/home/schrodinger/automl/sdk-cli-v2/src/cli/src\n",
      "env: AZURE_ML_CLI_PRIVATE_FEATURES_ENABLED=true\n"
     ]
    }
   ],
   "source": [
    "%env AZURE_EXTENSION_DIR=/home/schrodinger/automl/sdk-cli-v2/src/cli/src\n",
    "%env AZURE_ML_CLI_PRIVATE_FEATURES_ENABLED=true"
   ]
  },
  {
   "cell_type": "markdown",
   "id": "4df3786d",
   "metadata": {},
   "source": [
    "# Setup"
   ]
  },
  {
   "cell_type": "markdown",
   "id": "43d6cfac",
   "metadata": {},
   "source": [
    "## Imports"
   ]
  },
  {
   "cell_type": "code",
   "execution_count": 14,
   "id": "ba8e6930",
   "metadata": {
    "ExecuteTime": {
     "end_time": "2021-08-31T19:57:10.813203Z",
     "start_time": "2021-08-31T19:57:10.809583Z"
    }
   },
   "outputs": [],
   "source": [
    "import os\n",
    "\n",
    "from azure.ml import MLClient\n",
    "from azure.ml.entities import Endpoint, ManagedOnlineEndpoint, Environment, \\\n",
    "CodeConfiguration, ManagedOnlineDeployment, ManualScaleSettings, Code\n",
    "\n",
    "import mlflow\n",
    "from mlflow.tracking import MlflowClient\n",
    "\n",
    "from azure.ml.entities._assets import Model"
   ]
  },
  {
   "cell_type": "markdown",
   "id": "e1675628",
   "metadata": {},
   "source": [
    "## Setting necessary context"
   ]
  },
  {
   "cell_type": "code",
   "execution_count": 4,
   "id": "a569b9e4",
   "metadata": {
    "ExecuteTime": {
     "end_time": "2021-08-31T19:42:43.050757Z",
     "start_time": "2021-08-31T19:42:43.047715Z"
    }
   },
   "outputs": [],
   "source": [
    "subscription_id = '381b38e9-9840-4719-a5a0-61d9585e1e91'\n",
    "resource_group_name = 'gasi_rg_neu'\n",
    "workspace_name = \"gasi_ws_neu\"\n",
    "experiment_name = \"automl-classification-bmarketing-all\""
   ]
  },
  {
   "cell_type": "markdown",
   "id": "51f6cc7f",
   "metadata": {},
   "source": [
    "## Initialize Azure ML Client"
   ]
  },
  {
   "cell_type": "code",
   "execution_count": 9,
   "id": "6e6493b6",
   "metadata": {
    "ExecuteTime": {
     "end_time": "2021-08-31T19:46:38.713011Z",
     "start_time": "2021-08-31T19:46:38.707065Z"
    }
   },
   "outputs": [],
   "source": [
    "client = MLClient(subscription_id, resource_group_name, workspace_name=workspace_name)\n",
    "assert client is not None"
   ]
  },
  {
   "cell_type": "markdown",
   "id": "c10cc284",
   "metadata": {},
   "source": [
    "## Initialize MLFlow Client\n",
    "\n",
    "The models and artifacts that are produced by AutoML can be accessed via. the MLFlow interface. Initialize the MLFlow client here, and set the backend as Azure ML, via. the MLFlow Client."
   ]
  },
  {
   "cell_type": "code",
   "execution_count": 6,
   "id": "0344c46d",
   "metadata": {
    "ExecuteTime": {
     "end_time": "2021-08-31T19:42:49.110148Z",
     "start_time": "2021-08-31T19:42:47.820278Z"
    }
   },
   "outputs": [
    {
     "name": "stdout",
     "output_type": "stream",
     "text": [
      "\n",
      "Current tracking uri: azureml://northeurope.experiments.azureml.net/mlflow/v1.0/subscriptions/381b38e9-9840-4719-a5a0-61d9585e1e91/resourceGroups/gasi_rg_neu/providers/Microsoft.MachineLearningServices/workspaces/gasi_ws_neu?\n"
     ]
    }
   ],
   "source": [
    "tracking_uri = \"TODO --> Get this from MLClient\"\n",
    "\n",
    "################################################################################\n",
    "# TODO: The API to get tracking URI is not yet available on Worksapce object.\n",
    "from azureml.core import Workspace as WorkspaceV1\n",
    "ws = WorkspaceV1(workspace_name=workspace_name, resource_group=resource_group_name, subscription_id=subscription_id)\n",
    "tracking_uri = ws.get_mlflow_tracking_uri()\n",
    "del ws\n",
    "################################################################################\n",
    "\n",
    "mlflow.set_tracking_uri(tracking_uri)\n",
    "mlflow.set_experiment(experiment_name)\n",
    "\n",
    "print(\"\\nCurrent tracking uri: {}\".format(mlflow.get_tracking_uri()))"
   ]
  },
  {
   "cell_type": "markdown",
   "id": "70d9d4d7",
   "metadata": {},
   "source": [
    "# Retrieve the Best Trial\n",
    "\n",
    "Or any trial based on a custom criteria. Use the MLFLowClient to access the results (such as Models, Artifacts, Metrics) of a previously completed AutoML Trial."
   ]
  },
  {
   "cell_type": "code",
   "execution_count": 7,
   "id": "010cfcc2",
   "metadata": {
    "ExecuteTime": {
     "end_time": "2021-08-31T19:45:33.064751Z",
     "start_time": "2021-08-31T19:45:25.082361Z"
    }
   },
   "outputs": [
    {
     "name": "stdout",
     "output_type": "stream",
     "text": [
      "Found best child run id:  AutoML_b120a44d-ecb4-4494-b644-f93c265e1028_0\n"
     ]
    }
   ],
   "source": [
    "job_name = \"AutoML_b120a44d-ecb4-4494-b644-f93c265e1028\"\n",
    "\n",
    "mlflow_client = MlflowClient()\n",
    "mlflow_parent_run = mlflow_client.get_run(job_name)\n",
    "\n",
    "best_child_run_id = mlflow_parent_run.data.tags[\"automl_best_child_run_id\"]\n",
    "print(\"Found best child run id: \", best_child_run_id)\n",
    "\n",
    "best_run = mlflow_client.get_run(best_child_run_id)"
   ]
  },
  {
   "cell_type": "markdown",
   "id": "c045d6af",
   "metadata": {},
   "source": [
    "# Download the best model locally"
   ]
  },
  {
   "cell_type": "code",
   "execution_count": 12,
   "id": "70e79efb",
   "metadata": {
    "ExecuteTime": {
     "end_time": "2021-08-31T19:54:22.562666Z",
     "start_time": "2021-08-31T19:54:00.249624Z"
    }
   },
   "outputs": [
    {
     "name": "stdout",
     "output_type": "stream",
     "text": [
      "Artifacts downloaded in: /tmp/artifact_downloads/outputs\n",
      "Artifacts: ['pipeline_graph.json', 'model_onnx.json', 'env_dependencies.json', 'scoring_file_v_1_0_0.py', 'model.pkl', 'conda.yaml', 'MLmodel', 'scoring_file_v_2_0_0.py', 'requirements.txt', 'conda_env_v_1_0_0.yml', 'model.onnx']\n"
     ]
    }
   ],
   "source": [
    "local_dir = \"/tmp/artifact_downloads\"\n",
    "if not os.path.exists(local_dir):\n",
    "    os.mkdir(local_dir)\n",
    "local_path = mlflow_client.download_artifacts(best_run.info.run_id, \"outputs\", local_dir)\n",
    "print(\"Artifacts downloaded in: {}\".format(local_path))\n",
    "print(\"Artifacts: {}\".format(os.listdir(local_path)))"
   ]
  },
  {
   "cell_type": "markdown",
   "id": "00c57eb5",
   "metadata": {},
   "source": [
    "# Create Model on Azure ML"
   ]
  },
  {
   "cell_type": "code",
   "execution_count": 13,
   "id": "0fab4f2b",
   "metadata": {
    "ExecuteTime": {
     "end_time": "2021-08-31T19:56:14.330114Z",
     "start_time": "2021-08-31T19:56:09.477617Z"
    }
   },
   "outputs": [
    {
     "name": "stderr",
     "output_type": "stream",
     "text": [
      "Uploading model.pkl: 100%|██████████| 396k/396k [00:00<00:00, 550kB/s]\n"
     ]
    },
    {
     "data": {
      "text/plain": [
       "Model({'is_anonymous': False, 'name': 'AutoML_model', 'description': None, 'tags': {}, 'properties': {}, 'id': '/subscriptions/381b38e9-9840-4719-a5a0-61d9585e1e91/resourceGroups/gasi_rg_neu/providers/Microsoft.MachineLearningServices/workspaces/gasi_ws_neu/models/AutoML_model/versions/1', 'base_path': './', 'creation_context': <azure.ml._restclient.v2021_03_01_preview.models._models_py3.SystemData object at 0x7f380993fbd0>, 'version': 1, 'datastore': '/subscriptions/381b38e9-9840-4719-a5a0-61d9585e1e91/resourceGroups/gasi_rg_neu/providers/Microsoft.MachineLearningServices/workspaces/gasi_ws_neu/datastores/workspaceblobstore', 'path': 'LocalUpload/381715692d299a7479fb8ed61cdc0b65/model.pkl', 'local_path': None, 'utc_time_created': None, 'flavors': {}})"
      ]
     },
     "execution_count": 13,
     "metadata": {},
     "output_type": "execute_result"
    }
   ],
   "source": [
    "model_name = \"AutoML_model\"\n",
    "azure_model = Model(name=model_name, version=1, local_path=os.path.join(local_path, \"model.pkl\"))\n",
    "azure_model = client.models.create_or_update(azure_model)\n",
    "azure_model"
   ]
  },
  {
   "cell_type": "markdown",
   "id": "923997fc",
   "metadata": {},
   "source": [
    "# Create and deploy an endpoint"
   ]
  },
  {
   "cell_type": "code",
   "execution_count": 17,
   "id": "60d8af2e",
   "metadata": {
    "ExecuteTime": {
     "end_time": "2021-08-31T20:16:21.721435Z",
     "start_time": "2021-08-31T19:57:59.168731Z"
    }
   },
   "outputs": [
    {
     "name": "stdout",
     "output_type": "stream",
     "text": [
      "Inference File:  /tmp/artifact_downloads/outputs/scoring_file_v_1_0_0.py\n",
      "Conda Environment File:  /tmp/artifact_downloads/outputs/conda.yaml\n"
     ]
    },
    {
     "name": "stderr",
     "output_type": "stream",
     "text": [
      "Uploading scoring_file_v_1_0_0.py: 100%|██████████| 2.91k/2.91k [00:00<00:00, 19.6kB/s]\n",
      "The deployment request gasi_ws_neu-endpoint-automl-3240847 was accepted. ARM deployment URI for reference: \n",
      "\n",
      "https://ms.portal.azure.com/#blade/HubsExtension/DeploymentDetailsBlade/overview/id/%2Fsubscriptions%2F381b38e9-9840-4719-a5a0-61d9585e1e91%2FresourceGroups%2Fgasi_rg_neu%2Fproviders%2FMicrosoft.Resources%2Fdeployments%2Fgasi_ws_neu-endpoint-automl-3240847\n",
      "\n",
      "Registering environment version (environment-AutoML:1)  Done (2s)\n",
      "\n",
      "Registering model version (AutoML_model:1)  Done (2s)\n",
      "\n",
      "Creating endpoint endpoint-automl \n",
      ".\n",
      ".\n",
      ".\n",
      ".\n",
      ".\n",
      ".\n",
      ".\n",
      ".\n",
      ".\n",
      ".\n",
      ".\n",
      ".\n",
      ".\n",
      ".\n",
      ".\n",
      ".\n",
      ".\n",
      ".\n",
      ".\n",
      ".\n",
      ".\n",
      ".\n",
      ".\n",
      ".\n",
      ".\n",
      ".\n",
      "  Done (2m 40s)\n",
      "\n",
      "Creating deployment deployment-automl \n",
      ".\n",
      ".\n",
      ".\n",
      ".\n",
      ".\n",
      ".\n",
      ".\n",
      ".\n",
      ".\n",
      ".\n",
      ".\n",
      ".\n",
      ".\n",
      ".\n",
      ".\n",
      ".\n",
      ".\n",
      ".\n",
      ".\n",
      ".\n",
      ".\n",
      ".\n",
      ".\n",
      ".\n",
      ".\n",
      ".\n",
      ".\n",
      ".\n",
      ".\n",
      ".\n",
      ".\n",
      ".\n",
      ".\n",
      ".\n",
      ".\n",
      ".\n",
      ".\n",
      ".\n",
      ".\n",
      ".\n",
      ".\n",
      ".\n",
      ".\n",
      ".\n",
      ".\n",
      ".\n",
      ".\n",
      ".\n",
      ".\n",
      ".\n",
      ".\n",
      ".\n",
      ".\n",
      ".\n",
      ".\n",
      ".\n",
      ".\n",
      ".\n",
      ".\n",
      ".\n",
      ".\n",
      ".\n",
      ".\n",
      ".\n",
      ".\n",
      ".\n",
      ".\n",
      ".\n",
      ".\n",
      ".\n",
      ".\n",
      ".\n",
      ".\n",
      ".\n",
      ".\n",
      ".\n",
      ".\n",
      ".\n",
      ".\n",
      ".\n",
      ".\n",
      ".\n",
      ".\n",
      ".\n",
      ".\n",
      ".\n",
      ".\n",
      ".\n",
      ".\n",
      ".\n",
      ".\n",
      ".\n",
      ".\n",
      ".\n",
      ".\n",
      ".\n",
      ".\n",
      ".\n",
      ".\n",
      ".\n",
      ".\n",
      ".\n",
      ".\n",
      ".\n",
      ".\n",
      ".\n",
      ".\n",
      ".\n",
      ".\n",
      ".\n",
      ".\n",
      ".\n",
      ".\n",
      ".\n",
      ".\n",
      ".\n",
      ".\n",
      ".\n",
      ".\n",
      ".\n",
      ".\n",
      ".\n",
      ".\n",
      ".\n",
      ".\n",
      ".\n",
      ".\n",
      ".\n",
      ".\n",
      ".\n",
      ".\n",
      ".\n",
      ".\n",
      ".\n",
      ".\n",
      ".\n",
      ".\n",
      ".\n",
      ".\n",
      ".\n",
      ".\n",
      ".\n",
      ".\n",
      ".\n",
      ".\n",
      ".\n",
      ".\n",
      ".\n",
      ".\n",
      ".\n",
      ".\n",
      ".\n",
      ".\n",
      ".\n",
      ".\n",
      ".\n",
      ".\n",
      ".\n",
      ".\n",
      ".\n",
      ".\n",
      ".\n",
      ".\n",
      ".\n"
     ]
    },
    {
     "name": "stdout",
     "output_type": "stream",
     "text": [
      "Deployment failed:  (DeploymentFailed) At least one resource deployment operation failed. Please list deployment operations for details. Please see https://aka.ms/DeployOperations for usage details.\n"
     ]
    },
    {
     "name": "stderr",
     "output_type": "stream",
     "text": [
      "Traceback (most recent call last):\n",
      "  File \"/home/schrodinger/anaconda3/envs/dpv2sdk/lib/python3.7/site-packages/azure/core/polling/base_polling.py\", line 482, in run\n",
      "    self._poll()\n",
      "  File \"/home/schrodinger/anaconda3/envs/dpv2sdk/lib/python3.7/site-packages/azure/core/polling/base_polling.py\", line 521, in _poll\n",
      "    raise OperationFailed(\"Operation failed or canceled\")\n",
      "azure.core.polling.base_polling.OperationFailed: Operation failed or canceled\n",
      "\n",
      "During handling of the above exception, another exception occurred:\n",
      "\n",
      "Traceback (most recent call last):\n",
      "  File \"<ipython-input-17-64d414b6f02d>\", line 54, in <module>\n",
      "    client.endpoints.create(online_endpoint)\n",
      "  File \"/home/schrodinger/automl/sdk-cli-v2/src/azure-ml/azure/ml/_operations/endpoint_operations.py\", line 227, in create\n",
      "    return self._create_online_endpoint(internal_endpoint=endpoint, no_wait=no_wait)\n",
      "  File \"/home/schrodinger/automl/sdk-cli-v2/src/azure-ml/azure/ml/_operations/endpoint_operations.py\", line 615, in _create_online_endpoint\n",
      "    template=template, resources_being_deployed=resources_being_deployed, wait=not no_wait\n",
      "  File \"/home/schrodinger/automl/sdk-cli-v2/src/azure-ml/azure/ml/_arm_deployments/arm_deployment_executor.py\", line 87, in deploy_resource\n",
      "    raise ex\n",
      "  File \"/home/schrodinger/automl/sdk-cli-v2/src/azure-ml/azure/ml/_arm_deployments/arm_deployment_executor.py\", line 83, in deploy_resource\n",
      "    total_duration = poller.result().properties.duration\n",
      "  File \"/home/schrodinger/anaconda3/envs/dpv2sdk/lib/python3.7/site-packages/azure/core/polling/_poller.py\", line 255, in result\n",
      "    self.wait(timeout)\n",
      "  File \"/home/schrodinger/anaconda3/envs/dpv2sdk/lib/python3.7/site-packages/azure/core/tracing/decorator.py\", line 83, in wrapper_use_tracer\n",
      "    return func(*args, **kwargs)\n",
      "  File \"/home/schrodinger/anaconda3/envs/dpv2sdk/lib/python3.7/site-packages/azure/core/polling/_poller.py\", line 275, in wait\n",
      "    raise self._exception # type: ignore\n",
      "  File \"/home/schrodinger/anaconda3/envs/dpv2sdk/lib/python3.7/site-packages/azure/core/polling/_poller.py\", line 192, in _start\n",
      "    self._polling_method.run()\n",
      "  File \"/home/schrodinger/anaconda3/envs/dpv2sdk/lib/python3.7/site-packages/azure/core/polling/base_polling.py\", line 502, in run\n",
      "    error=err\n",
      "azure.core.exceptions.HttpResponseError: (DeploymentFailed) At least one resource deployment operation failed. Please list deployment operations for details. Please see https://aka.ms/DeployOperations for usage details.\n"
     ]
    }
   ],
   "source": [
    "inference_script_file_name = os.path.join(local_path, \"scoring_file_v_1_0_0.py\")\n",
    "conda_environment_yaml = os.path.join(local_path, \"conda.yaml\")\n",
    "\n",
    "print(\"Inference File: \", inference_script_file_name)\n",
    "print(\"Conda Environment File: \", conda_environment_yaml)\n",
    "\n",
    "assert os.path.exists(inference_script_file_name)\n",
    "assert os.path.exists(conda_environment_yaml)\n",
    "\n",
    "\n",
    "# Prepare the deployment configuration\n",
    "environment = Environment(\n",
    "    name=\"environment-{}\".format(best_run.info.run_id[:6]),\n",
    "    version=1,\n",
    "    path=\".\",\n",
    "    conda_file=conda_environment_yaml,\n",
    "    docker_image=\"mcr.microsoft.com/azureml/intelmpi2018.3-ubuntu16.04:20210301.v1\",\n",
    ")\n",
    "\n",
    "code = Code(\n",
    "    name=\"environment-{}\".format(best_run.info.run_id[:6]),\n",
    "    version=1,\n",
    "    local_path=inference_script_file_name,\n",
    ")\n",
    "code_configuration = CodeConfiguration(\n",
    "    code=code,\n",
    "    scoring_script=inference_script_file_name\n",
    ")\n",
    "\n",
    "scale_settings = ManualScaleSettings(\n",
    "    scale_type=\"Manual\",\n",
    "    min_instances=1,\n",
    "    max_instances=2,\n",
    "    instance_count=1\n",
    ")\n",
    "deployment = ManagedOnlineDeployment(\n",
    "    name=\"deployment-{}\".format(best_run.info.run_id[:6]),\n",
    "    model=azure_model,\n",
    "    environment=environment,\n",
    "    code_configuration=code_configuration,\n",
    "    instance_type=\"Standard_F2s_v2\",\n",
    "    scale_settings=scale_settings,\n",
    "                                    )\n",
    "online_endpoint = ManagedOnlineEndpoint(\n",
    "    name=\"endpoint-{}\".format(best_run.info.run_id[:6]),\n",
    "    deployments=[deployment],\n",
    "    description=\"Demo model deployment\",\n",
    "    tags={\"deployed_using\": \"sdkv2\"}\n",
    ")\n",
    "##### Loading from YAML\n",
    "# endpoint = Endpoint.load(\"/home/schrodinger/automl/Easy-AutoML-MLOps/notebooks/3-automl-remote-compute-run/endpoint.yml\")\n",
    "\n",
    "try:\n",
    "    client.endpoints.create(online_endpoint)\n",
    "except Exception as e:\n",
    "    import traceback\n",
    "    print(\"Deployment failed: \", str(e))\n",
    "    traceback.print_exc()"
   ]
  },
  {
   "cell_type": "code",
   "execution_count": null,
   "id": "3e075a0f",
   "metadata": {},
   "outputs": [],
   "source": []
  }
 ],
 "metadata": {
  "kernelspec": {
   "display_name": "Python [conda env:dpv2sdk] *",
   "language": "python",
   "name": "conda-env-dpv2sdk-py"
  },
  "language_info": {
   "codemirror_mode": {
    "name": "ipython",
    "version": 3
   },
   "file_extension": ".py",
   "mimetype": "text/x-python",
   "name": "python",
   "nbconvert_exporter": "python",
   "pygments_lexer": "ipython3",
   "version": "3.7.10"
  },
  "toc": {
   "base_numbering": 1,
   "nav_menu": {},
   "number_sections": true,
   "sideBar": true,
   "skip_h1_title": false,
   "title_cell": "Table of Contents",
   "title_sidebar": "Contents",
   "toc_cell": false,
   "toc_position": {},
   "toc_section_display": true,
   "toc_window_display": true
  }
 },
 "nbformat": 4,
 "nbformat_minor": 5
}
