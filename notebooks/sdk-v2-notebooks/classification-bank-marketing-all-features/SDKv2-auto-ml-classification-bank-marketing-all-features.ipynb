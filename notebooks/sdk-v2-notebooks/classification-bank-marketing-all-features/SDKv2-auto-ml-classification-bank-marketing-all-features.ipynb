{
 "cells": [
  {
   "cell_type": "markdown",
   "metadata": {},
   "source": [
    "Copyright (c) Microsoft Corporation. All rights reserved.\n",
    "\n",
    "Licensed under the MIT License."
   ]
  },
  {
   "cell_type": "markdown",
   "metadata": {},
   "source": [
    "![Impressions](https://PixelServer20190423114238.azurewebsites.net/api/impressions/MachineLearningNotebooks/how-to-use-azureml/automated-machine-learning/classification-bank-marketing-all-features/auto-ml-classification-bank-marketing.png)"
   ]
  },
  {
   "cell_type": "markdown",
   "metadata": {},
   "source": [
    "# Automated Machine Learning\n",
    "_**Classification with Deployment using a Bank Marketing Dataset**_\n",
    "\n",
    "## Contents\n",
    "1. [Introduction](#Introduction)\n",
    "1. [Setup](#Setup)\n",
    "1. [Train](#Train)\n",
    "1. [Results](#Results)\n",
    "1. [Deploy](#Deploy)\n",
    "1. [Test](#Test)\n",
    "1. [Acknowledgements](#Acknowledgements)"
   ]
  },
  {
   "cell_type": "markdown",
   "metadata": {},
   "source": [
    "## Introduction\n",
    "\n",
    "In this example we use the UCI Bank Marketing dataset to showcase how you can use AutoML for a  classification problem and deploy it to an Azure Container Instance (ACI). The classification goal is to predict if the client will subscribe to a term deposit with the bank.\n",
    "\n",
    "If you are using an Azure Machine Learning Compute Instance, you are all set.  Otherwise, go through the [configuration](../../../configuration.ipynb)  notebook first if you haven't already to establish your connection to the AzureML Workspace. \n",
    "\n",
    "Please find the ONNX related documentations [here](https://github.com/onnx/onnx).\n",
    "\n",
    "In this notebook you will learn how to:\n",
    "1. Create an experiment using an existing workspace.\n",
    "2. Configure AutoML using `AutoMLConfig`.\n",
    "3. Train the model using local compute with ONNX compatible config on.\n",
    "4. Explore the results, featurization transparency options and save the ONNX model\n",
    "5. Inference with the ONNX model.\n",
    "6. Register the model.\n",
    "7. Create a container image.\n",
    "8. Create an Azure Container Instance (ACI) service.\n",
    "9. Test the ACI service.\n",
    "\n",
    "In addition this notebook showcases the following features\n",
    "- **Blocking** certain pipelines\n",
    "- Specifying **target metrics** to indicate stopping criteria\n",
    "- Handling **missing data** in the input"
   ]
  },
  {
   "cell_type": "markdown",
   "metadata": {},
   "source": [
    "## Setup\n",
    "\n",
    "As part of the setup you have already created an Azure ML `Workspace` object. For AutoML you will need to create an `Experiment` object, which is a named object in a `Workspace` used to run experiments."
   ]
  },
  {
   "cell_type": "code",
   "execution_count": 1,
   "metadata": {},
   "outputs": [
    {
     "name": "stdout",
     "output_type": "stream",
     "text": [
      "env: AZURE_EXTENSION_DIR=/home/schrodinger/automl/sdk-cli-v2/src/cli/src\n",
      "env: AZURE_ML_CLI_PRIVATE_FEATURES_ENABLED=true\n"
     ]
    }
   ],
   "source": [
    "%env AZURE_EXTENSION_DIR=/home/schrodinger/automl/sdk-cli-v2/src/cli/src\n",
    "%env AZURE_ML_CLI_PRIVATE_FEATURES_ENABLED=true"
   ]
  },
  {
   "cell_type": "code",
   "execution_count": 2,
   "metadata": {},
   "outputs": [],
   "source": [
    "import azure.ml\n",
    "from azure.ml import MLClient\n",
    "\n",
    "from azure.core.exceptions import ResourceExistsError\n",
    "\n",
    "from azure.ml.entities import Workspace\n",
    "from azure.ml.entities import AmlCompute\n",
    "from azure.ml.entities import Data\n",
    "\n",
    "import pandas as pd"
   ]
  },
  {
   "cell_type": "markdown",
   "metadata": {},
   "source": [
    "This sample notebook may use features that are not available in previous versions of the Azure ML SDK."
   ]
  },
  {
   "cell_type": "code",
   "execution_count": 3,
   "metadata": {},
   "outputs": [
    {
     "name": "stdout",
     "output_type": "stream",
     "text": [
      "This notebook was created using version 1.31.0 of the Azure ML SDK\n",
      "You are currently using SDK version 0.0.86 of the Azure ML SDK\n"
     ]
    }
   ],
   "source": [
    "# TODO: Versions need to change\n",
    "print(\"This notebook was created using version 1.31.0 of the Azure ML SDK\")\n",
    "print(\"You are currently using SDK version\", azure.ml.version.VERSION, \"of the Azure ML SDK\")"
   ]
  },
  {
   "cell_type": "markdown",
   "metadata": {},
   "source": [
    "#### TODO: Equivalents for the following may be missing.\n",
    "\n",
    "Accessing the Azure ML workspace requires authentication with Azure.\n",
    "\n",
    "The default authentication is interactive authentication using the default tenant.  Executing the `ws = Workspace.from_config()` line in the cell below will prompt for authentication the first time that it is run.\n",
    "\n",
    "If you have multiple Azure tenants, you can specify the tenant by replacing the `ws = Workspace.from_config()` line in the cell below with the following:\n",
    "\n",
    "```\n",
    "from azureml.core.authentication import InteractiveLoginAuthentication\n",
    "auth = InteractiveLoginAuthentication(tenant_id = 'mytenantid')\n",
    "ws = Workspace.from_config(auth = auth)\n",
    "```\n",
    "\n",
    "If you need to run in an environment where interactive login is not possible, you can use Service Principal authentication by replacing the `ws = Workspace.from_config()` line in the cell below with the following:\n",
    "\n",
    "```\n",
    "from azureml.core.authentication import ServicePrincipalAuthentication\n",
    "auth = auth = ServicePrincipalAuthentication('mytenantid', 'myappid', 'mypassword')\n",
    "ws = Workspace.from_config(auth = auth)\n",
    "```\n",
    "For more details, see [aka.ms/aml-notebook-auth](http://aka.ms/aml-notebook-auth)"
   ]
  },
  {
   "cell_type": "markdown",
   "metadata": {},
   "source": [
    "### Initialize MLClient\n",
    "\n",
    "Create an MLClient object, to interact with Azure ML resources, such as computes, jobs."
   ]
  },
  {
   "cell_type": "code",
   "execution_count": 4,
   "metadata": {},
   "outputs": [
    {
     "data": {
      "text/plain": [
       "<azure.ml._ml_client.MLClient at 0x7f2ecec30350>"
      ]
     },
     "execution_count": 4,
     "metadata": {},
     "output_type": "execute_result"
    }
   ],
   "source": [
    "subscription_id = '381b38e9-9840-4719-a5a0-61d9585e1e91'\n",
    "resource_group_name = 'gasi_rg_centraleuap'\n",
    "workspace_name = \"gasi_ws_centraleuap\"\n",
    "experiment_name = \"automl-classification-bmarketing-all\"\n",
    "\n",
    "client = MLClient(subscription_id, resource_group_name, default_workspace_name=workspace_name)\n",
    "\n",
    "client"
   ]
  },
  {
   "cell_type": "markdown",
   "metadata": {},
   "source": [
    "### Initialize MLFlowClient\n",
    "\n",
    "Create an MLFlowClient to interact with the resources that the AutoML job creates, such as models, metrics."
   ]
  },
  {
   "cell_type": "code",
   "execution_count": 5,
   "metadata": {},
   "outputs": [
    {
     "name": "stdout",
     "output_type": "stream",
     "text": [
      "Requirement already satisfied: azureml-core in /home/schrodinger/anaconda3/envs/dpv2sdk/lib/python3.7/site-packages (1.31.0)\n",
      "Requirement already satisfied: azureml-mlflow in /home/schrodinger/anaconda3/envs/dpv2sdk/lib/python3.7/site-packages (1.31.0)\n",
      "Requirement already satisfied: azure-graphrbac<1.0.0,>=0.40.0 in /home/schrodinger/anaconda3/envs/dpv2sdk/lib/python3.7/site-packages (from azureml-core) (0.60.0)\n",
      "Requirement already satisfied: ndg-httpsclient in /home/schrodinger/anaconda3/envs/dpv2sdk/lib/python3.7/site-packages (from azureml-core) (0.5.1)\n",
      "Requirement already satisfied: python-dateutil<3.0.0,>=2.7.3 in /home/schrodinger/anaconda3/envs/dpv2sdk/lib/python3.7/site-packages (from azureml-core) (2.8.1)\n",
      "Collecting docker<5.0.0\n",
      "  Using cached docker-4.4.4-py2.py3-none-any.whl (147 kB)\n",
      "Collecting azure-mgmt-resource<15.0.0,>=1.2.1\n",
      "  Using cached azure_mgmt_resource-13.0.0-py2.py3-none-any.whl (1.3 MB)\n",
      "Requirement already satisfied: azure-mgmt-keyvault<10.0.0,>=0.40.0 in /home/schrodinger/anaconda3/envs/dpv2sdk/lib/python3.7/site-packages (from azureml-core) (9.0.0)\n",
      "Collecting azure-mgmt-storage<16.0.0,>=1.5.0\n",
      "  Using cached azure_mgmt_storage-11.2.0-py2.py3-none-any.whl (547 kB)\n",
      "Requirement already satisfied: azure-mgmt-containerregistry>=2.0.0 in /home/schrodinger/anaconda3/envs/dpv2sdk/lib/python3.7/site-packages (from azureml-core) (3.0.0rc17)\n",
      "Requirement already satisfied: msrest<1.0.0,>=0.5.1 in /home/schrodinger/anaconda3/envs/dpv2sdk/lib/python3.7/site-packages (from azureml-core) (0.6.21)\n",
      "Requirement already satisfied: PyJWT<3.0.0 in /home/schrodinger/anaconda3/envs/dpv2sdk/lib/python3.7/site-packages (from azureml-core) (1.7.1)\n",
      "Requirement already satisfied: jmespath<1.0.0 in /home/schrodinger/anaconda3/envs/dpv2sdk/lib/python3.7/site-packages (from azureml-core) (0.10.0)\n",
      "Requirement already satisfied: msrestazure>=0.4.33 in /home/schrodinger/anaconda3/envs/dpv2sdk/lib/python3.7/site-packages (from azureml-core) (0.6.4)\n",
      "Requirement already satisfied: urllib3>=1.23 in /home/schrodinger/anaconda3/envs/dpv2sdk/lib/python3.7/site-packages (from azureml-core) (1.26.6)\n",
      "Requirement already satisfied: backports.tempfile in /home/schrodinger/anaconda3/envs/dpv2sdk/lib/python3.7/site-packages (from azureml-core) (1.0)\n",
      "Requirement already satisfied: ruamel.yaml<0.17.5,>=0.15.35 in /home/schrodinger/anaconda3/envs/dpv2sdk/lib/python3.7/site-packages (from azureml-core) (0.17.4)\n",
      "Requirement already satisfied: azure-common<2.0.0,>=1.1.12 in /home/schrodinger/anaconda3/envs/dpv2sdk/lib/python3.7/site-packages (from azureml-core) (1.1.27)\n",
      "Requirement already satisfied: pathspec<1.0.0 in /home/schrodinger/anaconda3/envs/dpv2sdk/lib/python3.7/site-packages (from azureml-core) (0.8.1)\n",
      "Requirement already satisfied: jsonpickle<3.0.0 in /home/schrodinger/anaconda3/envs/dpv2sdk/lib/python3.7/site-packages (from azureml-core) (2.0.0)\n",
      "Requirement already satisfied: cryptography!=1.9,!=2.0.*,!=2.1.*,!=2.2.*,<4.0.0 in /home/schrodinger/anaconda3/envs/dpv2sdk/lib/python3.7/site-packages (from azureml-core) (3.3.2)\n",
      "Requirement already satisfied: pytz in /home/schrodinger/anaconda3/envs/dpv2sdk/lib/python3.7/site-packages (from azureml-core) (2019.1)\n",
      "Requirement already satisfied: SecretStorage<4.0.0 in /home/schrodinger/anaconda3/envs/dpv2sdk/lib/python3.7/site-packages (from azureml-core) (3.3.1)\n",
      "Requirement already satisfied: requests<3.0.0,>=2.19.1 in /home/schrodinger/anaconda3/envs/dpv2sdk/lib/python3.7/site-packages (from azureml-core) (2.25.1)\n",
      "Requirement already satisfied: pyopenssl<21.0.0 in /home/schrodinger/anaconda3/envs/dpv2sdk/lib/python3.7/site-packages (from azureml-core) (20.0.1)\n",
      "Requirement already satisfied: azure-mgmt-authorization<1.0.0,>=0.40.0 in /home/schrodinger/anaconda3/envs/dpv2sdk/lib/python3.7/site-packages (from azureml-core) (0.61.0)\n",
      "Requirement already satisfied: adal>=1.2.0 in /home/schrodinger/anaconda3/envs/dpv2sdk/lib/python3.7/site-packages (from azureml-core) (1.2.7)\n",
      "Requirement already satisfied: contextlib2<1.0.0 in /home/schrodinger/anaconda3/envs/dpv2sdk/lib/python3.7/site-packages (from azureml-core) (0.6.0.post1)\n",
      "Requirement already satisfied: azure-mgmt-core<2.0.0,>=1.2.0 in /home/schrodinger/anaconda3/envs/dpv2sdk/lib/python3.7/site-packages (from azure-mgmt-keyvault<10.0.0,>=0.40.0->azureml-core) (1.2.2)\n",
      "Requirement already satisfied: azure-core<2.0.0,>=1.9.0 in /home/schrodinger/anaconda3/envs/dpv2sdk/lib/python3.7/site-packages (from azure-mgmt-core<2.0.0,>=1.2.0->azure-mgmt-keyvault<10.0.0,>=0.40.0->azureml-core) (1.15.0)\n",
      "Requirement already satisfied: six>=1.11.0 in /home/schrodinger/anaconda3/envs/dpv2sdk/lib/python3.7/site-packages (from azure-core<2.0.0,>=1.9.0->azure-mgmt-core<2.0.0,>=1.2.0->azure-mgmt-keyvault<10.0.0,>=0.40.0->azureml-core) (1.16.0)\n",
      "Requirement already satisfied: cffi>=1.12 in /home/schrodinger/anaconda3/envs/dpv2sdk/lib/python3.7/site-packages (from cryptography!=1.9,!=2.0.*,!=2.1.*,!=2.2.*,<4.0.0->azureml-core) (1.14.5)\n",
      "Requirement already satisfied: pycparser in /home/schrodinger/anaconda3/envs/dpv2sdk/lib/python3.7/site-packages (from cffi>=1.12->cryptography!=1.9,!=2.0.*,!=2.1.*,!=2.2.*,<4.0.0->azureml-core) (2.20)\n",
      "Requirement already satisfied: websocket-client>=0.32.0 in /home/schrodinger/anaconda3/envs/dpv2sdk/lib/python3.7/site-packages (from docker<5.0.0->azureml-core) (0.56.0)\n",
      "Requirement already satisfied: importlib-metadata in /home/schrodinger/anaconda3/envs/dpv2sdk/lib/python3.7/site-packages (from jsonpickle<3.0.0->azureml-core) (4.5.0)\n",
      "Requirement already satisfied: requests-oauthlib>=0.5.0 in /home/schrodinger/anaconda3/envs/dpv2sdk/lib/python3.7/site-packages (from msrest<1.0.0,>=0.5.1->azureml-core) (1.3.0)\n",
      "Requirement already satisfied: isodate>=0.6.0 in /home/schrodinger/anaconda3/envs/dpv2sdk/lib/python3.7/site-packages (from msrest<1.0.0,>=0.5.1->azureml-core) (0.6.0)\n",
      "Requirement already satisfied: certifi>=2017.4.17 in /home/schrodinger/anaconda3/envs/dpv2sdk/lib/python3.7/site-packages (from msrest<1.0.0,>=0.5.1->azureml-core) (2021.5.30)\n",
      "Requirement already satisfied: chardet<5,>=3.0.2 in /home/schrodinger/anaconda3/envs/dpv2sdk/lib/python3.7/site-packages (from requests<3.0.0,>=2.19.1->azureml-core) (4.0.0)\n",
      "Requirement already satisfied: idna<3,>=2.5 in /home/schrodinger/anaconda3/envs/dpv2sdk/lib/python3.7/site-packages (from requests<3.0.0,>=2.19.1->azureml-core) (2.10)\n",
      "Requirement already satisfied: oauthlib>=3.0.0 in /home/schrodinger/anaconda3/envs/dpv2sdk/lib/python3.7/site-packages (from requests-oauthlib>=0.5.0->msrest<1.0.0,>=0.5.1->azureml-core) (3.1.1)\n",
      "Requirement already satisfied: ruamel.yaml.clib>=0.1.2 in /home/schrodinger/anaconda3/envs/dpv2sdk/lib/python3.7/site-packages (from ruamel.yaml<0.17.5,>=0.15.35->azureml-core) (0.2.4)\n",
      "Requirement already satisfied: jeepney>=0.6 in /home/schrodinger/anaconda3/envs/dpv2sdk/lib/python3.7/site-packages (from SecretStorage<4.0.0->azureml-core) (0.6.0)\n",
      "Requirement already satisfied: mlflow-skinny in /home/schrodinger/anaconda3/envs/dpv2sdk/lib/python3.7/site-packages (from azureml-mlflow) (1.18.0)\n",
      "Requirement already satisfied: backports.weakref in /home/schrodinger/anaconda3/envs/dpv2sdk/lib/python3.7/site-packages (from backports.tempfile->azureml-core) (1.0.post1)\n",
      "Requirement already satisfied: typing-extensions>=3.6.4 in /home/schrodinger/anaconda3/envs/dpv2sdk/lib/python3.7/site-packages (from importlib-metadata->jsonpickle<3.0.0->azureml-core) (3.10.0.0)\n",
      "Requirement already satisfied: zipp>=0.5 in /home/schrodinger/anaconda3/envs/dpv2sdk/lib/python3.7/site-packages (from importlib-metadata->jsonpickle<3.0.0->azureml-core) (3.4.1)\n",
      "Requirement already satisfied: packaging in /home/schrodinger/anaconda3/envs/dpv2sdk/lib/python3.7/site-packages (from mlflow-skinny->azureml-mlflow) (20.9)\n",
      "Requirement already satisfied: cloudpickle in /home/schrodinger/anaconda3/envs/dpv2sdk/lib/python3.7/site-packages (from mlflow-skinny->azureml-mlflow) (1.6.0)\n",
      "Requirement already satisfied: entrypoints in /home/schrodinger/anaconda3/envs/dpv2sdk/lib/python3.7/site-packages (from mlflow-skinny->azureml-mlflow) (0.3)\n",
      "Requirement already satisfied: click>=7.0 in /home/schrodinger/anaconda3/envs/dpv2sdk/lib/python3.7/site-packages (from mlflow-skinny->azureml-mlflow) (8.0.1)\n",
      "Requirement already satisfied: pyyaml>=5.1 in /home/schrodinger/anaconda3/envs/dpv2sdk/lib/python3.7/site-packages (from mlflow-skinny->azureml-mlflow) (5.4.1)\n",
      "Requirement already satisfied: gitpython>=2.1.0 in /home/schrodinger/anaconda3/envs/dpv2sdk/lib/python3.7/site-packages (from mlflow-skinny->azureml-mlflow) (3.1.18)\n",
      "Requirement already satisfied: protobuf>=3.7.0 in /home/schrodinger/anaconda3/envs/dpv2sdk/lib/python3.7/site-packages (from mlflow-skinny->azureml-mlflow) (3.17.3)\n",
      "Requirement already satisfied: databricks-cli>=0.8.7 in /home/schrodinger/anaconda3/envs/dpv2sdk/lib/python3.7/site-packages (from mlflow-skinny->azureml-mlflow) (0.14.3)\n",
      "Requirement already satisfied: tabulate>=0.7.7 in /home/schrodinger/anaconda3/envs/dpv2sdk/lib/python3.7/site-packages (from databricks-cli>=0.8.7->mlflow-skinny->azureml-mlflow) (0.8.9)\n",
      "Requirement already satisfied: gitdb<5,>=4.0.1 in /home/schrodinger/anaconda3/envs/dpv2sdk/lib/python3.7/site-packages (from gitpython>=2.1.0->mlflow-skinny->azureml-mlflow) (4.0.7)\n"
     ]
    },
    {
     "name": "stdout",
     "output_type": "stream",
     "text": [
      "Requirement already satisfied: smmap<5,>=3.0.1 in /home/schrodinger/anaconda3/envs/dpv2sdk/lib/python3.7/site-packages (from gitdb<5,>=4.0.1->gitpython>=2.1.0->mlflow-skinny->azureml-mlflow) (4.0.0)\n",
      "Requirement already satisfied: pyasn1>=0.1.1 in /home/schrodinger/anaconda3/envs/dpv2sdk/lib/python3.7/site-packages (from ndg-httpsclient->azureml-core) (0.4.8)\n",
      "Requirement already satisfied: pyparsing>=2.0.2 in /home/schrodinger/anaconda3/envs/dpv2sdk/lib/python3.7/site-packages (from packaging->mlflow-skinny->azureml-mlflow) (2.4.7)\n",
      "Installing collected packages: docker, azure-mgmt-storage, azure-mgmt-resource\n",
      "  Attempting uninstall: docker\n",
      "    Found existing installation: docker 5.0.0\n",
      "    Uninstalling docker-5.0.0:\n",
      "      Successfully uninstalled docker-5.0.0\n",
      "  Attempting uninstall: azure-mgmt-storage\n",
      "    Found existing installation: azure-mgmt-storage 18.0.0\n",
      "    Uninstalling azure-mgmt-storage-18.0.0:\n",
      "      Successfully uninstalled azure-mgmt-storage-18.0.0\n",
      "  Attempting uninstall: azure-mgmt-resource\n",
      "    Found existing installation: azure-mgmt-resource 18.0.0\n",
      "    Uninstalling azure-mgmt-resource-18.0.0:\n",
      "      Successfully uninstalled azure-mgmt-resource-18.0.0\n",
      "\u001b[31mERROR: pip's dependency resolver does not currently take into account all the packages that are installed. This behaviour is the source of the following dependency conflicts.\n",
      "azure-cli 2.25.0 requires azure-mgmt-resource==18.0.0, but you have azure-mgmt-resource 13.0.0 which is incompatible.\n",
      "azure-cli 2.25.0 requires azure-mgmt-storage~=18.0.0, but you have azure-mgmt-storage 11.2.0 which is incompatible.\n",
      "azure-ml 0.0.86 requires docker>=4.0.0,~=5.0.0, but you have docker 4.4.4 which is incompatible.\u001b[0m\n",
      "Successfully installed azure-mgmt-resource-13.0.0 azure-mgmt-storage-11.2.0 docker-4.4.4\n"
     ]
    }
   ],
   "source": [
    "!pip install azureml-core azureml-mlflow"
   ]
  },
  {
   "cell_type": "code",
   "execution_count": 6,
   "metadata": {},
   "outputs": [
    {
     "name": "stdout",
     "output_type": "stream",
     "text": [
      "\n",
      "Current tracking uri: azureml://master.experiments.azureml-test.net/mlflow/v1.0/subscriptions/381b38e9-9840-4719-a5a0-61d9585e1e91/resourceGroups/gasi_rg_centraleuap/providers/Microsoft.MachineLearningServices/workspaces/gasi_ws_centraleuap?\n"
     ]
    }
   ],
   "source": [
    "import mlflow\n",
    "\n",
    "########\n",
    "# TODO: The API to get tracking URI is not yet available on Worksapce object.\n",
    "from azureml.core import Workspace as WorkspaceV1\n",
    "ws = WorkspaceV1(workspace_name=workspace_name, resource_group=resource_group_name, subscription_id=subscription_id)\n",
    "mlflow.set_tracking_uri(ws.get_mlflow_tracking_uri())\n",
    "del ws\n",
    "########\n",
    "\n",
    "# Not sure why this doesn't work w/o the double + single quotes\n",
    "# mlflow.set_tracking_uri(\"azureml://northeurope.experiments.azureml.net/mlflow/v1.0/subscriptions/381b38e9-9840-4719-a5a0-61d9585e1e91/resourceGroups/gasi_rg_neu/providers/Microsoft.MachineLearningServices/workspaces/gasi_ws_neu?\")\n",
    "mlflow.set_experiment(experiment_name)\n",
    "\n",
    "print(\"\\nCurrent tracking uri: {}\".format(mlflow.get_tracking_uri()))"
   ]
  },
  {
   "cell_type": "markdown",
   "metadata": {},
   "source": [
    "## Create or Attach existing AmlCompute\n",
    "You will need to create a compute target for your AutoML run. In this tutorial, you create AmlCompute as your training compute resource.\n",
    "\n",
    "> Note that if you have an AzureML Data Scientist role, you will not have permission to create compute resources. Talk to your workspace or IT admin to create the compute targets described in this section, if they do not already exist.\n",
    "\n",
    "#### Creation of AmlCompute takes approximately 5 minutes. \n",
    "If the AmlCompute with that name is already in your workspace this code will skip the creation process.\n",
    "As with other Azure services, there are limits on certain resources (e.g. AmlCompute) associated with the Azure Machine Learning service. Please read [this article](https://docs.microsoft.com/en-us/azure/machine-learning/service/how-to-manage-quotas) on the default limits and how to request more quota."
   ]
  },
  {
   "cell_type": "code",
   "execution_count": 24,
   "metadata": {},
   "outputs": [
    {
     "name": "stdout",
     "output_type": "stream",
     "text": [
      "Could not create compute. 'NoneType' object has no attribute 'properties'\n"
     ]
    },
    {
     "data": {
      "text/plain": [
       "AmlCompute({'name': 'cpu-cluster', 'id': '/subscriptions/381b38e9-9840-4719-a5a0-61d9585e1e91/resourceGroups/gasi_rg_centraleuap/providers/Microsoft.MachineLearningServices/workspaces/gasi_ws_centraleuap/computes/cpu-cluster', 'description': None, 'tags': {}, 'properties': {}, 'base_path': './', 'location': 'centraluseuap', 'type': 'amlcompute', 'enable_public_ip': False, 'resource_id': None, 'provisioning_state': 'Succeeded', 'provisioning_errors': None, 'created_on': None, 'size': 'STANDARD_DS2_V2', 'min_instances': 0, 'max_instances': 2, 'idle_time_before_scale_down': 120.0, 'identity_type': None, 'user_assigned_identities': None, 'admin_username': 'azureuser', 'admin_password': None, 'ssh_key_value': None, 'vnet_name': None, 'subnet': None, 'priority': 'Dedicated'})"
      ]
     },
     "execution_count": 24,
     "metadata": {},
     "output_type": "execute_result"
    }
   ],
   "source": [
    "# Set or create compute\n",
    "\n",
    "cpu_cluster_name = \"cpu-cluster\"\n",
    "compute = AmlCompute(\n",
    "    name=cpu_cluster_name, size=\"STANDARD_D13_V2\",\n",
    "    min_instances=0, max_instances=3,\n",
    "    idle_time_before_scale_down=120\n",
    ")\n",
    "\n",
    "# Load directly from YAML file\n",
    "# compute = Compute.load(\"./compute.yaml\")\n",
    "\n",
    "try:\n",
    "    # TODO: This currently results in an exception in Azure ML, please create compute manually.\n",
    "    client.compute.create(compute)\n",
    "except ResourceExistsError as re:\n",
    "    print(re)\n",
    "except Exception as e:\n",
    "    import traceback\n",
    "    \n",
    "    print(\"Could not create compute.\", str(e))\n",
    "#     traceback.print_exc()\n",
    "    # Reload an existing compute target\n",
    "    compute = client.compute.get(cpu_cluster_name)\n",
    "\n",
    "compute"
   ]
  },
  {
   "cell_type": "markdown",
   "metadata": {},
   "source": [
    "# Data"
   ]
  },
  {
   "cell_type": "markdown",
   "metadata": {},
   "source": [
    "### Load Data\n",
    "\n",
    "Leverage azure compute to load the bank marketing dataset as a Tabular Dataset into the dataset variable. "
   ]
  },
  {
   "cell_type": "markdown",
   "metadata": {},
   "source": [
    "### Training Data"
   ]
  },
  {
   "cell_type": "code",
   "execution_count": 25,
   "metadata": {},
   "outputs": [
    {
     "data": {
      "text/html": [
       "<div>\n",
       "<style scoped>\n",
       "    .dataframe tbody tr th:only-of-type {\n",
       "        vertical-align: middle;\n",
       "    }\n",
       "\n",
       "    .dataframe tbody tr th {\n",
       "        vertical-align: top;\n",
       "    }\n",
       "\n",
       "    .dataframe thead th {\n",
       "        text-align: right;\n",
       "    }\n",
       "</style>\n",
       "<table border=\"1\" class=\"dataframe\">\n",
       "  <thead>\n",
       "    <tr style=\"text-align: right;\">\n",
       "      <th></th>\n",
       "      <th>age</th>\n",
       "      <th>job</th>\n",
       "      <th>marital</th>\n",
       "      <th>education</th>\n",
       "      <th>default</th>\n",
       "      <th>housing</th>\n",
       "      <th>loan</th>\n",
       "      <th>contact</th>\n",
       "      <th>month</th>\n",
       "      <th>day_of_week</th>\n",
       "      <th>...</th>\n",
       "      <th>campaign</th>\n",
       "      <th>pdays</th>\n",
       "      <th>previous</th>\n",
       "      <th>poutcome</th>\n",
       "      <th>emp.var.rate</th>\n",
       "      <th>cons.price.idx</th>\n",
       "      <th>cons.conf.idx</th>\n",
       "      <th>euribor3m</th>\n",
       "      <th>nr.employed</th>\n",
       "      <th>y</th>\n",
       "    </tr>\n",
       "  </thead>\n",
       "  <tbody>\n",
       "    <tr>\n",
       "      <th>0</th>\n",
       "      <td>57</td>\n",
       "      <td>technician</td>\n",
       "      <td>married</td>\n",
       "      <td>high.school</td>\n",
       "      <td>no</td>\n",
       "      <td>no</td>\n",
       "      <td>yes</td>\n",
       "      <td>cellular</td>\n",
       "      <td>may</td>\n",
       "      <td>mon</td>\n",
       "      <td>...</td>\n",
       "      <td>1</td>\n",
       "      <td>999</td>\n",
       "      <td>1</td>\n",
       "      <td>failure</td>\n",
       "      <td>-1.8</td>\n",
       "      <td>92.893</td>\n",
       "      <td>-46.2</td>\n",
       "      <td>1.299</td>\n",
       "      <td>5099.1</td>\n",
       "      <td>no</td>\n",
       "    </tr>\n",
       "    <tr>\n",
       "      <th>1</th>\n",
       "      <td>55</td>\n",
       "      <td>unknown</td>\n",
       "      <td>married</td>\n",
       "      <td>unknown</td>\n",
       "      <td>unknown</td>\n",
       "      <td>yes</td>\n",
       "      <td>no</td>\n",
       "      <td>telephone</td>\n",
       "      <td>may</td>\n",
       "      <td>thu</td>\n",
       "      <td>...</td>\n",
       "      <td>2</td>\n",
       "      <td>999</td>\n",
       "      <td>0</td>\n",
       "      <td>nonexistent</td>\n",
       "      <td>1.1</td>\n",
       "      <td>93.994</td>\n",
       "      <td>-36.4</td>\n",
       "      <td>4.860</td>\n",
       "      <td>5191.0</td>\n",
       "      <td>no</td>\n",
       "    </tr>\n",
       "    <tr>\n",
       "      <th>2</th>\n",
       "      <td>33</td>\n",
       "      <td>blue-collar</td>\n",
       "      <td>married</td>\n",
       "      <td>basic.9y</td>\n",
       "      <td>no</td>\n",
       "      <td>no</td>\n",
       "      <td>no</td>\n",
       "      <td>cellular</td>\n",
       "      <td>may</td>\n",
       "      <td>fri</td>\n",
       "      <td>...</td>\n",
       "      <td>1</td>\n",
       "      <td>999</td>\n",
       "      <td>1</td>\n",
       "      <td>failure</td>\n",
       "      <td>-1.8</td>\n",
       "      <td>92.893</td>\n",
       "      <td>-46.2</td>\n",
       "      <td>1.313</td>\n",
       "      <td>5099.1</td>\n",
       "      <td>no</td>\n",
       "    </tr>\n",
       "    <tr>\n",
       "      <th>3</th>\n",
       "      <td>36</td>\n",
       "      <td>admin.</td>\n",
       "      <td>married</td>\n",
       "      <td>high.school</td>\n",
       "      <td>no</td>\n",
       "      <td>no</td>\n",
       "      <td>no</td>\n",
       "      <td>telephone</td>\n",
       "      <td>jun</td>\n",
       "      <td>fri</td>\n",
       "      <td>...</td>\n",
       "      <td>4</td>\n",
       "      <td>999</td>\n",
       "      <td>0</td>\n",
       "      <td>nonexistent</td>\n",
       "      <td>1.4</td>\n",
       "      <td>94.465</td>\n",
       "      <td>-41.8</td>\n",
       "      <td>4.967</td>\n",
       "      <td>5228.1</td>\n",
       "      <td>no</td>\n",
       "    </tr>\n",
       "    <tr>\n",
       "      <th>4</th>\n",
       "      <td>27</td>\n",
       "      <td>housemaid</td>\n",
       "      <td>married</td>\n",
       "      <td>high.school</td>\n",
       "      <td>no</td>\n",
       "      <td>yes</td>\n",
       "      <td>no</td>\n",
       "      <td>cellular</td>\n",
       "      <td>jul</td>\n",
       "      <td>fri</td>\n",
       "      <td>...</td>\n",
       "      <td>2</td>\n",
       "      <td>999</td>\n",
       "      <td>0</td>\n",
       "      <td>nonexistent</td>\n",
       "      <td>1.4</td>\n",
       "      <td>93.918</td>\n",
       "      <td>-42.7</td>\n",
       "      <td>4.963</td>\n",
       "      <td>5228.1</td>\n",
       "      <td>no</td>\n",
       "    </tr>\n",
       "  </tbody>\n",
       "</table>\n",
       "<p>5 rows × 21 columns</p>\n",
       "</div>"
      ],
      "text/plain": [
       "   age          job  marital    education  default housing loan    contact  \\\n",
       "0   57   technician  married  high.school       no      no  yes   cellular   \n",
       "1   55      unknown  married      unknown  unknown     yes   no  telephone   \n",
       "2   33  blue-collar  married     basic.9y       no      no   no   cellular   \n",
       "3   36       admin.  married  high.school       no      no   no  telephone   \n",
       "4   27    housemaid  married  high.school       no     yes   no   cellular   \n",
       "\n",
       "  month day_of_week  ...  campaign  pdays  previous     poutcome emp.var.rate  \\\n",
       "0   may         mon  ...         1    999         1      failure         -1.8   \n",
       "1   may         thu  ...         2    999         0  nonexistent          1.1   \n",
       "2   may         fri  ...         1    999         1      failure         -1.8   \n",
       "3   jun         fri  ...         4    999         0  nonexistent          1.4   \n",
       "4   jul         fri  ...         2    999         0  nonexistent          1.4   \n",
       "\n",
       "   cons.price.idx  cons.conf.idx  euribor3m  nr.employed   y  \n",
       "0          92.893          -46.2      1.299       5099.1  no  \n",
       "1          93.994          -36.4      4.860       5191.0  no  \n",
       "2          92.893          -46.2      1.313       5099.1  no  \n",
       "3          94.465          -41.8      4.967       5228.1  no  \n",
       "4          93.918          -42.7      4.963       5228.1  no  \n",
       "\n",
       "[5 rows x 21 columns]"
      ]
     },
     "execution_count": 25,
     "metadata": {},
     "output_type": "execute_result"
    }
   ],
   "source": [
    "data = pd.read_csv(\"https://automlsamplenotebookdata.blob.core.windows.net/automl-sample-notebook-data/bankmarketing_train.csv\")\n",
    "data.head()"
   ]
  },
  {
   "cell_type": "code",
   "execution_count": 26,
   "metadata": {},
   "outputs": [
    {
     "name": "stderr",
     "output_type": "stream",
     "text": [
      "/home/schrodinger/anaconda3/envs/dpv2sdk/lib/python3.7/site-packages/ipykernel_launcher.py:6: DeprecationWarning: `np.bool` is a deprecated alias for the builtin `bool`. To silence this warning, use `bool` by itself. Doing this will not modify any behavior and is safe. If you specifically wanted the numpy scalar type, use `np.bool_` here.\n",
      "Deprecated in NumPy 1.20; for more details and guidance: https://numpy.org/devdocs/release/1.20.0-notes.html#deprecations\n",
      "  \n"
     ]
    }
   ],
   "source": [
    "# Add missing values in 75% of the lines.\n",
    "import numpy as np\n",
    "\n",
    "missing_rate = 0.75\n",
    "n_missing_samples = int(np.floor(data.shape[0] * missing_rate))\n",
    "missing_samples = np.hstack((np.zeros(data.shape[0] - n_missing_samples, dtype=np.bool), np.ones(n_missing_samples, dtype=np.bool)))\n",
    "rng = np.random.RandomState(0)\n",
    "rng.shuffle(missing_samples)\n",
    "missing_features = rng.randint(0, data.shape[1], n_missing_samples)\n",
    "\n",
    "data.values[np.where(missing_samples)[0], missing_features] = np.nan"
   ]
  },
  {
   "cell_type": "code",
   "execution_count": 27,
   "metadata": {},
   "outputs": [
    {
     "data": {
      "text/plain": [
       "((4118, 21), (4120, 21))"
      ]
     },
     "execution_count": 27,
     "metadata": {},
     "output_type": "execute_result"
    }
   ],
   "source": [
    "# Create validation and test datasets\n",
    "\n",
    "validation_data = pd.read_csv(\"https://automlsamplenotebookdata.blob.core.windows.net/automl-sample-notebook-data/bankmarketing_validate.csv\")\n",
    "test_data = pd.read_csv(\"https://automlsamplenotebookdata.blob.core.windows.net/automl-sample-notebook-data/bankmarketing_test.csv\")\n",
    "\n",
    "validation_data.shape, test_data.shape"
   ]
  },
  {
   "cell_type": "code",
   "execution_count": 28,
   "metadata": {},
   "outputs": [],
   "source": [
    "# Save the CSV file locally, so that it can be uploaded to create a \n",
    "# tabular dataset\n",
    "\n",
    "import os\n",
    "\n",
    "if not os.path.isdir('data'):\n",
    "    os.mkdir('data')\n",
    "    \n",
    "# Save the train-test-valid data to a csv to be uploaded to the datastore\n",
    "data.to_csv(\"data/train_data.csv\", index=False)\n",
    "validation_data.to_csv(\"data/valid_data.csv\", index=False)\n",
    "test_data.to_csv(\"data/test_data.csv\", index=False)"
   ]
  },
  {
   "cell_type": "code",
   "execution_count": 68,
   "metadata": {},
   "outputs": [
    {
     "data": {
      "text/plain": [
       "Data({'is_anonymous': False, 'name': 'bankmarketing_train', 'id': '/subscriptions/381b38e9-9840-4719-a5a0-61d9585e1e91/resourceGroups/gasi_rg_centraleuap/providers/Microsoft.MachineLearningServices/workspaces/gasi_ws_centraleuap/data/bankmarketing_train/versions/1', 'description': None, 'tags': {}, 'properties': {}, 'base_path': './', 'creation_context': <azure.ml._restclient.v2021_03_01_preview.models._models_py3.SystemData object at 0x7f60a3f11150>, 'version': 1, 'datastore': '/subscriptions/381b38e9-9840-4719-a5a0-61d9585e1e91/resourceGroups/gasi_rg_centraleuap/providers/Microsoft.MachineLearningServices/workspaces/gasi_ws_centraleuap/datastores/workspaceblobstore', 'path': 'UI/06-28-2021_072836_UTC/bank_marketing_train_data.csv', 'local_path': None})"
      ]
     },
     "execution_count": 68,
     "metadata": {},
     "output_type": "execute_result"
    }
   ],
   "source": [
    "# TODO: This doesnt' work, ensure dataset is created via. the UI\n",
    "# Create dataset\n",
    "\n",
    "dataset_name = \"bankmarketing_train\"\n",
    "dataset_version = 1\n",
    "\n",
    "try:\n",
    "    training_data = client.data.get(dataset_name, dataset_version)\n",
    "#     training_data = Data(name=dataset_name, version=dataset_version, local_path=\"./data\")\n",
    "#     training_data = client.data.create_or_update(training_data)\n",
    "#     print(\"Uploaded to path  : \", data.path)\n",
    "#     print(\"Datastore location: \", data.datastore)\n",
    "except Exception as e:\n",
    "    print(\"Could not create dataset. \", str(e))\n",
    "\n",
    "training_data"
   ]
  },
  {
   "cell_type": "markdown",
   "metadata": {},
   "source": [
    "### Validation Data"
   ]
  },
  {
   "cell_type": "code",
   "execution_count": 30,
   "metadata": {},
   "outputs": [
    {
     "data": {
      "text/plain": [
       "Data({'is_anonymous': False, 'name': 'bankmarketing_valid', 'id': '/subscriptions/381b38e9-9840-4719-a5a0-61d9585e1e91/resourceGroups/gasi_rg_centraleuap/providers/Microsoft.MachineLearningServices/workspaces/gasi_ws_centraleuap/data/bankmarketing_valid/versions/1', 'description': None, 'tags': {}, 'properties': {}, 'base_path': './', 'creation_context': <azure.ml._restclient.v2021_03_01_preview.models._models_py3.SystemData object at 0x7f1fc0405290>, 'version': 1, 'datastore': '/subscriptions/381b38e9-9840-4719-a5a0-61d9585e1e91/resourceGroups/gasi_rg_centraleuap/providers/Microsoft.MachineLearningServices/workspaces/gasi_ws_centraleuap/datastores/workspaceblobstore', 'path': 'UI/06-28-2021_072923_UTC/bank_marketing_valid_data.csv', 'local_path': None})"
      ]
     },
     "execution_count": 30,
     "metadata": {},
     "output_type": "execute_result"
    }
   ],
   "source": [
    "validation_dataset_name = \"bankmarketing_valid\"\n",
    "validation_data = client.data.get(validation_dataset_name, dataset_version)\n",
    "\n",
    "validation_data"
   ]
  },
  {
   "cell_type": "markdown",
   "metadata": {},
   "source": [
    "### Test Data"
   ]
  },
  {
   "cell_type": "code",
   "execution_count": 69,
   "metadata": {},
   "outputs": [
    {
     "data": {
      "text/plain": [
       "Data({'is_anonymous': False, 'name': 'bankmarketing_test', 'id': '/subscriptions/381b38e9-9840-4719-a5a0-61d9585e1e91/resourceGroups/gasi_rg_centraleuap/providers/Microsoft.MachineLearningServices/workspaces/gasi_ws_centraleuap/data/bankmarketing_test/versions/1', 'description': None, 'tags': {}, 'properties': {}, 'base_path': './', 'creation_context': <azure.ml._restclient.v2021_03_01_preview.models._models_py3.SystemData object at 0x7f604e3c97d0>, 'version': 1, 'datastore': '/subscriptions/381b38e9-9840-4719-a5a0-61d9585e1e91/resourceGroups/gasi_rg_centraleuap/providers/Microsoft.MachineLearningServices/workspaces/gasi_ws_centraleuap/datastores/workspaceblobstore', 'path': 'UI/06-28-2021_072954_UTC/bank_marketing_test_data.csv', 'local_path': None})"
      ]
     },
     "execution_count": 69,
     "metadata": {},
     "output_type": "execute_result"
    }
   ],
   "source": [
    "test_dataset_name = \"bankmarketing_test\"\n",
    "test_data = client.data.get(test_dataset_name, dataset_version)\n",
    "\n",
    "test_data"
   ]
  },
  {
   "cell_type": "markdown",
   "metadata": {},
   "source": [
    "## Train\n",
    "\n",
    "Instantiate a AutoMLConfig object. This defines the settings and data used to run the experiment.\n",
    "\n",
    "|Property|Description|\n",
    "|-|-|\n",
    "|**task**|classification or regression or forecasting|\n",
    "|**primary_metric**|This is the metric that you want to optimize. Classification supports the following primary metrics: <br><i>accuracy</i><br><i>AUC_weighted</i><br><i>average_precision_score_weighted</i><br><i>norm_macro_recall</i><br><i>precision_score_weighted</i>|\n",
    "|**iteration_timeout_minutes**|Time limit in minutes for each iteration.|\n",
    "|**blocked_models** | *List* of *strings* indicating machine learning algorithms for AutoML to avoid in this run. <br><br> Allowed values for **Classification**<br><i>LogisticRegression</i><br><i>SGD</i><br><i>MultinomialNaiveBayes</i><br><i>BernoulliNaiveBayes</i><br><i>SVM</i><br><i>LinearSVM</i><br><i>KNN</i><br><i>DecisionTree</i><br><i>RandomForest</i><br><i>ExtremeRandomTrees</i><br><i>LightGBM</i><br><i>GradientBoosting</i><br><i>TensorFlowDNN</i><br><i>TensorFlowLinearClassifier</i><br><br>Allowed values for **Regression**<br><i>ElasticNet</i><br><i>GradientBoosting</i><br><i>DecisionTree</i><br><i>KNN</i><br><i>LassoLars</i><br><i>SGD</i><br><i>RandomForest</i><br><i>ExtremeRandomTrees</i><br><i>LightGBM</i><br><i>TensorFlowLinearRegressor</i><br><i>TensorFlowDNN</i><br><br>Allowed values for **Forecasting**<br><i>ElasticNet</i><br><i>GradientBoosting</i><br><i>DecisionTree</i><br><i>KNN</i><br><i>LassoLars</i><br><i>SGD</i><br><i>RandomForest</i><br><i>ExtremeRandomTrees</i><br><i>LightGBM</i><br><i>TensorFlowLinearRegressor</i><br><i>TensorFlowDNN</i><br><i>Arima</i><br><i>Prophet</i>|\n",
    "|**allowed_models** |  *List* of *strings* indicating machine learning algorithms for AutoML to use in this run. Same values listed above for **blocked_models** allowed for **allowed_models**.|\n",
    "|**experiment_exit_score**| Value indicating the target for *primary_metric*. <br>Once the target is surpassed the run terminates.|\n",
    "|**experiment_timeout_hours**| Maximum amount of time in hours that all iterations combined can take before the experiment terminates.|\n",
    "|**enable_early_stopping**| Flag to enble early termination if the score is not improving in the short term.|\n",
    "|**featurization**| 'auto' / 'off'  Indicator for whether featurization step should be done automatically or not. Note: If the input data is sparse, featurization cannot be turned on.|\n",
    "|**n_cross_validations**|Number of cross validation splits.|\n",
    "|**training_data**|Input dataset, containing both features and label column.|\n",
    "|**label_column_name**|The name of the label column.|\n",
    "\n",
    "**_You can find more information about primary metrics_** [here](https://docs.microsoft.com/en-us/azure/machine-learning/service/how-to-configure-auto-train#primary-metric)"
   ]
  },
  {
   "cell_type": "code",
   "execution_count": 32,
   "metadata": {},
   "outputs": [
    {
     "data": {
      "text/plain": [
       "AutoMLJob({'name': '7e7a9a95-23d2-4ea7-8b03-8c034afcc48a', 'id': None, 'description': None, 'tags': {}, 'properties': {'save_mlflow': True}, 'base_path': './', 'type': 'automl_job', 'creation_context': None, 'experiment_name': 'classification-bank-marketing-all-features', 'status': None, 'interaction_endpoints': None, 'log_files': None, 'output': None, 'general_settings': <azure.ml._restclient.v2020_09_01_preview.models._models_py3.GeneralSettings object at 0x7f1fbf666450>, 'data_settings': <azure.ml._restclient.v2020_09_01_preview.models._models_py3.DataSettings object at 0x7f1fbf666510>, 'limit_settings': <azure.ml._restclient.v2020_09_01_preview.models._models_py3.LimitSettings object at 0x7f1fbf666310>, 'forecasting_settings': None, 'training_settings': <azure.ml.entities._job.automl.training_settings.TrainingSettings object at 0x7f1fbf666250>, 'featurization_settings': <azure.ml.entities._job.automl.featurization.FeaturizationSettings object at 0x7f1fbf666210>, 'compute': {'instance_count': None, 'target': 'cpu-cluster', 'is_local': False, 'instance_type': None, 'location': None, 'properties': None}})"
      ]
     },
     "execution_count": 32,
     "metadata": {},
     "output_type": "execute_result"
    }
   ],
   "source": [
    "from azure.ml._restclient.v2020_09_01_preview.models import (\n",
    "    GeneralSettings,\n",
    "    DataSettings,\n",
    "    LimitSettings,\n",
    "    TrainingDataSettings,\n",
    "    ValidationDataSettings,\n",
    "    TestDataSettings,\n",
    "    FeaturizationSettings,\n",
    ")\n",
    "\n",
    "from azure.ml.entities._job.automl.training_settings import TrainingSettings\n",
    "from azure.ml.entities._job.automl.featurization import FeaturizationSettings\n",
    "from azure.ml.entities import AutoMLJob, ComputeConfiguration\n",
    "\n",
    "\n",
    "compute_settings = ComputeConfiguration(target=cpu_cluster_name)\n",
    "\n",
    "general_settings = GeneralSettings(\n",
    "    task_type=\"classification\",\n",
    "    primary_metric= \"auc_weighted\",\n",
    "    log_verbosity=\"Info\")\n",
    "\n",
    "limit_settings = LimitSettings(\n",
    "    timeout=60,\n",
    "    trial_timeout=5,\n",
    "    max_concurrent_trials=4,\n",
    "    enable_early_termination=True)\n",
    "\n",
    "training_data_settings = TrainingDataSettings(\n",
    "    dataset_arm_id=\"{}:{}\".format(training_data.name, training_data.version)\n",
    ")\n",
    "validation_data_settings = ValidationDataSettings(\n",
    "    dataset_arm_id=\"{}:{}\".format(validation_data.name, validation_data.version),\n",
    ")\n",
    "\n",
    "data_settings = DataSettings(\n",
    "    training_data=training_data_settings,\n",
    "    target_column_name=\"y\",\n",
    "    validation_data=validation_data_settings\n",
    ")\n",
    "\n",
    "featurization_settings = FeaturizationSettings(\n",
    "    featurization_config=\"auto\"\n",
    ")\n",
    "\n",
    "training_settings = TrainingSettings(\n",
    "    block_list_models=['KNN','LinearSVM'],\n",
    "    enable_onnx_compatible_models=True,\n",
    ")\n",
    "\n",
    "extra_automl_settings = {\"save_mlflow\": True}\n",
    "\n",
    "automl_job = AutoMLJob(\n",
    "    compute=compute_settings,\n",
    "    general_settings=general_settings,\n",
    "    limit_settings=limit_settings,\n",
    "    data_settings=data_settings,\n",
    "    training_settings=training_settings,\n",
    "    featurization_settings=featurization_settings,\n",
    "    properties=extra_automl_settings,\n",
    ")\n",
    "\n",
    "automl_job"
   ]
  },
  {
   "cell_type": "markdown",
   "metadata": {},
   "source": [
    "Call the `submit` method on the experiment object and pass the run configuration. Execution of local runs is synchronous. Depending on the data and the number of iterations this can run for a while. Validation errors and current status will be shown when setting `show_output=True` and the execution will be synchronous."
   ]
  },
  {
   "cell_type": "code",
   "execution_count": 33,
   "metadata": {},
   "outputs": [
    {
     "data": {
      "text/plain": [
       "AutoMLJob({'name': '7e7a9a95-23d2-4ea7-8b03-8c034afcc48a', 'id': '/subscriptions/381b38e9-9840-4719-a5a0-61d9585e1e91/resourceGroups/gasi_rg_centraleuap/providers/Microsoft.MachineLearningServices/workspaces/gasi_ws_centraleuap/jobs/7e7a9a95-23d2-4ea7-8b03-8c034afcc48a', 'description': None, 'tags': {}, 'properties': {'save_mlflow': 'True'}, 'base_path': './', 'type': 'automl_job', 'creation_context': <azure.ml._restclient.v2020_09_01_preview.models._models_py3.SystemData object at 0x7f1fbe3e45d0>, 'experiment_name': 'classification-bank-marketing-all-features', 'status': 'NotStarted', 'interaction_endpoints': {'Tracking': <azure.ml._restclient.v2020_09_01_preview.models._models_py3.JobEndpoint object at 0x7f1fbe3e4890>, 'Studio': <azure.ml._restclient.v2020_09_01_preview.models._models_py3.JobEndpoint object at 0x7f1fbe3e4650>}, 'log_files': None, 'output': None, 'general_settings': <azure.ml._restclient.v2020_09_01_preview.models._models_py3.GeneralSettings object at 0x7f1fbe3e4ad0>, 'data_settings': <azure.ml._restclient.v2020_09_01_preview.models._models_py3.DataSettings object at 0x7f1fbe3e46d0>, 'limit_settings': <azure.ml._restclient.v2020_09_01_preview.models._models_py3.LimitSettings object at 0x7f1fbe3e4790>, 'forecasting_settings': <azure.ml.entities._job.automl.forecasting.ForecastingSettings object at 0x7f1fbf666090>, 'training_settings': <azure.ml.entities._job.automl.training_settings.TrainingSettings object at 0x7f1fbf230d90>, 'featurization_settings': <azure.ml.entities._job.automl.featurization.FeaturizationSettings object at 0x7f1fbf230fd0>, 'compute': {'instance_count': None, 'target': '/subscriptions/381b38e9-9840-4719-a5a0-61d9585e1e91/resourceGroups/gasi_rg_centraleuap/providers/Microsoft.MachineLearningServices/workspaces/gasi_ws_centraleuap/computes/', 'is_local': False, 'instance_type': None, 'location': None, 'properties': None}})"
      ]
     },
     "execution_count": 33,
     "metadata": {},
     "output_type": "execute_result"
    }
   ],
   "source": [
    "created_job = client.jobs.create_or_update(automl_job)\n",
    "created_job"
   ]
  },
  {
   "cell_type": "code",
   "execution_count": 9,
   "metadata": {},
   "outputs": [
    {
     "name": "stdout",
     "output_type": "stream",
     "text": [
      "Studio URL:  https://ml.azure.com/runs/7e7a9a95-23d2-4ea7-8b03-8c034afcc48a?wsid=/subscriptions/381b38e9-9840-4719-a5a0-61d9585e1e91/resourcegroups/gasi_rg_centraleuap/workspaces/gasi_ws_centraleuap&tid=72f988bf-86f1-41af-91ab-2d7cd011db47\n"
     ]
    }
   ],
   "source": [
    "print(\"Studio URL: \", created_job.interaction_endpoints[\"Studio\"].endpoint)"
   ]
  },
  {
   "cell_type": "code",
   "execution_count": 11,
   "metadata": {},
   "outputs": [
    {
     "name": "stdout",
     "output_type": "stream",
     "text": [
      "RunId: 7e7a9a95-23d2-4ea7-8b03-8c034afcc48a\n",
      "Web View: https://ml.azure.com/runs/7e7a9a95-23d2-4ea7-8b03-8c034afcc48a?wsid=/subscriptions/381b38e9-9840-4719-a5a0-61d9585e1e91/resourcegroups/gasi_rg_centraleuap/workspaces/gasi_ws_centraleuap\n",
      "\n",
      "Execution Summary\n",
      "=================\n",
      "RunId: 7e7a9a95-23d2-4ea7-8b03-8c034afcc48a\n",
      "Web View: https://ml.azure.com/runs/7e7a9a95-23d2-4ea7-8b03-8c034afcc48a?wsid=/subscriptions/381b38e9-9840-4719-a5a0-61d9585e1e91/resourcegroups/gasi_rg_centraleuap/workspaces/gasi_ws_centraleuap\n",
      "\n"
     ]
    }
   ],
   "source": [
    "client.jobs.stream(\"7e7a9a95-23d2-4ea7-8b03-8c034afcc48a\")"
   ]
  },
  {
   "cell_type": "markdown",
   "metadata": {},
   "source": [
    "Run the following cell to access previous runs. Uncomment the cell below and update the run_id."
   ]
  },
  {
   "cell_type": "code",
   "execution_count": null,
   "metadata": {},
   "outputs": [],
   "source": [
    "# TODO: Wait for the remote run to complete\n",
    "# remote_run.wait_for_completion()"
   ]
  },
  {
   "cell_type": "code",
   "execution_count": 5,
   "metadata": {},
   "outputs": [
    {
     "name": "stdout",
     "output_type": "stream",
     "text": [
      "Found best child run id:  AutoML_16f21d80-5bb0-4258-b452-da0361219f2b_0\n"
     ]
    },
    {
     "data": {
      "text/plain": [
       "<Run: data=<RunData: metrics={'AUC_macro': 0.9537056697431252,\n",
       " 'AUC_micro': 0.9826734687571428,\n",
       " 'AUC_weighted': 0.9537056697431252,\n",
       " 'accuracy': 0.9237493929091792,\n",
       " 'average_precision_score_macro': 0.8430327340366603,\n",
       " 'average_precision_score_micro': 0.9834011986147951,\n",
       " 'average_precision_score_weighted': 0.959992859687783,\n",
       " 'balanced_accuracy': 0.7717056650246306,\n",
       " 'f1_score_macro': 0.7936078137928921,\n",
       " 'f1_score_micro': 0.9237493929091792,\n",
       " 'f1_score_weighted': 0.9205655010653557,\n",
       " 'log_loss': 0.16640483179348017,\n",
       " 'matthews_correlation': 0.5909070642243929,\n",
       " 'norm_macro_recall': 0.5434113300492611,\n",
       " 'precision_score_macro': 0.8212770320032137,\n",
       " 'precision_score_micro': 0.9237493929091792,\n",
       " 'precision_score_weighted': 0.9188551905972525,\n",
       " 'recall_score_macro': 0.7717056650246306,\n",
       " 'recall_score_micro': 0.9237493929091792,\n",
       " 'recall_score_weighted': 0.9237493929091792,\n",
       " 'weighted_accuracy': 0.9617508999033835}, params={}, tags={'_aml_system_ComputeTargetStatus': '{\"AllocationState\":\"steady\",\"PreparingNodeCount\":0,\"RunningNodeCount\":2,\"CurrentNodeCount\":2}',\n",
       " '_aml_system_automl_is_child_run_end_telemetry_event_logged': 'True',\n",
       " '_aml_system_azureml.automlComponent': 'AutoML',\n",
       " 'mlflow.parentRunId': 'AutoML_16f21d80-5bb0-4258-b452-da0361219f2b',\n",
       " 'mlflow.source.name': 'automl_driver.py',\n",
       " 'mlflow.source.type': 'JOB',\n",
       " 'model_explain_run_id': 'AutoML_16f21d80-5bb0-4258-b452-da0361219f2b_ModelExplain',\n",
       " 'model_explanation': 'True'}>, info=<RunInfo: artifact_uri='azureml://experiments/classification-bank-marketing-all-features/runs/AutoML_16f21d80-5bb0-4258-b452-da0361219f2b_0/artifacts', end_time=1625008891123, experiment_id='61fee340-4387-4cc7-80fb-9010e348cdc1', lifecycle_stage='active', run_id='AutoML_16f21d80-5bb0-4258-b452-da0361219f2b_0', run_uuid='AutoML_16f21d80-5bb0-4258-b452-da0361219f2b_0', start_time=1625008816572, status='FINISHED', user_id='d0b038bb-162b-4d49-b8fe-5786e199f6fb'>>"
      ]
     },
     "execution_count": 5,
     "metadata": {},
     "output_type": "execute_result"
    }
   ],
   "source": [
    "from mlflow.tracking import MlflowClient\n",
    "\n",
    "# TODO: Use this run, as it has MLFlow model stored on the run\n",
    "job_name = \"AutoML_16f21d80-5bb0-4258-b452-da0361219f2b\"\n",
    "# job_name = created_job.name\n",
    "\n",
    "mlflow_client = MlflowClient()\n",
    "mlflow_parent_run = mlflow_client.get_run(job_name)\n",
    "\n",
    "best_child_run_id = mlflow_parent_run.data.tags[\"automl_best_child_run_id\"]\n",
    "print(\"Found best child run id: \", best_child_run_id)\n",
    "\n",
    "best_run_customized = mlflow_client.get_run(best_child_run_id)\n",
    "best_run_customized"
   ]
  },
  {
   "cell_type": "code",
   "execution_count": 9,
   "metadata": {},
   "outputs": [],
   "source": [
    "# This step requires AutoML runtime libraries to be installed\n",
    "# !pip install azureml-train-automl-runtime\n",
    "\n",
    "import mlflow.sklearn\n",
    "\n",
    "fitted_model_customized = mlflow.sklearn.load_model(\"runs:/{}/outputs\".format(best_run_customized.info.run_id))"
   ]
  },
  {
   "cell_type": "markdown",
   "metadata": {},
   "source": [
    "## Transparency\n",
    "\n",
    "View updated featurization summary"
   ]
  },
  {
   "cell_type": "code",
   "execution_count": 11,
   "metadata": {},
   "outputs": [
    {
     "data": {
      "text/html": [
       "<div>\n",
       "<style scoped>\n",
       "    .dataframe tbody tr th:only-of-type {\n",
       "        vertical-align: middle;\n",
       "    }\n",
       "\n",
       "    .dataframe tbody tr th {\n",
       "        vertical-align: top;\n",
       "    }\n",
       "\n",
       "    .dataframe thead th {\n",
       "        text-align: right;\n",
       "    }\n",
       "</style>\n",
       "<table border=\"1\" class=\"dataframe\">\n",
       "  <thead>\n",
       "    <tr style=\"text-align: right;\">\n",
       "      <th></th>\n",
       "      <th>RawFeatureName</th>\n",
       "      <th>TypeDetected</th>\n",
       "      <th>Dropped</th>\n",
       "      <th>EngineeredFeatureCount</th>\n",
       "      <th>Transformations</th>\n",
       "    </tr>\n",
       "  </thead>\n",
       "  <tbody>\n",
       "    <tr>\n",
       "      <th>0</th>\n",
       "      <td>age</td>\n",
       "      <td>Numeric</td>\n",
       "      <td>No</td>\n",
       "      <td>1</td>\n",
       "      <td>[MeanImputer]</td>\n",
       "    </tr>\n",
       "    <tr>\n",
       "      <th>1</th>\n",
       "      <td>duration</td>\n",
       "      <td>Numeric</td>\n",
       "      <td>No</td>\n",
       "      <td>1</td>\n",
       "      <td>[MeanImputer]</td>\n",
       "    </tr>\n",
       "    <tr>\n",
       "      <th>2</th>\n",
       "      <td>emp.var.rate</td>\n",
       "      <td>Numeric</td>\n",
       "      <td>No</td>\n",
       "      <td>1</td>\n",
       "      <td>[MeanImputer]</td>\n",
       "    </tr>\n",
       "    <tr>\n",
       "      <th>3</th>\n",
       "      <td>cons.price.idx</td>\n",
       "      <td>Numeric</td>\n",
       "      <td>No</td>\n",
       "      <td>1</td>\n",
       "      <td>[MeanImputer]</td>\n",
       "    </tr>\n",
       "    <tr>\n",
       "      <th>4</th>\n",
       "      <td>cons.conf.idx</td>\n",
       "      <td>Numeric</td>\n",
       "      <td>No</td>\n",
       "      <td>1</td>\n",
       "      <td>[MeanImputer]</td>\n",
       "    </tr>\n",
       "    <tr>\n",
       "      <th>5</th>\n",
       "      <td>euribor3m</td>\n",
       "      <td>Numeric</td>\n",
       "      <td>No</td>\n",
       "      <td>1</td>\n",
       "      <td>[MeanImputer]</td>\n",
       "    </tr>\n",
       "    <tr>\n",
       "      <th>6</th>\n",
       "      <td>nr.employed</td>\n",
       "      <td>Numeric</td>\n",
       "      <td>No</td>\n",
       "      <td>1</td>\n",
       "      <td>[MeanImputer]</td>\n",
       "    </tr>\n",
       "    <tr>\n",
       "      <th>7</th>\n",
       "      <td>job</td>\n",
       "      <td>Categorical</td>\n",
       "      <td>No</td>\n",
       "      <td>12</td>\n",
       "      <td>[StringCast-CharGramCountVectorizer]</td>\n",
       "    </tr>\n",
       "    <tr>\n",
       "      <th>8</th>\n",
       "      <td>marital</td>\n",
       "      <td>Categorical</td>\n",
       "      <td>No</td>\n",
       "      <td>4</td>\n",
       "      <td>[StringCast-CharGramCountVectorizer]</td>\n",
       "    </tr>\n",
       "    <tr>\n",
       "      <th>9</th>\n",
       "      <td>education</td>\n",
       "      <td>Categorical</td>\n",
       "      <td>No</td>\n",
       "      <td>8</td>\n",
       "      <td>[StringCast-CharGramCountVectorizer]</td>\n",
       "    </tr>\n",
       "    <tr>\n",
       "      <th>10</th>\n",
       "      <td>default</td>\n",
       "      <td>Categorical</td>\n",
       "      <td>No</td>\n",
       "      <td>3</td>\n",
       "      <td>[StringCast-CharGramCountVectorizer]</td>\n",
       "    </tr>\n",
       "    <tr>\n",
       "      <th>11</th>\n",
       "      <td>housing</td>\n",
       "      <td>Categorical</td>\n",
       "      <td>No</td>\n",
       "      <td>3</td>\n",
       "      <td>[StringCast-CharGramCountVectorizer]</td>\n",
       "    </tr>\n",
       "    <tr>\n",
       "      <th>12</th>\n",
       "      <td>loan</td>\n",
       "      <td>Categorical</td>\n",
       "      <td>No</td>\n",
       "      <td>3</td>\n",
       "      <td>[StringCast-CharGramCountVectorizer]</td>\n",
       "    </tr>\n",
       "    <tr>\n",
       "      <th>13</th>\n",
       "      <td>contact</td>\n",
       "      <td>Categorical</td>\n",
       "      <td>No</td>\n",
       "      <td>1</td>\n",
       "      <td>[ModeCatImputer-StringCast-LabelEncoder]</td>\n",
       "    </tr>\n",
       "    <tr>\n",
       "      <th>14</th>\n",
       "      <td>month</td>\n",
       "      <td>Categorical</td>\n",
       "      <td>No</td>\n",
       "      <td>10</td>\n",
       "      <td>[StringCast-CharGramCountVectorizer]</td>\n",
       "    </tr>\n",
       "    <tr>\n",
       "      <th>15</th>\n",
       "      <td>day_of_week</td>\n",
       "      <td>Categorical</td>\n",
       "      <td>No</td>\n",
       "      <td>5</td>\n",
       "      <td>[StringCast-CharGramCountVectorizer]</td>\n",
       "    </tr>\n",
       "    <tr>\n",
       "      <th>16</th>\n",
       "      <td>campaign</td>\n",
       "      <td>Categorical</td>\n",
       "      <td>No</td>\n",
       "      <td>39</td>\n",
       "      <td>[StringCast-CharGramCountVectorizer]</td>\n",
       "    </tr>\n",
       "    <tr>\n",
       "      <th>17</th>\n",
       "      <td>pdays</td>\n",
       "      <td>Categorical</td>\n",
       "      <td>No</td>\n",
       "      <td>26</td>\n",
       "      <td>[StringCast-CharGramCountVectorizer]</td>\n",
       "    </tr>\n",
       "    <tr>\n",
       "      <th>18</th>\n",
       "      <td>previous</td>\n",
       "      <td>Categorical</td>\n",
       "      <td>No</td>\n",
       "      <td>8</td>\n",
       "      <td>[StringCast-CharGramCountVectorizer]</td>\n",
       "    </tr>\n",
       "    <tr>\n",
       "      <th>19</th>\n",
       "      <td>poutcome</td>\n",
       "      <td>Categorical</td>\n",
       "      <td>No</td>\n",
       "      <td>3</td>\n",
       "      <td>[StringCast-CharGramCountVectorizer]</td>\n",
       "    </tr>\n",
       "  </tbody>\n",
       "</table>\n",
       "</div>"
      ],
      "text/plain": [
       "    RawFeatureName TypeDetected Dropped  EngineeredFeatureCount  \\\n",
       "0              age      Numeric      No                       1   \n",
       "1         duration      Numeric      No                       1   \n",
       "2     emp.var.rate      Numeric      No                       1   \n",
       "3   cons.price.idx      Numeric      No                       1   \n",
       "4    cons.conf.idx      Numeric      No                       1   \n",
       "5        euribor3m      Numeric      No                       1   \n",
       "6      nr.employed      Numeric      No                       1   \n",
       "7              job  Categorical      No                      12   \n",
       "8          marital  Categorical      No                       4   \n",
       "9        education  Categorical      No                       8   \n",
       "10         default  Categorical      No                       3   \n",
       "11         housing  Categorical      No                       3   \n",
       "12            loan  Categorical      No                       3   \n",
       "13         contact  Categorical      No                       1   \n",
       "14           month  Categorical      No                      10   \n",
       "15     day_of_week  Categorical      No                       5   \n",
       "16        campaign  Categorical      No                      39   \n",
       "17           pdays  Categorical      No                      26   \n",
       "18        previous  Categorical      No                       8   \n",
       "19        poutcome  Categorical      No                       3   \n",
       "\n",
       "                             Transformations  \n",
       "0                              [MeanImputer]  \n",
       "1                              [MeanImputer]  \n",
       "2                              [MeanImputer]  \n",
       "3                              [MeanImputer]  \n",
       "4                              [MeanImputer]  \n",
       "5                              [MeanImputer]  \n",
       "6                              [MeanImputer]  \n",
       "7       [StringCast-CharGramCountVectorizer]  \n",
       "8       [StringCast-CharGramCountVectorizer]  \n",
       "9       [StringCast-CharGramCountVectorizer]  \n",
       "10      [StringCast-CharGramCountVectorizer]  \n",
       "11      [StringCast-CharGramCountVectorizer]  \n",
       "12      [StringCast-CharGramCountVectorizer]  \n",
       "13  [ModeCatImputer-StringCast-LabelEncoder]  \n",
       "14      [StringCast-CharGramCountVectorizer]  \n",
       "15      [StringCast-CharGramCountVectorizer]  \n",
       "16      [StringCast-CharGramCountVectorizer]  \n",
       "17      [StringCast-CharGramCountVectorizer]  \n",
       "18      [StringCast-CharGramCountVectorizer]  \n",
       "19      [StringCast-CharGramCountVectorizer]  "
      ]
     },
     "execution_count": 11,
     "metadata": {},
     "output_type": "execute_result"
    }
   ],
   "source": [
    "custom_featurizer = fitted_model_customized.named_steps['datatransformer']\n",
    "df = custom_featurizer.get_featurization_summary()\n",
    "pd.DataFrame(data=df)"
   ]
  },
  {
   "cell_type": "markdown",
   "metadata": {},
   "source": [
    "Set `is_user_friendly=False` to get a more detailed summary for the transforms being applied."
   ]
  },
  {
   "cell_type": "code",
   "execution_count": 12,
   "metadata": {},
   "outputs": [
    {
     "data": {
      "text/html": [
       "<div>\n",
       "<style scoped>\n",
       "    .dataframe tbody tr th:only-of-type {\n",
       "        vertical-align: middle;\n",
       "    }\n",
       "\n",
       "    .dataframe tbody tr th {\n",
       "        vertical-align: top;\n",
       "    }\n",
       "\n",
       "    .dataframe thead th {\n",
       "        text-align: right;\n",
       "    }\n",
       "</style>\n",
       "<table border=\"1\" class=\"dataframe\">\n",
       "  <thead>\n",
       "    <tr style=\"text-align: right;\">\n",
       "      <th></th>\n",
       "      <th>RawFeatureName</th>\n",
       "      <th>TypeDetected</th>\n",
       "      <th>Dropped</th>\n",
       "      <th>EngineeredFeatureCount</th>\n",
       "      <th>Transformations</th>\n",
       "      <th>TransformationParams</th>\n",
       "    </tr>\n",
       "  </thead>\n",
       "  <tbody>\n",
       "    <tr>\n",
       "      <th>0</th>\n",
       "      <td>age</td>\n",
       "      <td>Numeric</td>\n",
       "      <td>No</td>\n",
       "      <td>1</td>\n",
       "      <td>[MeanImputer]</td>\n",
       "      <td>{'Transformer1': {'Input': ['age'], 'Transform...</td>\n",
       "    </tr>\n",
       "    <tr>\n",
       "      <th>1</th>\n",
       "      <td>duration</td>\n",
       "      <td>Numeric</td>\n",
       "      <td>No</td>\n",
       "      <td>1</td>\n",
       "      <td>[MeanImputer]</td>\n",
       "      <td>{'Transformer1': {'Input': ['duration'], 'Tran...</td>\n",
       "    </tr>\n",
       "    <tr>\n",
       "      <th>2</th>\n",
       "      <td>emp.var.rate</td>\n",
       "      <td>Numeric</td>\n",
       "      <td>No</td>\n",
       "      <td>1</td>\n",
       "      <td>[MeanImputer]</td>\n",
       "      <td>{'Transformer1': {'Input': ['emp.var.rate'], '...</td>\n",
       "    </tr>\n",
       "    <tr>\n",
       "      <th>3</th>\n",
       "      <td>cons.price.idx</td>\n",
       "      <td>Numeric</td>\n",
       "      <td>No</td>\n",
       "      <td>1</td>\n",
       "      <td>[MeanImputer]</td>\n",
       "      <td>{'Transformer1': {'Input': ['cons.price.idx'],...</td>\n",
       "    </tr>\n",
       "    <tr>\n",
       "      <th>4</th>\n",
       "      <td>cons.conf.idx</td>\n",
       "      <td>Numeric</td>\n",
       "      <td>No</td>\n",
       "      <td>1</td>\n",
       "      <td>[MeanImputer]</td>\n",
       "      <td>{'Transformer1': {'Input': ['cons.conf.idx'], ...</td>\n",
       "    </tr>\n",
       "    <tr>\n",
       "      <th>5</th>\n",
       "      <td>euribor3m</td>\n",
       "      <td>Numeric</td>\n",
       "      <td>No</td>\n",
       "      <td>1</td>\n",
       "      <td>[MeanImputer]</td>\n",
       "      <td>{'Transformer1': {'Input': ['euribor3m'], 'Tra...</td>\n",
       "    </tr>\n",
       "    <tr>\n",
       "      <th>6</th>\n",
       "      <td>nr.employed</td>\n",
       "      <td>Numeric</td>\n",
       "      <td>No</td>\n",
       "      <td>1</td>\n",
       "      <td>[MeanImputer]</td>\n",
       "      <td>{'Transformer1': {'Input': ['nr.employed'], 'T...</td>\n",
       "    </tr>\n",
       "    <tr>\n",
       "      <th>7</th>\n",
       "      <td>job</td>\n",
       "      <td>Categorical</td>\n",
       "      <td>No</td>\n",
       "      <td>12</td>\n",
       "      <td>[StringCast-CharGramCountVectorizer]</td>\n",
       "      <td>{'Transformer1': {'Input': ['job'], 'Transform...</td>\n",
       "    </tr>\n",
       "    <tr>\n",
       "      <th>8</th>\n",
       "      <td>marital</td>\n",
       "      <td>Categorical</td>\n",
       "      <td>No</td>\n",
       "      <td>4</td>\n",
       "      <td>[StringCast-CharGramCountVectorizer]</td>\n",
       "      <td>{'Transformer1': {'Input': ['marital'], 'Trans...</td>\n",
       "    </tr>\n",
       "    <tr>\n",
       "      <th>9</th>\n",
       "      <td>education</td>\n",
       "      <td>Categorical</td>\n",
       "      <td>No</td>\n",
       "      <td>8</td>\n",
       "      <td>[StringCast-CharGramCountVectorizer]</td>\n",
       "      <td>{'Transformer1': {'Input': ['education'], 'Tra...</td>\n",
       "    </tr>\n",
       "    <tr>\n",
       "      <th>10</th>\n",
       "      <td>default</td>\n",
       "      <td>Categorical</td>\n",
       "      <td>No</td>\n",
       "      <td>3</td>\n",
       "      <td>[StringCast-CharGramCountVectorizer]</td>\n",
       "      <td>{'Transformer1': {'Input': ['default'], 'Trans...</td>\n",
       "    </tr>\n",
       "    <tr>\n",
       "      <th>11</th>\n",
       "      <td>housing</td>\n",
       "      <td>Categorical</td>\n",
       "      <td>No</td>\n",
       "      <td>3</td>\n",
       "      <td>[StringCast-CharGramCountVectorizer]</td>\n",
       "      <td>{'Transformer1': {'Input': ['housing'], 'Trans...</td>\n",
       "    </tr>\n",
       "    <tr>\n",
       "      <th>12</th>\n",
       "      <td>loan</td>\n",
       "      <td>Categorical</td>\n",
       "      <td>No</td>\n",
       "      <td>3</td>\n",
       "      <td>[StringCast-CharGramCountVectorizer]</td>\n",
       "      <td>{'Transformer1': {'Input': ['loan'], 'Transfor...</td>\n",
       "    </tr>\n",
       "    <tr>\n",
       "      <th>13</th>\n",
       "      <td>contact</td>\n",
       "      <td>Categorical</td>\n",
       "      <td>No</td>\n",
       "      <td>1</td>\n",
       "      <td>[ModeCatImputer-StringCast-LabelEncoder]</td>\n",
       "      <td>{'Transformer1': {'Input': ['contact'], 'Trans...</td>\n",
       "    </tr>\n",
       "    <tr>\n",
       "      <th>14</th>\n",
       "      <td>month</td>\n",
       "      <td>Categorical</td>\n",
       "      <td>No</td>\n",
       "      <td>10</td>\n",
       "      <td>[StringCast-CharGramCountVectorizer]</td>\n",
       "      <td>{'Transformer1': {'Input': ['month'], 'Transfo...</td>\n",
       "    </tr>\n",
       "    <tr>\n",
       "      <th>15</th>\n",
       "      <td>day_of_week</td>\n",
       "      <td>Categorical</td>\n",
       "      <td>No</td>\n",
       "      <td>5</td>\n",
       "      <td>[StringCast-CharGramCountVectorizer]</td>\n",
       "      <td>{'Transformer1': {'Input': ['day_of_week'], 'T...</td>\n",
       "    </tr>\n",
       "    <tr>\n",
       "      <th>16</th>\n",
       "      <td>campaign</td>\n",
       "      <td>Categorical</td>\n",
       "      <td>No</td>\n",
       "      <td>39</td>\n",
       "      <td>[StringCast-CharGramCountVectorizer]</td>\n",
       "      <td>{'Transformer1': {'Input': ['campaign'], 'Tran...</td>\n",
       "    </tr>\n",
       "    <tr>\n",
       "      <th>17</th>\n",
       "      <td>pdays</td>\n",
       "      <td>Categorical</td>\n",
       "      <td>No</td>\n",
       "      <td>26</td>\n",
       "      <td>[StringCast-CharGramCountVectorizer]</td>\n",
       "      <td>{'Transformer1': {'Input': ['pdays'], 'Transfo...</td>\n",
       "    </tr>\n",
       "    <tr>\n",
       "      <th>18</th>\n",
       "      <td>previous</td>\n",
       "      <td>Categorical</td>\n",
       "      <td>No</td>\n",
       "      <td>8</td>\n",
       "      <td>[StringCast-CharGramCountVectorizer]</td>\n",
       "      <td>{'Transformer1': {'Input': ['previous'], 'Tran...</td>\n",
       "    </tr>\n",
       "    <tr>\n",
       "      <th>19</th>\n",
       "      <td>poutcome</td>\n",
       "      <td>Categorical</td>\n",
       "      <td>No</td>\n",
       "      <td>3</td>\n",
       "      <td>[StringCast-CharGramCountVectorizer]</td>\n",
       "      <td>{'Transformer1': {'Input': ['poutcome'], 'Tran...</td>\n",
       "    </tr>\n",
       "  </tbody>\n",
       "</table>\n",
       "</div>"
      ],
      "text/plain": [
       "    RawFeatureName TypeDetected Dropped  EngineeredFeatureCount  \\\n",
       "0              age      Numeric      No                       1   \n",
       "1         duration      Numeric      No                       1   \n",
       "2     emp.var.rate      Numeric      No                       1   \n",
       "3   cons.price.idx      Numeric      No                       1   \n",
       "4    cons.conf.idx      Numeric      No                       1   \n",
       "5        euribor3m      Numeric      No                       1   \n",
       "6      nr.employed      Numeric      No                       1   \n",
       "7              job  Categorical      No                      12   \n",
       "8          marital  Categorical      No                       4   \n",
       "9        education  Categorical      No                       8   \n",
       "10         default  Categorical      No                       3   \n",
       "11         housing  Categorical      No                       3   \n",
       "12            loan  Categorical      No                       3   \n",
       "13         contact  Categorical      No                       1   \n",
       "14           month  Categorical      No                      10   \n",
       "15     day_of_week  Categorical      No                       5   \n",
       "16        campaign  Categorical      No                      39   \n",
       "17           pdays  Categorical      No                      26   \n",
       "18        previous  Categorical      No                       8   \n",
       "19        poutcome  Categorical      No                       3   \n",
       "\n",
       "                             Transformations  \\\n",
       "0                              [MeanImputer]   \n",
       "1                              [MeanImputer]   \n",
       "2                              [MeanImputer]   \n",
       "3                              [MeanImputer]   \n",
       "4                              [MeanImputer]   \n",
       "5                              [MeanImputer]   \n",
       "6                              [MeanImputer]   \n",
       "7       [StringCast-CharGramCountVectorizer]   \n",
       "8       [StringCast-CharGramCountVectorizer]   \n",
       "9       [StringCast-CharGramCountVectorizer]   \n",
       "10      [StringCast-CharGramCountVectorizer]   \n",
       "11      [StringCast-CharGramCountVectorizer]   \n",
       "12      [StringCast-CharGramCountVectorizer]   \n",
       "13  [ModeCatImputer-StringCast-LabelEncoder]   \n",
       "14      [StringCast-CharGramCountVectorizer]   \n",
       "15      [StringCast-CharGramCountVectorizer]   \n",
       "16      [StringCast-CharGramCountVectorizer]   \n",
       "17      [StringCast-CharGramCountVectorizer]   \n",
       "18      [StringCast-CharGramCountVectorizer]   \n",
       "19      [StringCast-CharGramCountVectorizer]   \n",
       "\n",
       "                                 TransformationParams  \n",
       "0   {'Transformer1': {'Input': ['age'], 'Transform...  \n",
       "1   {'Transformer1': {'Input': ['duration'], 'Tran...  \n",
       "2   {'Transformer1': {'Input': ['emp.var.rate'], '...  \n",
       "3   {'Transformer1': {'Input': ['cons.price.idx'],...  \n",
       "4   {'Transformer1': {'Input': ['cons.conf.idx'], ...  \n",
       "5   {'Transformer1': {'Input': ['euribor3m'], 'Tra...  \n",
       "6   {'Transformer1': {'Input': ['nr.employed'], 'T...  \n",
       "7   {'Transformer1': {'Input': ['job'], 'Transform...  \n",
       "8   {'Transformer1': {'Input': ['marital'], 'Trans...  \n",
       "9   {'Transformer1': {'Input': ['education'], 'Tra...  \n",
       "10  {'Transformer1': {'Input': ['default'], 'Trans...  \n",
       "11  {'Transformer1': {'Input': ['housing'], 'Trans...  \n",
       "12  {'Transformer1': {'Input': ['loan'], 'Transfor...  \n",
       "13  {'Transformer1': {'Input': ['contact'], 'Trans...  \n",
       "14  {'Transformer1': {'Input': ['month'], 'Transfo...  \n",
       "15  {'Transformer1': {'Input': ['day_of_week'], 'T...  \n",
       "16  {'Transformer1': {'Input': ['campaign'], 'Tran...  \n",
       "17  {'Transformer1': {'Input': ['pdays'], 'Transfo...  \n",
       "18  {'Transformer1': {'Input': ['previous'], 'Tran...  \n",
       "19  {'Transformer1': {'Input': ['poutcome'], 'Tran...  "
      ]
     },
     "execution_count": 12,
     "metadata": {},
     "output_type": "execute_result"
    }
   ],
   "source": [
    "df = custom_featurizer.get_featurization_summary(is_user_friendly=False)\n",
    "pd.DataFrame(data=df)"
   ]
  },
  {
   "cell_type": "code",
   "execution_count": 13,
   "metadata": {},
   "outputs": [
    {
     "data": {
      "text/html": [
       "<div>\n",
       "<style scoped>\n",
       "    .dataframe tbody tr th:only-of-type {\n",
       "        vertical-align: middle;\n",
       "    }\n",
       "\n",
       "    .dataframe tbody tr th {\n",
       "        vertical-align: top;\n",
       "    }\n",
       "\n",
       "    .dataframe thead th {\n",
       "        text-align: right;\n",
       "    }\n",
       "</style>\n",
       "<table border=\"1\" class=\"dataframe\">\n",
       "  <thead>\n",
       "    <tr style=\"text-align: right;\">\n",
       "      <th></th>\n",
       "    </tr>\n",
       "  </thead>\n",
       "  <tbody>\n",
       "  </tbody>\n",
       "</table>\n",
       "</div>"
      ],
      "text/plain": [
       "Empty DataFrame\n",
       "Columns: []\n",
       "Index: []"
      ]
     },
     "execution_count": 13,
     "metadata": {},
     "output_type": "execute_result"
    }
   ],
   "source": [
    "df = custom_featurizer.get_stats_feature_type_summary()\n",
    "pd.DataFrame(data=df)"
   ]
  },
  {
   "cell_type": "markdown",
   "metadata": {},
   "source": [
    "## Results"
   ]
  },
  {
   "cell_type": "code",
   "execution_count": null,
   "metadata": {},
   "outputs": [],
   "source": [
    "# Widgets don't exist yet in V2\n",
    "\n",
    "# from azureml.widgets import RunDetails\n",
    "# RunDetails(remote_run).show() "
   ]
  },
  {
   "cell_type": "markdown",
   "metadata": {},
   "source": [
    "### Retrieve the Best Model's explanation\n",
    "Retrieve the explanation from the best_run which includes explanations for engineered features and raw features. Make sure that the run for generating explanations for the best model is completed."
   ]
  },
  {
   "cell_type": "code",
   "execution_count": 20,
   "metadata": {},
   "outputs": [
    {
     "name": "stdout",
     "output_type": "stream",
     "text": [
      "AutoML_16f21d80-5bb0-4258-b452-da0361219f2b_ModelExplain\n"
     ]
    }
   ],
   "source": [
    "# Wait for the best model explanation run to complete\n",
    "\n",
    "model_explainability_run_id = job_name + \"_\" + \"ModelExplain\"\n",
    "print(model_explainability_run_id)\n",
    "\n",
    "model_explainability_run = mlflow_client.get_run(model_explainability_run_id)\n",
    "\n",
    "# TODO: Wait for the remote run to complete\n",
    "assert model_explainability_run.info.status == \"FINISHED\""
   ]
  },
  {
   "cell_type": "markdown",
   "metadata": {},
   "source": [
    "#### Download engineered feature importance from artifact store\n",
    "You can use ExplanationClient to download the engineered feature explanations from the artifact store of the best_run."
   ]
  },
  {
   "cell_type": "code",
   "execution_count": 22,
   "metadata": {},
   "outputs": [],
   "source": [
    "# TODO: This wouldn't work due to v1 Run dependencies for Explanation client\n",
    "\n",
    "# client = ExplanationClient.from_run(best_run)\n",
    "# engineered_explanations = client.download_model_explanation(raw=False)\n",
    "# exp_data = engineered_explanations.get_feature_importance_dict()\n",
    "# exp_data"
   ]
  },
  {
   "cell_type": "markdown",
   "metadata": {},
   "source": [
    "#### Download raw feature importance from artifact store\n",
    "You can use ExplanationClient to download the raw feature explanations from the artifact store of the best_run."
   ]
  },
  {
   "cell_type": "code",
   "execution_count": 23,
   "metadata": {},
   "outputs": [],
   "source": [
    "# TODO: This wouldn't work due to v1 Run dependencies for Explanation client\n",
    "\n",
    "# client = ExplanationClient.from_run(best_run)\n",
    "# engineered_explanations = client.download_model_explanation(raw=True)\n",
    "# exp_data = engineered_explanations.get_feature_importance_dict()\n",
    "# exp_data"
   ]
  },
  {
   "cell_type": "markdown",
   "metadata": {},
   "source": [
    "### Retrieve the Best ONNX Model\n",
    "\n",
    "Below we select the best pipeline from our iterations. The `get_output` method returns the best run and the fitted model. The Model includes the pipeline and any pre-processing.  Overloads on `get_output` allow you to retrieve the best run and fitted model for *any* logged metric or for a particular *iteration*.\n",
    "\n",
    "Set the parameter return_onnx_model=True to retrieve the best ONNX model, instead of the Python model."
   ]
  },
  {
   "cell_type": "code",
   "execution_count": 44,
   "metadata": {},
   "outputs": [
    {
     "name": "stdout",
     "output_type": "stream",
     "text": [
      "<Experiment: artifact_location='', experiment_id='f1c9dd89-f798-42c2-b08c-75fafc18ad2b', lifecycle_stage='active', name='automl-classification-bmarketing-all', tags={}>\n"
     ]
    }
   ],
   "source": [
    "# Search all child runs with a parent id\n",
    "experiment = mlflow_client.get_experiment_by_name(experiment_name)\n",
    "print(experiment)\n",
    "\n",
    "###########################################################################################\n",
    "# Steps:\n",
    "# 1. Get all child runs for the parent run, filtered on runs that have ONNX resource on the properties, \n",
    "# & sorted on primary metrics\n",
    "# 2. Take the head of that list - which will be the best ONNX model\n",
    "\n",
    "# TODO: This filter should work - but currently, the child runs don't have this tag set.\n",
    "# The single quotes around 'mlflow.parentRunId' are required due to a bug in AzureML MLFlow.\n",
    "# query = \"tags.'mlflow.parentRunId' = '{}'\".format(mlflow_parent_run.info.run_id)\n",
    "# print(query)\n",
    "# results = mlflow_client.search_runs(experiment_ids=experiment.experiment_id, filter_string=query)\n",
    "###########################################################################################\n",
    "\n",
    "# print(results[[\"run_id\", \"params.child\", \"tags.mlflow.runName\"]])\n",
    "# results"
   ]
  },
  {
   "cell_type": "code",
   "execution_count": 40,
   "metadata": {},
   "outputs": [
    {
     "name": "stdout",
     "output_type": "stream",
     "text": [
      "Downloaded onnx model to path:  /tmp/artifact_downloads/AutoML_16f21d80-5bb0-4258-b452-da0361219f2b_0/outputs/outputs/model.onnx\n"
     ]
    }
   ],
   "source": [
    "# Assuming the we already have the Run ID which has a valid ONNX model - the code below shows how to retrieve & \n",
    "# load it\n",
    "import os\n",
    "\n",
    "def download_outputs_via_mlflow_client(mlflow_client, run_id, path) -> str:\n",
    "    \"\"\"Download the `path` (file or dir) from the run artifacts, returns the local path download\"\"\"\n",
    "    local_dir = \"/tmp/artifact_downloads/{}\".format(run_id)\n",
    "    local_path = os.path.join(local_dir, path)\n",
    "    if os.path.exists(local_path):\n",
    "        print(\"Directory {} already exists. Skipping download.\".format(os.path.join(local_path, path)))\n",
    "    else:\n",
    "        # download outputs\n",
    "        if not os.path.exists(local_path):\n",
    "            os.makedirs(local_path, exist_ok = False) \n",
    "\n",
    "        local_path = mlflow_client.download_artifacts(run_id, path, local_path)\n",
    "        print(\"Artifacts downloaded to: {}\".format(local_path))\n",
    "        print(\"Artifacts: {}\".format(os.listdir(local_path)))\n",
    "    return local_path\n",
    "\n",
    "output_path = download_outputs_via_mlflow_client(mlflow_client, best_run_customized.info.run_id, \"outputs\")\n",
    "onnx_model_path = os.path.join(output_path, \"model.onnx\")\n",
    "onnx_resource_json_path = os.path.join(output_path, \"model_onnx.json\")\n",
    "\n",
    "print(\"Downloaded onnx model to path: \", onnx_model_path)"
   ]
  },
  {
   "cell_type": "code",
   "execution_count": null,
   "metadata": {},
   "outputs": [],
   "source": [
    "# best_run, onnx_mdl = remote_run.get_output(return_onnx_model=True)"
   ]
  },
  {
   "cell_type": "markdown",
   "metadata": {},
   "source": [
    "### Save the best ONNX model"
   ]
  },
  {
   "cell_type": "code",
   "execution_count": null,
   "metadata": {},
   "outputs": [],
   "source": [
    "# from azureml.automl.runtime.onnx_convert import OnnxConverter\n",
    "# onnx_fl_path = \"./best_model.onnx\"\n",
    "# OnnxConverter.save_onnx_model(onnx_mdl, onnx_fl_path)"
   ]
  },
  {
   "cell_type": "markdown",
   "metadata": {},
   "source": [
    "### Predict with the ONNX model, using onnxruntime package"
   ]
  },
  {
   "cell_type": "code",
   "execution_count": 43,
   "metadata": {},
   "outputs": [
    {
     "name": "stdout",
     "output_type": "stream",
     "text": [
      "['yes' 'no' 'no' ... 'yes' 'no' 'no']\n",
      "[[0.1733194  0.8266806 ]\n",
      " [0.9801272  0.01987278]\n",
      " [0.90318245 0.09681755]\n",
      " ...\n",
      " [0.31706262 0.6829374 ]\n",
      " [0.9961349  0.00386512]\n",
      " [0.99343926 0.00656074]]\n"
     ]
    }
   ],
   "source": [
    "import json\n",
    "\n",
    "def get_onnx_res(onnx_resource_json_path):\n",
    "    with open(onnx_resource_json_path) as f:\n",
    "        onnx_res = json.load(f)\n",
    "    return onnx_res\n",
    "\n",
    "# Loading an ONNX model with MLFlow can be done via.the following, however, we currently don't save the flavor\n",
    "# information in the MLModel file.\n",
    "# mlflow.onnx.load_model(onnx_model_path)\n",
    "\n",
    "# Loading via. OnnxConverter\n",
    "from azureml.automl.runtime.onnx_convert import OnnxConverter\n",
    "from azureml.automl.runtime.onnx_convert import OnnxInferenceHelper\n",
    "\n",
    "fitted_onnx_model = OnnxConverter.load_onnx_model(onnx_model_path)\n",
    "\n",
    "mdl_bytes = fitted_onnx_model.SerializeToString()\n",
    "onnx_res = get_onnx_res(onnx_resource_json_path)\n",
    "\n",
    "onnxrt_helper = OnnxInferenceHelper(mdl_bytes, onnx_res)\n",
    "\n",
    "test_data_url = \"https://automlsamplenotebookdata.blob.core.windows.net/automl-sample-notebook-data/bankmarketing_test.csv\"\n",
    "test_pdf = pd.read_csv(test_data_url)\n",
    "\n",
    "pred_onnx, pred_prob_onnx = onnxrt_helper.predict(test_pdf)\n",
    "\n",
    "print(pred_onnx)\n",
    "print(pred_prob_onnx)"
   ]
  },
  {
   "cell_type": "markdown",
   "metadata": {},
   "source": [
    "## Deploy\n",
    "\n",
    "### Retrieve the Best Model\n",
    "\n",
    "Below we select the best pipeline from our iterations.  The `get_output` method returns the best run and the fitted model. Overloads on `get_output` allow you to retrieve the best run and fitted model for *any* logged metric or for a particular *iteration*."
   ]
  },
  {
   "cell_type": "markdown",
   "metadata": {},
   "source": [
    "#### Widget for Monitoring Runs\n",
    "\n",
    "The widget will first report a \"loading\" status while running the first iteration. After completing the first iteration, an auto-updating graph and table will be shown. The widget will refresh once per minute, so you should see the graph update as child runs complete.\n",
    "\n",
    "**Note:** The widget displays a link at the bottom. Use this link to open a web interface to explore the individual run details"
   ]
  },
  {
   "cell_type": "code",
   "execution_count": 51,
   "metadata": {},
   "outputs": [],
   "source": [
    "# Can't access properties right now - https://msdata.visualstudio.com/Vienna/_workitems/edit/1252056\n",
    "model_name = \"AutoML_model\" # best_run.properties['model_name']\n",
    "\n",
    "# Outputs are already downloaded for the best child run, as part of the ONNX step\n",
    "# script_file_name = 'inference/score.py'\n",
    "# best_run.download_file('outputs/scoring_file_v_1_0_0.py', 'inference/score.py')"
   ]
  },
  {
   "cell_type": "markdown",
   "metadata": {},
   "source": [
    "### Register the Fitted Model for Deployment\n",
    "If neither `metric` nor `iteration` are specified in the `register_model` call, the iteration with the best primary metric is registered."
   ]
  },
  {
   "cell_type": "markdown",
   "metadata": {},
   "source": [
    "### Deploy the model as a Web Service on Azure Container Instance"
   ]
  },
  {
   "cell_type": "code",
   "execution_count": 54,
   "metadata": {},
   "outputs": [
    {
     "name": "stderr",
     "output_type": "stream",
     "text": [
      "Uploading model.pkl: 100%|██████████| 396k/396k [00:00<00:00, 1.13MB/s]\n"
     ]
    },
    {
     "data": {
      "text/plain": [
       "Model({'is_anonymous': False, 'name': 'AutoML_model', 'id': '/subscriptions/381b38e9-9840-4719-a5a0-61d9585e1e91/resourceGroups/gasi_rg_centraleuap/providers/Microsoft.MachineLearningServices/workspaces/gasi_ws_centraleuap/models/AutoML_model/versions/1', 'description': None, 'tags': {}, 'properties': {'azureml.modelFormat': 'CUSTOM'}, 'base_path': './', 'creation_context': <azure.ml._restclient.v2021_03_01_preview.models._models_py3.SystemData object at 0x7f604e38f210>, 'version': 1, 'datastore': '/subscriptions/381b38e9-9840-4719-a5a0-61d9585e1e91/resourceGroups/gasi_rg_centraleuap/providers/Microsoft.MachineLearningServices/workspaces/gasi_ws_centraleuap/datastores/workspaceblobstore', 'path': 'LocalUpload/e708532d0eb3d88d2d9a71590073567f/model.pkl', 'local_path': None, 'utc_time_created': None, 'flavors': {}})"
      ]
     },
     "execution_count": 54,
     "metadata": {},
     "output_type": "execute_result"
    }
   ],
   "source": [
    "from azure.ml.entities._assets import Model\n",
    "\n",
    "# Note: This is not using MLFlow's deployment mechanism at all (flavors, scoring script / examples etc.)\n",
    "# Create / register the model\n",
    "# TODO: This doesn't track the lineage (run id) from which the model is created. \n",
    "azure_model = Model(name=model_name, version=1, local_path=os.path.join(output_path, \"model.pkl\"))\n",
    "azure_model = client.models.create_or_update(azure_model)\n",
    "azure_model"
   ]
  },
  {
   "cell_type": "code",
   "execution_count": 55,
   "metadata": {},
   "outputs": [
    {
     "name": "stderr",
     "output_type": "stream",
     "text": [
      "Successfully registered model 'mlflow_automl_model'.\n",
      "2021/07/06 10:47:01 INFO mlflow.tracking._model_registry.client: Waiting up to 300 seconds for model version to finish creation.                     Model name: mlflow_automl_model, version 1\n",
      "Created version '1' of model 'mlflow_automl_model'.\n"
     ]
    },
    {
     "data": {
      "text/plain": [
       "<ModelVersion: creation_timestamp=1625593628865, current_stage='None', description='', last_updated_timestamp=1625593628865, name='mlflow_automl_model', run_id='AutoML_16f21d80-5bb0-4258-b452-da0361219f2b_0', run_link='', source='azureml://experiments/classification-bank-marketing-all-features/runs/AutoML_16f21d80-5bb0-4258-b452-da0361219f2b_0/artifacts/outputs', status='READY', status_message='', tags={}, user_id='', version='1'>"
      ]
     },
     "execution_count": 55,
     "metadata": {},
     "output_type": "execute_result"
    }
   ],
   "source": [
    "# Register via. MLFlow (Not recommended)\n",
    "mlflow_model = mlflow.register_model(\n",
    "    \"runs:/{}/outputs\".format(best_run_customized.info.run_id),\n",
    "    \"mlflow_automl_model\"\n",
    ")\n",
    "\n",
    "mlflow_model"
   ]
  },
  {
   "cell_type": "code",
   "execution_count": 64,
   "metadata": {},
   "outputs": [
    {
     "name": "stdout",
     "output_type": "stream",
     "text": [
      "Inference File:  /tmp/artifact_downloads/AutoML_16f21d80-5bb0-4258-b452-da0361219f2b_0/outputs/outputs/scoring_file_v_1_0_0.py\n",
      "Conda Environment File:  /tmp/artifact_downloads/AutoML_16f21d80-5bb0-4258-b452-da0361219f2b_0/outputs/outputs/conda.yaml\n"
     ]
    },
    {
     "name": "stderr",
     "output_type": "stream",
     "text": [
      "The deployment request gasi_ws_centraleuap-endpoint-automl-7882909 was accepted. ARM deployment URI for reference: \n",
      "https://ms.portal.azure.com/#blade/HubsExtension/DeploymentDetailsBlade/overview/id/%2Fsubscriptions%2F381b38e9-9840-4719-a5a0-61d9585e1e91%2FresourceGroups%2Fgasi_rg_centraleuap%2Fproviders%2FMicrosoft.Resources%2Fdeployments%2Fgasi_ws_centraleuap-endpoint-automl-7882909\n",
      "Registering environment version (environment-AutoML:1)  Done (3s)\n",
      "Registering model version (AutoML_model:1)  Done (2s)\n",
      "Creating endpoint endpoint-automl ..  Done (23s)\n"
     ]
    },
    {
     "name": "stdout",
     "output_type": "stream",
     "text": [
      "Deployment failed:  (DeploymentFailed) At least one resource deployment operation failed. Please list deployment operations for details. Please see https://aka.ms/DeployOperations for usage details.\n"
     ]
    },
    {
     "name": "stderr",
     "output_type": "stream",
     "text": [
      "Traceback (most recent call last):\n",
      "  File \"/home/schrodinger/anaconda3/envs/dpv2sdk/lib/python3.7/site-packages/azure/core/polling/base_polling.py\", line 482, in run\n",
      "    self._poll()\n",
      "  File \"/home/schrodinger/anaconda3/envs/dpv2sdk/lib/python3.7/site-packages/azure/core/polling/base_polling.py\", line 521, in _poll\n",
      "    raise OperationFailed(\"Operation failed or canceled\")\n",
      "azure.core.polling.base_polling.OperationFailed: Operation failed or canceled\n",
      "\n",
      "During handling of the above exception, another exception occurred:\n",
      "\n",
      "Traceback (most recent call last):\n",
      "  File \"<ipython-input-64-fce66328ac65>\", line 58, in <module>\n",
      "    client.endpoints.create(online_endpoint)\n",
      "  File \"/home/schrodinger/automl/sdk-cli-v2/src/azure-ml/azure/ml/_operations/endpoint_operations.py\", line 214, in create\n",
      "    return self._create_online_endpoint(internal_endpoint=endpoint, no_wait=no_wait)\n",
      "  File \"/home/schrodinger/automl/sdk-cli-v2/src/azure-ml/azure/ml/_operations/endpoint_operations.py\", line 592, in _create_online_endpoint\n",
      "    template=template, resources_being_deployed=resources_being_deployed, wait=not no_wait\n",
      "  File \"/home/schrodinger/automl/sdk-cli-v2/src/azure-ml/azure/ml/_arm_deployments/arm_deployment_executor.py\", line 87, in deploy_resource\n",
      "    raise ex\n",
      "  File \"/home/schrodinger/automl/sdk-cli-v2/src/azure-ml/azure/ml/_arm_deployments/arm_deployment_executor.py\", line 83, in deploy_resource\n",
      "    total_duration = poller.result().properties.duration\n",
      "  File \"/home/schrodinger/anaconda3/envs/dpv2sdk/lib/python3.7/site-packages/azure/core/polling/_poller.py\", line 255, in result\n",
      "    self.wait(timeout)\n",
      "  File \"/home/schrodinger/anaconda3/envs/dpv2sdk/lib/python3.7/site-packages/azure/core/tracing/decorator.py\", line 83, in wrapper_use_tracer\n",
      "    return func(*args, **kwargs)\n",
      "  File \"/home/schrodinger/anaconda3/envs/dpv2sdk/lib/python3.7/site-packages/azure/core/polling/_poller.py\", line 275, in wait\n",
      "    raise self._exception # type: ignore\n",
      "  File \"/home/schrodinger/anaconda3/envs/dpv2sdk/lib/python3.7/site-packages/azure/core/polling/_poller.py\", line 192, in _start\n",
      "    self._polling_method.run()\n",
      "  File \"/home/schrodinger/anaconda3/envs/dpv2sdk/lib/python3.7/site-packages/azure/core/polling/base_polling.py\", line 502, in run\n",
      "    error=err\n",
      "azure.core.exceptions.HttpResponseError: (DeploymentFailed) At least one resource deployment operation failed. Please list deployment operations for details. Please see https://aka.ms/DeployOperations for usage details.\n"
     ]
    }
   ],
   "source": [
    "from azure.ml.entities import Endpoint, ManagedOnlineEndpoint, Environment, \\\n",
    "CodeConfiguration, ManagedOnlineDeployment, ManualScaleSettings, Code\n",
    "\n",
    "inference_script_file_name = os.path.join(output_path, \"scoring_file_v_1_0_0.py\")\n",
    "conda_environment_yaml = os.path.join(output_path, \"conda.yaml\")\n",
    "\n",
    "print(\"Inference File: \", inference_script_file_name)\n",
    "print(\"Conda Environment File: \", conda_environment_yaml)\n",
    "\n",
    "assert os.path.exists(inference_script_file_name)\n",
    "assert os.path.exists(conda_environment_yaml)\n",
    "\n",
    "\n",
    "# Prepare the deployment configuration\n",
    "environment = Environment(\n",
    "    name=\"environment-{}\".format(best_run_customized.info.run_id[:6]),\n",
    "    version=1,\n",
    "    path=\".\",\n",
    "    conda_file=conda_environment_yaml,\n",
    "    docker_image=\"mcr.microsoft.com/azureml/intelmpi2018.3-ubuntu16.04:20210301.v1\",\n",
    ")\n",
    "\n",
    "code = Code(\n",
    "    name=\"environment-{}\".format(best_run_customized.info.run_id[:6]),\n",
    "    version=1,\n",
    "    local_path=inference_script_file_name,\n",
    ")\n",
    "code_configuration = CodeConfiguration(\n",
    "    code=code,\n",
    "    scoring_script=inference_script_file_name\n",
    ")\n",
    "\n",
    "scale_settings = ManualScaleSettings(\n",
    "    scale_type=\"Manual\",\n",
    "    min_instances=1,\n",
    "    max_instances=2,\n",
    "    instance_count=1\n",
    ")\n",
    "deployment = ManagedOnlineDeployment(\n",
    "    name=\"deployment-{}\".format(best_run_customized.info.run_id[:6]),\n",
    "    model=azure_model,\n",
    "    environment=environment,\n",
    "    code_configuration=code_configuration,\n",
    "    instance_type=\"Standard_F2s_v2\",\n",
    "    scale_settings=scale_settings,\n",
    "                                    )\n",
    "online_endpoint = ManagedOnlineEndpoint(\n",
    "    name=\"endpoint-{}\".format(best_run_customized.info.run_id[:6]),\n",
    "    deployments=[deployment],\n",
    "    description=\"Demo model deployment\",\n",
    "    tags={\"deployed_using\": \"sdkv2\"}\n",
    ")\n",
    "##### Loading from YAML\n",
    "# endpoint = Endpoint.load(\"/home/schrodinger/automl/Easy-AutoML-MLOps/notebooks/3-automl-remote-compute-run/endpoint.yml\")\n",
    "\n",
    "try:\n",
    "    client.endpoints.create(online_endpoint)\n",
    "except Exception as e:\n",
    "    import traceback\n",
    "    print(\"Deployment failed: \", str(e))\n",
    "    traceback.print_exc()"
   ]
  },
  {
   "cell_type": "markdown",
   "metadata": {},
   "source": [
    "### Get Logs from a Deployed Web Service\n",
    "\n",
    "Gets logs from a deployed web service."
   ]
  },
  {
   "cell_type": "code",
   "execution_count": 66,
   "metadata": {},
   "outputs": [],
   "source": [
    "# Returns nothing at the moment (?)\n",
    "client.endpoints.get_deployment_logs(online_endpoint.name, deployment.name, lines=200)"
   ]
  },
  {
   "cell_type": "markdown",
   "metadata": {},
   "source": [
    "## Test\n",
    "\n",
    "Now that the model is trained, run the test data through the trained model to get the predicted values.  This calls the ACI web service to do the prediction.\n",
    "\n",
    "Note that the JSON passed to the ACI web service is an array of rows of data.  Each row should either be an array of values in the same order that was used for training or a dictionary where the keys are the same as the column names used for training.  The example below uses dictionary rows."
   ]
  },
  {
   "cell_type": "code",
   "execution_count": null,
   "metadata": {},
   "outputs": [],
   "source": [
    "# Load the bank marketing datasets.\n",
    "from numpy import array"
   ]
  },
  {
   "cell_type": "code",
   "execution_count": null,
   "metadata": {},
   "outputs": [],
   "source": [
    "X_test = test_dataset.drop_columns(columns=['y'])\n",
    "y_test = test_dataset.keep_columns(columns=['y'], validate=True)\n",
    "test_dataset.take(5).to_pandas_dataframe()"
   ]
  },
  {
   "cell_type": "code",
   "execution_count": null,
   "metadata": {},
   "outputs": [],
   "source": [
    "X_test = X_test.to_pandas_dataframe()\n",
    "y_test = y_test.to_pandas_dataframe()"
   ]
  },
  {
   "cell_type": "code",
   "execution_count": null,
   "metadata": {},
   "outputs": [],
   "source": [
    "import json\n",
    "import requests\n",
    "\n",
    "X_test_json = X_test.to_json(orient='records')\n",
    "data = \"{\\\"data\\\": \" + X_test_json +\"}\"\n",
    "headers = {'Content-Type': 'application/json'}\n",
    "\n",
    "resp = requests.post(aci_service.scoring_uri, data, headers=headers)\n",
    "\n",
    "y_pred = json.loads(json.loads(resp.text))['result']"
   ]
  },
  {
   "cell_type": "code",
   "execution_count": null,
   "metadata": {},
   "outputs": [],
   "source": [
    "actual = array(y_test)\n",
    "actual = actual[:,0]\n",
    "print(len(y_pred), \" \", len(actual))"
   ]
  },
  {
   "cell_type": "markdown",
   "metadata": {},
   "source": [
    "### Calculate metrics for the prediction\n",
    "\n",
    "Now visualize the data as a confusion matrix that compared the predicted values against the actual values.\n"
   ]
  },
  {
   "cell_type": "code",
   "execution_count": null,
   "metadata": {},
   "outputs": [],
   "source": [
    "%matplotlib notebook\n",
    "from sklearn.metrics import confusion_matrix\n",
    "import numpy as np\n",
    "import itertools\n",
    "\n",
    "cf =confusion_matrix(actual,y_pred)\n",
    "plt.imshow(cf,cmap=plt.cm.Blues,interpolation='nearest')\n",
    "plt.colorbar()\n",
    "plt.title('Confusion Matrix')\n",
    "plt.xlabel('Predicted')\n",
    "plt.ylabel('Actual')\n",
    "class_labels = ['no','yes']\n",
    "tick_marks = np.arange(len(class_labels))\n",
    "plt.xticks(tick_marks,class_labels)\n",
    "plt.yticks([-0.5,0,1,1.5],['','no','yes',''])\n",
    "# plotting text value inside cells\n",
    "thresh = cf.max() / 2.\n",
    "for i,j in itertools.product(range(cf.shape[0]),range(cf.shape[1])):\n",
    "    plt.text(j,i,format(cf[i,j],'d'),horizontalalignment='center',color='white' if cf[i,j] >thresh else 'black')\n",
    "plt.show()"
   ]
  },
  {
   "cell_type": "markdown",
   "metadata": {},
   "source": [
    "### Delete a Web Service\n",
    "\n",
    "Deletes the specified web service."
   ]
  },
  {
   "cell_type": "code",
   "execution_count": null,
   "metadata": {},
   "outputs": [],
   "source": [
    "client.endpoints.delete(name=online_endpoint.name)"
   ]
  },
  {
   "cell_type": "markdown",
   "metadata": {},
   "source": [
    "## Acknowledgements"
   ]
  },
  {
   "cell_type": "markdown",
   "metadata": {},
   "source": [
    "This Bank Marketing dataset is made available under the Creative Commons (CCO: Public Domain) License: https://creativecommons.org/publicdomain/zero/1.0/. Any rights in individual contents of the database are licensed under the Database Contents License: https://creativecommons.org/publicdomain/zero/1.0/ and is available at: https://www.kaggle.com/janiobachmann/bank-marketing-dataset .\n",
    "\n",
    "_**Acknowledgements**_\n",
    "This data set is originally available within the UCI Machine Learning Database: https://archive.ics.uci.edu/ml/datasets/bank+marketing\n",
    "\n",
    "[Moro et al., 2014] S. Moro, P. Cortez and P. Rita. A Data-Driven Approach to Predict the Success of Bank Telemarketing. Decision Support Systems, Elsevier, 62:22-31, June 2014"
   ]
  }
 ],
 "metadata": {
  "authors": [
   {
    "name": "ratanase"
   }
  ],
  "category": "tutorial",
  "compute": [
   "AML"
  ],
  "datasets": [
   "Bankmarketing"
  ],
  "deployment": [
   "ACI"
  ],
  "exclude_from_index": false,
  "framework": [
   "None"
  ],
  "friendly_name": "Automated ML run with basic edition features.",
  "index_order": 5,
  "kernelspec": {
   "display_name": "Python [conda env:dpv2sdk] *",
   "language": "python",
   "name": "conda-env-dpv2sdk-py"
  },
  "language_info": {
   "codemirror_mode": {
    "name": "ipython",
    "version": 3
   },
   "file_extension": ".py",
   "mimetype": "text/x-python",
   "name": "python",
   "nbconvert_exporter": "python",
   "pygments_lexer": "ipython3",
   "version": "3.7.10"
  },
  "tags": [
   "featurization",
   "explainability",
   "remote_run",
   "AutomatedML"
  ],
  "task": "Classification"
 },
 "nbformat": 4,
 "nbformat_minor": 2
}
