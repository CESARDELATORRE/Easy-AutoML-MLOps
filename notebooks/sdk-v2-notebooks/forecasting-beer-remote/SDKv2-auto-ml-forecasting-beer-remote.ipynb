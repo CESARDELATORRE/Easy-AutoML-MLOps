{
 "cells": [
  {
   "cell_type": "markdown",
   "metadata": {
    "hideCode": false,
    "hidePrompt": false
   },
   "source": [
    "Copyright (c) Microsoft Corporation. All rights reserved.\n",
    "\n",
    "Licensed under the MIT License."
   ]
  },
  {
   "cell_type": "markdown",
   "metadata": {
    "hideCode": false,
    "hidePrompt": false
   },
   "source": [
    "![Impressions](https://PixelServer20190423114238.azurewebsites.net/api/impressions/MachineLearningNotebooks/how-to-use-azureml/automated-machine-learning/forecasting-beer-remote/auto-ml-forecasting-beer-remote.png)"
   ]
  },
  {
   "cell_type": "markdown",
   "metadata": {
    "hideCode": false,
    "hidePrompt": false
   },
   "source": [
    "# Automated Machine Learning\n",
    "**Beer Production Forecasting**\n",
    "\n",
    "## Contents\n",
    "1. [Introduction](#Introduction)\n",
    "1. [Setup](#Setup)\n",
    "1. [Data](#Data)\n",
    "1. [Train](#Train)\n",
    "1. [Evaluate](#Evaluate)"
   ]
  },
  {
   "cell_type": "markdown",
   "metadata": {
    "hideCode": false,
    "hidePrompt": false
   },
   "source": [
    "## Introduction\n",
    "This notebook demonstrates demand forecasting for Beer Production Dataset using AutoML.\n",
    "\n",
    "AutoML highlights here include using Deep Learning forecasts, Arima, Prophet,  Remote Execution and Remote Inferencing, and working with the `forecast` function. Please also look at the additional forecasting notebooks, which document lagging, rolling windows, forecast quantiles, other ways to use the forecast function, and forecaster deployment.\n",
    "\n",
    "Make sure you have executed the [configuration](../../../configuration.ipynb) before running this notebook.\n",
    "\n",
    "Notebook synopsis:\n",
    "\n",
    "1. Creating an Experiment in an existing Workspace\n",
    "2. Configuration and remote run of AutoML for a time-series model exploring Regression learners, Arima, Prophet and DNNs\n",
    "4. Evaluating the fitted model using a rolling test "
   ]
  },
  {
   "cell_type": "markdown",
   "metadata": {
    "hideCode": false,
    "hidePrompt": false
   },
   "source": [
    "## Setup\n"
   ]
  },
  {
   "cell_type": "code",
   "execution_count": 1,
   "metadata": {},
   "outputs": [
    {
     "name": "stdout",
     "output_type": "stream",
     "text": [
      "env: AZURE_EXTENSION_DIR=/home/schrodinger/automl/sdk-cli-v2/src/cli/src\n",
      "env: AZURE_ML_CLI_PRIVATE_FEATURES_ENABLED=true\n"
     ]
    }
   ],
   "source": [
    "%env AZURE_EXTENSION_DIR=/home/schrodinger/automl/sdk-cli-v2/src/cli/src\n",
    "%env AZURE_ML_CLI_PRIVATE_FEATURES_ENABLED=true"
   ]
  },
  {
   "cell_type": "code",
   "execution_count": 2,
   "metadata": {},
   "outputs": [],
   "source": [
    "import azure.ml\n",
    "from azure.ml import MLClient\n",
    "\n",
    "from azure.core.exceptions import ResourceExistsError\n",
    "\n",
    "from azure.ml.entities import Workspace\n",
    "from azure.ml.entities import AmlCompute\n",
    "from azure.ml.entities import Data\n",
    "\n",
    "import pandas as pd\n",
    "from pandas.tseries.frequencies import to_offset\n",
    "from matplotlib import pyplot as plt"
   ]
  },
  {
   "cell_type": "code",
   "execution_count": 5,
   "metadata": {
    "hideCode": false,
    "hidePrompt": false
   },
   "outputs": [],
   "source": [
    "# import os\n",
    "# import azureml.core\n",
    "# import pandas as pd\n",
    "# import numpy as np\n",
    "# import logging\n",
    "# import warnings\n",
    "\n",
    "# from pandas.tseries.frequencies import to_offset\n",
    "\n",
    "# # Squash warning messages for cleaner output in the notebook\n",
    "# warnings.showwarning = lambda *args, **kwargs: None\n",
    "\n",
    "# from azureml.core.workspace import Workspace\n",
    "# from azureml.core.experiment import Experiment\n",
    "# from azureml.train.automl import AutoMLConfig\n",
    "# from matplotlib import pyplot as plt\n",
    "# from sklearn.metrics import mean_absolute_error, mean_squared_error\n",
    "# from azureml.train.estimator import Estimator"
   ]
  },
  {
   "cell_type": "markdown",
   "metadata": {},
   "source": [
    "This sample notebook may use features that are not available in previous versions of the Azure ML SDK."
   ]
  },
  {
   "cell_type": "code",
   "execution_count": 6,
   "metadata": {},
   "outputs": [
    {
     "name": "stdout",
     "output_type": "stream",
     "text": [
      "This notebook was created using version 1.31.0 of the Azure ML SDK\n",
      "You are currently using SDK version 0.0.86 of the Azure ML SDK\n"
     ]
    }
   ],
   "source": [
    "# TODO: Versions need to change\n",
    "print(\"This notebook was created using version 1.31.0 of the Azure ML SDK\")\n",
    "print(\"You are currently using SDK version\", azure.ml.version.VERSION, \"of the Azure ML SDK\")"
   ]
  },
  {
   "cell_type": "markdown",
   "metadata": {
    "hideCode": false,
    "hidePrompt": false
   },
   "source": [
    "As part of the setup you have already created a <b>Workspace</b>. To run AutoML, you also need to create an <b>Experiment</b>. An Experiment corresponds to a prediction problem you are trying to solve, while a Run corresponds to a specific approach to the problem."
   ]
  },
  {
   "cell_type": "code",
   "execution_count": 3,
   "metadata": {
    "hideCode": false,
    "hidePrompt": false
   },
   "outputs": [
    {
     "data": {
      "text/plain": [
       "<azure.ml._ml_client.MLClient at 0x7fd8b661dad0>"
      ]
     },
     "execution_count": 3,
     "metadata": {},
     "output_type": "execute_result"
    }
   ],
   "source": [
    "subscription_id = '381b38e9-9840-4719-a5a0-61d9585e1e91'\n",
    "resource_group_name = 'gasi_rg_centraleuap'\n",
    "workspace_name = \"gasi_ws_centraleuap\"\n",
    "experiment_name = \"beer-remote-cpu\"\n",
    "\n",
    "client = MLClient(subscription_id, resource_group_name, default_workspace_name=workspace_name)\n",
    "\n",
    "client"
   ]
  },
  {
   "cell_type": "code",
   "execution_count": 4,
   "metadata": {},
   "outputs": [
    {
     "name": "stderr",
     "output_type": "stream",
     "text": [
      "Warning: Falling back to use azure cli login credentials.\n",
      "If you run your code in unattended mode, i.e., where you can't give a user input, then we recommend to use ServicePrincipalAuthentication or MsiAuthentication.\n",
      "Please refer to aka.ms/aml-notebook-auth for different authentication mechanisms in azureml-sdk.\n"
     ]
    },
    {
     "name": "stdout",
     "output_type": "stream",
     "text": [
      "\n",
      "Current tracking uri: azureml://master.experiments.azureml-test.net/mlflow/v1.0/subscriptions/381b38e9-9840-4719-a5a0-61d9585e1e91/resourceGroups/gasi_rg_centraleuap/providers/Microsoft.MachineLearningServices/workspaces/gasi_ws_centraleuap?\n"
     ]
    }
   ],
   "source": [
    "import mlflow\n",
    "\n",
    "########\n",
    "# TODO: The API to get tracking URI is not yet available on Worksapce object.\n",
    "from azureml.core import Workspace as WorkspaceV1\n",
    "ws = WorkspaceV1(workspace_name=workspace_name, resource_group=resource_group_name, subscription_id=subscription_id)\n",
    "mlflow.set_tracking_uri(ws.get_mlflow_tracking_uri())\n",
    "########\n",
    "\n",
    "# Not sure why this doesn't work w/o the double + single quotes\n",
    "# mlflow.set_tracking_uri(\"azureml://northeurope.experiments.azureml.net/mlflow/v1.0/subscriptions/381b38e9-9840-4719-a5a0-61d9585e1e91/resourceGroups/gasi_rg_neu/providers/Microsoft.MachineLearningServices/workspaces/gasi_ws_neu?\")\n",
    "mlflow.set_experiment(experiment_name)\n",
    "\n",
    "print(\"\\nCurrent tracking uri: {}\".format(mlflow.get_tracking_uri()))"
   ]
  },
  {
   "cell_type": "markdown",
   "metadata": {
    "hideCode": false,
    "hidePrompt": false
   },
   "source": [
    "### Using AmlCompute\n",
    "You will need to create a [compute target](https://docs.microsoft.com/azure/machine-learning/service/concept-azure-machine-learning-architecture#compute-target) for your AutoML run. In this tutorial, you use `AmlCompute` as your training compute resource.\n",
    "\n",
    "> Note that if you have an AzureML Data Scientist role, you will not have permission to create compute resources. Talk to your workspace or IT admin to create the compute targets described in this section, if they do not already exist."
   ]
  },
  {
   "cell_type": "code",
   "execution_count": 7,
   "metadata": {
    "hideCode": false,
    "hidePrompt": false
   },
   "outputs": [
    {
     "name": "stdout",
     "output_type": "stream",
     "text": [
      "Could not create compute. 'NoneType' object has no attribute 'properties'\n"
     ]
    },
    {
     "data": {
      "text/plain": [
       "AmlCompute({'name': 'cpu-cluster', 'id': '/subscriptions/381b38e9-9840-4719-a5a0-61d9585e1e91/resourceGroups/gasi_rg_centraleuap/providers/Microsoft.MachineLearningServices/workspaces/gasi_ws_centraleuap/computes/cpu-cluster', 'description': None, 'tags': {}, 'properties': {}, 'base_path': './', 'location': 'centraluseuap', 'type': 'amlcompute', 'enable_public_ip': False, 'resource_id': None, 'provisioning_state': 'Succeeded', 'provisioning_errors': None, 'created_on': None, 'size': 'STANDARD_D2_V2', 'min_instances': 0, 'max_instances': 4, 'idle_time_before_scale_down': 120.0, 'identity_type': None, 'user_assigned_identities': None, 'admin_username': 'azureuser', 'admin_password': None, 'ssh_key_value': None, 'vnet_name': None, 'subnet': None, 'priority': 'Dedicated'})"
      ]
     },
     "execution_count": 7,
     "metadata": {},
     "output_type": "execute_result"
    }
   ],
   "source": [
    "# Set or create compute\n",
    "\n",
    "cpu_cluster_name = \"cpu-cluster\"\n",
    "compute = AmlCompute(\n",
    "    name=cpu_cluster_name, size=\"STANDARD_D2_V2\",\n",
    "    min_instances=0, max_instances=3,\n",
    "    idle_time_before_scale_down=120\n",
    ")\n",
    "\n",
    "# Load directly from YAML file\n",
    "# compute = Compute.load(\"./compute.yaml\")\n",
    "\n",
    "try:\n",
    "    # TODO: This currently results in an exception in Azure ML, please create compute manually.\n",
    "    client.compute.create(compute)\n",
    "except ResourceExistsError as re:\n",
    "    print(re)\n",
    "except Exception as e:\n",
    "    import traceback\n",
    "    \n",
    "    print(\"Could not create compute.\", str(e))\n",
    "#     traceback.print_exc()\n",
    "    # Reload an existing compute target\n",
    "    compute = client.compute.get(cpu_cluster_name)\n",
    "\n",
    "compute"
   ]
  },
  {
   "cell_type": "markdown",
   "metadata": {
    "hideCode": false,
    "hidePrompt": false
   },
   "source": [
    "## Data\n",
    "Read Beer demand data from file, and preview data."
   ]
  },
  {
   "cell_type": "markdown",
   "metadata": {
    "hideCode": false,
    "hidePrompt": false
   },
   "source": [
    "Let's set up what we know about the dataset. \n",
    "\n",
    "**Target column** is what we want to forecast.\n",
    "\n",
    "**Time column** is the time axis along which to predict.\n",
    "\n",
    "**Time series identifier columns** are identified by values of the columns listed `time_series_id_column_names`, for example \"store\" and \"item\" if your data has multiple time series of sales, one series for each combination of store and item sold.\n",
    "\n",
    "**Forecast frequency (freq)** This optional parameter represents the period with which the forecast is desired, for example, daily, weekly, yearly, etc. Use this parameter for the correction of time series containing irregular data points or for padding of short time series. The frequency needs to be a pandas offset alias. Please refer to [pandas documentation](https://pandas.pydata.org/pandas-docs/stable/user_guide/timeseries.html#dateoffset-objects) for more information.\n",
    "\n",
    "This dataset has only one time series. Please see the [orange juice notebook](https://github.com/Azure/MachineLearningNotebooks/tree/master/how-to-use-azureml/automated-machine-learning/forecasting-orange-juice-sales) for an example of a multi-time series dataset."
   ]
  },
  {
   "cell_type": "code",
   "execution_count": 7,
   "metadata": {
    "hideCode": false,
    "hidePrompt": false
   },
   "outputs": [
    {
     "data": {
      "image/png": "[encoded data removed]",
      "text/plain": [
       "<Figure size 1440x720 with 2 Axes>"
      ]
     },
     "metadata": {
      "needs_background": "light"
     },
     "output_type": "display_data"
    }
   ],
   "source": [
    "import pandas as pd\n",
    "from pandas import DataFrame\n",
    "from pandas import Grouper\n",
    "from pandas import concat\n",
    "from pandas.plotting import register_matplotlib_converters\n",
    "\n",
    "register_matplotlib_converters()\n",
    "plt.figure(figsize=(20, 10))\n",
    "plt.tight_layout()\n",
    "\n",
    "plt.subplot(2, 1, 1)\n",
    "plt.title('Beer Production By Year')\n",
    "df = pd.read_csv(\"Beer_no_valid_split_train.csv\", parse_dates=True, index_col= 'DATE').drop(columns='grain')\n",
    "test_df = pd.read_csv(\"Beer_no_valid_split_test.csv\", parse_dates=True, index_col= 'DATE').drop(columns='grain')\n",
    "plt.plot(df)\n",
    "\n",
    "plt.subplot(2, 1, 2)\n",
    "plt.title('Beer Production By Month')\n",
    "groups = df.groupby(df.index.month)\n",
    "months = concat([DataFrame(x[1].values) for x in groups], axis=1)\n",
    "months = DataFrame(months)\n",
    "months.columns = range(1,13)\n",
    "months.boxplot()\n",
    "\n",
    "plt.show()"
   ]
  },
  {
   "cell_type": "code",
   "execution_count": 9,
   "metadata": {
    "hideCode": false,
    "hidePrompt": false
   },
   "outputs": [],
   "source": [
    "target_column_name = 'BeerProduction'\n",
    "time_column_name = 'DATE'\n",
    "time_series_id_column_names = []\n",
    "freq = 'M' #Monthly data"
   ]
  },
  {
   "cell_type": "markdown",
   "metadata": {},
   "source": [
    "### Split Training data into Train and Validation set and Upload to Datastores"
   ]
  },
  {
   "cell_type": "code",
   "execution_count": 18,
   "metadata": {
    "hideCode": false,
    "hidePrompt": false
   },
   "outputs": [
    {
     "ename": "AttributeError",
     "evalue": "'AzureBlobDatastore' object has no attribute 'upload_files'",
     "output_type": "error",
     "traceback": [
      "\u001b[0;31m---------------------------------------------------------------------------\u001b[0m",
      "\u001b[0;31mAttributeError\u001b[0m                            Traceback (most recent call last)",
      "\u001b[0;32m<ipython-input-18-209baae874bf>\u001b[0m in \u001b[0;36m<module>\u001b[0;34m\u001b[0m\n\u001b[1;32m     10\u001b[0m \u001b[0;34m\u001b[0m\u001b[0m\n\u001b[1;32m     11\u001b[0m \u001b[0mdatastore\u001b[0m \u001b[0;34m=\u001b[0m \u001b[0mclient\u001b[0m\u001b[0;34m.\u001b[0m\u001b[0mdatastores\u001b[0m\u001b[0;34m.\u001b[0m\u001b[0mget_default\u001b[0m\u001b[0;34m(\u001b[0m\u001b[0;34m)\u001b[0m\u001b[0;34m\u001b[0m\u001b[0;34m\u001b[0m\u001b[0m\n\u001b[0;32m---> 12\u001b[0;31m \u001b[0mdatastore\u001b[0m\u001b[0;34m.\u001b[0m\u001b[0mupload_files\u001b[0m\u001b[0;34m(\u001b[0m\u001b[0mfiles\u001b[0m \u001b[0;34m=\u001b[0m \u001b[0;34m[\u001b[0m\u001b[0;34m'./train.csv'\u001b[0m\u001b[0;34m]\u001b[0m\u001b[0;34m,\u001b[0m \u001b[0mtarget_path\u001b[0m \u001b[0;34m=\u001b[0m \u001b[0;34m'beer-dataset/'\u001b[0m\u001b[0;34m,\u001b[0m \u001b[0moverwrite\u001b[0m \u001b[0;34m=\u001b[0m \u001b[0;32mTrue\u001b[0m\u001b[0;34m,\u001b[0m\u001b[0mshow_progress\u001b[0m \u001b[0;34m=\u001b[0m \u001b[0;32mTrue\u001b[0m\u001b[0;34m)\u001b[0m\u001b[0;34m\u001b[0m\u001b[0;34m\u001b[0m\u001b[0m\n\u001b[0m\u001b[1;32m     13\u001b[0m \u001b[0mdatastore\u001b[0m\u001b[0;34m.\u001b[0m\u001b[0mupload_files\u001b[0m\u001b[0;34m(\u001b[0m\u001b[0mfiles\u001b[0m \u001b[0;34m=\u001b[0m \u001b[0;34m[\u001b[0m\u001b[0;34m'./valid.csv'\u001b[0m\u001b[0;34m]\u001b[0m\u001b[0;34m,\u001b[0m \u001b[0mtarget_path\u001b[0m \u001b[0;34m=\u001b[0m \u001b[0;34m'beer-dataset/'\u001b[0m\u001b[0;34m,\u001b[0m \u001b[0moverwrite\u001b[0m \u001b[0;34m=\u001b[0m \u001b[0;32mTrue\u001b[0m\u001b[0;34m,\u001b[0m\u001b[0mshow_progress\u001b[0m \u001b[0;34m=\u001b[0m \u001b[0;32mTrue\u001b[0m\u001b[0;34m)\u001b[0m\u001b[0;34m\u001b[0m\u001b[0;34m\u001b[0m\u001b[0m\n\u001b[1;32m     14\u001b[0m \u001b[0mdatastore\u001b[0m\u001b[0;34m.\u001b[0m\u001b[0mupload_files\u001b[0m\u001b[0;34m(\u001b[0m\u001b[0mfiles\u001b[0m \u001b[0;34m=\u001b[0m \u001b[0;34m[\u001b[0m\u001b[0;34m'./test.csv'\u001b[0m\u001b[0;34m]\u001b[0m\u001b[0;34m,\u001b[0m \u001b[0mtarget_path\u001b[0m \u001b[0;34m=\u001b[0m \u001b[0;34m'beer-dataset/'\u001b[0m\u001b[0;34m,\u001b[0m \u001b[0moverwrite\u001b[0m \u001b[0;34m=\u001b[0m \u001b[0;32mTrue\u001b[0m\u001b[0;34m,\u001b[0m\u001b[0mshow_progress\u001b[0m \u001b[0;34m=\u001b[0m \u001b[0;32mTrue\u001b[0m\u001b[0;34m)\u001b[0m\u001b[0;34m\u001b[0m\u001b[0;34m\u001b[0m\u001b[0m\n",
      "\u001b[0;31mAttributeError\u001b[0m: 'AzureBlobDatastore' object has no attribute 'upload_files'"
     ]
    }
   ],
   "source": [
    "# TODO: Can't create a tabular dataset at the moment.\n",
    "# Also, AzureBlobDatastore doesn't currently support uploading arbitrary files\n",
    "\n",
    "from helper import split_fraction_by_grain\n",
    "from helper import split_full_for_forecasting\n",
    "\n",
    "train, valid = split_full_for_forecasting(df, time_column_name)\n",
    "train.to_csv(\"train.csv\")\n",
    "valid.to_csv(\"valid.csv\")\n",
    "test_df.to_csv(\"test.csv\")\n",
    "\n",
    "datastore = client.datastores.get_default()\n",
    "datastore.upload_files(files = ['./train.csv'], target_path = 'beer-dataset/', overwrite = True,show_progress = True)\n",
    "datastore.upload_files(files = ['./valid.csv'], target_path = 'beer-dataset/', overwrite = True,show_progress = True)\n",
    "datastore.upload_files(files = ['./test.csv'], target_path = 'beer-dataset/', overwrite = True,show_progress = True)\n",
    "\n",
    "# from azureml.core import Dataset\n",
    "# train_dataset = Dataset.Tabular.from_delimited_files(path = [(datastore, 'beer-dataset/train.csv')])\n",
    "# valid_dataset = Dataset.Tabular.from_delimited_files(path = [(datastore, 'beer-dataset/valid.csv')])\n",
    "# test_dataset = Dataset.Tabular.from_delimited_files(path = [(datastore, 'beer-dataset/test.csv')])"
   ]
  },
  {
   "cell_type": "code",
   "execution_count": 24,
   "metadata": {},
   "outputs": [
    {
     "data": {
      "text/plain": [
       "Data({'is_anonymous': False, 'name': 'beertrain', 'id': '/subscriptions/381b38e9-9840-4719-a5a0-61d9585e1e91/resourceGroups/gasi_rg_centraleuap/providers/Microsoft.MachineLearningServices/workspaces/gasi_ws_centraleuap/data/beertrain/versions/1', 'description': None, 'tags': {}, 'properties': {'_TimeSeries_Column:FineGrainTimestamp_': 'DATE'}, 'base_path': './', 'creation_context': <azure.ml._restclient.v2021_03_01_preview.models._models_py3.SystemData object at 0x7f328730ba10>, 'version': 1, 'datastore': '/subscriptions/381b38e9-9840-4719-a5a0-61d9585e1e91/resourceGroups/gasi_rg_centraleuap/providers/Microsoft.MachineLearningServices/workspaces/gasi_ws_centraleuap/datastores/workspaceblobstore', 'path': 'beer-dataset/train.csv', 'local_path': None})"
      ]
     },
     "execution_count": 24,
     "metadata": {},
     "output_type": "execute_result"
    }
   ],
   "source": [
    "# TODO: This doesnt' work, ensure dataset is created via. the UI\n",
    "# Create dataset\n",
    "\n",
    "dataset_name = \"beertrain\"\n",
    "dataset_version = 1\n",
    "\n",
    "try:\n",
    "    train_dataset = client.data.get(dataset_name, dataset_version)\n",
    "except Exception as e:\n",
    "    print(\"Could not create dataset. \", str(e))\n",
    "\n",
    "train_dataset"
   ]
  },
  {
   "cell_type": "code",
   "execution_count": 25,
   "metadata": {},
   "outputs": [
    {
     "data": {
      "text/plain": [
       "Data({'is_anonymous': False, 'name': 'beertrain', 'id': '/subscriptions/381b38e9-9840-4719-a5a0-61d9585e1e91/resourceGroups/gasi_rg_centraleuap/providers/Microsoft.MachineLearningServices/workspaces/gasi_ws_centraleuap/data/beertrain/versions/1', 'description': None, 'tags': {}, 'properties': {'_TimeSeries_Column:FineGrainTimestamp_': 'DATE'}, 'base_path': './', 'creation_context': <azure.ml._restclient.v2021_03_01_preview.models._models_py3.SystemData object at 0x7f328587d190>, 'version': 1, 'datastore': '/subscriptions/381b38e9-9840-4719-a5a0-61d9585e1e91/resourceGroups/gasi_rg_centraleuap/providers/Microsoft.MachineLearningServices/workspaces/gasi_ws_centraleuap/datastores/workspaceblobstore', 'path': 'beer-dataset/train.csv', 'local_path': None})"
      ]
     },
     "execution_count": 25,
     "metadata": {},
     "output_type": "execute_result"
    }
   ],
   "source": [
    "# TODO: This doesnt' work, ensure dataset is created via. the UI\n",
    "# Create dataset\n",
    "\n",
    "dataset_name = \"beervalid\"\n",
    "dataset_version = 1\n",
    "\n",
    "try:\n",
    "    valid_dataset = client.data.get(dataset_name, dataset_version)\n",
    "except Exception as e:\n",
    "    print(\"Could not create dataset. \", str(e))\n",
    "\n",
    "training_data"
   ]
  },
  {
   "cell_type": "markdown",
   "metadata": {
    "hideCode": false,
    "hidePrompt": false
   },
   "source": [
    "### Setting forecaster maximum horizon \n",
    "\n",
    "The forecast horizon is the number of periods into the future that the model should predict. Here, we set the horizon to 12 periods (i.e. 12 months). Notice that this is much shorter than the number of months in the test set; we will need to use a rolling test to evaluate the performance on the whole test set. For more discussion of forecast horizons and guiding principles for setting them, please see the [energy demand notebook](https://github.com/Azure/MachineLearningNotebooks/tree/master/how-to-use-azureml/automated-machine-learning/forecasting-energy-demand).  "
   ]
  },
  {
   "cell_type": "code",
   "execution_count": 8,
   "metadata": {
    "hideCode": false,
    "hidePrompt": false
   },
   "outputs": [],
   "source": [
    "forecast_horizon = 12"
   ]
  },
  {
   "cell_type": "markdown",
   "metadata": {
    "hideCode": false,
    "hidePrompt": false
   },
   "source": [
    "## Train\n",
    "\n",
    "Instantiate a AutoMLConfig object. This defines the settings and data used to run the experiment.\n",
    "\n",
    "|Property|Description|\n",
    "|-|-|\n",
    "|**task**|forecasting|\n",
    "|**primary_metric**|This is the metric that you want to optimize.<br> Forecasting supports the following primary metrics <br><i>spearman_correlation</i><br><i>normalized_root_mean_squared_error</i><br><i>r2_score</i><br><i>normalized_mean_absolute_error</i>\n",
    "|**iteration_timeout_minutes**|Time limit in minutes for each iteration.|\n",
    "|**training_data**|Input dataset, containing both features and label column.|\n",
    "|**label_column_name**|The name of the label column.|\n",
    "|**enable_dnn**|Enable Forecasting DNNs|\n"
   ]
  },
  {
   "cell_type": "code",
   "execution_count": 31,
   "metadata": {},
   "outputs": [
    {
     "data": {
      "text/plain": [
       "AutoMLJob({'name': '681c6bfa-7604-44cb-aee9-3bb5240b77bf', 'id': None, 'description': None, 'tags': {}, 'properties': {'save_mlflow': True}, 'base_path': './', 'type': 'automl_job', 'creation_context': None, 'experiment_name': 'forecasting-beer-remote', 'status': None, 'interaction_endpoints': None, 'log_files': None, 'output': None, 'general_settings': <azure.ml._restclient.v2020_09_01_preview.models._models_py3.GeneralSettings object at 0x7f32857d6bd0>, 'data_settings': <azure.ml._restclient.v2020_09_01_preview.models._models_py3.DataSettings object at 0x7f32857d6c90>, 'limit_settings': <azure.ml._restclient.v2020_09_01_preview.models._models_py3.LimitSettings object at 0x7f32857d6d90>, 'forecasting_settings': <azure.ml.entities._job.automl.forecasting.ForecastingSettings object at 0x7f32857d6c50>, 'training_settings': <azure.ml.entities._job.automl.training_settings.TrainingSettings object at 0x7f32857d6950>, 'featurization_settings': None, 'compute': {'instance_count': None, 'target': 'cpu-cluster', 'is_local': False, 'instance_type': None, 'location': None, 'properties': None}})"
      ]
     },
     "execution_count": 31,
     "metadata": {},
     "output_type": "execute_result"
    }
   ],
   "source": [
    "from azure.ml._restclient.v2020_09_01_preview.models import (\n",
    "    GeneralSettings,\n",
    "    DataSettings,\n",
    "    LimitSettings,\n",
    "    TrainingDataSettings,\n",
    "    ValidationDataSettings,\n",
    "    TestDataSettings,\n",
    "    FeaturizationSettings,\n",
    ")\n",
    "\n",
    "from azure.ml.entities._job.automl.training_settings import TrainingSettings\n",
    "from azure.ml.entities._job.automl.featurization import FeaturizationSettings\n",
    "from azure.ml.entities import AutoMLJob, ComputeConfiguration\n",
    "\n",
    "from azure.ml.entities._job.automl.forecasting import ForecastingSettings\n",
    "\n",
    "compute_settings = ComputeConfiguration(target=cpu_cluster_name)\n",
    "\n",
    "forecasting_settings = ForecastingSettings(\n",
    "    time_column_name=time_column_name,\n",
    "    forecast_horizon=forecast_horizon,\n",
    "    frequency='MS'\n",
    ")\n",
    "\n",
    "general_settings = GeneralSettings(\n",
    "    task_type=\"forecasting\",\n",
    "    primary_metric= \"normalized_root_mean_squared_error\",\n",
    "    log_verbosity=\"Info\")\n",
    "\n",
    "limit_settings = LimitSettings(\n",
    "    timeout=60,\n",
    "    trial_timeout=5,\n",
    "    max_concurrent_trials=4)\n",
    "\n",
    "training_data_settings = TrainingDataSettings(\n",
    "    dataset_arm_id=\"{}:{}\".format(train_dataset.name, train_dataset.version)\n",
    ")\n",
    "validation_data_settings = ValidationDataSettings(\n",
    "    dataset_arm_id=\"{}:{}\".format(valid_dataset.name, valid_dataset.version),\n",
    ")\n",
    "\n",
    "data_settings = DataSettings(\n",
    "    training_data=training_data_settings,\n",
    "    target_column_name=target_column_name,\n",
    "    validation_data=validation_data_settings\n",
    ")\n",
    "\n",
    "training_settings = TrainingSettings(enable_dnn_training=True)\n",
    "\n",
    "extra_automl_settings = {\"save_mlflow\": True}\n",
    "\n",
    "automl_job = AutoMLJob(\n",
    "    compute=compute_settings,\n",
    "    general_settings=general_settings,\n",
    "    limit_settings=limit_settings,\n",
    "    data_settings=data_settings,\n",
    "    training_settings=training_settings,\n",
    "    forecasting_settings=forecasting_settings,\n",
    "    properties=extra_automl_settings,\n",
    ")\n",
    "\n",
    "automl_job"
   ]
  },
  {
   "cell_type": "code",
   "execution_count": 32,
   "metadata": {
    "hideCode": false,
    "hidePrompt": false
   },
   "outputs": [
    {
     "data": {
      "text/plain": [
       "AutoMLJob({'name': '681c6bfa-7604-44cb-aee9-3bb5240b77bf', 'id': '/subscriptions/381b38e9-9840-4719-a5a0-61d9585e1e91/resourceGroups/gasi_rg_centraleuap/providers/Microsoft.MachineLearningServices/workspaces/gasi_ws_centraleuap/jobs/681c6bfa-7604-44cb-aee9-3bb5240b77bf', 'description': None, 'tags': {}, 'properties': {'save_mlflow': 'True'}, 'base_path': './', 'type': 'automl_job', 'creation_context': <azure.ml._restclient.v2020_09_01_preview.models._models_py3.SystemData object at 0x7f32a6496fd0>, 'experiment_name': 'forecasting-beer-remote', 'status': 'NotStarted', 'interaction_endpoints': {'Tracking': <azure.ml._restclient.v2020_09_01_preview.models._models_py3.JobEndpoint object at 0x7f3285921690>, 'Studio': <azure.ml._restclient.v2020_09_01_preview.models._models_py3.JobEndpoint object at 0x7f3285921150>}, 'log_files': None, 'output': None, 'general_settings': <azure.ml._restclient.v2020_09_01_preview.models._models_py3.GeneralSettings object at 0x7f3285921b50>, 'data_settings': <azure.ml._restclient.v2020_09_01_preview.models._models_py3.DataSettings object at 0x7f32859ad350>, 'limit_settings': <azure.ml._restclient.v2020_09_01_preview.models._models_py3.LimitSettings object at 0x7f3285921610>, 'forecasting_settings': <azure.ml.entities._job.automl.forecasting.ForecastingSettings object at 0x7f328571c590>, 'training_settings': <azure.ml.entities._job.automl.training_settings.TrainingSettings object at 0x7f328571ccd0>, 'featurization_settings': <azure.ml.entities._job.automl.featurization.FeaturizationSettings object at 0x7f328571c9d0>, 'compute': {'instance_count': None, 'target': '/subscriptions/381b38e9-9840-4719-a5a0-61d9585e1e91/resourceGroups/gasi_rg_centraleuap/providers/Microsoft.MachineLearningServices/workspaces/gasi_ws_centraleuap/computes/', 'is_local': False, 'instance_type': None, 'location': None, 'properties': None}})"
      ]
     },
     "execution_count": 32,
     "metadata": {},
     "output_type": "execute_result"
    }
   ],
   "source": [
    "created_job = client.jobs.create_or_update(automl_job)\n",
    "created_job"
   ]
  },
  {
   "cell_type": "markdown",
   "metadata": {
    "hideCode": false,
    "hidePrompt": false
   },
   "source": [
    "We will now run the experiment, starting with 10 iterations of model search. The experiment can be continued for more iterations if more accurate results are required. Validation errors and current status will be shown when setting `show_output=True` and the execution will be synchronous."
   ]
  },
  {
   "cell_type": "code",
   "execution_count": null,
   "metadata": {
    "hideCode": false,
    "hidePrompt": false
   },
   "outputs": [],
   "source": [
    "# If you need to retrieve a run that already started, use the following code\n",
    "# from azureml.train.automl.run import AutoMLRun\n",
    "# remote_run = AutoMLRun(experiment = experiment, run_id = '<replace with your run id>')"
   ]
  },
  {
   "cell_type": "markdown",
   "metadata": {
    "hideCode": false,
    "hidePrompt": false
   },
   "source": [
    "Displaying the run objects gives you links to the visual tools in the Azure Portal. Go try them!"
   ]
  },
  {
   "cell_type": "markdown",
   "metadata": {
    "hideCode": false,
    "hidePrompt": false
   },
   "source": [
    "### Retrieve the Best Model for Each Algorithm\n",
    "Below we select the best pipeline from our iterations. The get_output method on automl_classifier returns the best run and the fitted model for the last fit invocation. There are overloads on get_output that allow you to retrieve the best run and fitted model for any logged metric or a particular iteration."
   ]
  },
  {
   "cell_type": "code",
   "execution_count": 5,
   "metadata": {},
   "outputs": [
    {
     "name": "stdout",
     "output_type": "stream",
     "text": [
      "Found best child run id:  AutoML_b0fca464-fad5-4c96-8f57-3f38dce2d5ed_606\n"
     ]
    },
    {
     "data": {
      "text/plain": [
       "<Run: data=<RunData: metrics={'explained_variance': 0.8447805195931423,\n",
       " 'mean_absolute_error': 537.5881970868414,\n",
       " 'mean_absolute_percentage_error': 4.676106942163443,\n",
       " 'median_absolute_error': 427.9120198889277,\n",
       " 'normalized_mean_absolute_error': 0.06360485057818759,\n",
       " 'normalized_median_absolute_error': 0.05062849265131658,\n",
       " 'normalized_root_mean_squared_error': 0.07772706864579315,\n",
       " 'normalized_root_mean_squared_log_error': 0.042838456892893687,\n",
       " 'r2_score': 0.7972013154757737,\n",
       " 'root_mean_squared_error': 656.9491841942437,\n",
       " 'root_mean_squared_log_error': 0.05704935648989988,\n",
       " 'spearman_correlation': 0.8609613781606004}, params={}, tags={'_aml_system_ComputeTargetStatus': '{\"AllocationState\":\"steady\",\"PreparingNodeCount\":0,\"RunningNodeCount\":4,\"CurrentNodeCount\":4}',\n",
       " '_aml_system_automl_is_child_run_end_telemetry_event_logged': 'True',\n",
       " '_aml_system_azureml.automlComponent': 'AutoML',\n",
       " 'mlflow.parentRunId': 'AutoML_b0fca464-fad5-4c96-8f57-3f38dce2d5ed',\n",
       " 'mlflow.source.name': 'automl_driver.py',\n",
       " 'mlflow.source.type': 'JOB',\n",
       " 'model_explain_run_id': 'AutoML_b0fca464-fad5-4c96-8f57-3f38dce2d5ed_ModelExplain',\n",
       " 'model_explanation': 'True'}>, info=<RunInfo: artifact_uri='azureml://experiments/beer-remote-cpu/runs/AutoML_b0fca464-fad5-4c96-8f57-3f38dce2d5ed_606/artifacts', end_time=1625613305633, experiment_id='23139819-934a-42f0-9052-6f96d85e33ed', lifecycle_stage='active', run_id='AutoML_b0fca464-fad5-4c96-8f57-3f38dce2d5ed_606', run_uuid='AutoML_b0fca464-fad5-4c96-8f57-3f38dce2d5ed_606', start_time=1625613144434, status='FINISHED', user_id='d0b038bb-162b-4d49-b8fe-5786e199f6fb'>>"
      ]
     },
     "execution_count": 5,
     "metadata": {},
     "output_type": "execute_result"
    }
   ],
   "source": [
    "from mlflow.tracking import MlflowClient\n",
    "\n",
    "# TODO: Use this run, as it has MLFlow model stored on the run\n",
    "job_name = \"AutoML_b0fca464-fad5-4c96-8f57-3f38dce2d5ed\"\n",
    "# job_name = created_job.name\n",
    "\n",
    "mlflow_client = MlflowClient()\n",
    "mlflow_parent_run = mlflow_client.get_run(job_name)\n",
    "\n",
    "best_child_run_id = mlflow_parent_run.data.tags[\"automl_best_child_run_id\"]\n",
    "print(\"Found best child run id: \", best_child_run_id)\n",
    "\n",
    "best_run_customized = mlflow_client.get_run(best_child_run_id)\n",
    "best_run_customized"
   ]
  },
  {
   "cell_type": "markdown",
   "metadata": {},
   "source": [
    "For local inferencing, make sure we have the required libs install (e.g. TCNForecaster, fbprophet)"
   ]
  },
  {
   "cell_type": "code",
   "execution_count": 17,
   "metadata": {},
   "outputs": [
    {
     "name": "stdout",
     "output_type": "stream",
     "text": [
      "Requirement already satisfied: pystan==2.19.1.1 in /home/schrodinger/anaconda3/envs/dpv2sdk/lib/python3.7/site-packages (2.19.1.1)\n",
      "Requirement already satisfied: numpy>=1.7 in /home/schrodinger/anaconda3/envs/dpv2sdk/lib/python3.7/site-packages (from pystan==2.19.1.1) (1.18.5)\n",
      "Requirement already satisfied: Cython!=0.25.1,>=0.22 in /home/schrodinger/anaconda3/envs/dpv2sdk/lib/python3.7/site-packages (from pystan==2.19.1.1) (0.29.23)\n",
      "Requirement already satisfied: fbprophet==0.5 in /home/schrodinger/anaconda3/envs/dpv2sdk/lib/python3.7/site-packages (0.5)\n",
      "Requirement already satisfied: matplotlib>=2.0.0 in /home/schrodinger/anaconda3/envs/dpv2sdk/lib/python3.7/site-packages (from fbprophet==0.5) (3.4.2)\n",
      "Requirement already satisfied: pandas>=0.23.4 in /home/schrodinger/anaconda3/envs/dpv2sdk/lib/python3.7/site-packages (from fbprophet==0.5) (0.25.3)\n",
      "Requirement already satisfied: pystan>=2.14 in /home/schrodinger/anaconda3/envs/dpv2sdk/lib/python3.7/site-packages (from fbprophet==0.5) (2.19.1.1)\n",
      "Requirement already satisfied: holidays>=0.9.5 in /home/schrodinger/anaconda3/envs/dpv2sdk/lib/python3.7/site-packages (from fbprophet==0.5) (0.11.1)\n",
      "Requirement already satisfied: setuptools-git>=1.2 in /home/schrodinger/anaconda3/envs/dpv2sdk/lib/python3.7/site-packages (from fbprophet==0.5) (1.2)\n",
      "Requirement already satisfied: Cython>=0.22 in /home/schrodinger/anaconda3/envs/dpv2sdk/lib/python3.7/site-packages (from fbprophet==0.5) (0.29.23)\n",
      "Requirement already satisfied: convertdate>=2.1.2 in /home/schrodinger/anaconda3/envs/dpv2sdk/lib/python3.7/site-packages (from fbprophet==0.5) (2.3.2)\n",
      "Requirement already satisfied: lunardate>=0.1.5 in /home/schrodinger/anaconda3/envs/dpv2sdk/lib/python3.7/site-packages (from fbprophet==0.5) (0.2.0)\n",
      "Requirement already satisfied: numpy>=1.10.0 in /home/schrodinger/anaconda3/envs/dpv2sdk/lib/python3.7/site-packages (from fbprophet==0.5) (1.18.5)\n",
      "Requirement already satisfied: pymeeus<=1,>=0.3.13 in /home/schrodinger/anaconda3/envs/dpv2sdk/lib/python3.7/site-packages (from convertdate>=2.1.2->fbprophet==0.5) (0.5.11)\n",
      "Requirement already satisfied: pytz>=2014.10 in /home/schrodinger/anaconda3/envs/dpv2sdk/lib/python3.7/site-packages (from convertdate>=2.1.2->fbprophet==0.5) (2019.1)\n",
      "Requirement already satisfied: six in /home/schrodinger/anaconda3/envs/dpv2sdk/lib/python3.7/site-packages (from holidays>=0.9.5->fbprophet==0.5) (1.16.0)\n",
      "Requirement already satisfied: korean-lunar-calendar in /home/schrodinger/anaconda3/envs/dpv2sdk/lib/python3.7/site-packages (from holidays>=0.9.5->fbprophet==0.5) (0.2.1)\n",
      "Requirement already satisfied: hijri-converter in /home/schrodinger/anaconda3/envs/dpv2sdk/lib/python3.7/site-packages (from holidays>=0.9.5->fbprophet==0.5) (2.1.3)\n",
      "Requirement already satisfied: python-dateutil in /home/schrodinger/anaconda3/envs/dpv2sdk/lib/python3.7/site-packages (from holidays>=0.9.5->fbprophet==0.5) (2.8.1)\n",
      "Requirement already satisfied: kiwisolver>=1.0.1 in /home/schrodinger/anaconda3/envs/dpv2sdk/lib/python3.7/site-packages (from matplotlib>=2.0.0->fbprophet==0.5) (1.3.1)\n",
      "Requirement already satisfied: pyparsing>=2.2.1 in /home/schrodinger/anaconda3/envs/dpv2sdk/lib/python3.7/site-packages (from matplotlib>=2.0.0->fbprophet==0.5) (2.4.7)\n",
      "Requirement already satisfied: cycler>=0.10 in /home/schrodinger/anaconda3/envs/dpv2sdk/lib/python3.7/site-packages (from matplotlib>=2.0.0->fbprophet==0.5) (0.10.0)\n",
      "Requirement already satisfied: pillow>=6.2.0 in /home/schrodinger/anaconda3/envs/dpv2sdk/lib/python3.7/site-packages (from matplotlib>=2.0.0->fbprophet==0.5) (8.3.0)\n",
      "Collecting holidays==0.9.11\n",
      "  Downloading holidays-0.9.11.tar.gz (81 kB)\n",
      "\u001b[K     |████████████████████████████████| 81 kB 6.8 MB/s  eta 0:00:01\n",
      "\u001b[?25hRequirement already satisfied: python-dateutil in /home/schrodinger/anaconda3/envs/dpv2sdk/lib/python3.7/site-packages (from holidays==0.9.11) (2.8.1)\n",
      "Requirement already satisfied: six in /home/schrodinger/anaconda3/envs/dpv2sdk/lib/python3.7/site-packages (from holidays==0.9.11) (1.16.0)\n",
      "Building wheels for collected packages: holidays\n",
      "  Building wheel for holidays (setup.py) ... \u001b[?25ldone\n",
      "\u001b[?25h  Created wheel for holidays: filename=holidays-0.9.11-py3-none-any.whl size=44779 sha256=7cced6ff3ee9d6ad843a4ef4c592e7be37d4598b231897fdd8ac58f1f3aac7eb\n",
      "  Stored in directory: /home/schrodinger/.cache/pip/wheels/c7/2d/f0/1324bcf0e577829a77f2ac0f1b812e538b8349ca36b1049106\n",
      "Successfully built holidays\n",
      "Installing collected packages: holidays\n",
      "  Attempting uninstall: holidays\n",
      "    Found existing installation: holidays 0.11.1\n",
      "    Uninstalling holidays-0.11.1:\n",
      "      Successfully uninstalled holidays-0.11.1\n",
      "Successfully installed holidays-0.9.11\n"
     ]
    }
   ],
   "source": [
    "!pip install pystan==2.19.1.1\n",
    "!pip install fbprophet==0.5\n",
    "!pip install holidays==0.9.11"
   ]
  },
  {
   "cell_type": "code",
   "execution_count": 6,
   "metadata": {},
   "outputs": [
    {
     "name": "stderr",
     "output_type": "stream",
     "text": [
      "ERROR:fbprophet:Importing plotly failed. Interactive plots will not work.\n"
     ]
    }
   ],
   "source": [
    "import mlflow.sklearn\n",
    "\n",
    "fitted_model = mlflow.sklearn.load_model(\"runs:/{}/outputs\".format(best_run_customized.info.run_id))"
   ]
  },
  {
   "cell_type": "markdown",
   "metadata": {},
   "source": [
    "#### TODO: Do local predictions using the model above"
   ]
  },
  {
   "cell_type": "markdown",
   "metadata": {},
   "source": [
    "#### Remote inferencing\n",
    "\n",
    "Need some form of command job for this"
   ]
  },
  {
   "cell_type": "code",
   "execution_count": null,
   "metadata": {
    "hideCode": false,
    "hidePrompt": false
   },
   "outputs": [],
   "source": [
    "from helper import get_result_df\n",
    "summary_df = get_result_df(remote_run)\n",
    "summary_df"
   ]
  },
  {
   "cell_type": "code",
   "execution_count": null,
   "metadata": {
    "hideCode": false,
    "hidePrompt": false
   },
   "outputs": [],
   "source": [
    "from azureml.core.run import Run\n",
    "from azureml.widgets import RunDetails\n",
    "forecast_model = 'TCNForecaster'\n",
    "if not forecast_model in summary_df['run_id']:\n",
    "    forecast_model = 'ForecastTCN'\n",
    "    \n",
    "best_dnn_run_id = summary_df['run_id'][forecast_model]\n",
    "best_dnn_run = Run(experiment, best_dnn_run_id)"
   ]
  },
  {
   "cell_type": "code",
   "execution_count": null,
   "metadata": {
    "hideCode": false,
    "hidePrompt": false
   },
   "outputs": [],
   "source": [
    "best_dnn_run.parent\n",
    "RunDetails(best_dnn_run.parent).show() "
   ]
  },
  {
   "cell_type": "code",
   "execution_count": null,
   "metadata": {
    "hideCode": false,
    "hidePrompt": false
   },
   "outputs": [],
   "source": [
    "best_dnn_run\n",
    "RunDetails(best_dnn_run).show() "
   ]
  },
  {
   "cell_type": "markdown",
   "metadata": {
    "hideCode": false,
    "hidePrompt": false
   },
   "source": [
    "## Evaluate on Test Data"
   ]
  },
  {
   "cell_type": "markdown",
   "metadata": {
    "hideCode": false,
    "hidePrompt": false
   },
   "source": [
    "We now use the best fitted model from the AutoML Run to make forecasts for the test set.  \n",
    "\n",
    "We always score on the original dataset whose schema matches the training set schema."
   ]
  },
  {
   "cell_type": "code",
   "execution_count": null,
   "metadata": {
    "hideCode": false,
    "hidePrompt": false
   },
   "outputs": [],
   "source": [
    "from azureml.core import Dataset\n",
    "test_dataset = Dataset.Tabular.from_delimited_files(path = [(datastore, 'beer-dataset/tabular/test.csv')])\n",
    "# preview the first 3 rows of the dataset\n",
    "test_dataset.take(5).to_pandas_dataframe()"
   ]
  },
  {
   "cell_type": "code",
   "execution_count": null,
   "metadata": {},
   "outputs": [],
   "source": [
    "compute_target = ws.compute_targets['beer-cluster']\n",
    "test_experiment = Experiment(ws, experiment_name + \"_test\")"
   ]
  },
  {
   "cell_type": "code",
   "execution_count": null,
   "metadata": {
    "hideCode": false,
    "hidePrompt": false
   },
   "outputs": [],
   "source": [
    "import os\n",
    "import shutil\n",
    "\n",
    "script_folder = os.path.join(os.getcwd(), 'inference')\n",
    "os.makedirs(script_folder, exist_ok=True)\n",
    "shutil.copy('infer.py', script_folder)"
   ]
  },
  {
   "cell_type": "code",
   "execution_count": null,
   "metadata": {},
   "outputs": [],
   "source": [
    "from helper import run_inference\n",
    "\n",
    "test_run = run_inference(test_experiment, compute_target, script_folder, best_dnn_run, test_dataset, valid_dataset, forecast_horizon,\n",
    "                 target_column_name, time_column_name, freq)"
   ]
  },
  {
   "cell_type": "code",
   "execution_count": null,
   "metadata": {},
   "outputs": [],
   "source": [
    "RunDetails(test_run).show()"
   ]
  },
  {
   "cell_type": "code",
   "execution_count": null,
   "metadata": {},
   "outputs": [],
   "source": [
    "from helper import run_multiple_inferences\n",
    "\n",
    "summary_df = run_multiple_inferences(summary_df, experiment, test_experiment, compute_target, script_folder, test_dataset, \n",
    "                  valid_dataset, forecast_horizon, target_column_name, time_column_name, freq)"
   ]
  },
  {
   "cell_type": "code",
   "execution_count": null,
   "metadata": {
    "hideCode": false,
    "hidePrompt": false
   },
   "outputs": [],
   "source": [
    "for run_name, run_summary in summary_df.iterrows():\n",
    "    print(run_name)\n",
    "    print(run_summary)\n",
    "    run_id = run_summary.run_id\n",
    "    test_run_id = run_summary.test_run_id\n",
    "    test_run = Run(test_experiment, test_run_id)\n",
    "    test_run.wait_for_completion()\n",
    "    test_score = test_run.get_metrics()[run_summary.primary_metric]\n",
    "    summary_df.loc[summary_df.run_id == run_id, 'Test Score'] = test_score\n",
    "    print(\"Test Score: \", test_score)"
   ]
  },
  {
   "cell_type": "code",
   "execution_count": null,
   "metadata": {
    "hideCode": false,
    "hidePrompt": false
   },
   "outputs": [],
   "source": [
    "summary_df"
   ]
  },
  {
   "cell_type": "code",
   "execution_count": null,
   "metadata": {},
   "outputs": [],
   "source": []
  }
 ],
 "metadata": {
  "authors": [
   {
    "name": "jialiu"
   }
  ],
  "hide_code_all_hidden": false,
  "kernelspec": {
   "display_name": "Python [conda env:dpv2sdk] *",
   "language": "python",
   "name": "conda-env-dpv2sdk-py"
  },
  "language_info": {
   "codemirror_mode": {
    "name": "ipython",
    "version": 3
   },
   "file_extension": ".py",
   "mimetype": "text/x-python",
   "name": "python",
   "nbconvert_exporter": "python",
   "pygments_lexer": "ipython3",
   "version": "3.7.10"
  }
 },
 "nbformat": 4,
 "nbformat_minor": 2
}
