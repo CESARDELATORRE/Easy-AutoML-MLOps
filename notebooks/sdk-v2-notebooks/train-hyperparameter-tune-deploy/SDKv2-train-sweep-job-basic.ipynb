{
 "cells": [
  {
   "cell_type": "markdown",
   "metadata": {},
   "source": [
    "1) Where did environment go?\n",
    "2) How do I turn an AmlCompute into a ComputeConfiguration\n",
    "3) What args are required for Parameterized command?\n",
    "3a) Is \"base_path\" where the script is located?"
   ]
  },
  {
   "cell_type": "code",
   "execution_count": null,
   "metadata": {},
   "outputs": [],
   "source": [
    "# Make workspace\n",
    "%env AZURE_EXTENSION_DIR=/home/schrodinger/automl/sdk-cli-v2/src/cli/src\n",
    "%env AZURE_ML_CLI_PRIVATE_FEATURES_ENABLED=true"
   ]
  },
  {
   "cell_type": "markdown",
   "metadata": {},
   "source": [
    "# Prepare workspace, experiment, and compute"
   ]
  },
  {
   "cell_type": "code",
   "execution_count": null,
   "metadata": {},
   "outputs": [],
   "source": [
    "import azure.ml\n",
    "from azure.ml import MLClient\n",
    "\n",
    "subscription_id = '381b38e9-9840-4719-a5a0-61d9585e1e91'\n",
    "resource_group_name = 'lesam_centraluseuap_rg'\n",
    "workspace_name = \"lesam-master\"\n",
    "experiment_name = \"MySdkV2SweepJobExperiment\"\n",
    "\n",
    "client = MLClient(subscription_id, resource_group_name, default_workspace_name=workspace_name)\n",
    "\n",
    "client"
   ]
  },
  {
   "cell_type": "code",
   "execution_count": null,
   "metadata": {},
   "outputs": [],
   "source": [
    "# Make Compute\n",
    "# choose a name for your cluster\n",
    "from azure.ml.entities import AmlCompute\n",
    "cluster_name = \"cpu-cluster\"\n",
    "\n",
    "try:\n",
    "    compute_target = client.compute.get(cluster_name)\n",
    "    print('Found existing compute target.')\n",
    "except ComputeTargetException:\n",
    "    print('Creating a new compute target...')\n",
    "    compute = AmlCompute(\n",
    "        name=cpu_cluster_name, size=\"STANDARD_D13_V2\",\n",
    "        min_instances=0, max_instances=3,\n",
    "        idle_time_before_scale_down=120\n",
    "    )\n",
    "\n",
    "    # create the cluster\n",
    "    client.compute.create(compute)\n",
    "\n",
    "# use get_status() to get a detailed status for the current cluster. \n",
    "compute_target"
   ]
  },
  {
   "cell_type": "markdown",
   "metadata": {},
   "source": [
    "# Prepare Sweep Job"
   ]
  },
  {
   "cell_type": "code",
   "execution_count": null,
   "metadata": {},
   "outputs": [],
   "source": [
    "# Prepare Early Termination Policy\n",
    "from azure.ml._restclient.v2021_03_01_preview.models import MedianStoppingPolicy\n",
    "early_termination_policy = MedianStoppingPolicy(evaluation_interval=1, delay_evaluation=5)"
   ]
  },
  {
   "cell_type": "code",
   "execution_count": null,
   "metadata": {},
   "outputs": [],
   "source": [
    "# Prepare search space\n",
    "from azure.ml.entities import Choice, Uniform, Randint\n",
    "search_space = {\n",
    "    \"y1\": Choice([\"foo\", \"bar\", \"baz\"]),\n",
    "    \"y2\": Uniform(0, 1),\n",
    "    \"y3\": Randint(999)\n",
    "}"
   ]
  },
  {
   "cell_type": "code",
   "execution_count": null,
   "metadata": {},
   "outputs": [],
   "source": [
    "# Make SweepJob\n",
    "from azure.ml.entities import SweepJob, ParameterizedCommand\n",
    "from azure.ml._restclient.v2021_03_01_preview.models import Objective\n",
    "\n",
    "objective = Objective(goal=\"Maximize\", primary_metric=\"Accuracy\")\n",
    "trial = ParameterizedCommand(\n",
    "    base_path = \".\",\n",
    "    command = 'python example_script.py --x1 $AZUREML_SWEEP_y1 --x2 $AZUREML_SWEEP_y2 --x3 $AZUREML_SWEEP_y3'\n",
    ")"
   ]
  },
  {
   "cell_type": "code",
   "execution_count": null,
   "metadata": {},
   "outputs": [],
   "source": [
    "sweep_job = SweepJob(\n",
    "    algorithm = \"Random\",\n",
    "    search_space = search_space,\n",
    "    objective = objective,\n",
    "    trial = trial,\n",
    "    early_termination = early_termination_policy,\n",
    "    max_concurrent_trials = 2,\n",
    "    max_total_trials = 2,\n",
    "    timeout_minutes = 60,\n",
    ")"
   ]
  },
  {
   "cell_type": "code",
   "execution_count": null,
   "metadata": {},
   "outputs": [],
   "source": [
    "# Submit\n",
    "created_job = client.jobs.create_or_update(sweep_job)\n",
    "created_job"
   ]
  },
  {
   "cell_type": "code",
   "execution_count": null,
   "metadata": {},
   "outputs": [],
   "source": []
  }
 ],
 "metadata": {
  "kernelspec": {
   "display_name": "sdkv2",
   "language": "python",
   "name": "sdkv2"
  },
  "language_info": {
   "codemirror_mode": {
    "name": "ipython",
    "version": 3
   },
   "file_extension": ".py",
   "mimetype": "text/x-python",
   "name": "python",
   "nbconvert_exporter": "python",
   "pygments_lexer": "ipython3",
   "version": "3.7.4"
  }
 },
 "nbformat": 4,
 "nbformat_minor": 4
}
