{
 "cells": [
  {
   "cell_type": "markdown",
   "metadata": {},
   "source": [
    "Copyright (c) Microsoft Corporation. All rights reserved.\n",
    "\n",
    "Licensed under the MIT License."
   ]
  },
  {
   "cell_type": "markdown",
   "metadata": {},
   "source": [
    "![Impressions](https://PixelServer20190423114238.azurewebsites.net/api/impressions/MachineLearningNotebooks/how-to-use-azureml/automated-machine-learning/regression-car-price-model-explaination-and-featurization/auto-ml-regression.png)"
   ]
  },
  {
   "cell_type": "markdown",
   "metadata": {},
   "source": [
    "# Automated Machine Learning\n",
    "_**Regression with Aml Compute**_\n",
    "\n",
    "## Contents\n",
    "1. [Introduction](#Introduction)\n",
    "1. [Setup](#Setup)\n",
    "1. [Data](#Data)\n",
    "1. [Train](#Train)\n",
    "1. [Results](#Results)\n",
    "1. [Test](#Test)\n"
   ]
  },
  {
   "cell_type": "markdown",
   "metadata": {},
   "source": [
    "## Introduction\n",
    "In this example we use the Hardware Performance Dataset to showcase how you can use AutoML for a simple regression problem. The Regression goal is to predict the performance of certain combinations of hardware parts.\n",
    "After training AutoML models for this regression data set, we show how you can compute model explanations on your remote compute using a sample explainer script.\n",
    "\n",
    "If you are using an Azure Machine Learning Compute Instance, you are all set.  Otherwise, go through the [configuration](../../../configuration.ipynb)  notebook first if you haven't already to establish your connection to the AzureML Workspace. \n",
    "\n",
    "In this notebook you will learn how to:\n",
    "1. Create an `Experiment` in an existing `Workspace`.\n",
    "2. Instantiating AutoMLConfig with FeaturizationConfig for customization\n",
    "3. Train the model using remote compute.\n",
    "4. Explore the results and featurization transparency options\n",
    "5. Setup remote compute for computing the model explanations for a given AutoML model.\n",
    "6. Start an AzureML experiment on your remote compute to compute explanations for an AutoML model.\n",
    "7. Download the feature importance for engineered features and visualize the explanations for engineered features on azure portal. \n",
    "8. Download the feature importance for raw features and visualize the explanations for raw features on azure portal. \n"
   ]
  },
  {
   "cell_type": "markdown",
   "metadata": {},
   "source": [
    "## Setup\n",
    "\n",
    "As part of the setup you have already created an Azure ML `Workspace` object. For Automated ML you will need to create an `Experiment` object, which is a named object in a `Workspace` used to run experiments."
   ]
  },
  {
   "cell_type": "code",
   "execution_count": 1,
   "metadata": {},
   "outputs": [
    {
     "name": "stdout",
     "output_type": "stream",
     "text": [
      "env: AZURE_EXTENSION_DIR=/home/schrodinger/automl/sdk-cli-v2/src/cli/src\n",
      "env: AZURE_ML_CLI_PRIVATE_FEATURES_ENABLED=true\n"
     ]
    }
   ],
   "source": [
    "%env AZURE_EXTENSION_DIR=/home/schrodinger/automl/sdk-cli-v2/src/cli/src\n",
    "%env AZURE_ML_CLI_PRIVATE_FEATURES_ENABLED=true"
   ]
  },
  {
   "cell_type": "code",
   "execution_count": 2,
   "metadata": {},
   "outputs": [],
   "source": [
    "import azure.ml\n",
    "from azure.ml import MLClient\n",
    "\n",
    "from azure.core.exceptions import ResourceExistsError\n",
    "\n",
    "from azure.ml.entities import Workspace\n",
    "from azure.ml.entities import AmlCompute\n",
    "from azure.ml.entities import Data\n",
    "\n",
    "from matplotlib import pyplot as plt\n",
    "import numpy as np\n",
    "import pandas as pd\n",
    "\n",
    "import logging"
   ]
  },
  {
   "cell_type": "markdown",
   "metadata": {},
   "source": [
    "This sample notebook may use features that are not available in previous versions of the Azure ML SDK."
   ]
  },
  {
   "cell_type": "code",
   "execution_count": 3,
   "metadata": {},
   "outputs": [
    {
     "name": "stdout",
     "output_type": "stream",
     "text": [
      "This notebook was created using version 1.31.0 of the Azure ML SDK\n",
      "You are currently using SDK version 0.0.86 of the Azure ML SDK\n"
     ]
    }
   ],
   "source": [
    "# TODO: Versions need to change\n",
    "print(\"This notebook was created using version 1.31.0 of the Azure ML SDK\")\n",
    "print(\"You are currently using SDK version\", azure.ml.version.VERSION, \"of the Azure ML SDK\")"
   ]
  },
  {
   "cell_type": "code",
   "execution_count": 4,
   "metadata": {},
   "outputs": [
    {
     "data": {
      "text/plain": [
       "<azure.ml._ml_client.MLClient at 0x7f51482d3f10>"
      ]
     },
     "execution_count": 4,
     "metadata": {},
     "output_type": "execute_result"
    }
   ],
   "source": [
    "subscription_id = '381b38e9-9840-4719-a5a0-61d9585e1e91'\n",
    "resource_group_name = 'gasi_rg_centraleuap'\n",
    "workspace_name = \"gasi_ws_centraleuap\"\n",
    "experiment_name = \"automl-regression-hardware-explain\"\n",
    "\n",
    "client = MLClient(subscription_id, resource_group_name, default_workspace_name=workspace_name)\n",
    "\n",
    "client"
   ]
  },
  {
   "cell_type": "code",
   "execution_count": 5,
   "metadata": {},
   "outputs": [
    {
     "name": "stderr",
     "output_type": "stream",
     "text": [
      "Warning: Falling back to use azure cli login credentials.\n",
      "If you run your code in unattended mode, i.e., where you can't give a user input, then we recommend to use ServicePrincipalAuthentication or MsiAuthentication.\n",
      "Please refer to aka.ms/aml-notebook-auth for different authentication mechanisms in azureml-sdk.\n"
     ]
    },
    {
     "name": "stdout",
     "output_type": "stream",
     "text": [
      "\n",
      "Current tracking uri: azureml://master.experiments.azureml-test.net/mlflow/v1.0/subscriptions/381b38e9-9840-4719-a5a0-61d9585e1e91/resourceGroups/gasi_rg_centraleuap/providers/Microsoft.MachineLearningServices/workspaces/gasi_ws_centraleuap?\n"
     ]
    }
   ],
   "source": [
    "import mlflow\n",
    "\n",
    "########\n",
    "# TODO: The API to get tracking URI is not yet available on Worksapce object.\n",
    "from azureml.core import Workspace as WorkspaceV1\n",
    "ws = WorkspaceV1(workspace_name=workspace_name, resource_group=resource_group_name, subscription_id=subscription_id)\n",
    "mlflow.set_tracking_uri(ws.get_mlflow_tracking_uri())\n",
    "del ws\n",
    "########\n",
    "\n",
    "# Not sure why this doesn't work w/o the double + single quotes\n",
    "# mlflow.set_tracking_uri(\"azureml://northeurope.experiments.azureml.net/mlflow/v1.0/subscriptions/381b38e9-9840-4719-a5a0-61d9585e1e91/resourceGroups/gasi_rg_neu/providers/Microsoft.MachineLearningServices/workspaces/gasi_ws_neu?\")\n",
    "mlflow.set_experiment(experiment_name)\n",
    "\n",
    "print(\"\\nCurrent tracking uri: {}\".format(mlflow.get_tracking_uri()))"
   ]
  },
  {
   "cell_type": "markdown",
   "metadata": {},
   "source": [
    "### Create or Attach existing AmlCompute\n",
    "You will need to create a [compute target](https://docs.microsoft.com/azure/machine-learning/service/concept-azure-machine-learning-architecture#compute-target) for your AutoML run. In this tutorial, you create `AmlCompute` as your training compute resource.\n",
    "\n",
    "> Note that if you have an AzureML Data Scientist role, you will not have permission to create compute resources. Talk to your workspace or IT admin to create the compute targets described in this section, if they do not already exist.\n",
    "\n",
    "**Creation of AmlCompute takes approximately 5 minutes.** If the AmlCompute with that name is already in your workspace this code will skip the creation process.\n",
    "\n",
    "As with other Azure services, there are limits on certain resources (e.g. AmlCompute) associated with the Azure Machine Learning service. Please read [this article](https://docs.microsoft.com/en-us/azure/machine-learning/service/how-to-manage-quotas) on the default limits and how to request more quota."
   ]
  },
  {
   "cell_type": "code",
   "execution_count": 6,
   "metadata": {},
   "outputs": [
    {
     "name": "stdout",
     "output_type": "stream",
     "text": [
      "Could not create compute. Cannot deserialize duration object., ISO8601Error: Unable to parse duration string ''\n"
     ]
    },
    {
     "data": {
      "text/plain": [
       "AmlCompute({'name': 'cpu-cluster', 'id': '/subscriptions/381b38e9-9840-4719-a5a0-61d9585e1e91/resourceGroups/gasi_rg_centraleuap/providers/Microsoft.MachineLearningServices/workspaces/gasi_ws_centraleuap/computes/cpu-cluster', 'description': None, 'tags': {}, 'properties': {}, 'base_path': './', 'location': 'centraluseuap', 'type': 'amlcompute', 'enable_public_ip': False, 'resource_id': None, 'provisioning_state': 'Succeeded', 'provisioning_errors': None, 'created_on': None, 'size': 'STANDARD_D2_V2', 'min_instances': 0, 'max_instances': 4, 'idle_time_before_scale_down': 120.0, 'identity_type': None, 'user_assigned_identities': None, 'admin_username': 'azureuser', 'admin_password': None, 'ssh_key_value': None, 'vnet_name': None, 'subnet': None, 'priority': 'Dedicated'})"
      ]
     },
     "execution_count": 6,
     "metadata": {},
     "output_type": "execute_result"
    }
   ],
   "source": [
    "# Set or create compute\n",
    "\n",
    "cpu_cluster_name = \"cpu-cluster\"\n",
    "compute = AmlCompute(\n",
    "    name=cpu_cluster_name, size=\"STANDARD_D2_V2\",\n",
    "    min_instances=0, max_instances=3,\n",
    "    idle_time_before_scale_down=120\n",
    ")\n",
    "\n",
    "# Load directly from YAML file\n",
    "# compute = Compute.load(\"./compute.yaml\")\n",
    "\n",
    "try:\n",
    "    # TODO: This currently results in an exception in Azure ML, please create compute manually.\n",
    "    client.compute.create(compute)\n",
    "except ResourceExistsError as re:\n",
    "    print(re)\n",
    "except Exception as e:\n",
    "    import traceback\n",
    "    \n",
    "    print(\"Could not create compute.\", str(e))\n",
    "#     traceback.print_exc()\n",
    "    # Reload an existing compute target\n",
    "    compute = client.compute.get(cpu_cluster_name)\n",
    "\n",
    "compute"
   ]
  },
  {
   "cell_type": "markdown",
   "metadata": {},
   "source": [
    "### Setup Training and Test Data for AutoML experiment\n",
    "\n",
    "Load the hardware dataset from a csv file containing both training features and labels. The features are inputs to the model, while the training labels represent the expected output of the model. Next, we'll split the data using random_split and extract the training data for the model.  We also register the datasets in your workspace using a name so that these datasets may be accessed from the remote compute."
   ]
  },
  {
   "cell_type": "code",
   "execution_count": 7,
   "metadata": {},
   "outputs": [
    {
     "data": {
      "text/plain": [
       "((167, 10), (42, 10))"
      ]
     },
     "execution_count": 7,
     "metadata": {},
     "output_type": "execute_result"
    }
   ],
   "source": [
    "data = \"https://automlsamplenotebookdata.blob.core.windows.net/automl-sample-notebook-data/machineData.csv\"\n",
    "pdf = pd.read_csv(data)\n",
    "\n",
    "# 80/20 split\n",
    "train=pdf.sample(frac=0.8, random_state=42)\n",
    "test=pdf.drop(train.index)\n",
    "\n",
    "label = \"ERP\"\n",
    "train.shape, test.shape"
   ]
  },
  {
   "cell_type": "code",
   "execution_count": 8,
   "metadata": {},
   "outputs": [],
   "source": [
    "# Save the CSV file locally, so that it can be uploaded to create a \n",
    "# tabular dataset\n",
    "\n",
    "import os\n",
    "\n",
    "if not os.path.isdir('data'):\n",
    "    os.mkdir('data')\n",
    "    \n",
    "# Save the train-test-valid data to a csv to be uploaded to the datastore\n",
    "train.to_csv(\"data/train_data.csv\", index=False)"
   ]
  },
  {
   "cell_type": "code",
   "execution_count": 9,
   "metadata": {},
   "outputs": [
    {
     "data": {
      "text/plain": [
       "Data({'is_anonymous': False, 'name': 'machine_data_train', 'id': '/subscriptions/381b38e9-9840-4719-a5a0-61d9585e1e91/resourceGroups/gasi_rg_centraleuap/providers/Microsoft.MachineLearningServices/workspaces/gasi_ws_centraleuap/data/machine_data_train/versions/1', 'description': None, 'tags': {}, 'properties': {}, 'base_path': './', 'creation_context': <azure.ml._restclient.v2021_03_01_preview.models._models_py3.SystemData object at 0x7f5166799350>, 'version': 1, 'datastore': '/subscriptions/381b38e9-9840-4719-a5a0-61d9585e1e91/resourceGroups/gasi_rg_centraleuap/providers/Microsoft.MachineLearningServices/workspaces/gasi_ws_centraleuap/datastores/workspaceblobstore', 'path': 'UI/07-14-2021_062933_UTC/train_data.csv', 'local_path': None})"
      ]
     },
     "execution_count": 9,
     "metadata": {},
     "output_type": "execute_result"
    }
   ],
   "source": [
    "# TODO: This doesnt' work, ensure dataset is created via. the UI\n",
    "# Create dataset\n",
    "\n",
    "dataset_name = \"machine_data_train\"\n",
    "dataset_version = 1\n",
    "\n",
    "try:\n",
    "    training_data = client.data.get(dataset_name, dataset_version)\n",
    "#     training_data = Data(name=dataset_name, version=dataset_version, local_path=\"./data\")\n",
    "#     training_data = client.data.create_or_update(training_data)\n",
    "#     print(\"Uploaded to path  : \", data.path)\n",
    "#     print(\"Datastore location: \", data.datastore)\n",
    "except Exception as e:\n",
    "    print(\"Could not create dataset. \", str(e))\n",
    "\n",
    "training_data"
   ]
  },
  {
   "cell_type": "markdown",
   "metadata": {},
   "source": [
    "## Train\n",
    "\n",
    "Instantiate an `AutoMLConfig` object to specify the settings and data used to run the experiment.\n",
    "\n",
    "|Property|Description|\n",
    "|-|-|\n",
    "|**task**|classification, regression or forecasting|\n",
    "|**primary_metric**|This is the metric that you want to optimize. Regression supports the following primary metrics: <br><i>spearman_correlation</i><br><i>normalized_root_mean_squared_error</i><br><i>r2_score</i><br><i>normalized_mean_absolute_error</i>|\n",
    "|**experiment_timeout_hours**| Maximum amount of time in hours that all iterations combined can take before the experiment terminates.|\n",
    "|**enable_early_stopping**| Flag to enble early termination if the score is not improving in the short term.|\n",
    "|**featurization**| 'auto' / 'off' / FeaturizationConfig Indicator for whether featurization step should be done automatically or not, or whether customized featurization should be used. Setting this enables AutoML to perform featurization on the input to handle *missing data*, and to perform some common *feature extraction*. Note: If the input data is sparse, featurization cannot be turned on.|\n",
    "|**n_cross_validations**|Number of cross validation splits.|\n",
    "|**training_data**|(sparse) array-like, shape = [n_samples, n_features]|\n",
    "|**label_column_name**|(sparse) array-like, shape = [n_samples, ], targets values.|"
   ]
  },
  {
   "cell_type": "markdown",
   "metadata": {},
   "source": [
    "## Customization\n",
    "\n",
    "Supported customization includes:\n",
    "\n",
    "1. Column purpose update: Override feature type for the specified column.\n",
    "2. Transformer parameter update: Update parameters for the specified transformer. Currently supports Imputer and HashOneHotEncoder.\n",
    "3. Drop columns: Columns to drop from being featurized.\n",
    "4. Block transformers: Allow/Block transformers to be used on featurization process."
   ]
  },
  {
   "cell_type": "markdown",
   "metadata": {},
   "source": [
    "Create FeaturizationConfig object using API calls"
   ]
  },
  {
   "cell_type": "code",
   "execution_count": 35,
   "metadata": {},
   "outputs": [
    {
     "name": "stdout",
     "output_type": "stream",
     "text": [
      "{'Imputer': [<azure.ml.entities._job.automl.featurization.ColumnTransformer object at 0x7f5145620e90>,\n",
      "             <azure.ml.entities._job.automl.featurization.ColumnTransformer object at 0x7f5145620f90>],\n",
      " 'hash_one_hot_encoder': [<azure.ml.entities._job.automl.featurization.ColumnTransformer object at 0x7f5145620bd0>]}\n",
      "{'fields': ['ModelName'], 'parameters': {'number_of_bits': 3.0}}\n"
     ]
    }
   ],
   "source": [
    "from pprint import pprint\n",
    "\n",
    "pprint(job.featurization_settings.featurization_config.transformer_params)\n",
    "\n",
    "pprint(job.featurization_settings.featurization_config.transformer_params[\"hash_one_hot_encoder\"][0].__dict__)"
   ]
  },
  {
   "cell_type": "code",
   "execution_count": 38,
   "metadata": {
    "tags": [
     "sample-featurizationconfig-remarks2"
    ]
   },
   "outputs": [],
   "source": [
    "from azure.ml.entities._job.automl.featurization import (\n",
    "    ColumnTransformer, FeaturizationConfig, FeaturizationSettings\n",
    ")\n",
    "\n",
    "featurization_config = FeaturizationConfig()\n",
    "featurization_config.blocked_transformers = ['LabelEncoder']\n",
    "featurization_config.drop_columns = ['MMIN']\n",
    "\n",
    "featurization_config.column_purposes = {\n",
    "    'MYCT': 'Numeric',\n",
    "    'VendorName': 'CategoricalHash'\n",
    "}\n",
    "\n",
    "#default strategy mean, add transformer param for for 3 columns\n",
    "transformer_params_dict = {\n",
    "    \"Imputer\": [\n",
    "        ColumnTransformer(fields=[\"CACH\"], parameters={'strategy': 'median'}),\n",
    "        ColumnTransformer(fields=[\"CHMIN\"], parameters={'strategy': 'median'}),\n",
    "        ColumnTransformer(fields=[\"PRP\"], parameters={'strategy': 'most_frequent'}),\n",
    "    ],\n",
    "    \"HashOneHotEncoder\": [\n",
    "        ColumnTransformer(fields=[], parameters={'number_of_bits': 3.0})\n",
    "    ]\n",
    "}\n",
    "\n",
    "featurization_config.transformer_params = transformer_params_dict"
   ]
  },
  {
   "cell_type": "code",
   "execution_count": 45,
   "metadata": {
    "tags": [
     "sample-featurizationconfig-remarks3"
    ]
   },
   "outputs": [
    {
     "data": {
      "text/plain": [
       "AutoMLJob({'name': 'ddf6673e-4793-4474-a8f9-c5a393f88413', 'id': None, 'description': None, 'tags': {}, 'properties': {'save_mlflow': True}, 'base_path': './', 'type': 'automl_job', 'creation_context': None, 'experiment_name': 'regression-explanation-featurization', 'status': None, 'interaction_endpoints': None, 'log_files': None, 'output': None, 'general_settings': <azure.ml._restclient.v2020_09_01_preview.models._models_py3.GeneralSettings object at 0x7f5145aee810>, 'data_settings': <azure.ml._restclient.v2020_09_01_preview.models._models_py3.DataSettings object at 0x7f5145aee850>, 'limit_settings': <azure.ml._restclient.v2020_09_01_preview.models._models_py3.LimitSettings object at 0x7f5145aee8d0>, 'forecasting_settings': None, 'training_settings': None, 'featurization_settings': <azure.ml.entities._job.automl.featurization.FeaturizationSettings object at 0x7f5145aeea10>, 'compute': {'instance_count': None, 'target': 'cpu-cluster', 'is_local': False, 'instance_type': None, 'location': None, 'properties': None}})"
      ]
     },
     "execution_count": 45,
     "metadata": {},
     "output_type": "execute_result"
    }
   ],
   "source": [
    "from azure.ml._restclient.v2020_09_01_preview.models import (\n",
    "    GeneralSettings,\n",
    "    DataSettings,\n",
    "    LimitSettings,\n",
    "    TrainingDataSettings,\n",
    "    ValidationDataSettings,\n",
    "    TestDataSettings,\n",
    ")\n",
    "\n",
    "from azure.ml.entities._job.automl.training_settings import TrainingSettings\n",
    "from azure.ml.entities._job.automl.featurization import FeaturizationSettings\n",
    "from azure.ml.entities import AutoMLJob, ComputeConfiguration\n",
    "    \n",
    "        \n",
    "compute_settings = ComputeConfiguration(target=cpu_cluster_name)\n",
    "\n",
    "general_settings = GeneralSettings(\n",
    "    task_type=\"regression\",\n",
    "    primary_metric= \"normalized_root_mean_squared_error\",\n",
    "    log_verbosity=\"Info\")\n",
    "\n",
    "limit_settings = LimitSettings(\n",
    "    timeout=15,\n",
    "    trial_timeout=5,\n",
    "    max_concurrent_trials=4,\n",
    "    max_cores_per_trial=-1,\n",
    "    enable_early_termination=True)\n",
    "\n",
    "training_data_settings = TrainingDataSettings(\n",
    "    dataset_arm_id=\"{}:{}\".format(training_data.name, training_data.version)\n",
    ")\n",
    "\n",
    "validation_data_settings = ValidationDataSettings(n_cross_validations=5)\n",
    "\n",
    "data_settings = DataSettings(\n",
    "    training_data=training_data_settings,\n",
    "    target_column_name=label,\n",
    "    validation_data=validation_data_settings\n",
    ")\n",
    "\n",
    "featurization_settings = FeaturizationSettings(featurization_config=featurization_config)\n",
    "\n",
    "extra_automl_settings = {\"save_mlflow\": True}\n",
    "\n",
    "automl_job = AutoMLJob(\n",
    "    compute=compute_settings,\n",
    "    general_settings=general_settings,\n",
    "    limit_settings=limit_settings,\n",
    "    data_settings=data_settings,\n",
    "    featurization_settings=featurization_settings,\n",
    "    properties=extra_automl_settings,\n",
    ")\n",
    "\n",
    "automl_job"
   ]
  },
  {
   "cell_type": "markdown",
   "metadata": {},
   "source": [
    "Call the `submit` method on the experiment object and pass the run configuration. Execution of local runs is synchronous. Depending on the data and the number of iterations this can run for a while.\n",
    "In this example, we specify `show_output = True` to print currently running iterations to the console."
   ]
  },
  {
   "cell_type": "code",
   "execution_count": 46,
   "metadata": {},
   "outputs": [],
   "source": [
    "automl_job.dump(\"/tmp/dumped.yaml\")"
   ]
  },
  {
   "cell_type": "code",
   "execution_count": 43,
   "metadata": {},
   "outputs": [
    {
     "ename": "HttpResponseError",
     "evalue": "Operation returned an invalid status 'Received 500 from a service request'",
     "output_type": "error",
     "traceback": [
      "\u001b[0;31m---------------------------------------------------------------------------\u001b[0m",
      "\u001b[0;31mHttpResponseError\u001b[0m                         Traceback (most recent call last)",
      "\u001b[0;32m<ipython-input-43-54db5d457e51>\u001b[0m in \u001b[0;36m<module>\u001b[0;34m\u001b[0m\n\u001b[0;32m----> 1\u001b[0;31m \u001b[0mcreated_job\u001b[0m \u001b[0;34m=\u001b[0m \u001b[0mclient\u001b[0m\u001b[0;34m.\u001b[0m\u001b[0mjobs\u001b[0m\u001b[0;34m.\u001b[0m\u001b[0mcreate_or_update\u001b[0m\u001b[0;34m(\u001b[0m\u001b[0mautoml_job\u001b[0m\u001b[0;34m)\u001b[0m\u001b[0;34m\u001b[0m\u001b[0;34m\u001b[0m\u001b[0m\n\u001b[0m\u001b[1;32m      2\u001b[0m \u001b[0mcreated_job\u001b[0m\u001b[0;34m\u001b[0m\u001b[0;34m\u001b[0m\u001b[0m\n",
      "\u001b[0;32m~/automl/sdk-cli-v2/src/azure-ml/azure/ml/_operations/job_operations.py\u001b[0m in \u001b[0;36mcreate_or_update\u001b[0;34m(self, job)\u001b[0m\n\u001b[1;32m    164\u001b[0m                 \u001b[0mworkspace_name\u001b[0m\u001b[0;34m=\u001b[0m\u001b[0mself\u001b[0m\u001b[0;34m.\u001b[0m\u001b[0m_workspace_name\u001b[0m\u001b[0;34m,\u001b[0m\u001b[0;34m\u001b[0m\u001b[0;34m\u001b[0m\u001b[0m\n\u001b[1;32m    165\u001b[0m                 \u001b[0mbody\u001b[0m\u001b[0;34m=\u001b[0m\u001b[0mrest_job_resource\u001b[0m\u001b[0;34m,\u001b[0m\u001b[0;34m\u001b[0m\u001b[0;34m\u001b[0m\u001b[0m\n\u001b[0;32m--> 166\u001b[0;31m                 \u001b[0;34m**\u001b[0m\u001b[0mself\u001b[0m\u001b[0;34m.\u001b[0m\u001b[0m_kwargs\u001b[0m\u001b[0;34m,\u001b[0m\u001b[0;34m\u001b[0m\u001b[0;34m\u001b[0m\u001b[0m\n\u001b[0m\u001b[1;32m    167\u001b[0m             )  # TODO: set default api_version to this\n\u001b[1;32m    168\u001b[0m         \u001b[0;32melse\u001b[0m\u001b[0;34m:\u001b[0m\u001b[0;34m\u001b[0m\u001b[0;34m\u001b[0m\u001b[0m\n",
      "\u001b[0;32m~/automl/sdk-cli-v2/src/azure-ml/azure/ml/_restclient/v2020_09_01_preview/operations/_jobs_operations.py\u001b[0m in \u001b[0;36mcreate_or_update\u001b[0;34m(self, id, resource_group_name, workspace_name, body, **kwargs)\u001b[0m\n\u001b[1;32m    399\u001b[0m             \u001b[0mmap_error\u001b[0m\u001b[0;34m(\u001b[0m\u001b[0mstatus_code\u001b[0m\u001b[0;34m=\u001b[0m\u001b[0mresponse\u001b[0m\u001b[0;34m.\u001b[0m\u001b[0mstatus_code\u001b[0m\u001b[0;34m,\u001b[0m \u001b[0mresponse\u001b[0m\u001b[0;34m=\u001b[0m\u001b[0mresponse\u001b[0m\u001b[0;34m,\u001b[0m \u001b[0merror_map\u001b[0m\u001b[0;34m=\u001b[0m\u001b[0merror_map\u001b[0m\u001b[0;34m)\u001b[0m\u001b[0;34m\u001b[0m\u001b[0;34m\u001b[0m\u001b[0m\n\u001b[1;32m    400\u001b[0m             \u001b[0merror\u001b[0m \u001b[0;34m=\u001b[0m \u001b[0mself\u001b[0m\u001b[0;34m.\u001b[0m\u001b[0m_deserialize\u001b[0m\u001b[0;34m(\u001b[0m\u001b[0mmodels\u001b[0m\u001b[0;34m.\u001b[0m\u001b[0mErrorResponse\u001b[0m\u001b[0;34m,\u001b[0m \u001b[0mresponse\u001b[0m\u001b[0;34m)\u001b[0m\u001b[0;34m\u001b[0m\u001b[0;34m\u001b[0m\u001b[0m\n\u001b[0;32m--> 401\u001b[0;31m             \u001b[0;32mraise\u001b[0m \u001b[0mHttpResponseError\u001b[0m\u001b[0;34m(\u001b[0m\u001b[0mresponse\u001b[0m\u001b[0;34m=\u001b[0m\u001b[0mresponse\u001b[0m\u001b[0;34m,\u001b[0m \u001b[0mmodel\u001b[0m\u001b[0;34m=\u001b[0m\u001b[0merror\u001b[0m\u001b[0;34m,\u001b[0m \u001b[0merror_format\u001b[0m\u001b[0;34m=\u001b[0m\u001b[0mARMErrorFormat\u001b[0m\u001b[0;34m)\u001b[0m\u001b[0;34m\u001b[0m\u001b[0;34m\u001b[0m\u001b[0m\n\u001b[0m\u001b[1;32m    402\u001b[0m \u001b[0;34m\u001b[0m\u001b[0m\n\u001b[1;32m    403\u001b[0m         \u001b[0;32mif\u001b[0m \u001b[0mresponse\u001b[0m\u001b[0;34m.\u001b[0m\u001b[0mstatus_code\u001b[0m \u001b[0;34m==\u001b[0m \u001b[0;36m200\u001b[0m\u001b[0;34m:\u001b[0m\u001b[0;34m\u001b[0m\u001b[0;34m\u001b[0m\u001b[0m\n",
      "\u001b[0;31mHttpResponseError\u001b[0m: Operation returned an invalid status 'Received 500 from a service request'"
     ]
    }
   ],
   "source": [
    "created_job = client.jobs.create_or_update(automl_job)\n",
    "created_job"
   ]
  },
  {
   "cell_type": "markdown",
   "metadata": {},
   "source": [
    "Run the following cell to access previous runs. Uncomment the cell below and update the run_id."
   ]
  },
  {
   "cell_type": "code",
   "execution_count": null,
   "metadata": {},
   "outputs": [],
   "source": [
    "#from azureml.train.automl.run import AutoMLRun\n",
    "#remote_run = AutoMLRun(experiment=experiment, run_id='<run_ID_goes_here')\n",
    "#remote_run"
   ]
  },
  {
   "cell_type": "code",
   "execution_count": null,
   "metadata": {},
   "outputs": [],
   "source": [
    "# remote_run.wait_for_completion()"
   ]
  },
  {
   "cell_type": "code",
   "execution_count": 47,
   "metadata": {},
   "outputs": [
    {
     "name": "stdout",
     "output_type": "stream",
     "text": [
      "Found best child run id:  AutoML_63a6198d-fd94-415c-89a8-2d774e63a0c2_30\n"
     ]
    },
    {
     "data": {
      "text/plain": [
       "<Run: data=<RunData: metrics={'explained_variance': 0.9469377156576257,\n",
       " 'mean_absolute_error': 16.344931726318706,\n",
       " 'mean_absolute_percentage_error': 13.440869393270205,\n",
       " 'median_absolute_error': 4.962546667916155,\n",
       " 'normalized_mean_absolute_error': 0.013364621198952334,\n",
       " 'normalized_median_absolute_error': 0.004057683293471918,\n",
       " 'normalized_root_mean_squared_error': 0.031322641934272775,\n",
       " 'normalized_root_mean_squared_log_error': 0.03984624176365959,\n",
       " 'r2_score': 0.9432604716952184,\n",
       " 'root_mean_squared_error': 38.307591085615606,\n",
       " 'root_mean_squared_log_error': 0.17331007936109333,\n",
       " 'spearman_correlation': 0.9783322136381037}, params={}, tags={'_aml_system_ComputeTargetStatus': '{\"AllocationState\":\"steady\",\"PreparingNodeCount\":0,\"RunningNodeCount\":2,\"CurrentNodeCount\":4}',\n",
       " '_aml_system_automl_is_child_run_end_telemetry_event_logged': 'True',\n",
       " '_aml_system_azureml.automlComponent': 'AutoML',\n",
       " 'mlflow.parentRunId': 'AutoML_63a6198d-fd94-415c-89a8-2d774e63a0c2',\n",
       " 'mlflow.source.name': 'automl_driver.py',\n",
       " 'mlflow.source.type': 'JOB',\n",
       " 'model_explain_run_id': 'AutoML_63a6198d-fd94-415c-89a8-2d774e63a0c2_ModelExplain',\n",
       " 'model_explanation': 'True'}>, info=<RunInfo: artifact_uri='azureml://experiments/automl-regression/runs/AutoML_63a6198d-fd94-415c-89a8-2d774e63a0c2_30/artifacts', end_time=1626291327507, experiment_id='290cdf52-a0af-44fb-9476-ca40c53aca26', lifecycle_stage='active', run_id='AutoML_63a6198d-fd94-415c-89a8-2d774e63a0c2_30', run_uuid='AutoML_63a6198d-fd94-415c-89a8-2d774e63a0c2_30', start_time=1626291234527, status='FINISHED', user_id='d0b038bb-162b-4d49-b8fe-5786e199f6fb'>>"
      ]
     },
     "execution_count": 47,
     "metadata": {},
     "output_type": "execute_result"
    }
   ],
   "source": [
    "from mlflow.tracking import MlflowClient\n",
    "\n",
    "# TODO: Use this run, as it has MLFlow model stored on the run\n",
    "job_name = \"AutoML_63a6198d-fd94-415c-89a8-2d774e63a0c2\"\n",
    "# job_name = created_job.name\n",
    "\n",
    "mlflow_client = MlflowClient()\n",
    "mlflow_parent_run = mlflow_client.get_run(job_name)\n",
    "\n",
    "best_child_run_id = mlflow_parent_run.data.tags[\"automl_best_child_run_id\"]\n",
    "print(\"Found best child run id: \", best_child_run_id)\n",
    "\n",
    "best_run = mlflow_client.get_run(best_child_run_id)\n",
    "best_run"
   ]
  },
  {
   "cell_type": "code",
   "execution_count": 48,
   "metadata": {},
   "outputs": [],
   "source": [
    "# This step requires AutoML runtime libraries to be installed\n",
    "# !pip install azureml-train-automl-runtime\n",
    "\n",
    "import mlflow.sklearn\n",
    "\n",
    "fitted_model = mlflow.sklearn.load_model(\"runs:/{}/outputs\".format(best_run.info.run_id))"
   ]
  },
  {
   "cell_type": "markdown",
   "metadata": {},
   "source": [
    "## Transparency\n",
    "\n",
    "View updated featurization summary"
   ]
  },
  {
   "cell_type": "code",
   "execution_count": 49,
   "metadata": {},
   "outputs": [],
   "source": [
    "custom_featurizer = fitted_model.named_steps['datatransformer']"
   ]
  },
  {
   "cell_type": "code",
   "execution_count": 50,
   "metadata": {},
   "outputs": [
    {
     "data": {
      "text/plain": [
       "[{'RawFeatureName': 'VendorName',\n",
       "  'TypeDetected': 'CategoricalHash',\n",
       "  'Dropped': 'No',\n",
       "  'EngineeredFeatureCount': 16,\n",
       "  'Transformations': ['StringCast-HashOneHotEncoder']},\n",
       " {'RawFeatureName': 'ModelName',\n",
       "  'TypeDetected': 'Hashes',\n",
       "  'Dropped': 'Yes',\n",
       "  'EngineeredFeatureCount': 0,\n",
       "  'Transformations': ['']},\n",
       " {'RawFeatureName': 'MYCT',\n",
       "  'TypeDetected': 'Numeric',\n",
       "  'Dropped': 'No',\n",
       "  'EngineeredFeatureCount': 1,\n",
       "  'Transformations': ['MeanImputer']},\n",
       " {'RawFeatureName': 'MMIN',\n",
       "  'TypeDetected': 'Numeric',\n",
       "  'Dropped': 'No',\n",
       "  'EngineeredFeatureCount': 1,\n",
       "  'Transformations': ['MeanImputer']},\n",
       " {'RawFeatureName': 'MMAX',\n",
       "  'TypeDetected': 'Numeric',\n",
       "  'Dropped': 'No',\n",
       "  'EngineeredFeatureCount': 1,\n",
       "  'Transformations': ['MeanImputer']},\n",
       " {'RawFeatureName': 'CACH',\n",
       "  'TypeDetected': 'Numeric',\n",
       "  'Dropped': 'No',\n",
       "  'EngineeredFeatureCount': 1,\n",
       "  'Transformations': ['MeanImputer']},\n",
       " {'RawFeatureName': 'CHMIN',\n",
       "  'TypeDetected': 'Numeric',\n",
       "  'Dropped': 'No',\n",
       "  'EngineeredFeatureCount': 1,\n",
       "  'Transformations': ['MeanImputer']},\n",
       " {'RawFeatureName': 'CHMAX',\n",
       "  'TypeDetected': 'Numeric',\n",
       "  'Dropped': 'No',\n",
       "  'EngineeredFeatureCount': 1,\n",
       "  'Transformations': ['MeanImputer']},\n",
       " {'RawFeatureName': 'PRP',\n",
       "  'TypeDetected': 'Numeric',\n",
       "  'Dropped': 'No',\n",
       "  'EngineeredFeatureCount': 1,\n",
       "  'Transformations': ['MeanImputer']}]"
      ]
     },
     "execution_count": 50,
     "metadata": {},
     "output_type": "execute_result"
    }
   ],
   "source": [
    "custom_featurizer.get_featurization_summary()"
   ]
  },
  {
   "cell_type": "markdown",
   "metadata": {},
   "source": [
    "is_user_friendly=False allows for more detailed summary for transforms being applied"
   ]
  },
  {
   "cell_type": "code",
   "execution_count": 51,
   "metadata": {},
   "outputs": [
    {
     "data": {
      "text/plain": [
       "[{'RawFeatureName': 'VendorName',\n",
       "  'TypeDetected': 'CategoricalHash',\n",
       "  'Dropped': 'No',\n",
       "  'EngineeredFeatureCount': 16,\n",
       "  'Transformations': ['StringCast-HashOneHotEncoder'],\n",
       "  'TransformationParams': {'Transformer1': {'Input': ['VendorName'],\n",
       "    'TransformationFunction': 'StringCast',\n",
       "    'Operator': None,\n",
       "    'FeatureType': 'CategoricalHash',\n",
       "    'ShouldOutput': False,\n",
       "    'TransformationParams': {}},\n",
       "   'Transformer2': {'Input': ['Transformer1'],\n",
       "    'TransformationFunction': 'HashOneHotEncoder',\n",
       "    'Operator': None,\n",
       "    'FeatureType': None,\n",
       "    'ShouldOutput': True,\n",
       "    'TransformationParams': {'hashing_seed_val': 314489979, 'num_cols': 16}}}},\n",
       " {'RawFeatureName': 'ModelName',\n",
       "  'TypeDetected': 'Hashes',\n",
       "  'Dropped': 'Yes',\n",
       "  'EngineeredFeatureCount': 0,\n",
       "  'Transformations': [''],\n",
       "  'TransformationParams': {'Transformer1': {'Input': ['ModelName'],\n",
       "    'TransformationFunction': '',\n",
       "    'Operator': None,\n",
       "    'FeatureType': 'Hashes',\n",
       "    'ShouldOutput': True,\n",
       "    'TransformationParams': None}}},\n",
       " {'RawFeatureName': 'MYCT',\n",
       "  'TypeDetected': 'Numeric',\n",
       "  'Dropped': 'No',\n",
       "  'EngineeredFeatureCount': 1,\n",
       "  'Transformations': ['MeanImputer'],\n",
       "  'TransformationParams': {'Transformer1': {'Input': ['MYCT'],\n",
       "    'TransformationFunction': 'Imputer',\n",
       "    'Operator': 'Mean',\n",
       "    'FeatureType': 'Numeric',\n",
       "    'ShouldOutput': True,\n",
       "    'TransformationParams': {'add_indicator': False,\n",
       "     'copy': True,\n",
       "     'fill_value': None,\n",
       "     'missing_values': nan,\n",
       "     'strategy': 'mean',\n",
       "     'verbose': 0}}}},\n",
       " {'RawFeatureName': 'MMIN',\n",
       "  'TypeDetected': 'Numeric',\n",
       "  'Dropped': 'No',\n",
       "  'EngineeredFeatureCount': 1,\n",
       "  'Transformations': ['MeanImputer'],\n",
       "  'TransformationParams': {'Transformer1': {'Input': ['MMIN'],\n",
       "    'TransformationFunction': 'Imputer',\n",
       "    'Operator': 'Mean',\n",
       "    'FeatureType': 'Numeric',\n",
       "    'ShouldOutput': True,\n",
       "    'TransformationParams': {'add_indicator': False,\n",
       "     'copy': True,\n",
       "     'fill_value': None,\n",
       "     'missing_values': nan,\n",
       "     'strategy': 'mean',\n",
       "     'verbose': 0}}}},\n",
       " {'RawFeatureName': 'MMAX',\n",
       "  'TypeDetected': 'Numeric',\n",
       "  'Dropped': 'No',\n",
       "  'EngineeredFeatureCount': 1,\n",
       "  'Transformations': ['MeanImputer'],\n",
       "  'TransformationParams': {'Transformer1': {'Input': ['MMAX'],\n",
       "    'TransformationFunction': 'Imputer',\n",
       "    'Operator': 'Mean',\n",
       "    'FeatureType': 'Numeric',\n",
       "    'ShouldOutput': True,\n",
       "    'TransformationParams': {'add_indicator': False,\n",
       "     'copy': True,\n",
       "     'fill_value': None,\n",
       "     'missing_values': nan,\n",
       "     'strategy': 'mean',\n",
       "     'verbose': 0}}}},\n",
       " {'RawFeatureName': 'CACH',\n",
       "  'TypeDetected': 'Numeric',\n",
       "  'Dropped': 'No',\n",
       "  'EngineeredFeatureCount': 1,\n",
       "  'Transformations': ['MeanImputer'],\n",
       "  'TransformationParams': {'Transformer1': {'Input': ['CACH'],\n",
       "    'TransformationFunction': 'Imputer',\n",
       "    'Operator': 'Mean',\n",
       "    'FeatureType': 'Numeric',\n",
       "    'ShouldOutput': True,\n",
       "    'TransformationParams': {'add_indicator': False,\n",
       "     'copy': True,\n",
       "     'fill_value': None,\n",
       "     'missing_values': nan,\n",
       "     'strategy': 'mean',\n",
       "     'verbose': 0}}}},\n",
       " {'RawFeatureName': 'CHMIN',\n",
       "  'TypeDetected': 'Numeric',\n",
       "  'Dropped': 'No',\n",
       "  'EngineeredFeatureCount': 1,\n",
       "  'Transformations': ['MeanImputer'],\n",
       "  'TransformationParams': {'Transformer1': {'Input': ['CHMIN'],\n",
       "    'TransformationFunction': 'Imputer',\n",
       "    'Operator': 'Mean',\n",
       "    'FeatureType': 'Numeric',\n",
       "    'ShouldOutput': True,\n",
       "    'TransformationParams': {'add_indicator': False,\n",
       "     'copy': True,\n",
       "     'fill_value': None,\n",
       "     'missing_values': nan,\n",
       "     'strategy': 'mean',\n",
       "     'verbose': 0}}}},\n",
       " {'RawFeatureName': 'CHMAX',\n",
       "  'TypeDetected': 'Numeric',\n",
       "  'Dropped': 'No',\n",
       "  'EngineeredFeatureCount': 1,\n",
       "  'Transformations': ['MeanImputer'],\n",
       "  'TransformationParams': {'Transformer1': {'Input': ['CHMAX'],\n",
       "    'TransformationFunction': 'Imputer',\n",
       "    'Operator': 'Mean',\n",
       "    'FeatureType': 'Numeric',\n",
       "    'ShouldOutput': True,\n",
       "    'TransformationParams': {'add_indicator': False,\n",
       "     'copy': True,\n",
       "     'fill_value': None,\n",
       "     'missing_values': nan,\n",
       "     'strategy': 'mean',\n",
       "     'verbose': 0}}}},\n",
       " {'RawFeatureName': 'PRP',\n",
       "  'TypeDetected': 'Numeric',\n",
       "  'Dropped': 'No',\n",
       "  'EngineeredFeatureCount': 1,\n",
       "  'Transformations': ['MeanImputer'],\n",
       "  'TransformationParams': {'Transformer1': {'Input': ['PRP'],\n",
       "    'TransformationFunction': 'Imputer',\n",
       "    'Operator': 'Mean',\n",
       "    'FeatureType': 'Numeric',\n",
       "    'ShouldOutput': True,\n",
       "    'TransformationParams': {'add_indicator': False,\n",
       "     'copy': True,\n",
       "     'fill_value': None,\n",
       "     'missing_values': nan,\n",
       "     'strategy': 'mean',\n",
       "     'verbose': 0}}}}]"
      ]
     },
     "execution_count": 51,
     "metadata": {},
     "output_type": "execute_result"
    }
   ],
   "source": [
    "custom_featurizer.get_featurization_summary(is_user_friendly=False)"
   ]
  },
  {
   "cell_type": "code",
   "execution_count": 53,
   "metadata": {},
   "outputs": [],
   "source": [
    "custom_featurizer.get_stats_feature_type_summary()"
   ]
  },
  {
   "cell_type": "markdown",
   "metadata": {},
   "source": [
    "## Results"
   ]
  },
  {
   "cell_type": "markdown",
   "metadata": {},
   "source": [
    "#### Widget for Monitoring Runs\n",
    "\n",
    "The widget will first report a \"loading\" status while running the first iteration. After completing the first iteration, an auto-updating graph and table will be shown. The widget will refresh once per minute, so you should see the graph update as child runs complete.\n",
    "\n",
    "**Note:** The widget displays a link at the bottom. Use this link to open a web interface to explore the individual run details"
   ]
  },
  {
   "cell_type": "code",
   "execution_count": null,
   "metadata": {},
   "outputs": [],
   "source": [
    "# from azureml.widgets import RunDetails\n",
    "# RunDetails(remote_run).show() "
   ]
  },
  {
   "cell_type": "markdown",
   "metadata": {},
   "source": [
    "## Explanations\n",
    "This section will walk you through the workflow to compute model explanations for an AutoML model on your remote compute.\n",
    "\n",
    "### Retrieve any AutoML Model for explanations\n",
    "\n",
    "Below we select an AutoML pipeline from our iterations. The `get_output` method returns the a AutoML run and the fitted model for the last invocation. Overloads on `get_output` allow you to retrieve the best run and fitted model for any logged `metric` or for a particular `iteration`."
   ]
  },
  {
   "cell_type": "code",
   "execution_count": 56,
   "metadata": {},
   "outputs": [],
   "source": [
    "#automl_run, fitted_model = remote_run.get_output(metric='r2_score')\n",
    "\n",
    "iteration = 2\n",
    "\n",
    "child_run_id = \"{}_{}\".format(mlflow_parent_run.info.run_id, (iteration-1))\n",
    "\n",
    "automl_mlflow_run = mlflow_client.get_run(child_run_id)\n",
    "fitted_model = mlflow.sklearn.load_model(\"runs:/{}/outputs\".format(automl_mlflow_run.info.run_id))"
   ]
  },
  {
   "cell_type": "markdown",
   "metadata": {},
   "source": [
    "### Setup model explanation run on the remote compute\n",
    "The following section provides details on how to setup an AzureML experiment to run model explanations for an AutoML model on your remote compute."
   ]
  },
  {
   "cell_type": "markdown",
   "metadata": {},
   "source": [
    "#### Sample script used for computing explanations\n",
    "View the sample script for computing the model explanations for your AutoML model on remote compute."
   ]
  },
  {
   "cell_type": "code",
   "execution_count": 57,
   "metadata": {},
   "outputs": [
    {
     "name": "stdout",
     "output_type": "stream",
     "text": [
      "# Copyright (c) Microsoft. All rights reserved.\n",
      "# Licensed under the MIT license.\n",
      "import os\n",
      "import joblib\n",
      "\n",
      "from interpret.ext.glassbox import LGBMExplainableModel\n",
      "from azureml.automl.core.shared.constants import MODEL_PATH\n",
      "from azureml.core.experiment import Experiment\n",
      "from azureml.core.dataset import Dataset\n",
      "from azureml.core.run import Run\n",
      "from azureml.interpret.mimic_wrapper import MimicWrapper\n",
      "from azureml.interpret.scoring.scoring_explainer import TreeScoringExplainer\n",
      "from azureml.train.automl.runtime.automl_explain_utilities import automl_setup_model_explanations, \\\n",
      "    automl_check_model_if_explainable\n",
      "\n",
      "\n",
      "OUTPUT_DIR = './outputs/'\n",
      "os.makedirs(OUTPUT_DIR, exist_ok=True)\n",
      "\n",
      "# Get workspace from the run context\n",
      "run = Run.get_context()\n",
      "ws = run.experiment.workspace\n",
      "\n",
      "# Get the AutoML run object from the experiment name and the workspace\n",
      "experiment = Experiment(ws, '<<experiment_name>>')\n",
      "automl_run = Run(experiment=experiment, run_id='<<run_id>>')\n",
      "\n",
      "# Check if this AutoML model is explainable\n",
      "if not automl_check_model_if_explainable(automl_run):\n",
      "    raise Exception(\"Model explanations are currently not supported for \" + automl_run.get_properties().get(\n",
      "        'run_algorithm'))\n",
      "\n",
      "# Download the best model from the artifact store\n",
      "automl_run.download_file(name=MODEL_PATH, output_file_path='model.pkl')\n",
      "\n",
      "# Load the AutoML model into memory\n",
      "fitted_model = joblib.load('model.pkl')\n",
      "\n",
      "# Get the train dataset from the workspace\n",
      "train_dataset = Dataset.get_by_name(workspace=ws, name='<<train_dataset_name>>')\n",
      "# Drop the labeled column to get the training set.\n",
      "X_train = train_dataset.drop_columns(columns=['<<target_column_name>>'])\n",
      "y_train = train_dataset.keep_columns(columns=['<<target_column_name>>'], validate=True)\n",
      "\n",
      "# Get the test dataset from the workspace\n",
      "test_dataset = Dataset.get_by_name(workspace=ws, name='<<test_dataset_name>>')\n",
      "# Drop the labeled column to get the testing set.\n",
      "X_test = test_dataset.drop_columns(columns=['<<target_column_name>>'])\n",
      "\n",
      "# Setup the class for explaining the AutoML models\n",
      "automl_explainer_setup_obj = automl_setup_model_explanations(fitted_model, '<<task>>',\n",
      "                                                             X=X_train, X_test=X_test,\n",
      "                                                             y=y_train,\n",
      "                                                             automl_run=automl_run)\n",
      "\n",
      "# Initialize the Mimic Explainer\n",
      "explainer = MimicWrapper(ws, automl_explainer_setup_obj.automl_estimator, LGBMExplainableModel,\n",
      "                         init_dataset=automl_explainer_setup_obj.X_transform,\n",
      "                         run=automl_explainer_setup_obj.automl_run,\n",
      "                         features=automl_explainer_setup_obj.engineered_feature_names,\n",
      "                         feature_maps=[automl_explainer_setup_obj.feature_map],\n",
      "                         classes=automl_explainer_setup_obj.classes)\n",
      "\n",
      "# Compute the engineered explanations\n",
      "engineered_explanations = explainer.explain(['local', 'global'], tag='engineered explanations',\n",
      "                                            eval_dataset=automl_explainer_setup_obj.X_test_transform)\n",
      "\n",
      "# Compute the raw explanations\n",
      "raw_explanations = explainer.explain(['local', 'global'], get_raw=True, tag='raw explanations',\n",
      "                                     raw_feature_names=automl_explainer_setup_obj.raw_feature_names,\n",
      "                                     eval_dataset=automl_explainer_setup_obj.X_test_transform,\n",
      "                                     raw_eval_dataset=automl_explainer_setup_obj.X_test_raw)\n",
      "\n",
      "print(\"Engineered and raw explanations computed successfully\")\n",
      "\n",
      "# Initialize the ScoringExplainer\n",
      "scoring_explainer = TreeScoringExplainer(explainer.explainer, feature_maps=[automl_explainer_setup_obj.feature_map])\n",
      "\n",
      "# Pickle scoring explainer locally\n",
      "with open('scoring_explainer.pkl', 'wb') as stream:\n",
      "    joblib.dump(scoring_explainer, stream)\n",
      "\n",
      "# Upload the scoring explainer to the automl run\n",
      "automl_run.upload_file('outputs/scoring_explainer.pkl', 'scoring_explainer.pkl')\n",
      "\n"
     ]
    }
   ],
   "source": [
    "with open('train_explainer.py', 'r') as cefr:\n",
    "    print(cefr.read())"
   ]
  },
  {
   "cell_type": "markdown",
   "metadata": {},
   "source": [
    "#### Substitute values in your sample script\n",
    "The following cell shows how you change the values in the sample script so that you can change the sample script according to your experiment and dataset."
   ]
  },
  {
   "cell_type": "code",
   "execution_count": 60,
   "metadata": {},
   "outputs": [],
   "source": [
    "import shutil\n",
    "import os\n",
    "\n",
    "# create script folder\n",
    "script_folder = './sample_projects/automl-regression-hardware'\n",
    "if not os.path.exists(script_folder):\n",
    "    os.makedirs(script_folder)\n",
    "\n",
    "# Copy the sample script to script folder.\n",
    "shutil.copy('train_explainer.py', script_folder)\n",
    "\n",
    "# Create the explainer script that will run on the remote compute.\n",
    "script_file_name = script_folder + '/train_explainer.py'\n",
    "\n",
    "# Open the sample script for modification\n",
    "with open(script_file_name, 'r') as cefr:\n",
    "    content = cefr.read()\n",
    "\n",
    "# Replace the values in train_explainer.py file with the appropriate values\n",
    "content = content.replace('<<experiment_name>>', experiment_name) # your experiment name.\n",
    "content = content.replace('<<run_id>>', automl_mlflow_run.info.run_id) # Run-id of the AutoML run for which you want to explain the model.\n",
    "content = content.replace('<<target_column_name>>', 'ERP') # Your target column name\n",
    "content = content.replace('<<task>>', 'regression') # Training task type\n",
    "# Name of your training dataset register with your workspace\n",
    "content = content.replace('<<train_dataset_name>>', 'machine_data_train') \n",
    "# Name of your test dataset register with your workspace\n",
    "content = content.replace('<<test_dataset_name>>', 'machine_data_train')\n",
    "\n",
    "# Write sample file into your script folder.\n",
    "with open(script_file_name, 'w') as cefw:\n",
    "    cefw.write(content)"
   ]
  },
  {
   "cell_type": "markdown",
   "metadata": {},
   "source": [
    "#### Submit the experiment for model explanations\n",
    "Submit the experiment with the above `run_config` and the sample script for computing explanations."
   ]
  },
  {
   "cell_type": "code",
   "execution_count": 73,
   "metadata": {},
   "outputs": [],
   "source": [
    "# Using a 'CommandJob' to submit the custom script to run the explainer\n",
    "\n",
    "from azure.ml.entities import CommandJob, Code\n",
    "\n",
    "environment = client.environments.get(\"environment-AutoML\")\n",
    "compute = compute_settings\n",
    "\n",
    "command_job = CommandJob(\n",
    "    command=\"python train_explainer.py\",\n",
    "    code=Code(local_path=script_folder),\n",
    "    environment=environment,\n",
    "    compute=compute\n",
    ")"
   ]
  },
  {
   "cell_type": "code",
   "execution_count": 75,
   "metadata": {},
   "outputs": [
    {
     "data": {
      "text/plain": [
       "CommandJob({'name': 'd8d97915-c133-4832-8e66-6ffc0cc5a68c', 'id': '/subscriptions/381b38e9-9840-4719-a5a0-61d9585e1e91/resourceGroups/gasi_rg_centraleuap/providers/Microsoft.MachineLearningServices/workspaces/gasi_ws_centraleuap/jobs/d8d97915-c133-4832-8e66-6ffc0cc5a68c', 'description': None, 'tags': {}, 'properties': {'mlflow.source.git.repoURL': 'https://github.com/Azure/MachineLearningNotebooks.git', 'mlflow.source.git.branch': 'master', 'mlflow.source.git.commit': '421ea3d920facdb2a89db97ff609ab4d8bb7528f', 'azureml.git.dirty': 'True', '_azureml.ComputeTargetType': 'amlcompute', 'ContentSnapshotId': '1ec12f7f-9df2-41ab-bbb9-4f0625e12afb'}, 'base_path': None, 'inputs': {}, 'command': 'python train_explainer.py', 'input_ports': {}, 'data_bindings': {}, 'code': 'd5474d37-95cc-408e-955e-22050b5124fe:1', 'environment': 'environment-AutoML:1', 'distribution': None, 'compute': {'instance_count': 1, 'target': 'cpu-cluster', 'is_local': False, 'instance_type': None, 'location': None, 'properties': None}, 'type': 'command_job', 'creation_context': <azure.ml._restclient.v2020_09_01_preview.models._models_py3.SystemData object at 0x7f515fa6b3d0>, 'experiment_name': 'regression-explanation-featurization', 'status': 'Starting', 'interaction_endpoints': {'Tracking': <azure.ml._restclient.v2020_09_01_preview.models._models_py3.JobEndpoint object at 0x7f515fa6bf50>, 'Studio': <azure.ml._restclient.v2020_09_01_preview.models._models_py3.JobEndpoint object at 0x7f515fa6b850>}, 'log_files': None, 'output': None, 'timeout': None, 'identity': None, 'parameters': {}, 'environment_variables': {}})"
      ]
     },
     "execution_count": 75,
     "metadata": {},
     "output_type": "execute_result"
    }
   ],
   "source": [
    "created_command_job = client.jobs.create_or_update(command_job)\n",
    "created_command_job"
   ]
  },
  {
   "cell_type": "code",
   "execution_count": null,
   "metadata": {},
   "outputs": [],
   "source": [
    "# %%time\n",
    "# # Shows output of the run on stdout.\n",
    "# run.wait_for_completion(show_output=True)"
   ]
  },
  {
   "cell_type": "markdown",
   "metadata": {},
   "source": [
    "### Feature importance  and  visualizing explanation dashboard\n",
    "In this section we describe how you can download the explanation results from the explanations experiment and visualize the feature importance for your AutoML model on the azure portal."
   ]
  },
  {
   "cell_type": "markdown",
   "metadata": {},
   "source": [
    "#### Download engineered feature importance from artifact store\n",
    "You can use *ExplanationClient* to download the engineered feature explanations from the artifact store of the *automl_run*. You can also use azure portal url to view the dash board visualization of the feature importance values of the engineered features."
   ]
  },
  {
   "cell_type": "code",
   "execution_count": null,
   "metadata": {},
   "outputs": [],
   "source": [
    "# from azureml.interpret import ExplanationClient\n",
    "# client = ExplanationClient.from_run(automl_run)\n",
    "# engineered_explanations = client.download_model_explanation(raw=False, comment='engineered explanations')\n",
    "# print(engineered_explanations.get_feature_importance_dict())\n",
    "# print(\"You can visualize the engineered explanations under the 'Explanations (preview)' tab in the AutoML run at:-\\n\" + automl_run.get_portal_url())"
   ]
  },
  {
   "cell_type": "markdown",
   "metadata": {},
   "source": [
    "#### Download raw feature importance from artifact store\n",
    "You can use *ExplanationClient* to download the raw feature explanations from the artifact store of the *automl_run*. You can also use azure portal url to view the dash board visualization of the feature importance values of the raw features."
   ]
  },
  {
   "cell_type": "code",
   "execution_count": null,
   "metadata": {},
   "outputs": [],
   "source": [
    "# raw_explanations = client.download_model_explanation(raw=True, comment='raw explanations')\n",
    "# print(raw_explanations.get_feature_importance_dict())\n",
    "# print(\"You can visualize the raw explanations under the 'Explanations (preview)' tab in the AutoML run at:-\\n\" + automl_run.get_portal_url())"
   ]
  },
  {
   "cell_type": "markdown",
   "metadata": {},
   "source": [
    "## Operationalize\n",
    "### Please check other notebooks for deployment steps (e.g. autom-ml-classification-bank-marketing-all-features)\n",
    "\n",
    "In this section we will show how you can operationalize an AutoML model and the explainer which was used to compute the explanations in the previous section.\n",
    "\n",
    "### Register the AutoML model and the scoring explainer\n",
    "We use the *TreeScoringExplainer* from *azureml-interpret* package to create the scoring explainer which will be used to compute the raw and engineered feature importances at the inference time. \n",
    "In the cell below, we register the AutoML model and the scoring explainer with the Model Management Service."
   ]
  },
  {
   "cell_type": "code",
   "execution_count": null,
   "metadata": {},
   "outputs": [],
   "source": [
    "# # Register trained automl model present in the 'outputs' folder in the artifacts\n",
    "# original_model = automl_run.register_model(model_name='automl_model', \n",
    "#                                            model_path='outputs/model.pkl')\n",
    "# scoring_explainer_model = automl_run.register_model(model_name='scoring_explainer',\n",
    "#                                                     model_path='outputs/scoring_explainer.pkl')"
   ]
  },
  {
   "cell_type": "markdown",
   "metadata": {},
   "source": [
    "### Create the conda dependencies for setting up the service\n",
    "We need to create the conda dependencies comprising of the *azureml* packages using the training environment from the *automl_run*."
   ]
  },
  {
   "cell_type": "code",
   "execution_count": null,
   "metadata": {},
   "outputs": [],
   "source": [
    "# conda_dep = automl_run.get_environment().python.conda_dependencies\n",
    "\n",
    "# with open(\"myenv.yml\",\"w\") as f:\n",
    "#     f.write(conda_dep.serialize_to_string())\n",
    "\n",
    "# with open(\"myenv.yml\",\"r\") as f:\n",
    "#     print(f.read())"
   ]
  },
  {
   "cell_type": "markdown",
   "metadata": {},
   "source": [
    "### View your scoring file"
   ]
  },
  {
   "cell_type": "code",
   "execution_count": null,
   "metadata": {},
   "outputs": [],
   "source": [
    "# with open(\"score_explain.py\",\"r\") as f:\n",
    "#     print(f.read())"
   ]
  },
  {
   "cell_type": "markdown",
   "metadata": {},
   "source": [
    "### Deploy the service\n",
    "In the cell below, we deploy the service using the conda file and the scoring file from the previous steps. "
   ]
  },
  {
   "cell_type": "code",
   "execution_count": null,
   "metadata": {},
   "outputs": [],
   "source": [
    "# from azureml.core.webservice import Webservice\n",
    "# from azureml.core.model import InferenceConfig\n",
    "# from azureml.core.webservice import AciWebservice\n",
    "# from azureml.core.model import Model\n",
    "# from azureml.core.environment import Environment\n",
    "\n",
    "# aciconfig = AciWebservice.deploy_configuration(cpu_cores=1, \n",
    "#                                                memory_gb=1, \n",
    "#                                                tags={\"data\": \"Machine Data\",  \n",
    "#                                                      \"method\" : \"local_explanation\"}, \n",
    "#                                                description='Get local explanations for Machine test data')\n",
    "\n",
    "# myenv = Environment.from_conda_specification(name=\"myenv\", file_path=\"myenv.yml\")\n",
    "# inference_config = InferenceConfig(entry_script=\"score_explain.py\", environment=myenv)\n",
    "\n",
    "# # Use configs and models generated above\n",
    "# service = Model.deploy(ws, 'model-scoring', [scoring_explainer_model, original_model], inference_config, aciconfig)\n",
    "# service.wait_for_deployment(show_output=True)"
   ]
  },
  {
   "cell_type": "markdown",
   "metadata": {},
   "source": [
    "### View the service logs"
   ]
  },
  {
   "cell_type": "code",
   "execution_count": null,
   "metadata": {},
   "outputs": [],
   "source": [
    "service.get_logs()"
   ]
  },
  {
   "cell_type": "markdown",
   "metadata": {},
   "source": [
    "### Inference using some test data\n",
    "Inference using some test data to see the predicted value from autml model, view the engineered feature importance for the predicted value and raw feature importance for the predicted value."
   ]
  },
  {
   "cell_type": "code",
   "execution_count": null,
   "metadata": {},
   "outputs": [],
   "source": [
    "if service.state == 'Healthy':\n",
    "    X_test = test_data.drop_columns([label]).to_pandas_dataframe()\n",
    "    # Serialize the first row of the test data into json\n",
    "    X_test_json = X_test[:1].to_json(orient='records')\n",
    "    print(X_test_json)\n",
    "    # Call the service to get the predictions and the engineered and raw explanations\n",
    "    output = service.run(X_test_json)\n",
    "    # Print the predicted value\n",
    "    print(output['predictions'])\n",
    "    # Print the engineered feature importances for the predicted value\n",
    "    print(output['engineered_local_importance_values'])\n",
    "    # Print the raw feature importances for the predicted value\n",
    "    print(output['raw_local_importance_values'])"
   ]
  },
  {
   "cell_type": "markdown",
   "metadata": {},
   "source": [
    "### Delete the service\n",
    "Delete the service once you have finished inferencing."
   ]
  },
  {
   "cell_type": "code",
   "execution_count": null,
   "metadata": {},
   "outputs": [],
   "source": [
    "service.delete()"
   ]
  },
  {
   "cell_type": "markdown",
   "metadata": {},
   "source": [
    "## Test"
   ]
  },
  {
   "cell_type": "code",
   "execution_count": 78,
   "metadata": {},
   "outputs": [],
   "source": [
    "# preview the first 3 rows of the dataset\n",
    "\n",
    "test_data = test\n",
    "y_test = test_data['ERP'].fillna(0)\n",
    "test_data = test_data.drop('ERP', 1)\n",
    "test_data = test_data.fillna(0)\n",
    "\n",
    "\n",
    "train_data = train\n",
    "y_train = train_data['ERP'].fillna(0)\n",
    "train_data = train_data.drop('ERP', 1)\n",
    "train_data = train_data.fillna(0)"
   ]
  },
  {
   "cell_type": "code",
   "execution_count": 79,
   "metadata": {},
   "outputs": [],
   "source": [
    "y_pred_train = fitted_model.predict(train_data)\n",
    "y_residual_train = y_train - y_pred_train\n",
    "\n",
    "y_pred_test = fitted_model.predict(test_data)\n",
    "y_residual_test = y_test - y_pred_test"
   ]
  },
  {
   "cell_type": "code",
   "execution_count": 80,
   "metadata": {},
   "outputs": [
    {
     "data": {
      "image/png": "[encoded data removed]",
      "text/plain": [
       "<Figure size 1152x432 with 2 Axes>"
      ]
     },
     "metadata": {
      "needs_background": "light"
     },
     "output_type": "display_data"
    }
   ],
   "source": [
    "%matplotlib inline\n",
    "from sklearn.metrics import mean_squared_error, r2_score\n",
    "\n",
    "# Set up a multi-plot chart.\n",
    "f, (a0, a1) = plt.subplots(1, 2, gridspec_kw = {'width_ratios':[1, 1], 'wspace':0, 'hspace': 0})\n",
    "f.suptitle('Regression Residual Values', fontsize = 18)\n",
    "f.set_figheight(6)\n",
    "f.set_figwidth(16)\n",
    "\n",
    "# Plot residual values of training set.\n",
    "a0.axis([0, 360, -100, 100])\n",
    "a0.plot(y_residual_train, 'bo', alpha = 0.5)\n",
    "a0.plot([-10,360],[0,0], 'r-', lw = 3)\n",
    "a0.text(16,170,'RMSE = {0:.2f}'.format(np.sqrt(mean_squared_error(y_train, y_pred_train))), fontsize = 12)\n",
    "a0.text(16,140,'R2 score = {0:.2f}'.format(r2_score(y_train, y_pred_train)),fontsize = 12)\n",
    "a0.set_xlabel('Training samples', fontsize = 12)\n",
    "a0.set_ylabel('Residual Values', fontsize = 12)\n",
    "\n",
    "# Plot residual values of test set.\n",
    "a1.axis([0, 90, -100, 100])\n",
    "a1.plot(y_residual_test, 'bo', alpha = 0.5)\n",
    "a1.plot([-10,360],[0,0], 'r-', lw = 3)\n",
    "a1.text(5,170,'RMSE = {0:.2f}'.format(np.sqrt(mean_squared_error(y_test, y_pred_test))), fontsize = 12)\n",
    "a1.text(5,140,'R2 score = {0:.2f}'.format(r2_score(y_test, y_pred_test)),fontsize = 12)\n",
    "a1.set_xlabel('Test samples', fontsize = 12)\n",
    "a1.set_yticklabels([])\n",
    "\n",
    "plt.show()"
   ]
  },
  {
   "cell_type": "code",
   "execution_count": 81,
   "metadata": {},
   "outputs": [
    {
     "ename": "ValueError",
     "evalue": "'color' kwarg must be an color or sequence of color specs.  For a sequence of values to be color-mapped, use the 'c' argument instead.",
     "output_type": "error",
     "traceback": [
      "\u001b[0;31m---------------------------------------------------------------------------\u001b[0m",
      "\u001b[0;31mValueError\u001b[0m                                Traceback (most recent call last)",
      "\u001b[0;32m~/anaconda3/envs/dpv2sdk/lib/python3.7/site-packages/matplotlib/axes/_axes.py\u001b[0m in \u001b[0;36m_parse_scatter_color_args\u001b[0;34m(c, edgecolors, kwargs, xsize, get_next_color_func)\u001b[0m\n\u001b[1;32m   4288\u001b[0m             \u001b[0;32mtry\u001b[0m\u001b[0;34m:\u001b[0m\u001b[0;34m\u001b[0m\u001b[0;34m\u001b[0m\u001b[0m\n\u001b[0;32m-> 4289\u001b[0;31m                 \u001b[0mmcolors\u001b[0m\u001b[0;34m.\u001b[0m\u001b[0mto_rgba_array\u001b[0m\u001b[0;34m(\u001b[0m\u001b[0mkwcolor\u001b[0m\u001b[0;34m)\u001b[0m\u001b[0;34m\u001b[0m\u001b[0;34m\u001b[0m\u001b[0m\n\u001b[0m\u001b[1;32m   4290\u001b[0m             \u001b[0;32mexcept\u001b[0m \u001b[0mValueError\u001b[0m \u001b[0;32mas\u001b[0m \u001b[0merr\u001b[0m\u001b[0;34m:\u001b[0m\u001b[0;34m\u001b[0m\u001b[0;34m\u001b[0m\u001b[0m\n",
      "\u001b[0;32m~/anaconda3/envs/dpv2sdk/lib/python3.7/site-packages/matplotlib/colors.py\u001b[0m in \u001b[0;36mto_rgba_array\u001b[0;34m(c, alpha)\u001b[0m\n\u001b[1;32m    366\u001b[0m     \u001b[0;32mif\u001b[0m \u001b[0misinstance\u001b[0m\u001b[0;34m(\u001b[0m\u001b[0mc\u001b[0m\u001b[0;34m,\u001b[0m \u001b[0mstr\u001b[0m\u001b[0;34m)\u001b[0m\u001b[0;34m:\u001b[0m\u001b[0;34m\u001b[0m\u001b[0;34m\u001b[0m\u001b[0m\n\u001b[0;32m--> 367\u001b[0;31m         raise ValueError(\"Using a string of single character colors as \"\n\u001b[0m\u001b[1;32m    368\u001b[0m                          \u001b[0;34m\"a color sequence is not supported. The colors can \"\u001b[0m\u001b[0;34m\u001b[0m\u001b[0;34m\u001b[0m\u001b[0m\n",
      "\u001b[0;31mValueError\u001b[0m: Using a string of single character colors as a color sequence is not supported. The colors can be passed as an explicit list instead.",
      "\nThe above exception was the direct cause of the following exception:\n",
      "\u001b[0;31mValueError\u001b[0m                                Traceback (most recent call last)",
      "\u001b[0;32m<ipython-input-81-5cc28a176a61>\u001b[0m in \u001b[0;36m<module>\u001b[0;34m\u001b[0m\n\u001b[1;32m      1\u001b[0m \u001b[0mget_ipython\u001b[0m\u001b[0;34m(\u001b[0m\u001b[0;34m)\u001b[0m\u001b[0;34m.\u001b[0m\u001b[0mrun_line_magic\u001b[0m\u001b[0;34m(\u001b[0m\u001b[0;34m'matplotlib'\u001b[0m\u001b[0;34m,\u001b[0m \u001b[0;34m'inline'\u001b[0m\u001b[0;34m)\u001b[0m\u001b[0;34m\u001b[0m\u001b[0;34m\u001b[0m\u001b[0m\n\u001b[0;32m----> 2\u001b[0;31m \u001b[0mtest_pred\u001b[0m \u001b[0;34m=\u001b[0m \u001b[0mplt\u001b[0m\u001b[0;34m.\u001b[0m\u001b[0mscatter\u001b[0m\u001b[0;34m(\u001b[0m\u001b[0my_test\u001b[0m\u001b[0;34m,\u001b[0m \u001b[0my_pred_test\u001b[0m\u001b[0;34m,\u001b[0m \u001b[0mcolor\u001b[0m\u001b[0;34m=\u001b[0m\u001b[0;34m''\u001b[0m\u001b[0;34m)\u001b[0m\u001b[0;34m\u001b[0m\u001b[0;34m\u001b[0m\u001b[0m\n\u001b[0m\u001b[1;32m      3\u001b[0m \u001b[0mtest_test\u001b[0m \u001b[0;34m=\u001b[0m \u001b[0mplt\u001b[0m\u001b[0;34m.\u001b[0m\u001b[0mscatter\u001b[0m\u001b[0;34m(\u001b[0m\u001b[0my_test\u001b[0m\u001b[0;34m,\u001b[0m \u001b[0my_test\u001b[0m\u001b[0;34m,\u001b[0m \u001b[0mcolor\u001b[0m\u001b[0;34m=\u001b[0m\u001b[0;34m'g'\u001b[0m\u001b[0;34m)\u001b[0m\u001b[0;34m\u001b[0m\u001b[0;34m\u001b[0m\u001b[0m\n\u001b[1;32m      4\u001b[0m \u001b[0mplt\u001b[0m\u001b[0;34m.\u001b[0m\u001b[0mlegend\u001b[0m\u001b[0;34m(\u001b[0m\u001b[0;34m(\u001b[0m\u001b[0mtest_pred\u001b[0m\u001b[0;34m,\u001b[0m \u001b[0mtest_test\u001b[0m\u001b[0;34m)\u001b[0m\u001b[0;34m,\u001b[0m \u001b[0;34m(\u001b[0m\u001b[0;34m'prediction'\u001b[0m\u001b[0;34m,\u001b[0m \u001b[0;34m'truth'\u001b[0m\u001b[0;34m)\u001b[0m\u001b[0;34m,\u001b[0m \u001b[0mloc\u001b[0m\u001b[0;34m=\u001b[0m\u001b[0;34m'upper left'\u001b[0m\u001b[0;34m,\u001b[0m \u001b[0mfontsize\u001b[0m\u001b[0;34m=\u001b[0m\u001b[0;36m8\u001b[0m\u001b[0;34m)\u001b[0m\u001b[0;34m\u001b[0m\u001b[0;34m\u001b[0m\u001b[0m\n\u001b[1;32m      5\u001b[0m \u001b[0mplt\u001b[0m\u001b[0;34m.\u001b[0m\u001b[0mshow\u001b[0m\u001b[0;34m(\u001b[0m\u001b[0;34m)\u001b[0m\u001b[0;34m\u001b[0m\u001b[0;34m\u001b[0m\u001b[0m\n",
      "\u001b[0;32m~/anaconda3/envs/dpv2sdk/lib/python3.7/site-packages/matplotlib/pyplot.py\u001b[0m in \u001b[0;36mscatter\u001b[0;34m(x, y, s, c, marker, cmap, norm, vmin, vmax, alpha, linewidths, edgecolors, plotnonfinite, data, **kwargs)\u001b[0m\n\u001b[1;32m   3070\u001b[0m         \u001b[0mvmin\u001b[0m\u001b[0;34m=\u001b[0m\u001b[0mvmin\u001b[0m\u001b[0;34m,\u001b[0m \u001b[0mvmax\u001b[0m\u001b[0;34m=\u001b[0m\u001b[0mvmax\u001b[0m\u001b[0;34m,\u001b[0m \u001b[0malpha\u001b[0m\u001b[0;34m=\u001b[0m\u001b[0malpha\u001b[0m\u001b[0;34m,\u001b[0m \u001b[0mlinewidths\u001b[0m\u001b[0;34m=\u001b[0m\u001b[0mlinewidths\u001b[0m\u001b[0;34m,\u001b[0m\u001b[0;34m\u001b[0m\u001b[0;34m\u001b[0m\u001b[0m\n\u001b[1;32m   3071\u001b[0m         \u001b[0medgecolors\u001b[0m\u001b[0;34m=\u001b[0m\u001b[0medgecolors\u001b[0m\u001b[0;34m,\u001b[0m \u001b[0mplotnonfinite\u001b[0m\u001b[0;34m=\u001b[0m\u001b[0mplotnonfinite\u001b[0m\u001b[0;34m,\u001b[0m\u001b[0;34m\u001b[0m\u001b[0;34m\u001b[0m\u001b[0m\n\u001b[0;32m-> 3072\u001b[0;31m         **({\"data\": data} if data is not None else {}), **kwargs)\n\u001b[0m\u001b[1;32m   3073\u001b[0m     \u001b[0msci\u001b[0m\u001b[0;34m(\u001b[0m\u001b[0m__ret\u001b[0m\u001b[0;34m)\u001b[0m\u001b[0;34m\u001b[0m\u001b[0;34m\u001b[0m\u001b[0m\n\u001b[1;32m   3074\u001b[0m     \u001b[0;32mreturn\u001b[0m \u001b[0m__ret\u001b[0m\u001b[0;34m\u001b[0m\u001b[0;34m\u001b[0m\u001b[0m\n",
      "\u001b[0;32m~/anaconda3/envs/dpv2sdk/lib/python3.7/site-packages/matplotlib/__init__.py\u001b[0m in \u001b[0;36minner\u001b[0;34m(ax, data, *args, **kwargs)\u001b[0m\n\u001b[1;32m   1359\u001b[0m     \u001b[0;32mdef\u001b[0m \u001b[0minner\u001b[0m\u001b[0;34m(\u001b[0m\u001b[0max\u001b[0m\u001b[0;34m,\u001b[0m \u001b[0;34m*\u001b[0m\u001b[0margs\u001b[0m\u001b[0;34m,\u001b[0m \u001b[0mdata\u001b[0m\u001b[0;34m=\u001b[0m\u001b[0;32mNone\u001b[0m\u001b[0;34m,\u001b[0m \u001b[0;34m**\u001b[0m\u001b[0mkwargs\u001b[0m\u001b[0;34m)\u001b[0m\u001b[0;34m:\u001b[0m\u001b[0;34m\u001b[0m\u001b[0;34m\u001b[0m\u001b[0m\n\u001b[1;32m   1360\u001b[0m         \u001b[0;32mif\u001b[0m \u001b[0mdata\u001b[0m \u001b[0;32mis\u001b[0m \u001b[0;32mNone\u001b[0m\u001b[0;34m:\u001b[0m\u001b[0;34m\u001b[0m\u001b[0;34m\u001b[0m\u001b[0m\n\u001b[0;32m-> 1361\u001b[0;31m             \u001b[0;32mreturn\u001b[0m \u001b[0mfunc\u001b[0m\u001b[0;34m(\u001b[0m\u001b[0max\u001b[0m\u001b[0;34m,\u001b[0m \u001b[0;34m*\u001b[0m\u001b[0mmap\u001b[0m\u001b[0;34m(\u001b[0m\u001b[0msanitize_sequence\u001b[0m\u001b[0;34m,\u001b[0m \u001b[0margs\u001b[0m\u001b[0;34m)\u001b[0m\u001b[0;34m,\u001b[0m \u001b[0;34m**\u001b[0m\u001b[0mkwargs\u001b[0m\u001b[0;34m)\u001b[0m\u001b[0;34m\u001b[0m\u001b[0;34m\u001b[0m\u001b[0m\n\u001b[0m\u001b[1;32m   1362\u001b[0m \u001b[0;34m\u001b[0m\u001b[0m\n\u001b[1;32m   1363\u001b[0m         \u001b[0mbound\u001b[0m \u001b[0;34m=\u001b[0m \u001b[0mnew_sig\u001b[0m\u001b[0;34m.\u001b[0m\u001b[0mbind\u001b[0m\u001b[0;34m(\u001b[0m\u001b[0max\u001b[0m\u001b[0;34m,\u001b[0m \u001b[0;34m*\u001b[0m\u001b[0margs\u001b[0m\u001b[0;34m,\u001b[0m \u001b[0;34m**\u001b[0m\u001b[0mkwargs\u001b[0m\u001b[0;34m)\u001b[0m\u001b[0;34m\u001b[0m\u001b[0;34m\u001b[0m\u001b[0m\n",
      "\u001b[0;32m~/anaconda3/envs/dpv2sdk/lib/python3.7/site-packages/matplotlib/axes/_axes.py\u001b[0m in \u001b[0;36mscatter\u001b[0;34m(self, x, y, s, c, marker, cmap, norm, vmin, vmax, alpha, linewidths, edgecolors, plotnonfinite, **kwargs)\u001b[0m\n\u001b[1;32m   4516\u001b[0m             self._parse_scatter_color_args(\n\u001b[1;32m   4517\u001b[0m                 \u001b[0mc\u001b[0m\u001b[0;34m,\u001b[0m \u001b[0medgecolors\u001b[0m\u001b[0;34m,\u001b[0m \u001b[0mkwargs\u001b[0m\u001b[0;34m,\u001b[0m \u001b[0mx\u001b[0m\u001b[0;34m.\u001b[0m\u001b[0msize\u001b[0m\u001b[0;34m,\u001b[0m\u001b[0;34m\u001b[0m\u001b[0;34m\u001b[0m\u001b[0m\n\u001b[0;32m-> 4518\u001b[0;31m                 get_next_color_func=self._get_patches_for_fill.get_next_color)\n\u001b[0m\u001b[1;32m   4519\u001b[0m \u001b[0;34m\u001b[0m\u001b[0m\n\u001b[1;32m   4520\u001b[0m         \u001b[0;32mif\u001b[0m \u001b[0mplotnonfinite\u001b[0m \u001b[0;32mand\u001b[0m \u001b[0mcolors\u001b[0m \u001b[0;32mis\u001b[0m \u001b[0;32mNone\u001b[0m\u001b[0;34m:\u001b[0m\u001b[0;34m\u001b[0m\u001b[0;34m\u001b[0m\u001b[0m\n",
      "\u001b[0;32m~/anaconda3/envs/dpv2sdk/lib/python3.7/site-packages/matplotlib/axes/_axes.py\u001b[0m in \u001b[0;36m_parse_scatter_color_args\u001b[0;34m(c, edgecolors, kwargs, xsize, get_next_color_func)\u001b[0m\n\u001b[1;32m   4292\u001b[0m                     \u001b[0;34m\"'color' kwarg must be an color or sequence of color \"\u001b[0m\u001b[0;34m\u001b[0m\u001b[0;34m\u001b[0m\u001b[0m\n\u001b[1;32m   4293\u001b[0m                     \u001b[0;34m\"specs.  For a sequence of values to be color-mapped, use \"\u001b[0m\u001b[0;34m\u001b[0m\u001b[0;34m\u001b[0m\u001b[0m\n\u001b[0;32m-> 4294\u001b[0;31m                     \"the 'c' argument instead.\") from err\n\u001b[0m\u001b[1;32m   4295\u001b[0m             \u001b[0;32mif\u001b[0m \u001b[0medgecolors\u001b[0m \u001b[0;32mis\u001b[0m \u001b[0;32mNone\u001b[0m\u001b[0;34m:\u001b[0m\u001b[0;34m\u001b[0m\u001b[0;34m\u001b[0m\u001b[0m\n\u001b[1;32m   4296\u001b[0m                 \u001b[0medgecolors\u001b[0m \u001b[0;34m=\u001b[0m \u001b[0mkwcolor\u001b[0m\u001b[0;34m\u001b[0m\u001b[0;34m\u001b[0m\u001b[0m\n",
      "\u001b[0;31mValueError\u001b[0m: 'color' kwarg must be an color or sequence of color specs.  For a sequence of values to be color-mapped, use the 'c' argument instead."
     ]
    },
    {
     "data": {
      "image/png": "[encoded data removed]",
      "text/plain": [
       "<Figure size 432x288 with 1 Axes>"
      ]
     },
     "metadata": {
      "needs_background": "light"
     },
     "output_type": "display_data"
    }
   ],
   "source": [
    "%matplotlib inline\n",
    "test_pred = plt.scatter(y_test, y_pred_test, color='')\n",
    "test_test = plt.scatter(y_test, y_test, color='g')\n",
    "plt.legend((test_pred, test_test), ('prediction', 'truth'), loc='upper left', fontsize=8)\n",
    "plt.show()"
   ]
  },
  {
   "cell_type": "code",
   "execution_count": null,
   "metadata": {},
   "outputs": [],
   "source": []
  }
 ],
 "metadata": {
  "authors": [
   {
    "name": "anshirga"
   }
  ],
  "categories": [
   "how-to-use-azureml",
   "automated-machine-learning"
  ],
  "category": "tutorial",
  "compute": [
   "AML"
  ],
  "datasets": [
   "MachineData"
  ],
  "deployment": [
   "ACI"
  ],
  "exclude_from_index": false,
  "framework": [
   "None"
  ],
  "friendly_name": "Automated ML run with featurization and model explainability.",
  "index_order": 5,
  "kernelspec": {
   "display_name": "Python [conda env:dpv2sdk] *",
   "language": "python",
   "name": "conda-env-dpv2sdk-py"
  },
  "language_info": {
   "codemirror_mode": {
    "name": "ipython",
    "version": 3
   },
   "file_extension": ".py",
   "mimetype": "text/x-python",
   "name": "python",
   "nbconvert_exporter": "python",
   "pygments_lexer": "ipython3",
   "version": "3.7.10"
  },
  "tags": [
   "featurization",
   "explainability",
   "remote_run",
   "AutomatedML"
  ],
  "task": "Regression"
 },
 "nbformat": 4,
 "nbformat_minor": 2
}
