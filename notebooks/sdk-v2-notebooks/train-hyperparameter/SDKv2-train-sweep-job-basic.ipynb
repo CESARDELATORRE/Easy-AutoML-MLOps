{
 "cells": [
  {
   "cell_type": "code",
   "execution_count": null,
   "metadata": {},
   "outputs": [],
   "source": [
    "# Make workspace\n",
    "%env AZURE_EXTENSION_DIR=/home/schrodinger/automl/sdk-cli-v2/src/cli/src\n",
    "%env AZURE_ML_CLI_PRIVATE_FEATURES_ENABLED=true"
   ]
  },
  {
   "cell_type": "markdown",
   "metadata": {},
   "source": [
    "# Prepare workspace, experiment, and compute"
   ]
  },
  {
   "cell_type": "code",
   "execution_count": null,
   "metadata": {},
   "outputs": [],
   "source": [
    "import azure.ml\n",
    "from azure.ml import MLClient\n",
    "\n",
    "SUBSCRIPTION_ID = '381b38e9-9840-4719-a5a0-61d9585e1e91'\n",
    "RESOURCE_GROUP_NAME = 'lesam_centraluseuap_rg'\n",
    "WORKSPACE_NAME = \"lesam-master\"\n",
    "EXPERIMENT_NAME = \"MySdkV2SweepJobExperiment\"\n",
    "CLUSTER_NAME = \"cpu-cluster\"\n",
    "\n",
    "client = MLClient(SUBSCRIPTION_ID, RESOURCE_GROUP_NAME, workspace_name=WORKSPACE_NAME)\n",
    "\n",
    "client"
   ]
  },
  {
   "cell_type": "code",
   "execution_count": null,
   "metadata": {},
   "outputs": [],
   "source": [
    "# Make Compute\n",
    "# choose a name for your cluster\n",
    "from azure.ml.entities import AmlCompute\n",
    "\n",
    "try:\n",
    "    compute_target = client.compute.get(CLUSTER_NAME)\n",
    "    print('Found existing compute target.')\n",
    "except Exception:\n",
    "    print('Creating a new compute target...')\n",
    "    compute = AmlCompute(\n",
    "        name=CLUSTER_NAME, size=\"STANDARD_NC6\",\n",
    "        min_instances=0, max_instances=4,\n",
    "        idle_time_before_scale_down=120\n",
    "    )\n",
    "\n",
    "    # create the cluster\n",
    "    # client.compute.create(compute)\n",
    "    compute_target = client.compute.get(CLUSTER_NAME)\n",
    "\n",
    "compute_target"
   ]
  },
  {
   "cell_type": "markdown",
   "metadata": {},
   "source": [
    "# Prepare Sweep Job"
   ]
  },
  {
   "cell_type": "code",
   "execution_count": null,
   "metadata": {},
   "outputs": [],
   "source": [
    "# Prepare Early Termination Policy\n",
    "from azure.ml._restclient.v2021_03_01_preview.models import MedianStoppingPolicy\n",
    "early_termination_policy = MedianStoppingPolicy(evaluation_interval=1, delay_evaluation=5)"
   ]
  },
  {
   "cell_type": "code",
   "execution_count": null,
   "metadata": {},
   "outputs": [],
   "source": [
    "# Prepare search space\n",
    "from azure.ml.entities import Choice, Uniform, Randint, QUniform\n",
    "search_space = {\n",
    "    \"y1\": Choice([1111, 2222, 3333]),\n",
    "    \"y2\": Uniform(0, 1),\n",
    "    \"y3\": Uniform(0, 1)\n",
    "}"
   ]
  },
  {
   "cell_type": "code",
   "execution_count": null,
   "metadata": {},
   "outputs": [],
   "source": [
    "# Make SweepJob\n",
    "from azure.ml.entities import SweepJob, ParameterizedCommand, Code, ComputeConfiguration, Environment\n",
    "from azure.ml._restclient.v2021_03_01_preview.models import Objective\n",
    "\n",
    "objective = Objective(goal=\"Maximize\", primary_metric=\"Accuracy\")\n",
    "code = Code(local_path = \".\", name = \"foo\", version = 19)\n",
    "compute = ComputeConfiguration(target = compute_target.id)\n",
    "# environment = client.environments.get(name='AzureML-TensorFlow-2.3-GPU', version=17)"
   ]
  },
  {
   "cell_type": "code",
   "execution_count": null,
   "metadata": {},
   "outputs": [],
   "source": [
    "trial = ParameterizedCommand(\n",
    "    command = 'python example_script.py --x1 {search_space.y1} --x2 {search_space.y2} --x3 {search_space.y3}',\n",
    "    code = code,\n",
    "    compute = compute,\n",
    "    environment = 'AzureML-TensorFlow-2.3-GPU:17',\n",
    ")"
   ]
  },
  {
   "cell_type": "code",
   "execution_count": null,
   "metadata": {},
   "outputs": [],
   "source": [
    "sweep_job = SweepJob(\n",
    "    algorithm = \"Random\",\n",
    "    search_space = search_space,\n",
    "    objective = objective,\n",
    "    trial = trial,\n",
    "    early_termination = early_termination_policy,\n",
    "    max_concurrent_trials = 1,\n",
    "    max_total_trials = 1,\n",
    "    timeout_minutes = 50,\n",
    "    experiment_name = EXPERIMENT_NAME\n",
    ")\n",
    "\n",
    "print(sweep_job)"
   ]
  },
  {
   "cell_type": "code",
   "execution_count": null,
   "metadata": {},
   "outputs": [],
   "source": [
    "# Submit\n",
    "created_job = client.jobs.create_or_update(sweep_job)\n",
    "created_job\n"
   ]
  },
  {
   "cell_type": "code",
   "execution_count": null,
   "metadata": {},
   "outputs": [],
   "source": []
  }
 ],
 "metadata": {
  "kernelspec": {
   "display_name": "Python (azure_automl)",
   "language": "python",
   "name": "azure_automl"
  },
  "language_info": {
   "codemirror_mode": {
    "name": "ipython",
    "version": 3
   },
   "file_extension": ".py",
   "mimetype": "text/x-python",
   "name": "python",
   "nbconvert_exporter": "python",
   "pygments_lexer": "ipython3",
   "version": "3.6.13"
  }
 },
 "nbformat": 4,
 "nbformat_minor": 4
}
